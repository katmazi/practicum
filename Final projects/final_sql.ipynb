{
 "cells": [
  {
   "cell_type": "markdown",
   "id": "ae6b77c6",
   "metadata": {},
   "source": [
    "#  Анализ базы данных сервиса он-лайн книг."
   ]
  },
  {
   "cell_type": "markdown",
   "id": "0db80910",
   "metadata": {},
   "source": [
    "## Оглавление проекта\n",
    "\n",
    "* [Краткое описание исследования](#Описание)\n",
    "* [Подготовка данных](#Данные) \n",
    "* [Анализ базы данных](#Анализ)\n"
   ]
  },
  {
   "cell_type": "markdown",
   "id": "22ec8bc7",
   "metadata": {},
   "source": [
    "## Краткое описание исследования <a id='Описание'></a>\n",
    "\n",
    "Компания, приобрела сервис для чтения книг по подписке и нуждается в первом поверхостном анализе базы данных. Ниже несколько вопросов, на которые надо ответить в рамках исследования.\n",
    "\n",
    "Описание данных и связи таблиц есть в [документе](https://disk.yandex.ru/i/OGG3gCoaUa-vog)."
   ]
  },
  {
   "cell_type": "markdown",
   "id": "85f7c88e",
   "metadata": {},
   "source": [
    "## Подготовка данных<a id='Данные'></a>"
   ]
  },
  {
   "cell_type": "code",
   "execution_count": 1,
   "id": "8265357d",
   "metadata": {},
   "outputs": [],
   "source": [
    "#импортируем библиотеки\n",
    "import pandas as pd\n",
    "from sqlalchemy import create_engine"
   ]
  },
  {
   "cell_type": "code",
   "execution_count": 2,
   "id": "85433fbc",
   "metadata": {},
   "outputs": [],
   "source": [
    "#устанавливаем параметры\n",
    "db_config = {'user': 'praktikum_student', # имя пользователя \n",
    "             'pwd': 'Sdf4$2;d-d30pp', # пароль\n",
    "             'host': 'rc1b-wcoijxj3yxfsf3fs.mdb.yandexcloud.net',\n",
    "             'port': 6432, # порт подключения\n",
    "             'db': 'data-analyst-final-project-db'} # название базы данных\n",
    "\n",
    "connection_string = 'postgresql://{}:{}@{}:{}/{}'.format(db_config['user'], db_config['pwd'], db_config['host'], db_config['port'], db_config['db'])\n"
   ]
  },
  {
   "cell_type": "code",
   "execution_count": 3,
   "id": "39236a1a",
   "metadata": {},
   "outputs": [],
   "source": [
    "#сохраняем коннектор\n",
    "engine = create_engine(connection_string, connect_args={'sslmode':'require'}) "
   ]
  },
  {
   "cell_type": "markdown",
   "id": "7fd5a24f",
   "metadata": {},
   "source": [
    "### Посмотрим на таблицы в БД"
   ]
  },
  {
   "cell_type": "code",
   "execution_count": 4,
   "id": "c4b57d9b",
   "metadata": {},
   "outputs": [],
   "source": [
    "q_books = ''' \n",
    "        SELECT *\n",
    "        FROM books\n",
    "        '''\n",
    "\n",
    "q_authors = ''' \n",
    "        SELECT *\n",
    "        FROM authors\n",
    "        '''\n",
    "\n",
    "q_publishers = ''' \n",
    "        SELECT *\n",
    "        FROM publishers\n",
    "        '''\n",
    "\n",
    "q_ratings = ''' \n",
    "        SELECT *\n",
    "        FROM ratings\n",
    "        '''\n",
    "\n",
    "q_reviews = ''' \n",
    "        SELECT *\n",
    "        FROM reviews\n",
    "        '''"
   ]
  },
  {
   "cell_type": "code",
   "execution_count": 5,
   "id": "3fb574c3",
   "metadata": {},
   "outputs": [],
   "source": [
    "#напишем функцию для отображения результата SQL запроса\n",
    "def show_table(query):\n",
    "    return pd.io.sql.read_sql(query, con = engine)"
   ]
  },
  {
   "cell_type": "code",
   "execution_count": 6,
   "id": "2a7abc9a",
   "metadata": {
    "scrolled": true
   },
   "outputs": [
    {
     "data": {
      "text/html": [
       "<div>\n",
       "<style scoped>\n",
       "    .dataframe tbody tr th:only-of-type {\n",
       "        vertical-align: middle;\n",
       "    }\n",
       "\n",
       "    .dataframe tbody tr th {\n",
       "        vertical-align: top;\n",
       "    }\n",
       "\n",
       "    .dataframe thead th {\n",
       "        text-align: right;\n",
       "    }\n",
       "</style>\n",
       "<table border=\"1\" class=\"dataframe\">\n",
       "  <thead>\n",
       "    <tr style=\"text-align: right;\">\n",
       "      <th></th>\n",
       "      <th>book_id</th>\n",
       "      <th>author_id</th>\n",
       "      <th>title</th>\n",
       "      <th>num_pages</th>\n",
       "      <th>publication_date</th>\n",
       "      <th>publisher_id</th>\n",
       "    </tr>\n",
       "  </thead>\n",
       "  <tbody>\n",
       "    <tr>\n",
       "      <th>0</th>\n",
       "      <td>1</td>\n",
       "      <td>546</td>\n",
       "      <td>'Salem's Lot</td>\n",
       "      <td>594</td>\n",
       "      <td>2005-11-01</td>\n",
       "      <td>93</td>\n",
       "    </tr>\n",
       "    <tr>\n",
       "      <th>1</th>\n",
       "      <td>2</td>\n",
       "      <td>465</td>\n",
       "      <td>1 000 Places to See Before You Die</td>\n",
       "      <td>992</td>\n",
       "      <td>2003-05-22</td>\n",
       "      <td>336</td>\n",
       "    </tr>\n",
       "    <tr>\n",
       "      <th>2</th>\n",
       "      <td>3</td>\n",
       "      <td>407</td>\n",
       "      <td>13 Little Blue Envelopes (Little Blue Envelope...</td>\n",
       "      <td>322</td>\n",
       "      <td>2010-12-21</td>\n",
       "      <td>135</td>\n",
       "    </tr>\n",
       "    <tr>\n",
       "      <th>3</th>\n",
       "      <td>4</td>\n",
       "      <td>82</td>\n",
       "      <td>1491: New Revelations of the Americas Before C...</td>\n",
       "      <td>541</td>\n",
       "      <td>2006-10-10</td>\n",
       "      <td>309</td>\n",
       "    </tr>\n",
       "    <tr>\n",
       "      <th>4</th>\n",
       "      <td>5</td>\n",
       "      <td>125</td>\n",
       "      <td>1776</td>\n",
       "      <td>386</td>\n",
       "      <td>2006-07-04</td>\n",
       "      <td>268</td>\n",
       "    </tr>\n",
       "  </tbody>\n",
       "</table>\n",
       "</div>"
      ],
      "text/plain": [
       "   book_id  author_id                                              title  \\\n",
       "0        1        546                                       'Salem's Lot   \n",
       "1        2        465                 1 000 Places to See Before You Die   \n",
       "2        3        407  13 Little Blue Envelopes (Little Blue Envelope...   \n",
       "3        4         82  1491: New Revelations of the Americas Before C...   \n",
       "4        5        125                                               1776   \n",
       "\n",
       "   num_pages publication_date  publisher_id  \n",
       "0        594       2005-11-01            93  \n",
       "1        992       2003-05-22           336  \n",
       "2        322       2010-12-21           135  \n",
       "3        541       2006-10-10           309  \n",
       "4        386       2006-07-04           268  "
      ]
     },
     "metadata": {},
     "output_type": "display_data"
    },
    {
     "name": "stdout",
     "output_type": "stream",
     "text": [
      "<class 'pandas.core.frame.DataFrame'>\n",
      "RangeIndex: 1000 entries, 0 to 999\n",
      "Data columns (total 6 columns):\n",
      " #   Column            Non-Null Count  Dtype \n",
      "---  ------            --------------  ----- \n",
      " 0   book_id           1000 non-null   int64 \n",
      " 1   author_id         1000 non-null   int64 \n",
      " 2   title             1000 non-null   object\n",
      " 3   num_pages         1000 non-null   int64 \n",
      " 4   publication_date  1000 non-null   object\n",
      " 5   publisher_id      1000 non-null   int64 \n",
      "dtypes: int64(4), object(2)\n",
      "memory usage: 47.0+ KB\n"
     ]
    },
    {
     "data": {
      "text/plain": [
       "None"
      ]
     },
     "metadata": {},
     "output_type": "display_data"
    },
    {
     "data": {
      "text/html": [
       "<div>\n",
       "<style scoped>\n",
       "    .dataframe tbody tr th:only-of-type {\n",
       "        vertical-align: middle;\n",
       "    }\n",
       "\n",
       "    .dataframe tbody tr th {\n",
       "        vertical-align: top;\n",
       "    }\n",
       "\n",
       "    .dataframe thead th {\n",
       "        text-align: right;\n",
       "    }\n",
       "</style>\n",
       "<table border=\"1\" class=\"dataframe\">\n",
       "  <thead>\n",
       "    <tr style=\"text-align: right;\">\n",
       "      <th></th>\n",
       "      <th>author_id</th>\n",
       "      <th>author</th>\n",
       "    </tr>\n",
       "  </thead>\n",
       "  <tbody>\n",
       "    <tr>\n",
       "      <th>0</th>\n",
       "      <td>1</td>\n",
       "      <td>A.S. Byatt</td>\n",
       "    </tr>\n",
       "    <tr>\n",
       "      <th>1</th>\n",
       "      <td>2</td>\n",
       "      <td>Aesop/Laura Harris/Laura Gibbs</td>\n",
       "    </tr>\n",
       "    <tr>\n",
       "      <th>2</th>\n",
       "      <td>3</td>\n",
       "      <td>Agatha Christie</td>\n",
       "    </tr>\n",
       "    <tr>\n",
       "      <th>3</th>\n",
       "      <td>4</td>\n",
       "      <td>Alan Brennert</td>\n",
       "    </tr>\n",
       "    <tr>\n",
       "      <th>4</th>\n",
       "      <td>5</td>\n",
       "      <td>Alan Moore/David   Lloyd</td>\n",
       "    </tr>\n",
       "  </tbody>\n",
       "</table>\n",
       "</div>"
      ],
      "text/plain": [
       "   author_id                          author\n",
       "0          1                      A.S. Byatt\n",
       "1          2  Aesop/Laura Harris/Laura Gibbs\n",
       "2          3                 Agatha Christie\n",
       "3          4                   Alan Brennert\n",
       "4          5        Alan Moore/David   Lloyd"
      ]
     },
     "metadata": {},
     "output_type": "display_data"
    },
    {
     "name": "stdout",
     "output_type": "stream",
     "text": [
      "<class 'pandas.core.frame.DataFrame'>\n",
      "RangeIndex: 636 entries, 0 to 635\n",
      "Data columns (total 2 columns):\n",
      " #   Column     Non-Null Count  Dtype \n",
      "---  ------     --------------  ----- \n",
      " 0   author_id  636 non-null    int64 \n",
      " 1   author     636 non-null    object\n",
      "dtypes: int64(1), object(1)\n",
      "memory usage: 10.1+ KB\n"
     ]
    },
    {
     "data": {
      "text/plain": [
       "None"
      ]
     },
     "metadata": {},
     "output_type": "display_data"
    },
    {
     "data": {
      "text/html": [
       "<div>\n",
       "<style scoped>\n",
       "    .dataframe tbody tr th:only-of-type {\n",
       "        vertical-align: middle;\n",
       "    }\n",
       "\n",
       "    .dataframe tbody tr th {\n",
       "        vertical-align: top;\n",
       "    }\n",
       "\n",
       "    .dataframe thead th {\n",
       "        text-align: right;\n",
       "    }\n",
       "</style>\n",
       "<table border=\"1\" class=\"dataframe\">\n",
       "  <thead>\n",
       "    <tr style=\"text-align: right;\">\n",
       "      <th></th>\n",
       "      <th>publisher_id</th>\n",
       "      <th>publisher</th>\n",
       "    </tr>\n",
       "  </thead>\n",
       "  <tbody>\n",
       "    <tr>\n",
       "      <th>0</th>\n",
       "      <td>1</td>\n",
       "      <td>Ace</td>\n",
       "    </tr>\n",
       "    <tr>\n",
       "      <th>1</th>\n",
       "      <td>2</td>\n",
       "      <td>Ace Book</td>\n",
       "    </tr>\n",
       "    <tr>\n",
       "      <th>2</th>\n",
       "      <td>3</td>\n",
       "      <td>Ace Books</td>\n",
       "    </tr>\n",
       "    <tr>\n",
       "      <th>3</th>\n",
       "      <td>4</td>\n",
       "      <td>Ace Hardcover</td>\n",
       "    </tr>\n",
       "    <tr>\n",
       "      <th>4</th>\n",
       "      <td>5</td>\n",
       "      <td>Addison Wesley Publishing Company</td>\n",
       "    </tr>\n",
       "  </tbody>\n",
       "</table>\n",
       "</div>"
      ],
      "text/plain": [
       "   publisher_id                          publisher\n",
       "0             1                                Ace\n",
       "1             2                           Ace Book\n",
       "2             3                          Ace Books\n",
       "3             4                      Ace Hardcover\n",
       "4             5  Addison Wesley Publishing Company"
      ]
     },
     "metadata": {},
     "output_type": "display_data"
    },
    {
     "name": "stdout",
     "output_type": "stream",
     "text": [
      "<class 'pandas.core.frame.DataFrame'>\n",
      "RangeIndex: 340 entries, 0 to 339\n",
      "Data columns (total 2 columns):\n",
      " #   Column        Non-Null Count  Dtype \n",
      "---  ------        --------------  ----- \n",
      " 0   publisher_id  340 non-null    int64 \n",
      " 1   publisher     340 non-null    object\n",
      "dtypes: int64(1), object(1)\n",
      "memory usage: 5.4+ KB\n"
     ]
    },
    {
     "data": {
      "text/plain": [
       "None"
      ]
     },
     "metadata": {},
     "output_type": "display_data"
    },
    {
     "data": {
      "text/html": [
       "<div>\n",
       "<style scoped>\n",
       "    .dataframe tbody tr th:only-of-type {\n",
       "        vertical-align: middle;\n",
       "    }\n",
       "\n",
       "    .dataframe tbody tr th {\n",
       "        vertical-align: top;\n",
       "    }\n",
       "\n",
       "    .dataframe thead th {\n",
       "        text-align: right;\n",
       "    }\n",
       "</style>\n",
       "<table border=\"1\" class=\"dataframe\">\n",
       "  <thead>\n",
       "    <tr style=\"text-align: right;\">\n",
       "      <th></th>\n",
       "      <th>rating_id</th>\n",
       "      <th>book_id</th>\n",
       "      <th>username</th>\n",
       "      <th>rating</th>\n",
       "    </tr>\n",
       "  </thead>\n",
       "  <tbody>\n",
       "    <tr>\n",
       "      <th>0</th>\n",
       "      <td>1</td>\n",
       "      <td>1</td>\n",
       "      <td>ryanfranco</td>\n",
       "      <td>4</td>\n",
       "    </tr>\n",
       "    <tr>\n",
       "      <th>1</th>\n",
       "      <td>2</td>\n",
       "      <td>1</td>\n",
       "      <td>grantpatricia</td>\n",
       "      <td>2</td>\n",
       "    </tr>\n",
       "    <tr>\n",
       "      <th>2</th>\n",
       "      <td>3</td>\n",
       "      <td>1</td>\n",
       "      <td>brandtandrea</td>\n",
       "      <td>5</td>\n",
       "    </tr>\n",
       "    <tr>\n",
       "      <th>3</th>\n",
       "      <td>4</td>\n",
       "      <td>2</td>\n",
       "      <td>lorichen</td>\n",
       "      <td>3</td>\n",
       "    </tr>\n",
       "    <tr>\n",
       "      <th>4</th>\n",
       "      <td>5</td>\n",
       "      <td>2</td>\n",
       "      <td>mariokeller</td>\n",
       "      <td>2</td>\n",
       "    </tr>\n",
       "  </tbody>\n",
       "</table>\n",
       "</div>"
      ],
      "text/plain": [
       "   rating_id  book_id       username  rating\n",
       "0          1        1     ryanfranco       4\n",
       "1          2        1  grantpatricia       2\n",
       "2          3        1   brandtandrea       5\n",
       "3          4        2       lorichen       3\n",
       "4          5        2    mariokeller       2"
      ]
     },
     "metadata": {},
     "output_type": "display_data"
    },
    {
     "name": "stdout",
     "output_type": "stream",
     "text": [
      "<class 'pandas.core.frame.DataFrame'>\n",
      "RangeIndex: 6456 entries, 0 to 6455\n",
      "Data columns (total 4 columns):\n",
      " #   Column     Non-Null Count  Dtype \n",
      "---  ------     --------------  ----- \n",
      " 0   rating_id  6456 non-null   int64 \n",
      " 1   book_id    6456 non-null   int64 \n",
      " 2   username   6456 non-null   object\n",
      " 3   rating     6456 non-null   int64 \n",
      "dtypes: int64(3), object(1)\n",
      "memory usage: 201.9+ KB\n"
     ]
    },
    {
     "data": {
      "text/plain": [
       "None"
      ]
     },
     "metadata": {},
     "output_type": "display_data"
    },
    {
     "data": {
      "text/html": [
       "<div>\n",
       "<style scoped>\n",
       "    .dataframe tbody tr th:only-of-type {\n",
       "        vertical-align: middle;\n",
       "    }\n",
       "\n",
       "    .dataframe tbody tr th {\n",
       "        vertical-align: top;\n",
       "    }\n",
       "\n",
       "    .dataframe thead th {\n",
       "        text-align: right;\n",
       "    }\n",
       "</style>\n",
       "<table border=\"1\" class=\"dataframe\">\n",
       "  <thead>\n",
       "    <tr style=\"text-align: right;\">\n",
       "      <th></th>\n",
       "      <th>review_id</th>\n",
       "      <th>book_id</th>\n",
       "      <th>username</th>\n",
       "      <th>text</th>\n",
       "    </tr>\n",
       "  </thead>\n",
       "  <tbody>\n",
       "    <tr>\n",
       "      <th>0</th>\n",
       "      <td>1</td>\n",
       "      <td>1</td>\n",
       "      <td>brandtandrea</td>\n",
       "      <td>Mention society tell send professor analysis. ...</td>\n",
       "    </tr>\n",
       "    <tr>\n",
       "      <th>1</th>\n",
       "      <td>2</td>\n",
       "      <td>1</td>\n",
       "      <td>ryanfranco</td>\n",
       "      <td>Foot glass pretty audience hit themselves. Amo...</td>\n",
       "    </tr>\n",
       "    <tr>\n",
       "      <th>2</th>\n",
       "      <td>3</td>\n",
       "      <td>2</td>\n",
       "      <td>lorichen</td>\n",
       "      <td>Listen treat keep worry. Miss husband tax but ...</td>\n",
       "    </tr>\n",
       "    <tr>\n",
       "      <th>3</th>\n",
       "      <td>4</td>\n",
       "      <td>3</td>\n",
       "      <td>johnsonamanda</td>\n",
       "      <td>Finally month interesting blue could nature cu...</td>\n",
       "    </tr>\n",
       "    <tr>\n",
       "      <th>4</th>\n",
       "      <td>5</td>\n",
       "      <td>3</td>\n",
       "      <td>scotttamara</td>\n",
       "      <td>Nation purpose heavy give wait song will. List...</td>\n",
       "    </tr>\n",
       "  </tbody>\n",
       "</table>\n",
       "</div>"
      ],
      "text/plain": [
       "   review_id  book_id       username  \\\n",
       "0          1        1   brandtandrea   \n",
       "1          2        1     ryanfranco   \n",
       "2          3        2       lorichen   \n",
       "3          4        3  johnsonamanda   \n",
       "4          5        3    scotttamara   \n",
       "\n",
       "                                                text  \n",
       "0  Mention society tell send professor analysis. ...  \n",
       "1  Foot glass pretty audience hit themselves. Amo...  \n",
       "2  Listen treat keep worry. Miss husband tax but ...  \n",
       "3  Finally month interesting blue could nature cu...  \n",
       "4  Nation purpose heavy give wait song will. List...  "
      ]
     },
     "metadata": {},
     "output_type": "display_data"
    },
    {
     "name": "stdout",
     "output_type": "stream",
     "text": [
      "<class 'pandas.core.frame.DataFrame'>\n",
      "RangeIndex: 2793 entries, 0 to 2792\n",
      "Data columns (total 4 columns):\n",
      " #   Column     Non-Null Count  Dtype \n",
      "---  ------     --------------  ----- \n",
      " 0   review_id  2793 non-null   int64 \n",
      " 1   book_id    2793 non-null   int64 \n",
      " 2   username   2793 non-null   object\n",
      " 3   text       2793 non-null   object\n",
      "dtypes: int64(2), object(2)\n",
      "memory usage: 87.4+ KB\n"
     ]
    },
    {
     "data": {
      "text/plain": [
       "None"
      ]
     },
     "metadata": {},
     "output_type": "display_data"
    }
   ],
   "source": [
    "#отобразим первые строки таблиц и информацию по их содержимому\n",
    "display(show_table(q_books).head())\n",
    "display(show_table(q_books).info())\n",
    "display(show_table(q_authors).head())\n",
    "display(show_table(q_authors).info())\n",
    "display(show_table(q_publishers).head())\n",
    "display(show_table(q_publishers).info())\n",
    "display(show_table(q_ratings).head())\n",
    "display(show_table(q_ratings).info())\n",
    "display(show_table(q_reviews).head())\n",
    "display(show_table(q_reviews).info())"
   ]
  },
  {
   "cell_type": "markdown",
   "id": "b651b1b6",
   "metadata": {},
   "source": [
    "### Вывод\n",
    "\n",
    "В базе данных лежит 5 таблиц, связанных между собой по схеме из [полного описания задачи](https://disk.yandex.ru/i/OGG3gCoaUa-vog)\n",
    "\n",
    "Таблицы не содержат пропусков и почти все имеют соответствующий формат данных, кроме даты в таблице _books_ что мы учтём при выполнении запроса. \n",
    "\n",
    "Приступаем к анализу."
   ]
  },
  {
   "cell_type": "markdown",
   "id": "b037c17b",
   "metadata": {},
   "source": [
    "## Анализ базы данных<a id='Анализ'></a>\n",
    "Анализ будет состоять из пяти задач, описаных ниже. \n",
    "\n",
    "### Задача 1. Посчитайте, сколько книг вышло после 1 января 2000 года\n",
    "\n",
    "**Подробнее:** посчитаем сумму id книг, дата публикации которых больше '01-01-2000' не включая эту дату. "
   ]
  },
  {
   "cell_type": "code",
   "execution_count": 7,
   "id": "b693b2cd",
   "metadata": {},
   "outputs": [
    {
     "data": {
      "text/html": [
       "<div>\n",
       "<style scoped>\n",
       "    .dataframe tbody tr th:only-of-type {\n",
       "        vertical-align: middle;\n",
       "    }\n",
       "\n",
       "    .dataframe tbody tr th {\n",
       "        vertical-align: top;\n",
       "    }\n",
       "\n",
       "    .dataframe thead th {\n",
       "        text-align: right;\n",
       "    }\n",
       "</style>\n",
       "<table border=\"1\" class=\"dataframe\">\n",
       "  <thead>\n",
       "    <tr style=\"text-align: right;\">\n",
       "      <th></th>\n",
       "      <th>count</th>\n",
       "    </tr>\n",
       "  </thead>\n",
       "  <tbody>\n",
       "    <tr>\n",
       "      <th>0</th>\n",
       "      <td>819</td>\n",
       "    </tr>\n",
       "  </tbody>\n",
       "</table>\n",
       "</div>"
      ],
      "text/plain": [
       "   count\n",
       "0    819"
      ]
     },
     "metadata": {},
     "output_type": "display_data"
    }
   ],
   "source": [
    "q_1 = ''' \n",
    "        SELECT COUNT(book_id)\n",
    "        FROM books\n",
    "        WHERE CAST(publication_date as date) > '01-01-2000'\n",
    "        '''\n",
    "\n",
    "\n",
    "display(show_table(q_1).head())"
   ]
  },
  {
   "cell_type": "markdown",
   "id": "7e96ebd9",
   "metadata": {},
   "source": [
    "**Ответ:** После 1 января 2000 года вышло 819 книг. "
   ]
  },
  {
   "cell_type": "markdown",
   "id": "e9ca7ab9",
   "metadata": {},
   "source": [
    "### Задача 2. Для каждой книги посчитайте количество обзоров и среднюю оценку\n",
    "**Подробнее:** сджойним таблицы _books_, _ratings_ и _reviews_, посчитаем сумму `review_id` и средний `rating`. Отобразим данные по убыванию количества обзоров."
   ]
  },
  {
   "cell_type": "code",
   "execution_count": 11,
   "id": "46e439bf",
   "metadata": {
    "scrolled": false
   },
   "outputs": [
    {
     "data": {
      "text/html": [
       "<div>\n",
       "<style scoped>\n",
       "    .dataframe tbody tr th:only-of-type {\n",
       "        vertical-align: middle;\n",
       "    }\n",
       "\n",
       "    .dataframe tbody tr th {\n",
       "        vertical-align: top;\n",
       "    }\n",
       "\n",
       "    .dataframe thead th {\n",
       "        text-align: right;\n",
       "    }\n",
       "</style>\n",
       "<table border=\"1\" class=\"dataframe\">\n",
       "  <thead>\n",
       "    <tr style=\"text-align: right;\">\n",
       "      <th></th>\n",
       "      <th>book_id</th>\n",
       "      <th>title</th>\n",
       "      <th>rewiews_count</th>\n",
       "      <th>avg_rating</th>\n",
       "    </tr>\n",
       "  </thead>\n",
       "  <tbody>\n",
       "    <tr>\n",
       "      <th>0</th>\n",
       "      <td>948</td>\n",
       "      <td>Twilight (Twilight  #1)</td>\n",
       "      <td>7</td>\n",
       "      <td>3.662500</td>\n",
       "    </tr>\n",
       "    <tr>\n",
       "      <th>1</th>\n",
       "      <td>963</td>\n",
       "      <td>Water for Elephants</td>\n",
       "      <td>6</td>\n",
       "      <td>3.977273</td>\n",
       "    </tr>\n",
       "    <tr>\n",
       "      <th>2</th>\n",
       "      <td>734</td>\n",
       "      <td>The Glass Castle</td>\n",
       "      <td>6</td>\n",
       "      <td>4.206897</td>\n",
       "    </tr>\n",
       "    <tr>\n",
       "      <th>3</th>\n",
       "      <td>302</td>\n",
       "      <td>Harry Potter and the Prisoner of Azkaban (Harr...</td>\n",
       "      <td>6</td>\n",
       "      <td>4.414634</td>\n",
       "    </tr>\n",
       "    <tr>\n",
       "      <th>4</th>\n",
       "      <td>695</td>\n",
       "      <td>The Curious Incident of the Dog in the Night-Time</td>\n",
       "      <td>6</td>\n",
       "      <td>4.081081</td>\n",
       "    </tr>\n",
       "    <tr>\n",
       "      <th>...</th>\n",
       "      <td>...</td>\n",
       "      <td>...</td>\n",
       "      <td>...</td>\n",
       "      <td>...</td>\n",
       "    </tr>\n",
       "    <tr>\n",
       "      <th>995</th>\n",
       "      <td>83</td>\n",
       "      <td>Anne Rice's The Vampire Lestat: A Graphic Novel</td>\n",
       "      <td>0</td>\n",
       "      <td>3.666667</td>\n",
       "    </tr>\n",
       "    <tr>\n",
       "      <th>996</th>\n",
       "      <td>808</td>\n",
       "      <td>The Natural Way to Draw</td>\n",
       "      <td>0</td>\n",
       "      <td>3.000000</td>\n",
       "    </tr>\n",
       "    <tr>\n",
       "      <th>997</th>\n",
       "      <td>672</td>\n",
       "      <td>The Cat in the Hat and Other Dr. Seuss Favorites</td>\n",
       "      <td>0</td>\n",
       "      <td>5.000000</td>\n",
       "    </tr>\n",
       "    <tr>\n",
       "      <th>998</th>\n",
       "      <td>221</td>\n",
       "      <td>Essential Tales and Poems</td>\n",
       "      <td>0</td>\n",
       "      <td>4.000000</td>\n",
       "    </tr>\n",
       "    <tr>\n",
       "      <th>999</th>\n",
       "      <td>191</td>\n",
       "      <td>Disney's Beauty and the Beast (A Little Golden...</td>\n",
       "      <td>0</td>\n",
       "      <td>4.000000</td>\n",
       "    </tr>\n",
       "  </tbody>\n",
       "</table>\n",
       "<p>1000 rows × 4 columns</p>\n",
       "</div>"
      ],
      "text/plain": [
       "     book_id                                              title  \\\n",
       "0        948                            Twilight (Twilight  #1)   \n",
       "1        963                                Water for Elephants   \n",
       "2        734                                   The Glass Castle   \n",
       "3        302  Harry Potter and the Prisoner of Azkaban (Harr...   \n",
       "4        695  The Curious Incident of the Dog in the Night-Time   \n",
       "..       ...                                                ...   \n",
       "995       83    Anne Rice's The Vampire Lestat: A Graphic Novel   \n",
       "996      808                            The Natural Way to Draw   \n",
       "997      672   The Cat in the Hat and Other Dr. Seuss Favorites   \n",
       "998      221                          Essential Tales and Poems   \n",
       "999      191  Disney's Beauty and the Beast (A Little Golden...   \n",
       "\n",
       "     rewiews_count  avg_rating  \n",
       "0                7    3.662500  \n",
       "1                6    3.977273  \n",
       "2                6    4.206897  \n",
       "3                6    4.414634  \n",
       "4                6    4.081081  \n",
       "..             ...         ...  \n",
       "995              0    3.666667  \n",
       "996              0    3.000000  \n",
       "997              0    5.000000  \n",
       "998              0    4.000000  \n",
       "999              0    4.000000  \n",
       "\n",
       "[1000 rows x 4 columns]"
      ]
     },
     "metadata": {},
     "output_type": "display_data"
    }
   ],
   "source": [
    "q_2 = ''' \n",
    "        SELECT b.book_id,\n",
    "            b.title,\n",
    "            COUNT(DISTINCT review_id) as rewiews_count,\n",
    "            AVG(rating) as avg_rating\n",
    "        FROM books AS b\n",
    "        LEFT JOIN ratings AS rt ON rt.book_id = b.book_id \n",
    "        LEFT JOIN reviews AS rv ON rv.book_id = b.book_id\n",
    "        GROUP BY b.book_id\n",
    "        ORDER BY rewiews_count DESC;\n",
    "        ''' \n",
    "  \n",
    "display(show_table(q_2))"
   ]
  },
  {
   "cell_type": "markdown",
   "id": "43501c26",
   "metadata": {},
   "source": [
    "**Ответ:** Мы составили таблицу из 1000 строк(соответствует количеству книг), в которой посчитали количество обзоров и средние оценки, отсортировав по количеству обзоров. Судя по всему, высокое количество обзоров не гарантирует высокой оценки: на первом месте у нас получилась книга с рейтингом 3.66."
   ]
  },
  {
   "cell_type": "markdown",
   "id": "66f8ced1",
   "metadata": {},
   "source": [
    "### Задача 3. Определите издательство, которое выпустило наибольшее число книг толще 50 страниц (так вы исключите из анализа брошюры)\n",
    "**Подробнее:** сджойним таблицы _books_ и _publishers_, выберем те строки, где количество страниц больше 50 и сгруппируем по имени издательства. Отсортируем по количеству книг и отобразим только первую строку."
   ]
  },
  {
   "cell_type": "code",
   "execution_count": null,
   "id": "d3e18852",
   "metadata": {
    "scrolled": true
   },
   "outputs": [],
   "source": [
    "q_3 = ''' \n",
    "        SELECT publisher,\n",
    "               COUNT(b.publisher_id) as book_count\n",
    "               \n",
    "        FROM books AS b\n",
    "        RIGHT JOIN publishers AS pb ON pb.publisher_id = b.publisher_id\n",
    "        WHERE b.num_pages > 50\n",
    "        GROUP BY publisher\n",
    "        ORDER BY book_count DESC\n",
    "        LIMIT 1\n",
    "\n",
    "        ''' \n",
    "       \n",
    "display(show_table(q_3))"
   ]
  },
  {
   "cell_type": "markdown",
   "id": "82c9cd49",
   "metadata": {},
   "source": [
    "**Ответ:** Больше всего книг с 50+ страниц(42) выпустило издетельство 'Penguin Books'."
   ]
  },
  {
   "cell_type": "markdown",
   "id": "d2335b34",
   "metadata": {},
   "source": [
    "### Задача 4. Определите автора с самой высокой средней оценкой книг (учитывайте только книги с 50 и более оценками)\n",
    "**Подробнее:** сджойним таблицы _books_, _ratings_ и _authors_, сгруппируем по `author_id`, оставим только те строки, в которых сумма `rating_id` больше 50, отсортируем по убыванию по `mean_rating` и выведем только первую строку."
   ]
  },
  {
   "cell_type": "code",
   "execution_count": null,
   "id": "7aa81d23",
   "metadata": {},
   "outputs": [],
   "source": [
    "q_4 = ''' \n",
    "        SELECT author,\n",
    "               AVG(rating) as mean_rating\n",
    "        FROM books AS b\n",
    "        RIGHT JOIN ratings AS rt ON rt.book_id = b.book_id\n",
    "        RIGHT JOIN authors AS a ON a.author_id = b.author_id\n",
    "        GROUP BY a.author_id\n",
    "\n",
    "        HAVING COUNT(rating_id) > 50 \n",
    "        ORDER BY mean_rating DESC\n",
    "        LIMIT 1\n",
    "\n",
    "        ''' \n",
    "  \n",
    "display(show_table(q_4))"
   ]
  },
  {
   "cell_type": "markdown",
   "id": "24886b2e",
   "metadata": {},
   "source": [
    "**Ответ:** автор с самой высокой средней оценкой книг(4.29) - не автор, а авторы: J.K. Rowling/Mary GrandPré\t"
   ]
  },
  {
   "cell_type": "markdown",
   "id": "22564679",
   "metadata": {},
   "source": [
    "### Задача 5. Посчитайте среднее количество обзоров от пользователей, которые поставили больше 50 оценок.\n",
    "**Подробнее:** сделаем первый подзапрос: достанем из таблицы _ratings_ `username` пользователей, для которых после группировки по юзернейму сумма `rating_id` будет больше 50. Сделаем второй подзапрос: используя пользователей из первого подзапроса(их 6), выберем из них только те, которые пересекутся со сгруппированой по `username` таблицей _reviews_ и отобразим их среднее количество обзоров. После чего, сделаем основной запрос, в котором посчитаем среднее количество отзывов полученых двумя подзапросами и выведем округлив до целого. "
   ]
  },
  {
   "cell_type": "code",
   "execution_count": null,
   "id": "38043a10",
   "metadata": {
    "scrolled": true
   },
   "outputs": [],
   "source": [
    "#q_5_1 = ''' \n",
    "        #SELECT username\n",
    "        #FROM ratings\n",
    "        #GROUP BY username\n",
    "        #HAVING COUNT(rating_id) > 50\n",
    "#        ''' \n",
    "\n",
    "\n",
    "#q_5_2 = ''' \n",
    "        #SELECT username,\n",
    "               #COUNT(review_id) AS mean_review\n",
    "        #FROM reviews\n",
    "        #WHERE username IN (SELECT username\n",
    "                          #FROM ratings\n",
    "                          #GROUP BY username\n",
    "                          #HAVING COUNT(rating_id) > 50)\n",
    "        #GROUP BY username\n",
    "#       ''' \n",
    "\n",
    "q_5_3 = ''' \n",
    "        SELECT ROUND(AVG(mean_review)) AS total_mean_review\n",
    "        FROM (SELECT username,\n",
    "                     COUNT(review_id) as mean_review\n",
    "              FROM reviews\n",
    "              WHERE username IN (SELECT username\n",
    "                                 FROM ratings\n",
    "                                 GROUP BY username\n",
    "                                 HAVING COUNT(rating_id) > 50)\n",
    "              GROUP BY username) AS review_info\n",
    "        ''' \n",
    "\n",
    "\n",
    "display(show_table(q_5_3))\n"
   ]
  },
  {
   "cell_type": "markdown",
   "id": "d6cfede8",
   "metadata": {},
   "source": [
    "**Ответ:** пользователи, которые поставили больше 50 оценок, в среднем пишут 24 обзора. "
   ]
  },
  {
   "cell_type": "markdown",
   "id": "38ed8761",
   "metadata": {},
   "source": [
    "### Вывод:\n",
    "По итогам нашего обзора можем заключить, что база данных хранит информацию о 1000 книг, их авторах(636). Книги опубликованы 340-ми издательствами, у нас есть так же данные о 2793-ех обзорах и 6456-ти оценках книг.\n",
    "\n",
    "Данные не имеют пропусков и в общем хорошего качества. \n",
    "\n",
    "Мы сделали несколько расчетов, определили, что:\n",
    "- в базе 819 книг и брошюр выпущенных после 2000 года;\n",
    "- книга Twilight (Twilight #1) имеет самое большое число обзоров - 7 и средний рейтинг 3.66;\n",
    "- больше всего книг с 50+ страниц(42) выпустило издетельство 'Penguin Books';\n",
    "- авторы с самой высокой средней оценкой книг(4.29): J.K. Rowling/Mary GrandPré;\n",
    "- пользователи, которые поставили больше 50 оценок, в среднем пишут 24 обзора.\n",
    "\n",
    "Данные выглядят поными и адекватными для дальнейших анализов."
   ]
  }
 ],
 "metadata": {
  "ExecuteTimeLog": [
   {
    "duration": 647,
    "start_time": "2022-07-12T21:25:02.765Z"
   },
   {
    "duration": 4,
    "start_time": "2022-07-12T21:25:03.414Z"
   },
   {
    "duration": 9659,
    "start_time": "2022-07-12T21:25:03.419Z"
   },
   {
    "duration": 3,
    "start_time": "2022-07-12T21:25:13.080Z"
   },
   {
    "duration": 8,
    "start_time": "2022-07-12T21:25:13.085Z"
   },
   {
    "duration": 1039,
    "start_time": "2022-07-12T21:25:13.095Z"
   },
   {
    "duration": 72,
    "start_time": "2022-07-12T21:25:14.136Z"
   },
   {
    "duration": 91,
    "start_time": "2022-07-12T21:25:14.210Z"
   },
   {
    "duration": 74,
    "start_time": "2022-07-12T21:25:14.303Z"
   },
   {
    "duration": 78,
    "start_time": "2022-07-12T21:25:14.379Z"
   },
   {
    "duration": 76,
    "start_time": "2022-07-12T21:25:14.460Z"
   },
   {
    "duration": 53,
    "start_time": "2022-07-13T09:51:45.975Z"
   },
   {
    "duration": 527,
    "start_time": "2022-07-13T09:51:52.771Z"
   },
   {
    "duration": 3,
    "start_time": "2022-07-13T09:51:53.300Z"
   },
   {
    "duration": 7836,
    "start_time": "2022-07-13T09:51:53.304Z"
   },
   {
    "duration": 9,
    "start_time": "2022-07-13T09:52:01.142Z"
   },
   {
    "duration": 18,
    "start_time": "2022-07-13T09:52:01.153Z"
   },
   {
    "duration": 1146,
    "start_time": "2022-07-13T09:52:01.173Z"
   },
   {
    "duration": 83,
    "start_time": "2022-07-13T09:52:02.321Z"
   },
   {
    "duration": 95,
    "start_time": "2022-07-13T09:52:02.406Z"
   },
   {
    "duration": 82,
    "start_time": "2022-07-13T09:52:02.503Z"
   },
   {
    "duration": 85,
    "start_time": "2022-07-13T09:52:02.587Z"
   },
   {
    "duration": 81,
    "start_time": "2022-07-13T09:52:02.674Z"
   },
   {
    "duration": 213,
    "start_time": "2022-07-13T09:52:47.070Z"
   },
   {
    "duration": 145,
    "start_time": "2022-07-13T09:53:14.069Z"
   },
   {
    "duration": 119,
    "start_time": "2022-07-13T09:53:22.309Z"
   },
   {
    "duration": 203,
    "start_time": "2022-07-13T09:54:20.097Z"
   },
   {
    "duration": 280,
    "start_time": "2022-07-13T09:55:42.580Z"
   },
   {
    "duration": 204,
    "start_time": "2022-07-13T09:55:53.298Z"
   },
   {
    "duration": 265,
    "start_time": "2022-07-13T09:56:14.856Z"
   },
   {
    "duration": 165,
    "start_time": "2022-07-13T09:56:39.694Z"
   },
   {
    "duration": 161,
    "start_time": "2022-07-13T09:57:57.168Z"
   },
   {
    "duration": 163,
    "start_time": "2022-07-13T09:58:19.464Z"
   },
   {
    "duration": 284,
    "start_time": "2022-07-13T09:58:31.809Z"
   },
   {
    "duration": 159,
    "start_time": "2022-07-13T10:00:20.110Z"
   },
   {
    "duration": 199,
    "start_time": "2022-07-13T10:00:31.078Z"
   },
   {
    "duration": 144,
    "start_time": "2022-07-13T10:00:47.167Z"
   },
   {
    "duration": 460,
    "start_time": "2022-07-13T10:01:02.196Z"
   },
   {
    "duration": 6,
    "start_time": "2022-07-13T10:01:02.661Z"
   },
   {
    "duration": 7302,
    "start_time": "2022-07-13T10:01:02.672Z"
   },
   {
    "duration": 3,
    "start_time": "2022-07-13T10:01:09.977Z"
   },
   {
    "duration": 8,
    "start_time": "2022-07-13T10:01:09.982Z"
   },
   {
    "duration": 1087,
    "start_time": "2022-07-13T10:01:09.992Z"
   },
   {
    "duration": 76,
    "start_time": "2022-07-13T10:01:11.081Z"
   },
   {
    "duration": 225,
    "start_time": "2022-07-13T10:01:11.158Z"
   },
   {
    "duration": 0,
    "start_time": "2022-07-13T10:01:11.385Z"
   },
   {
    "duration": 0,
    "start_time": "2022-07-13T10:01:11.386Z"
   },
   {
    "duration": 0,
    "start_time": "2022-07-13T10:01:11.387Z"
   },
   {
    "duration": 202,
    "start_time": "2022-07-13T10:01:14.785Z"
   },
   {
    "duration": 119,
    "start_time": "2022-07-13T10:01:38.798Z"
   },
   {
    "duration": 115,
    "start_time": "2022-07-13T10:04:09.349Z"
   }
  ],
  "kernelspec": {
   "display_name": "Python 3 (ipykernel)",
   "language": "python",
   "name": "python3"
  },
  "language_info": {
   "codemirror_mode": {
    "name": "ipython",
    "version": 3
   },
   "file_extension": ".py",
   "mimetype": "text/x-python",
   "name": "python",
   "nbconvert_exporter": "python",
   "pygments_lexer": "ipython3",
   "version": "3.9.5"
  },
  "toc": {
   "base_numbering": 1,
   "nav_menu": {},
   "number_sections": true,
   "sideBar": true,
   "skip_h1_title": true,
   "title_cell": "Table of Contents",
   "title_sidebar": "Contents",
   "toc_cell": false,
   "toc_position": {},
   "toc_section_display": true,
   "toc_window_display": false
  }
 },
 "nbformat": 4,
 "nbformat_minor": 5
}
