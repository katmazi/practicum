{
 "cells": [
  {
   "cell_type": "markdown",
   "metadata": {},
   "source": [
    "<h1>Содержание<span class=\"tocSkip\"></span></h1>\n",
    "\n",
    "* [Описание проекта](#Описание) \n",
    "* [Даныные и общая информация](#Данные) \n",
    "* [Подготовка данных к исследованию](#Подготовка)   \n",
    "* [Подсчет помесячной выручки от каждого пользователя](#Выручка)\n",
    "* [Анализ поведения пользователей для каждого тарифа](#Поведение) \n",
    "* [Проверка гипотез](#Гипотезы)    \n",
    "* [Выводы](#Выводы)\n"
   ]
  },
  {
   "cell_type": "markdown",
   "metadata": {},
   "source": [
    "## Описание проекта  <a id='Описание'></a>\n",
    "\n",
    "Вы аналитик компании «Мегалайн» — федерального оператора сотовой связи. Вам предстоит сделать предварительный анализ тарифов на небольшой выборке клиентов. В вашем распоряжении данные 500 пользователей «Мегалайна». Нужно проанализировать поведение клиентов и сделать вывод — какой тариф лучше.\n",
    "\n",
    "**Описание тарифов:**\n",
    "\n",
    "- Тариф «Смарт»\n",
    "- Ежемесячная плата: 550 рублей\n",
    "- Включено 500 минут разговора, 50 сообщений и 15 Гб интернет-трафика\n",
    "- Стоимость услуг сверх тарифного пакета:\n",
    "    * минута разговора: 3 рубля\n",
    "    * сообщение: 3 рубля\n",
    "    * 1 Гб интернет-трафика: 200 рублей\n",
    "    \n",
    "**Тариф «Ультра»**\n",
    "\n",
    "- Ежемесячная плата: 1950 рублей\n",
    "- Включено 3000 минут разговора, 1000 сообщений и 30 Гб интернет-трафика\n",
    "- Стоимость услуг сверх тарифного пакета:\n",
    "    * минута разговора: 1 рубль\n",
    "    * сообщение: 1 рубль\n",
    "    * 1 Гб интернет-трафика: 150 рублей\n"
   ]
  },
  {
   "cell_type": "markdown",
   "metadata": {},
   "source": [
    "## Данные и общая информация <a id='Данные'></a>"
   ]
  },
  {
   "cell_type": "code",
   "execution_count": 1,
   "metadata": {},
   "outputs": [],
   "source": [
    "#импортируем библиотеки:\n",
    "import pandas as pd\n",
    "import math\n",
    "import numpy as np\n",
    "import matplotlib.pyplot as plt\n",
    "import scipy.stats as st\n",
    "\n",
    "\n",
    "#прочитаем предоставленные csv-таблицы:\n",
    "calls = pd.read_csv('/datasets/calls.csv')\n",
    "internet = pd.read_csv('/datasets/internet.csv')\n",
    "messages = pd.read_csv('/datasets/messages.csv')\n",
    "tariffs = pd.read_csv('/datasets/tariffs.csv')\n",
    "users = pd.read_csv('/datasets/users.csv')"
   ]
  },
  {
   "cell_type": "markdown",
   "metadata": {},
   "source": [
    "###### 1) Таблица calls (информация о звонках):"
   ]
  },
  {
   "cell_type": "code",
   "execution_count": 2,
   "metadata": {},
   "outputs": [
    {
     "data": {
      "text/html": [
       "<div>\n",
       "<style scoped>\n",
       "    .dataframe tbody tr th:only-of-type {\n",
       "        vertical-align: middle;\n",
       "    }\n",
       "\n",
       "    .dataframe tbody tr th {\n",
       "        vertical-align: top;\n",
       "    }\n",
       "\n",
       "    .dataframe thead th {\n",
       "        text-align: right;\n",
       "    }\n",
       "</style>\n",
       "<table border=\"1\" class=\"dataframe\">\n",
       "  <thead>\n",
       "    <tr style=\"text-align: right;\">\n",
       "      <th></th>\n",
       "      <th>id</th>\n",
       "      <th>call_date</th>\n",
       "      <th>duration</th>\n",
       "      <th>user_id</th>\n",
       "    </tr>\n",
       "  </thead>\n",
       "  <tbody>\n",
       "    <tr>\n",
       "      <td>0</td>\n",
       "      <td>1000_0</td>\n",
       "      <td>2018-07-25</td>\n",
       "      <td>0.00</td>\n",
       "      <td>1000</td>\n",
       "    </tr>\n",
       "    <tr>\n",
       "      <td>1</td>\n",
       "      <td>1000_1</td>\n",
       "      <td>2018-08-17</td>\n",
       "      <td>0.00</td>\n",
       "      <td>1000</td>\n",
       "    </tr>\n",
       "    <tr>\n",
       "      <td>2</td>\n",
       "      <td>1000_2</td>\n",
       "      <td>2018-06-11</td>\n",
       "      <td>2.85</td>\n",
       "      <td>1000</td>\n",
       "    </tr>\n",
       "    <tr>\n",
       "      <td>3</td>\n",
       "      <td>1000_3</td>\n",
       "      <td>2018-09-21</td>\n",
       "      <td>13.80</td>\n",
       "      <td>1000</td>\n",
       "    </tr>\n",
       "    <tr>\n",
       "      <td>4</td>\n",
       "      <td>1000_4</td>\n",
       "      <td>2018-12-15</td>\n",
       "      <td>5.18</td>\n",
       "      <td>1000</td>\n",
       "    </tr>\n",
       "  </tbody>\n",
       "</table>\n",
       "</div>"
      ],
      "text/plain": [
       "       id   call_date  duration  user_id\n",
       "0  1000_0  2018-07-25      0.00     1000\n",
       "1  1000_1  2018-08-17      0.00     1000\n",
       "2  1000_2  2018-06-11      2.85     1000\n",
       "3  1000_3  2018-09-21     13.80     1000\n",
       "4  1000_4  2018-12-15      5.18     1000"
      ]
     },
     "metadata": {},
     "output_type": "display_data"
    },
    {
     "name": "stdout",
     "output_type": "stream",
     "text": [
      "<class 'pandas.core.frame.DataFrame'>\n",
      "RangeIndex: 202607 entries, 0 to 202606\n",
      "Data columns (total 4 columns):\n",
      "id           202607 non-null object\n",
      "call_date    202607 non-null object\n",
      "duration     202607 non-null float64\n",
      "user_id      202607 non-null int64\n",
      "dtypes: float64(1), int64(1), object(2)\n",
      "memory usage: 6.2+ MB\n"
     ]
    }
   ],
   "source": [
    "display(calls.head())\n",
    "calls.info()"
   ]
  },
  {
   "cell_type": "code",
   "execution_count": 3,
   "metadata": {},
   "outputs": [],
   "source": [
    "#поправим форматы значений:\n",
    "calls = calls.astype({'id':'int'},errors='ignore')\n",
    "calls['call_date'] = pd.to_datetime(\n",
    "    calls['call_date'], format='%Y-%m-%d'\n",
    ")"
   ]
  },
  {
   "cell_type": "markdown",
   "metadata": {},
   "source": [
    "###### Таблица internet (информация об интернет-сессиях):"
   ]
  },
  {
   "cell_type": "code",
   "execution_count": 4,
   "metadata": {
    "scrolled": false
   },
   "outputs": [
    {
     "data": {
      "text/html": [
       "<div>\n",
       "<style scoped>\n",
       "    .dataframe tbody tr th:only-of-type {\n",
       "        vertical-align: middle;\n",
       "    }\n",
       "\n",
       "    .dataframe tbody tr th {\n",
       "        vertical-align: top;\n",
       "    }\n",
       "\n",
       "    .dataframe thead th {\n",
       "        text-align: right;\n",
       "    }\n",
       "</style>\n",
       "<table border=\"1\" class=\"dataframe\">\n",
       "  <thead>\n",
       "    <tr style=\"text-align: right;\">\n",
       "      <th></th>\n",
       "      <th>Unnamed: 0</th>\n",
       "      <th>id</th>\n",
       "      <th>mb_used</th>\n",
       "      <th>session_date</th>\n",
       "      <th>user_id</th>\n",
       "    </tr>\n",
       "  </thead>\n",
       "  <tbody>\n",
       "    <tr>\n",
       "      <td>0</td>\n",
       "      <td>0</td>\n",
       "      <td>1000_0</td>\n",
       "      <td>112.95</td>\n",
       "      <td>2018-11-25</td>\n",
       "      <td>1000</td>\n",
       "    </tr>\n",
       "    <tr>\n",
       "      <td>1</td>\n",
       "      <td>1</td>\n",
       "      <td>1000_1</td>\n",
       "      <td>1052.81</td>\n",
       "      <td>2018-09-07</td>\n",
       "      <td>1000</td>\n",
       "    </tr>\n",
       "    <tr>\n",
       "      <td>2</td>\n",
       "      <td>2</td>\n",
       "      <td>1000_2</td>\n",
       "      <td>1197.26</td>\n",
       "      <td>2018-06-25</td>\n",
       "      <td>1000</td>\n",
       "    </tr>\n",
       "    <tr>\n",
       "      <td>3</td>\n",
       "      <td>3</td>\n",
       "      <td>1000_3</td>\n",
       "      <td>550.27</td>\n",
       "      <td>2018-08-22</td>\n",
       "      <td>1000</td>\n",
       "    </tr>\n",
       "    <tr>\n",
       "      <td>4</td>\n",
       "      <td>4</td>\n",
       "      <td>1000_4</td>\n",
       "      <td>302.56</td>\n",
       "      <td>2018-09-24</td>\n",
       "      <td>1000</td>\n",
       "    </tr>\n",
       "  </tbody>\n",
       "</table>\n",
       "</div>"
      ],
      "text/plain": [
       "   Unnamed: 0      id  mb_used session_date  user_id\n",
       "0           0  1000_0   112.95   2018-11-25     1000\n",
       "1           1  1000_1  1052.81   2018-09-07     1000\n",
       "2           2  1000_2  1197.26   2018-06-25     1000\n",
       "3           3  1000_3   550.27   2018-08-22     1000\n",
       "4           4  1000_4   302.56   2018-09-24     1000"
      ]
     },
     "metadata": {},
     "output_type": "display_data"
    },
    {
     "name": "stdout",
     "output_type": "stream",
     "text": [
      "<class 'pandas.core.frame.DataFrame'>\n",
      "RangeIndex: 149396 entries, 0 to 149395\n",
      "Data columns (total 5 columns):\n",
      "Unnamed: 0      149396 non-null int64\n",
      "id              149396 non-null object\n",
      "mb_used         149396 non-null float64\n",
      "session_date    149396 non-null object\n",
      "user_id         149396 non-null int64\n",
      "dtypes: float64(1), int64(2), object(2)\n",
      "memory usage: 5.7+ MB\n"
     ]
    }
   ],
   "source": [
    "display(internet.head())\n",
    "internet.info()"
   ]
  },
  {
   "cell_type": "code",
   "execution_count": 5,
   "metadata": {},
   "outputs": [],
   "source": [
    "#в данноый таблице нашелся побочный столбец, повторяющий индексы. Отбросим его:\n",
    "internet.drop(['Unnamed: 0'], axis=1, inplace=True)\n",
    "\n",
    "#поправим форматы значений:\n",
    "internet = internet.astype({'id':'int'},errors='ignore')\n",
    "internet['session_date'] = pd.to_datetime(\n",
    "    internet['session_date'], format='%Y-%m-%d'\n",
    ")"
   ]
  },
  {
   "cell_type": "markdown",
   "metadata": {},
   "source": [
    "###### Таблица messages (информация о сообщениях):"
   ]
  },
  {
   "cell_type": "code",
   "execution_count": 6,
   "metadata": {
    "scrolled": true
   },
   "outputs": [
    {
     "data": {
      "text/html": [
       "<div>\n",
       "<style scoped>\n",
       "    .dataframe tbody tr th:only-of-type {\n",
       "        vertical-align: middle;\n",
       "    }\n",
       "\n",
       "    .dataframe tbody tr th {\n",
       "        vertical-align: top;\n",
       "    }\n",
       "\n",
       "    .dataframe thead th {\n",
       "        text-align: right;\n",
       "    }\n",
       "</style>\n",
       "<table border=\"1\" class=\"dataframe\">\n",
       "  <thead>\n",
       "    <tr style=\"text-align: right;\">\n",
       "      <th></th>\n",
       "      <th>id</th>\n",
       "      <th>message_date</th>\n",
       "      <th>user_id</th>\n",
       "    </tr>\n",
       "  </thead>\n",
       "  <tbody>\n",
       "    <tr>\n",
       "      <td>0</td>\n",
       "      <td>1000_0</td>\n",
       "      <td>2018-06-27</td>\n",
       "      <td>1000</td>\n",
       "    </tr>\n",
       "    <tr>\n",
       "      <td>1</td>\n",
       "      <td>1000_1</td>\n",
       "      <td>2018-10-08</td>\n",
       "      <td>1000</td>\n",
       "    </tr>\n",
       "    <tr>\n",
       "      <td>2</td>\n",
       "      <td>1000_2</td>\n",
       "      <td>2018-08-04</td>\n",
       "      <td>1000</td>\n",
       "    </tr>\n",
       "    <tr>\n",
       "      <td>3</td>\n",
       "      <td>1000_3</td>\n",
       "      <td>2018-06-16</td>\n",
       "      <td>1000</td>\n",
       "    </tr>\n",
       "    <tr>\n",
       "      <td>4</td>\n",
       "      <td>1000_4</td>\n",
       "      <td>2018-12-05</td>\n",
       "      <td>1000</td>\n",
       "    </tr>\n",
       "  </tbody>\n",
       "</table>\n",
       "</div>"
      ],
      "text/plain": [
       "       id message_date  user_id\n",
       "0  1000_0   2018-06-27     1000\n",
       "1  1000_1   2018-10-08     1000\n",
       "2  1000_2   2018-08-04     1000\n",
       "3  1000_3   2018-06-16     1000\n",
       "4  1000_4   2018-12-05     1000"
      ]
     },
     "metadata": {},
     "output_type": "display_data"
    },
    {
     "name": "stdout",
     "output_type": "stream",
     "text": [
      "<class 'pandas.core.frame.DataFrame'>\n",
      "RangeIndex: 123036 entries, 0 to 123035\n",
      "Data columns (total 3 columns):\n",
      "id              123036 non-null object\n",
      "message_date    123036 non-null object\n",
      "user_id         123036 non-null int64\n",
      "dtypes: int64(1), object(2)\n",
      "memory usage: 2.8+ MB\n"
     ]
    }
   ],
   "source": [
    "display(messages.head())\n",
    "messages.info()"
   ]
  },
  {
   "cell_type": "code",
   "execution_count": 7,
   "metadata": {},
   "outputs": [],
   "source": [
    "#поправим форматы значений:\n",
    "messages = messages.astype({'id':'int'},errors='ignore')\n",
    "messages['message_date'] = pd.to_datetime(\n",
    "    messages['message_date'], format='%Y-%m-%d'\n",
    ")"
   ]
  },
  {
   "cell_type": "markdown",
   "metadata": {},
   "source": [
    "###### Таблица tariffs (информация о тарифах):"
   ]
  },
  {
   "cell_type": "code",
   "execution_count": 8,
   "metadata": {},
   "outputs": [
    {
     "data": {
      "text/html": [
       "<div>\n",
       "<style scoped>\n",
       "    .dataframe tbody tr th:only-of-type {\n",
       "        vertical-align: middle;\n",
       "    }\n",
       "\n",
       "    .dataframe tbody tr th {\n",
       "        vertical-align: top;\n",
       "    }\n",
       "\n",
       "    .dataframe thead th {\n",
       "        text-align: right;\n",
       "    }\n",
       "</style>\n",
       "<table border=\"1\" class=\"dataframe\">\n",
       "  <thead>\n",
       "    <tr style=\"text-align: right;\">\n",
       "      <th></th>\n",
       "      <th>messages_included</th>\n",
       "      <th>mb_per_month_included</th>\n",
       "      <th>minutes_included</th>\n",
       "      <th>rub_monthly_fee</th>\n",
       "      <th>rub_per_gb</th>\n",
       "      <th>rub_per_message</th>\n",
       "      <th>rub_per_minute</th>\n",
       "      <th>tariff_name</th>\n",
       "    </tr>\n",
       "  </thead>\n",
       "  <tbody>\n",
       "    <tr>\n",
       "      <td>0</td>\n",
       "      <td>50</td>\n",
       "      <td>15360</td>\n",
       "      <td>500</td>\n",
       "      <td>550</td>\n",
       "      <td>200</td>\n",
       "      <td>3</td>\n",
       "      <td>3</td>\n",
       "      <td>smart</td>\n",
       "    </tr>\n",
       "    <tr>\n",
       "      <td>1</td>\n",
       "      <td>1000</td>\n",
       "      <td>30720</td>\n",
       "      <td>3000</td>\n",
       "      <td>1950</td>\n",
       "      <td>150</td>\n",
       "      <td>1</td>\n",
       "      <td>1</td>\n",
       "      <td>ultra</td>\n",
       "    </tr>\n",
       "  </tbody>\n",
       "</table>\n",
       "</div>"
      ],
      "text/plain": [
       "   messages_included  mb_per_month_included  minutes_included  \\\n",
       "0                 50                  15360               500   \n",
       "1               1000                  30720              3000   \n",
       "\n",
       "   rub_monthly_fee  rub_per_gb  rub_per_message  rub_per_minute tariff_name  \n",
       "0              550         200                3               3       smart  \n",
       "1             1950         150                1               1       ultra  "
      ]
     },
     "metadata": {},
     "output_type": "display_data"
    }
   ],
   "source": [
    "display(tariffs)"
   ]
  },
  {
   "cell_type": "markdown",
   "metadata": {},
   "source": [
    "###### Таблица users (информация о пользователях):"
   ]
  },
  {
   "cell_type": "code",
   "execution_count": 9,
   "metadata": {},
   "outputs": [
    {
     "data": {
      "text/html": [
       "<div>\n",
       "<style scoped>\n",
       "    .dataframe tbody tr th:only-of-type {\n",
       "        vertical-align: middle;\n",
       "    }\n",
       "\n",
       "    .dataframe tbody tr th {\n",
       "        vertical-align: top;\n",
       "    }\n",
       "\n",
       "    .dataframe thead th {\n",
       "        text-align: right;\n",
       "    }\n",
       "</style>\n",
       "<table border=\"1\" class=\"dataframe\">\n",
       "  <thead>\n",
       "    <tr style=\"text-align: right;\">\n",
       "      <th></th>\n",
       "      <th>user_id</th>\n",
       "      <th>age</th>\n",
       "      <th>churn_date</th>\n",
       "      <th>city</th>\n",
       "      <th>first_name</th>\n",
       "      <th>last_name</th>\n",
       "      <th>reg_date</th>\n",
       "      <th>tariff</th>\n",
       "    </tr>\n",
       "  </thead>\n",
       "  <tbody>\n",
       "    <tr>\n",
       "      <td>0</td>\n",
       "      <td>1000</td>\n",
       "      <td>52</td>\n",
       "      <td>NaN</td>\n",
       "      <td>Краснодар</td>\n",
       "      <td>Рафаил</td>\n",
       "      <td>Верещагин</td>\n",
       "      <td>2018-05-25</td>\n",
       "      <td>ultra</td>\n",
       "    </tr>\n",
       "    <tr>\n",
       "      <td>1</td>\n",
       "      <td>1001</td>\n",
       "      <td>41</td>\n",
       "      <td>NaN</td>\n",
       "      <td>Москва</td>\n",
       "      <td>Иван</td>\n",
       "      <td>Ежов</td>\n",
       "      <td>2018-11-01</td>\n",
       "      <td>smart</td>\n",
       "    </tr>\n",
       "    <tr>\n",
       "      <td>2</td>\n",
       "      <td>1002</td>\n",
       "      <td>59</td>\n",
       "      <td>NaN</td>\n",
       "      <td>Стерлитамак</td>\n",
       "      <td>Евгений</td>\n",
       "      <td>Абрамович</td>\n",
       "      <td>2018-06-17</td>\n",
       "      <td>smart</td>\n",
       "    </tr>\n",
       "    <tr>\n",
       "      <td>3</td>\n",
       "      <td>1003</td>\n",
       "      <td>23</td>\n",
       "      <td>NaN</td>\n",
       "      <td>Москва</td>\n",
       "      <td>Белла</td>\n",
       "      <td>Белякова</td>\n",
       "      <td>2018-08-17</td>\n",
       "      <td>ultra</td>\n",
       "    </tr>\n",
       "    <tr>\n",
       "      <td>4</td>\n",
       "      <td>1004</td>\n",
       "      <td>68</td>\n",
       "      <td>NaN</td>\n",
       "      <td>Новокузнецк</td>\n",
       "      <td>Татьяна</td>\n",
       "      <td>Авдеенко</td>\n",
       "      <td>2018-05-14</td>\n",
       "      <td>ultra</td>\n",
       "    </tr>\n",
       "  </tbody>\n",
       "</table>\n",
       "</div>"
      ],
      "text/plain": [
       "   user_id  age churn_date         city first_name  last_name    reg_date  \\\n",
       "0     1000   52        NaN    Краснодар     Рафаил  Верещагин  2018-05-25   \n",
       "1     1001   41        NaN       Москва       Иван       Ежов  2018-11-01   \n",
       "2     1002   59        NaN  Стерлитамак    Евгений  Абрамович  2018-06-17   \n",
       "3     1003   23        NaN       Москва      Белла   Белякова  2018-08-17   \n",
       "4     1004   68        NaN  Новокузнецк    Татьяна   Авдеенко  2018-05-14   \n",
       "\n",
       "  tariff  \n",
       "0  ultra  \n",
       "1  smart  \n",
       "2  smart  \n",
       "3  ultra  \n",
       "4  ultra  "
      ]
     },
     "metadata": {},
     "output_type": "display_data"
    },
    {
     "name": "stdout",
     "output_type": "stream",
     "text": [
      "<class 'pandas.core.frame.DataFrame'>\n",
      "RangeIndex: 500 entries, 0 to 499\n",
      "Data columns (total 8 columns):\n",
      "user_id       500 non-null int64\n",
      "age           500 non-null int64\n",
      "churn_date    38 non-null object\n",
      "city          500 non-null object\n",
      "first_name    500 non-null object\n",
      "last_name     500 non-null object\n",
      "reg_date      500 non-null object\n",
      "tariff        500 non-null object\n",
      "dtypes: int64(2), object(6)\n",
      "memory usage: 31.4+ KB\n"
     ]
    }
   ],
   "source": [
    "display(users.head())\n",
    "users.info()"
   ]
  },
  {
   "cell_type": "code",
   "execution_count": 10,
   "metadata": {},
   "outputs": [
    {
     "name": "stdout",
     "output_type": "stream",
     "text": [
      "Количество дубликатов в таблице: 0\n",
      "Процент отключеных пользователей: 7.6\n"
     ]
    }
   ],
   "source": [
    "#проверим, нет ли дубликатов в предоставленной таблице\n",
    "print('Количество дубликатов в таблице:', users.duplicated().sum())\n",
    "\n",
    "#поправим форматы значений:\n",
    "users['churn_date'] = pd.to_datetime(\n",
    "    users['churn_date'], format='%Y-%m-%d'\n",
    ")\n",
    "users['reg_date'] = pd.to_datetime(\n",
    "    users['reg_date'], format='%Y-%m-%d'\n",
    ")\n",
    "\n",
    "print('Процент отключеных пользователей:', users[users['churn_date'].isna() == False]['user_id'].count()/users['user_id'].count()*100)"
   ]
  },
  {
   "cell_type": "markdown",
   "metadata": {},
   "source": [
    "7,6% пользователей на момент исследования не пользуются тарифом. Давайте проверим, как давно они \"отвалились\":"
   ]
  },
  {
   "cell_type": "code",
   "execution_count": 11,
   "metadata": {
    "scrolled": true
   },
   "outputs": [
    {
     "data": {
      "text/html": [
       "<div>\n",
       "<style scoped>\n",
       "    .dataframe tbody tr th:only-of-type {\n",
       "        vertical-align: middle;\n",
       "    }\n",
       "\n",
       "    .dataframe tbody tr th {\n",
       "        vertical-align: top;\n",
       "    }\n",
       "\n",
       "    .dataframe thead th {\n",
       "        text-align: right;\n",
       "    }\n",
       "</style>\n",
       "<table border=\"1\" class=\"dataframe\">\n",
       "  <thead>\n",
       "    <tr style=\"text-align: right;\">\n",
       "      <th></th>\n",
       "      <th>user_id</th>\n",
       "      <th>age</th>\n",
       "      <th>churn_date</th>\n",
       "      <th>city</th>\n",
       "      <th>first_name</th>\n",
       "      <th>last_name</th>\n",
       "      <th>reg_date</th>\n",
       "      <th>tariff</th>\n",
       "    </tr>\n",
       "  </thead>\n",
       "  <tbody>\n",
       "    <tr>\n",
       "      <td>19</td>\n",
       "      <td>1019</td>\n",
       "      <td>63</td>\n",
       "      <td>2018-10-05</td>\n",
       "      <td>Томск</td>\n",
       "      <td>Игнатий</td>\n",
       "      <td>Круглов</td>\n",
       "      <td>2018-05-16</td>\n",
       "      <td>ultra</td>\n",
       "    </tr>\n",
       "    <tr>\n",
       "      <td>20</td>\n",
       "      <td>1020</td>\n",
       "      <td>59</td>\n",
       "      <td>2018-12-18</td>\n",
       "      <td>Чита</td>\n",
       "      <td>Тала</td>\n",
       "      <td>Костина</td>\n",
       "      <td>2018-10-22</td>\n",
       "      <td>smart</td>\n",
       "    </tr>\n",
       "    <tr>\n",
       "      <td>34</td>\n",
       "      <td>1034</td>\n",
       "      <td>66</td>\n",
       "      <td>2018-11-21</td>\n",
       "      <td>Вологда</td>\n",
       "      <td>Святослав</td>\n",
       "      <td>Бондарев</td>\n",
       "      <td>2018-08-26</td>\n",
       "      <td>smart</td>\n",
       "    </tr>\n",
       "    <tr>\n",
       "      <td>50</td>\n",
       "      <td>1050</td>\n",
       "      <td>44</td>\n",
       "      <td>2018-10-03</td>\n",
       "      <td>Тюмень</td>\n",
       "      <td>Рузана</td>\n",
       "      <td>Аничкина</td>\n",
       "      <td>2018-06-16</td>\n",
       "      <td>ultra</td>\n",
       "    </tr>\n",
       "    <tr>\n",
       "      <td>51</td>\n",
       "      <td>1051</td>\n",
       "      <td>37</td>\n",
       "      <td>2018-10-14</td>\n",
       "      <td>Москва</td>\n",
       "      <td>Кристина</td>\n",
       "      <td>Сомова</td>\n",
       "      <td>2018-05-28</td>\n",
       "      <td>smart</td>\n",
       "    </tr>\n",
       "    <tr>\n",
       "      <td>56</td>\n",
       "      <td>1056</td>\n",
       "      <td>73</td>\n",
       "      <td>2018-10-14</td>\n",
       "      <td>Иркутск</td>\n",
       "      <td>Радислав</td>\n",
       "      <td>Артемьев</td>\n",
       "      <td>2018-04-13</td>\n",
       "      <td>smart</td>\n",
       "    </tr>\n",
       "    <tr>\n",
       "      <td>62</td>\n",
       "      <td>1062</td>\n",
       "      <td>24</td>\n",
       "      <td>2018-12-09</td>\n",
       "      <td>Москва</td>\n",
       "      <td>Александр</td>\n",
       "      <td>Коршунов</td>\n",
       "      <td>2018-11-16</td>\n",
       "      <td>smart</td>\n",
       "    </tr>\n",
       "    <tr>\n",
       "      <td>63</td>\n",
       "      <td>1063</td>\n",
       "      <td>45</td>\n",
       "      <td>2018-12-11</td>\n",
       "      <td>Тула</td>\n",
       "      <td>Таира</td>\n",
       "      <td>Климова</td>\n",
       "      <td>2018-04-12</td>\n",
       "      <td>ultra</td>\n",
       "    </tr>\n",
       "    <tr>\n",
       "      <td>64</td>\n",
       "      <td>1064</td>\n",
       "      <td>55</td>\n",
       "      <td>2018-12-26</td>\n",
       "      <td>Якутск</td>\n",
       "      <td>Динара</td>\n",
       "      <td>Алфеева</td>\n",
       "      <td>2018-03-17</td>\n",
       "      <td>smart</td>\n",
       "    </tr>\n",
       "    <tr>\n",
       "      <td>65</td>\n",
       "      <td>1065</td>\n",
       "      <td>53</td>\n",
       "      <td>2018-12-09</td>\n",
       "      <td>Москва</td>\n",
       "      <td>Роза</td>\n",
       "      <td>Игнатова</td>\n",
       "      <td>2018-03-08</td>\n",
       "      <td>smart</td>\n",
       "    </tr>\n",
       "    <tr>\n",
       "      <td>71</td>\n",
       "      <td>1071</td>\n",
       "      <td>20</td>\n",
       "      <td>2018-08-31</td>\n",
       "      <td>Омск</td>\n",
       "      <td>Гектор</td>\n",
       "      <td>Чумаков</td>\n",
       "      <td>2018-01-09</td>\n",
       "      <td>smart</td>\n",
       "    </tr>\n",
       "    <tr>\n",
       "      <td>90</td>\n",
       "      <td>1090</td>\n",
       "      <td>54</td>\n",
       "      <td>2018-12-03</td>\n",
       "      <td>Череповец</td>\n",
       "      <td>Екатерина</td>\n",
       "      <td>Астафьева</td>\n",
       "      <td>2018-10-11</td>\n",
       "      <td>ultra</td>\n",
       "    </tr>\n",
       "    <tr>\n",
       "      <td>128</td>\n",
       "      <td>1128</td>\n",
       "      <td>51</td>\n",
       "      <td>2018-12-23</td>\n",
       "      <td>Волжский</td>\n",
       "      <td>Ксения</td>\n",
       "      <td>Агаева</td>\n",
       "      <td>2018-12-15</td>\n",
       "      <td>ultra</td>\n",
       "    </tr>\n",
       "    <tr>\n",
       "      <td>161</td>\n",
       "      <td>1161</td>\n",
       "      <td>65</td>\n",
       "      <td>2018-11-07</td>\n",
       "      <td>Набережные Челны</td>\n",
       "      <td>Татьяна</td>\n",
       "      <td>Голованова</td>\n",
       "      <td>2018-07-03</td>\n",
       "      <td>smart</td>\n",
       "    </tr>\n",
       "    <tr>\n",
       "      <td>163</td>\n",
       "      <td>1163</td>\n",
       "      <td>21</td>\n",
       "      <td>2018-12-16</td>\n",
       "      <td>Москва</td>\n",
       "      <td>Лев</td>\n",
       "      <td>Вишневский</td>\n",
       "      <td>2018-11-03</td>\n",
       "      <td>smart</td>\n",
       "    </tr>\n",
       "    <tr>\n",
       "      <td>191</td>\n",
       "      <td>1191</td>\n",
       "      <td>64</td>\n",
       "      <td>2018-10-03</td>\n",
       "      <td>Набережные Челны</td>\n",
       "      <td>Александр</td>\n",
       "      <td>Акиндинов</td>\n",
       "      <td>2018-06-30</td>\n",
       "      <td>smart</td>\n",
       "    </tr>\n",
       "    <tr>\n",
       "      <td>201</td>\n",
       "      <td>1201</td>\n",
       "      <td>32</td>\n",
       "      <td>2018-12-03</td>\n",
       "      <td>Москва</td>\n",
       "      <td>Геннадий</td>\n",
       "      <td>Веселов</td>\n",
       "      <td>2018-08-06</td>\n",
       "      <td>ultra</td>\n",
       "    </tr>\n",
       "    <tr>\n",
       "      <td>206</td>\n",
       "      <td>1206</td>\n",
       "      <td>35</td>\n",
       "      <td>2018-12-20</td>\n",
       "      <td>Москва</td>\n",
       "      <td>Елена</td>\n",
       "      <td>Шарапова</td>\n",
       "      <td>2018-11-03</td>\n",
       "      <td>smart</td>\n",
       "    </tr>\n",
       "    <tr>\n",
       "      <td>232</td>\n",
       "      <td>1232</td>\n",
       "      <td>60</td>\n",
       "      <td>2018-11-30</td>\n",
       "      <td>Томск</td>\n",
       "      <td>Виктория</td>\n",
       "      <td>Ларина</td>\n",
       "      <td>2018-10-07</td>\n",
       "      <td>smart</td>\n",
       "    </tr>\n",
       "    <tr>\n",
       "      <td>242</td>\n",
       "      <td>1242</td>\n",
       "      <td>39</td>\n",
       "      <td>2018-12-21</td>\n",
       "      <td>Хабаровск</td>\n",
       "      <td>Радим</td>\n",
       "      <td>Федосеев</td>\n",
       "      <td>2018-11-18</td>\n",
       "      <td>smart</td>\n",
       "    </tr>\n",
       "    <tr>\n",
       "      <td>254</td>\n",
       "      <td>1254</td>\n",
       "      <td>75</td>\n",
       "      <td>2018-08-17</td>\n",
       "      <td>Москва</td>\n",
       "      <td>Александра</td>\n",
       "      <td>Сухарева</td>\n",
       "      <td>2018-01-04</td>\n",
       "      <td>ultra</td>\n",
       "    </tr>\n",
       "    <tr>\n",
       "      <td>255</td>\n",
       "      <td>1255</td>\n",
       "      <td>40</td>\n",
       "      <td>2018-09-02</td>\n",
       "      <td>Саранск</td>\n",
       "      <td>Серафима</td>\n",
       "      <td>Пономарева</td>\n",
       "      <td>2018-02-19</td>\n",
       "      <td>ultra</td>\n",
       "    </tr>\n",
       "    <tr>\n",
       "      <td>265</td>\n",
       "      <td>1265</td>\n",
       "      <td>24</td>\n",
       "      <td>2018-10-04</td>\n",
       "      <td>Омск</td>\n",
       "      <td>Радим</td>\n",
       "      <td>Адамов</td>\n",
       "      <td>2018-06-24</td>\n",
       "      <td>ultra</td>\n",
       "    </tr>\n",
       "    <tr>\n",
       "      <td>271</td>\n",
       "      <td>1271</td>\n",
       "      <td>69</td>\n",
       "      <td>2018-11-13</td>\n",
       "      <td>Челябинск</td>\n",
       "      <td>Аурелия</td>\n",
       "      <td>Чижова</td>\n",
       "      <td>2018-07-14</td>\n",
       "      <td>ultra</td>\n",
       "    </tr>\n",
       "    <tr>\n",
       "      <td>293</td>\n",
       "      <td>1293</td>\n",
       "      <td>39</td>\n",
       "      <td>2018-11-22</td>\n",
       "      <td>Санкт-Петербург</td>\n",
       "      <td>Эдита</td>\n",
       "      <td>Дубинина</td>\n",
       "      <td>2018-09-05</td>\n",
       "      <td>smart</td>\n",
       "    </tr>\n",
       "    <tr>\n",
       "      <td>343</td>\n",
       "      <td>1343</td>\n",
       "      <td>30</td>\n",
       "      <td>2018-10-28</td>\n",
       "      <td>Кострома</td>\n",
       "      <td>Анита</td>\n",
       "      <td>Верещагина</td>\n",
       "      <td>2018-08-15</td>\n",
       "      <td>ultra</td>\n",
       "    </tr>\n",
       "    <tr>\n",
       "      <td>353</td>\n",
       "      <td>1353</td>\n",
       "      <td>57</td>\n",
       "      <td>2018-11-26</td>\n",
       "      <td>Санкт-Петербург</td>\n",
       "      <td>Доминика</td>\n",
       "      <td>Анищенко</td>\n",
       "      <td>2018-04-22</td>\n",
       "      <td>smart</td>\n",
       "    </tr>\n",
       "    <tr>\n",
       "      <td>355</td>\n",
       "      <td>1355</td>\n",
       "      <td>33</td>\n",
       "      <td>2018-11-27</td>\n",
       "      <td>Киров</td>\n",
       "      <td>Сара</td>\n",
       "      <td>Абрикосова</td>\n",
       "      <td>2018-07-21</td>\n",
       "      <td>smart</td>\n",
       "    </tr>\n",
       "    <tr>\n",
       "      <td>367</td>\n",
       "      <td>1367</td>\n",
       "      <td>43</td>\n",
       "      <td>2018-11-16</td>\n",
       "      <td>Москва</td>\n",
       "      <td>Всеволод</td>\n",
       "      <td>Антоненко</td>\n",
       "      <td>2018-09-14</td>\n",
       "      <td>ultra</td>\n",
       "    </tr>\n",
       "    <tr>\n",
       "      <td>370</td>\n",
       "      <td>1370</td>\n",
       "      <td>48</td>\n",
       "      <td>2018-10-27</td>\n",
       "      <td>Новороссийск</td>\n",
       "      <td>Гектор</td>\n",
       "      <td>Сысоев</td>\n",
       "      <td>2018-02-06</td>\n",
       "      <td>smart</td>\n",
       "    </tr>\n",
       "    <tr>\n",
       "      <td>371</td>\n",
       "      <td>1371</td>\n",
       "      <td>50</td>\n",
       "      <td>2018-12-30</td>\n",
       "      <td>Омск</td>\n",
       "      <td>Ириней</td>\n",
       "      <td>Трофимов</td>\n",
       "      <td>2018-12-25</td>\n",
       "      <td>smart</td>\n",
       "    </tr>\n",
       "    <tr>\n",
       "      <td>392</td>\n",
       "      <td>1392</td>\n",
       "      <td>54</td>\n",
       "      <td>2018-09-27</td>\n",
       "      <td>Челябинск</td>\n",
       "      <td>Алла</td>\n",
       "      <td>Беликова</td>\n",
       "      <td>2018-02-27</td>\n",
       "      <td>ultra</td>\n",
       "    </tr>\n",
       "    <tr>\n",
       "      <td>399</td>\n",
       "      <td>1399</td>\n",
       "      <td>31</td>\n",
       "      <td>2018-12-25</td>\n",
       "      <td>Уфа</td>\n",
       "      <td>Алиса</td>\n",
       "      <td>Абрашина</td>\n",
       "      <td>2018-11-06</td>\n",
       "      <td>ultra</td>\n",
       "    </tr>\n",
       "    <tr>\n",
       "      <td>416</td>\n",
       "      <td>1416</td>\n",
       "      <td>50</td>\n",
       "      <td>2018-12-14</td>\n",
       "      <td>Санкт-Петербург</td>\n",
       "      <td>Валерия</td>\n",
       "      <td>Ёлчина</td>\n",
       "      <td>2018-07-16</td>\n",
       "      <td>ultra</td>\n",
       "    </tr>\n",
       "    <tr>\n",
       "      <td>422</td>\n",
       "      <td>1422</td>\n",
       "      <td>60</td>\n",
       "      <td>2018-12-21</td>\n",
       "      <td>Москва</td>\n",
       "      <td>Клара</td>\n",
       "      <td>Устинова</td>\n",
       "      <td>2018-10-12</td>\n",
       "      <td>smart</td>\n",
       "    </tr>\n",
       "    <tr>\n",
       "      <td>438</td>\n",
       "      <td>1438</td>\n",
       "      <td>24</td>\n",
       "      <td>2018-12-24</td>\n",
       "      <td>Екатеринбург</td>\n",
       "      <td>Нателла</td>\n",
       "      <td>Бородина</td>\n",
       "      <td>2018-10-05</td>\n",
       "      <td>smart</td>\n",
       "    </tr>\n",
       "    <tr>\n",
       "      <td>480</td>\n",
       "      <td>1480</td>\n",
       "      <td>29</td>\n",
       "      <td>2018-09-26</td>\n",
       "      <td>Новокузнецк</td>\n",
       "      <td>Гелена</td>\n",
       "      <td>Емельянова</td>\n",
       "      <td>2018-02-14</td>\n",
       "      <td>smart</td>\n",
       "    </tr>\n",
       "    <tr>\n",
       "      <td>498</td>\n",
       "      <td>1498</td>\n",
       "      <td>68</td>\n",
       "      <td>2018-10-25</td>\n",
       "      <td>Владикавказ</td>\n",
       "      <td>Всеволод</td>\n",
       "      <td>Акимчин</td>\n",
       "      <td>2018-07-19</td>\n",
       "      <td>smart</td>\n",
       "    </tr>\n",
       "  </tbody>\n",
       "</table>\n",
       "</div>"
      ],
      "text/plain": [
       "     user_id  age churn_date              city  first_name   last_name  \\\n",
       "19      1019   63 2018-10-05             Томск     Игнатий     Круглов   \n",
       "20      1020   59 2018-12-18              Чита        Тала     Костина   \n",
       "34      1034   66 2018-11-21           Вологда   Святослав    Бондарев   \n",
       "50      1050   44 2018-10-03            Тюмень      Рузана    Аничкина   \n",
       "51      1051   37 2018-10-14            Москва    Кристина      Сомова   \n",
       "56      1056   73 2018-10-14           Иркутск    Радислав    Артемьев   \n",
       "62      1062   24 2018-12-09            Москва   Александр    Коршунов   \n",
       "63      1063   45 2018-12-11              Тула       Таира     Климова   \n",
       "64      1064   55 2018-12-26            Якутск      Динара     Алфеева   \n",
       "65      1065   53 2018-12-09            Москва        Роза    Игнатова   \n",
       "71      1071   20 2018-08-31              Омск      Гектор     Чумаков   \n",
       "90      1090   54 2018-12-03         Череповец   Екатерина   Астафьева   \n",
       "128     1128   51 2018-12-23          Волжский      Ксения      Агаева   \n",
       "161     1161   65 2018-11-07  Набережные Челны     Татьяна  Голованова   \n",
       "163     1163   21 2018-12-16            Москва         Лев  Вишневский   \n",
       "191     1191   64 2018-10-03  Набережные Челны   Александр   Акиндинов   \n",
       "201     1201   32 2018-12-03            Москва    Геннадий     Веселов   \n",
       "206     1206   35 2018-12-20            Москва       Елена    Шарапова   \n",
       "232     1232   60 2018-11-30             Томск    Виктория      Ларина   \n",
       "242     1242   39 2018-12-21         Хабаровск       Радим    Федосеев   \n",
       "254     1254   75 2018-08-17            Москва  Александра    Сухарева   \n",
       "255     1255   40 2018-09-02           Саранск    Серафима  Пономарева   \n",
       "265     1265   24 2018-10-04              Омск       Радим      Адамов   \n",
       "271     1271   69 2018-11-13         Челябинск     Аурелия      Чижова   \n",
       "293     1293   39 2018-11-22   Санкт-Петербург       Эдита    Дубинина   \n",
       "343     1343   30 2018-10-28          Кострома       Анита  Верещагина   \n",
       "353     1353   57 2018-11-26   Санкт-Петербург    Доминика    Анищенко   \n",
       "355     1355   33 2018-11-27             Киров        Сара  Абрикосова   \n",
       "367     1367   43 2018-11-16            Москва    Всеволод   Антоненко   \n",
       "370     1370   48 2018-10-27      Новороссийск      Гектор      Сысоев   \n",
       "371     1371   50 2018-12-30              Омск      Ириней    Трофимов   \n",
       "392     1392   54 2018-09-27         Челябинск        Алла    Беликова   \n",
       "399     1399   31 2018-12-25               Уфа       Алиса    Абрашина   \n",
       "416     1416   50 2018-12-14   Санкт-Петербург     Валерия      Ёлчина   \n",
       "422     1422   60 2018-12-21            Москва       Клара    Устинова   \n",
       "438     1438   24 2018-12-24      Екатеринбург     Нателла    Бородина   \n",
       "480     1480   29 2018-09-26       Новокузнецк      Гелена  Емельянова   \n",
       "498     1498   68 2018-10-25       Владикавказ    Всеволод     Акимчин   \n",
       "\n",
       "      reg_date tariff  \n",
       "19  2018-05-16  ultra  \n",
       "20  2018-10-22  smart  \n",
       "34  2018-08-26  smart  \n",
       "50  2018-06-16  ultra  \n",
       "51  2018-05-28  smart  \n",
       "56  2018-04-13  smart  \n",
       "62  2018-11-16  smart  \n",
       "63  2018-04-12  ultra  \n",
       "64  2018-03-17  smart  \n",
       "65  2018-03-08  smart  \n",
       "71  2018-01-09  smart  \n",
       "90  2018-10-11  ultra  \n",
       "128 2018-12-15  ultra  \n",
       "161 2018-07-03  smart  \n",
       "163 2018-11-03  smart  \n",
       "191 2018-06-30  smart  \n",
       "201 2018-08-06  ultra  \n",
       "206 2018-11-03  smart  \n",
       "232 2018-10-07  smart  \n",
       "242 2018-11-18  smart  \n",
       "254 2018-01-04  ultra  \n",
       "255 2018-02-19  ultra  \n",
       "265 2018-06-24  ultra  \n",
       "271 2018-07-14  ultra  \n",
       "293 2018-09-05  smart  \n",
       "343 2018-08-15  ultra  \n",
       "353 2018-04-22  smart  \n",
       "355 2018-07-21  smart  \n",
       "367 2018-09-14  ultra  \n",
       "370 2018-02-06  smart  \n",
       "371 2018-12-25  smart  \n",
       "392 2018-02-27  ultra  \n",
       "399 2018-11-06  ultra  \n",
       "416 2018-07-16  ultra  \n",
       "422 2018-10-12  smart  \n",
       "438 2018-10-05  smart  \n",
       "480 2018-02-14  smart  \n",
       "498 2018-07-19  smart  "
      ]
     },
     "metadata": {},
     "output_type": "display_data"
    }
   ],
   "source": [
    "display(users[users['churn_date'].isna() == False])"
   ]
  },
  {
   "cell_type": "markdown",
   "metadata": {},
   "source": [
    "**Вывод**\n",
    "\n",
    "Пользователи с отмененным тарифом, отказались от него не ранее сентября. Т.к. в дальнейшем мы будем исследовать данные по месяцам, то убирать этих пользователей не будем (как минимум 3/4 года данных по каждому есть).\n",
    "\n",
    "Данные, после замены форматов, в общем, выглядят корректно, пропусков и дубликатов в данных о пользователях мы не обнаружили. "
   ]
  },
  {
   "cell_type": "markdown",
   "metadata": {},
   "source": [
    "## Подготовка данных к исследованию <a id='Подготовка'></a>"
   ]
  },
  {
   "cell_type": "markdown",
   "metadata": {},
   "source": [
    "Т.к. далее все действия будут с усредненными данными по месяцам, сгруппируем текущие датасеты. "
   ]
  },
  {
   "cell_type": "code",
   "execution_count": 12,
   "metadata": {},
   "outputs": [],
   "source": [
    "#добавим колонку с месяцем:\n",
    "calls['month'] = pd.DatetimeIndex(calls['call_date'].astype('datetime64[M]'))\n",
    "internet['month'] = pd.DatetimeIndex(internet['session_date'].astype('datetime64[M]'))\n",
    "messages['month'] = pd.DatetimeIndex(messages['message_date'].astype('datetime64[M]'))\n",
    "\n",
    "#согласно тарифу, округление в большую сторону происходит для каждого совершенного звонка. Округлим звонки до минуты:\n",
    "calls['duration'] = calls['duration'].apply(np.ceil)\n",
    "\n",
    "\n",
    "#сгруппируем таблицы по user_id и месяцам, а так же посчитаем среднее для всех типов коммуникаций по месяцам: \n",
    "#звонки:\n",
    "monthly_calls_count = calls.groupby(['user_id', 'month'])['duration'].count()\n",
    "monthly_calls_duration = calls.groupby(['user_id', 'month'])['duration'].sum()\n",
    "\n",
    "monthly_calls_count = pd.DataFrame(({'calls_count': monthly_calls_count})).reset_index()\n",
    "monthly_calls_duration = pd.DataFrame(({'calls_duration': monthly_calls_duration})).reset_index()\n",
    "\n",
    "monthly_calls=monthly_calls_count.merge(monthly_calls_duration, on=['user_id', 'month'], how='outer')\n"
   ]
  },
  {
   "cell_type": "code",
   "execution_count": 13,
   "metadata": {},
   "outputs": [
    {
     "data": {
      "text/html": [
       "<div>\n",
       "<style scoped>\n",
       "    .dataframe tbody tr th:only-of-type {\n",
       "        vertical-align: middle;\n",
       "    }\n",
       "\n",
       "    .dataframe tbody tr th {\n",
       "        vertical-align: top;\n",
       "    }\n",
       "\n",
       "    .dataframe thead th {\n",
       "        text-align: right;\n",
       "    }\n",
       "</style>\n",
       "<table border=\"1\" class=\"dataframe\">\n",
       "  <thead>\n",
       "    <tr style=\"text-align: right;\">\n",
       "      <th></th>\n",
       "      <th>user_id</th>\n",
       "      <th>month</th>\n",
       "      <th>calls_count</th>\n",
       "      <th>calls_duration</th>\n",
       "      <th>internet_traffic</th>\n",
       "      <th>masseges</th>\n",
       "    </tr>\n",
       "  </thead>\n",
       "  <tbody>\n",
       "    <tr>\n",
       "      <td>0</td>\n",
       "      <td>1000</td>\n",
       "      <td>2018-05-01</td>\n",
       "      <td>22.0</td>\n",
       "      <td>159.0</td>\n",
       "      <td>2253.49</td>\n",
       "      <td>22.0</td>\n",
       "    </tr>\n",
       "    <tr>\n",
       "      <td>1</td>\n",
       "      <td>1000</td>\n",
       "      <td>2018-06-01</td>\n",
       "      <td>43.0</td>\n",
       "      <td>172.0</td>\n",
       "      <td>23233.77</td>\n",
       "      <td>60.0</td>\n",
       "    </tr>\n",
       "    <tr>\n",
       "      <td>2</td>\n",
       "      <td>1000</td>\n",
       "      <td>2018-07-01</td>\n",
       "      <td>47.0</td>\n",
       "      <td>340.0</td>\n",
       "      <td>14003.64</td>\n",
       "      <td>75.0</td>\n",
       "    </tr>\n",
       "    <tr>\n",
       "      <td>3</td>\n",
       "      <td>1000</td>\n",
       "      <td>2018-08-01</td>\n",
       "      <td>52.0</td>\n",
       "      <td>408.0</td>\n",
       "      <td>14055.93</td>\n",
       "      <td>81.0</td>\n",
       "    </tr>\n",
       "    <tr>\n",
       "      <td>4</td>\n",
       "      <td>1000</td>\n",
       "      <td>2018-09-01</td>\n",
       "      <td>58.0</td>\n",
       "      <td>466.0</td>\n",
       "      <td>14568.91</td>\n",
       "      <td>57.0</td>\n",
       "    </tr>\n",
       "    <tr>\n",
       "      <td>...</td>\n",
       "      <td>...</td>\n",
       "      <td>...</td>\n",
       "      <td>...</td>\n",
       "      <td>...</td>\n",
       "      <td>...</td>\n",
       "      <td>...</td>\n",
       "    </tr>\n",
       "    <tr>\n",
       "      <td>3209</td>\n",
       "      <td>1489</td>\n",
       "      <td>2018-08-01</td>\n",
       "      <td>NaN</td>\n",
       "      <td>NaN</td>\n",
       "      <td>11050.56</td>\n",
       "      <td>17.0</td>\n",
       "    </tr>\n",
       "    <tr>\n",
       "      <td>3210</td>\n",
       "      <td>1489</td>\n",
       "      <td>2018-09-01</td>\n",
       "      <td>NaN</td>\n",
       "      <td>NaN</td>\n",
       "      <td>17206.30</td>\n",
       "      <td>32.0</td>\n",
       "    </tr>\n",
       "    <tr>\n",
       "      <td>3211</td>\n",
       "      <td>1489</td>\n",
       "      <td>2018-10-01</td>\n",
       "      <td>NaN</td>\n",
       "      <td>NaN</td>\n",
       "      <td>19559.44</td>\n",
       "      <td>21.0</td>\n",
       "    </tr>\n",
       "    <tr>\n",
       "      <td>3212</td>\n",
       "      <td>1489</td>\n",
       "      <td>2018-11-01</td>\n",
       "      <td>NaN</td>\n",
       "      <td>NaN</td>\n",
       "      <td>17491.56</td>\n",
       "      <td>20.0</td>\n",
       "    </tr>\n",
       "    <tr>\n",
       "      <td>3213</td>\n",
       "      <td>1489</td>\n",
       "      <td>2018-12-01</td>\n",
       "      <td>NaN</td>\n",
       "      <td>NaN</td>\n",
       "      <td>17322.51</td>\n",
       "      <td>35.0</td>\n",
       "    </tr>\n",
       "  </tbody>\n",
       "</table>\n",
       "<p>3214 rows × 6 columns</p>\n",
       "</div>"
      ],
      "text/plain": [
       "      user_id      month  calls_count  calls_duration  internet_traffic  \\\n",
       "0        1000 2018-05-01         22.0           159.0           2253.49   \n",
       "1        1000 2018-06-01         43.0           172.0          23233.77   \n",
       "2        1000 2018-07-01         47.0           340.0          14003.64   \n",
       "3        1000 2018-08-01         52.0           408.0          14055.93   \n",
       "4        1000 2018-09-01         58.0           466.0          14568.91   \n",
       "...       ...        ...          ...             ...               ...   \n",
       "3209     1489 2018-08-01          NaN             NaN          11050.56   \n",
       "3210     1489 2018-09-01          NaN             NaN          17206.30   \n",
       "3211     1489 2018-10-01          NaN             NaN          19559.44   \n",
       "3212     1489 2018-11-01          NaN             NaN          17491.56   \n",
       "3213     1489 2018-12-01          NaN             NaN          17322.51   \n",
       "\n",
       "      masseges  \n",
       "0         22.0  \n",
       "1         60.0  \n",
       "2         75.0  \n",
       "3         81.0  \n",
       "4         57.0  \n",
       "...        ...  \n",
       "3209      17.0  \n",
       "3210      32.0  \n",
       "3211      21.0  \n",
       "3212      20.0  \n",
       "3213      35.0  \n",
       "\n",
       "[3214 rows x 6 columns]"
      ]
     },
     "metadata": {},
     "output_type": "display_data"
    }
   ],
   "source": [
    "#интернет:\n",
    "monthly_internet_count = internet.groupby(['user_id', 'month'])['mb_used'].sum()\n",
    "monthly_internet = pd.DataFrame(({'internet_traffic': monthly_internet_count}))\n",
    "\n",
    "#смс:\n",
    "monthly_messages_count = messages.groupby(['user_id', 'month'])['message_date'].count()\n",
    "monthly_messages = pd.DataFrame(({'masseges': monthly_messages_count}))\n",
    "\n",
    "\n",
    "#объединим все таблицы в одну:\n",
    "monthly_communications=monthly_calls.merge(monthly_internet, on=['user_id', 'month'], how='outer')\n",
    "monthly_communications=monthly_communications.merge(monthly_messages, on=['user_id', 'month'], how='outer')\n",
    "\n",
    "display(monthly_communications)"
   ]
  },
  {
   "cell_type": "markdown",
   "metadata": {},
   "source": [
    "Благодаря объединению таблиц с параметром how='outer', мы получили пропуски в данных, которые говорят нам о том, что некоторые пользователи не пользовались теми или иными опциями связи. \n",
    "\n",
    "На всякий случай проверим, нет ли пользователей, которые не пользовались ни одним из способов связи. "
   ]
  },
  {
   "cell_type": "code",
   "execution_count": 14,
   "metadata": {},
   "outputs": [
    {
     "name": "stdout",
     "output_type": "stream",
     "text": [
      "Empty DataFrame\n",
      "Columns: [user_id, month, calls_count, calls_duration, internet_traffic, masseges]\n",
      "Index: []\n"
     ]
    }
   ],
   "source": [
    "print(monthly_communications[\n",
    "    (monthly_communications['calls_count'].isna() == True) &\n",
    "    (monthly_communications['calls_duration'].isna() == True) &\n",
    "    (monthly_communications['internet_traffic'].isna() == True) &\n",
    "    (monthly_communications['masseges'].isna() == True)\n",
    "])"
   ]
  },
  {
   "cell_type": "markdown",
   "metadata": {},
   "source": [
    "Проверка подтверждает гипотезу, что разные пользователи могут предпочитать разные способы связи. Заменим на 0 пропуски в данных. "
   ]
  },
  {
   "cell_type": "code",
   "execution_count": 15,
   "metadata": {},
   "outputs": [
    {
     "data": {
      "text/html": [
       "<div>\n",
       "<style scoped>\n",
       "    .dataframe tbody tr th:only-of-type {\n",
       "        vertical-align: middle;\n",
       "    }\n",
       "\n",
       "    .dataframe tbody tr th {\n",
       "        vertical-align: top;\n",
       "    }\n",
       "\n",
       "    .dataframe thead th {\n",
       "        text-align: right;\n",
       "    }\n",
       "</style>\n",
       "<table border=\"1\" class=\"dataframe\">\n",
       "  <thead>\n",
       "    <tr style=\"text-align: right;\">\n",
       "      <th></th>\n",
       "      <th>user_id</th>\n",
       "      <th>month</th>\n",
       "      <th>calls_count</th>\n",
       "      <th>calls_duration</th>\n",
       "      <th>internet_traffic</th>\n",
       "      <th>masseges</th>\n",
       "    </tr>\n",
       "  </thead>\n",
       "  <tbody>\n",
       "    <tr>\n",
       "      <td>0</td>\n",
       "      <td>1000</td>\n",
       "      <td>2018-05-01</td>\n",
       "      <td>22.0</td>\n",
       "      <td>159.0</td>\n",
       "      <td>3.0</td>\n",
       "      <td>22.0</td>\n",
       "    </tr>\n",
       "    <tr>\n",
       "      <td>1</td>\n",
       "      <td>1000</td>\n",
       "      <td>2018-06-01</td>\n",
       "      <td>43.0</td>\n",
       "      <td>172.0</td>\n",
       "      <td>23.0</td>\n",
       "      <td>60.0</td>\n",
       "    </tr>\n",
       "    <tr>\n",
       "      <td>2</td>\n",
       "      <td>1000</td>\n",
       "      <td>2018-07-01</td>\n",
       "      <td>47.0</td>\n",
       "      <td>340.0</td>\n",
       "      <td>14.0</td>\n",
       "      <td>75.0</td>\n",
       "    </tr>\n",
       "    <tr>\n",
       "      <td>3</td>\n",
       "      <td>1000</td>\n",
       "      <td>2018-08-01</td>\n",
       "      <td>52.0</td>\n",
       "      <td>408.0</td>\n",
       "      <td>14.0</td>\n",
       "      <td>81.0</td>\n",
       "    </tr>\n",
       "    <tr>\n",
       "      <td>4</td>\n",
       "      <td>1000</td>\n",
       "      <td>2018-09-01</td>\n",
       "      <td>58.0</td>\n",
       "      <td>466.0</td>\n",
       "      <td>15.0</td>\n",
       "      <td>57.0</td>\n",
       "    </tr>\n",
       "    <tr>\n",
       "      <td>...</td>\n",
       "      <td>...</td>\n",
       "      <td>...</td>\n",
       "      <td>...</td>\n",
       "      <td>...</td>\n",
       "      <td>...</td>\n",
       "      <td>...</td>\n",
       "    </tr>\n",
       "    <tr>\n",
       "      <td>3209</td>\n",
       "      <td>1489</td>\n",
       "      <td>2018-08-01</td>\n",
       "      <td>0.0</td>\n",
       "      <td>0.0</td>\n",
       "      <td>11.0</td>\n",
       "      <td>17.0</td>\n",
       "    </tr>\n",
       "    <tr>\n",
       "      <td>3210</td>\n",
       "      <td>1489</td>\n",
       "      <td>2018-09-01</td>\n",
       "      <td>0.0</td>\n",
       "      <td>0.0</td>\n",
       "      <td>17.0</td>\n",
       "      <td>32.0</td>\n",
       "    </tr>\n",
       "    <tr>\n",
       "      <td>3211</td>\n",
       "      <td>1489</td>\n",
       "      <td>2018-10-01</td>\n",
       "      <td>0.0</td>\n",
       "      <td>0.0</td>\n",
       "      <td>20.0</td>\n",
       "      <td>21.0</td>\n",
       "    </tr>\n",
       "    <tr>\n",
       "      <td>3212</td>\n",
       "      <td>1489</td>\n",
       "      <td>2018-11-01</td>\n",
       "      <td>0.0</td>\n",
       "      <td>0.0</td>\n",
       "      <td>18.0</td>\n",
       "      <td>20.0</td>\n",
       "    </tr>\n",
       "    <tr>\n",
       "      <td>3213</td>\n",
       "      <td>1489</td>\n",
       "      <td>2018-12-01</td>\n",
       "      <td>0.0</td>\n",
       "      <td>0.0</td>\n",
       "      <td>17.0</td>\n",
       "      <td>35.0</td>\n",
       "    </tr>\n",
       "  </tbody>\n",
       "</table>\n",
       "<p>3214 rows × 6 columns</p>\n",
       "</div>"
      ],
      "text/plain": [
       "      user_id      month  calls_count  calls_duration  internet_traffic  \\\n",
       "0        1000 2018-05-01         22.0           159.0               3.0   \n",
       "1        1000 2018-06-01         43.0           172.0              23.0   \n",
       "2        1000 2018-07-01         47.0           340.0              14.0   \n",
       "3        1000 2018-08-01         52.0           408.0              14.0   \n",
       "4        1000 2018-09-01         58.0           466.0              15.0   \n",
       "...       ...        ...          ...             ...               ...   \n",
       "3209     1489 2018-08-01          0.0             0.0              11.0   \n",
       "3210     1489 2018-09-01          0.0             0.0              17.0   \n",
       "3211     1489 2018-10-01          0.0             0.0              20.0   \n",
       "3212     1489 2018-11-01          0.0             0.0              18.0   \n",
       "3213     1489 2018-12-01          0.0             0.0              17.0   \n",
       "\n",
       "      masseges  \n",
       "0         22.0  \n",
       "1         60.0  \n",
       "2         75.0  \n",
       "3         81.0  \n",
       "4         57.0  \n",
       "...        ...  \n",
       "3209      17.0  \n",
       "3210      32.0  \n",
       "3211      21.0  \n",
       "3212      20.0  \n",
       "3213      35.0  \n",
       "\n",
       "[3214 rows x 6 columns]"
      ]
     },
     "metadata": {},
     "output_type": "display_data"
    }
   ],
   "source": [
    "#заменим на 0 пропуски в данных:\n",
    "columns_to_update = ['calls_count', 'calls_duration', 'internet_traffic', 'masseges']\n",
    "\n",
    "for i in columns_to_update:\n",
    "    monthly_communications[i] = monthly_communications[i].fillna(0)\n",
    "\n",
    "#в тарифах, округление происходит в большую сторону. Округлим минуты:\n",
    "#monthly_communications['calls_duration'] = monthly_communications['calls_duration'].apply(np.ceil)\n",
    "\n",
    "#переведем Мб в Гб:\n",
    "monthly_communications['internet_traffic'] = monthly_communications['internet_traffic']/1024\n",
    "#округлим Гб:\n",
    "monthly_communications['internet_traffic'] = monthly_communications['internet_traffic'].apply(np.ceil)\n",
    "\n",
    "display(monthly_communications)"
   ]
  },
  {
   "cell_type": "markdown",
   "metadata": {},
   "source": [
    "Проверим, нет ли аномальных выбросов в полученых данных"
   ]
  },
  {
   "cell_type": "code",
   "execution_count": 16,
   "metadata": {},
   "outputs": [
    {
     "data": {
      "image/png": "[encoded data removed]",
      "text/plain": [
       "<Figure size 432x288 with 1 Axes>"
      ]
     },
     "metadata": {
      "needs_background": "light"
     },
     "output_type": "display_data"
    },
    {
     "data": {
      "image/png": "[encoded data removed]",
      "text/plain": [
       "<Figure size 432x288 with 1 Axes>"
      ]
     },
     "metadata": {
      "needs_background": "light"
     },
     "output_type": "display_data"
    },
    {
     "data": {
      "image/png": "[encoded data removed]",
      "text/plain": [
       "<Figure size 432x288 with 1 Axes>"
      ]
     },
     "metadata": {
      "needs_background": "light"
     },
     "output_type": "display_data"
    },
    {
     "data": {
      "image/png": "[encoded data removed]",
      "text/plain": [
       "<Figure size 432x288 with 1 Axes>"
      ]
     },
     "metadata": {
      "needs_background": "light"
     },
     "output_type": "display_data"
    }
   ],
   "source": [
    "#построим гистограммы по каждому полученному типу коммуникации\n",
    "\n",
    "monthly_communications['calls_count'].hist(bins=30).set_xlabel('количество звонков')\n",
    "plt.title(\"Звонки\")\n",
    "plt.show()\n",
    "\n",
    "monthly_communications['calls_duration'].hist(bins=30).set_xlabel('мин')\n",
    "plt.title(\"Продолжительность телефонных разговоров\")\n",
    "plt.show()\n",
    "\n",
    "monthly_communications['internet_traffic'].hist(bins=30).set_xlabel('Гб')\n",
    "plt.title(\"Размер интернет-сессий\")\n",
    "plt.show()\n",
    "\n",
    "monthly_communications['masseges'].hist(bins=30).set_xlabel('Количество сообщений')\n",
    "plt.title(\"Сообщения\")\n",
    "plt.show()"
   ]
  },
  {
   "cell_type": "markdown",
   "metadata": {},
   "source": [
    "Большинство данных распределено нормально. Есть особенность в распределении данных о сообщениях: в\n",
    "них большое число нулей. Это, на самом деле похоже на правду: смс - это самый непопулярный канал связи(в текущий момент). "
   ]
  },
  {
   "cell_type": "markdown",
   "metadata": {},
   "source": [
    "## Подсчет ежемесячной выручки от каждого пользователя <a id='Выручка'></a>"
   ]
  },
  {
   "cell_type": "code",
   "execution_count": 17,
   "metadata": {},
   "outputs": [],
   "source": [
    "#создадим таблицу с данными о количестве коммуникаций и информации о пользователе:\n",
    "users_city_tariff = users[['user_id','city','tariff']]\n",
    "\n",
    "monthly_user_communications = monthly_communications.merge(users_city_tariff, on='user_id')"
   ]
  },
  {
   "cell_type": "code",
   "execution_count": 18,
   "metadata": {},
   "outputs": [
    {
     "data": {
      "text/html": [
       "<div>\n",
       "<style scoped>\n",
       "    .dataframe tbody tr th:only-of-type {\n",
       "        vertical-align: middle;\n",
       "    }\n",
       "\n",
       "    .dataframe tbody tr th {\n",
       "        vertical-align: top;\n",
       "    }\n",
       "\n",
       "    .dataframe thead th {\n",
       "        text-align: right;\n",
       "    }\n",
       "</style>\n",
       "<table border=\"1\" class=\"dataframe\">\n",
       "  <thead>\n",
       "    <tr style=\"text-align: right;\">\n",
       "      <th></th>\n",
       "      <th>user_id</th>\n",
       "      <th>month</th>\n",
       "      <th>calls_count</th>\n",
       "      <th>calls_duration</th>\n",
       "      <th>internet_traffic</th>\n",
       "      <th>masseges</th>\n",
       "      <th>city</th>\n",
       "      <th>tariff</th>\n",
       "      <th>revenue</th>\n",
       "    </tr>\n",
       "  </thead>\n",
       "  <tbody>\n",
       "    <tr>\n",
       "      <td>0</td>\n",
       "      <td>1000</td>\n",
       "      <td>2018-05-01</td>\n",
       "      <td>22.0</td>\n",
       "      <td>159.0</td>\n",
       "      <td>3.0</td>\n",
       "      <td>22.0</td>\n",
       "      <td>Краснодар</td>\n",
       "      <td>ultra</td>\n",
       "      <td>1950.0</td>\n",
       "    </tr>\n",
       "    <tr>\n",
       "      <td>1</td>\n",
       "      <td>1000</td>\n",
       "      <td>2018-06-01</td>\n",
       "      <td>43.0</td>\n",
       "      <td>172.0</td>\n",
       "      <td>23.0</td>\n",
       "      <td>60.0</td>\n",
       "      <td>Краснодар</td>\n",
       "      <td>ultra</td>\n",
       "      <td>1950.0</td>\n",
       "    </tr>\n",
       "    <tr>\n",
       "      <td>2</td>\n",
       "      <td>1000</td>\n",
       "      <td>2018-07-01</td>\n",
       "      <td>47.0</td>\n",
       "      <td>340.0</td>\n",
       "      <td>14.0</td>\n",
       "      <td>75.0</td>\n",
       "      <td>Краснодар</td>\n",
       "      <td>ultra</td>\n",
       "      <td>1950.0</td>\n",
       "    </tr>\n",
       "    <tr>\n",
       "      <td>3</td>\n",
       "      <td>1000</td>\n",
       "      <td>2018-08-01</td>\n",
       "      <td>52.0</td>\n",
       "      <td>408.0</td>\n",
       "      <td>14.0</td>\n",
       "      <td>81.0</td>\n",
       "      <td>Краснодар</td>\n",
       "      <td>ultra</td>\n",
       "      <td>1950.0</td>\n",
       "    </tr>\n",
       "    <tr>\n",
       "      <td>4</td>\n",
       "      <td>1000</td>\n",
       "      <td>2018-09-01</td>\n",
       "      <td>58.0</td>\n",
       "      <td>466.0</td>\n",
       "      <td>15.0</td>\n",
       "      <td>57.0</td>\n",
       "      <td>Краснодар</td>\n",
       "      <td>ultra</td>\n",
       "      <td>1950.0</td>\n",
       "    </tr>\n",
       "    <tr>\n",
       "      <td>5</td>\n",
       "      <td>1000</td>\n",
       "      <td>2018-10-01</td>\n",
       "      <td>57.0</td>\n",
       "      <td>350.0</td>\n",
       "      <td>15.0</td>\n",
       "      <td>73.0</td>\n",
       "      <td>Краснодар</td>\n",
       "      <td>ultra</td>\n",
       "      <td>1950.0</td>\n",
       "    </tr>\n",
       "    <tr>\n",
       "      <td>6</td>\n",
       "      <td>1000</td>\n",
       "      <td>2018-11-01</td>\n",
       "      <td>43.0</td>\n",
       "      <td>338.0</td>\n",
       "      <td>15.0</td>\n",
       "      <td>58.0</td>\n",
       "      <td>Краснодар</td>\n",
       "      <td>ultra</td>\n",
       "      <td>1950.0</td>\n",
       "    </tr>\n",
       "    <tr>\n",
       "      <td>7</td>\n",
       "      <td>1000</td>\n",
       "      <td>2018-12-01</td>\n",
       "      <td>46.0</td>\n",
       "      <td>333.0</td>\n",
       "      <td>10.0</td>\n",
       "      <td>70.0</td>\n",
       "      <td>Краснодар</td>\n",
       "      <td>ultra</td>\n",
       "      <td>1950.0</td>\n",
       "    </tr>\n",
       "    <tr>\n",
       "      <td>8</td>\n",
       "      <td>1001</td>\n",
       "      <td>2018-11-01</td>\n",
       "      <td>59.0</td>\n",
       "      <td>430.0</td>\n",
       "      <td>18.0</td>\n",
       "      <td>0.0</td>\n",
       "      <td>Москва</td>\n",
       "      <td>smart</td>\n",
       "      <td>1150.0</td>\n",
       "    </tr>\n",
       "    <tr>\n",
       "      <td>9</td>\n",
       "      <td>1001</td>\n",
       "      <td>2018-12-01</td>\n",
       "      <td>63.0</td>\n",
       "      <td>414.0</td>\n",
       "      <td>14.0</td>\n",
       "      <td>0.0</td>\n",
       "      <td>Москва</td>\n",
       "      <td>smart</td>\n",
       "      <td>550.0</td>\n",
       "    </tr>\n",
       "  </tbody>\n",
       "</table>\n",
       "</div>"
      ],
      "text/plain": [
       "   user_id      month  calls_count  calls_duration  internet_traffic  \\\n",
       "0     1000 2018-05-01         22.0           159.0               3.0   \n",
       "1     1000 2018-06-01         43.0           172.0              23.0   \n",
       "2     1000 2018-07-01         47.0           340.0              14.0   \n",
       "3     1000 2018-08-01         52.0           408.0              14.0   \n",
       "4     1000 2018-09-01         58.0           466.0              15.0   \n",
       "5     1000 2018-10-01         57.0           350.0              15.0   \n",
       "6     1000 2018-11-01         43.0           338.0              15.0   \n",
       "7     1000 2018-12-01         46.0           333.0              10.0   \n",
       "8     1001 2018-11-01         59.0           430.0              18.0   \n",
       "9     1001 2018-12-01         63.0           414.0              14.0   \n",
       "\n",
       "   masseges       city tariff  revenue  \n",
       "0      22.0  Краснодар  ultra   1950.0  \n",
       "1      60.0  Краснодар  ultra   1950.0  \n",
       "2      75.0  Краснодар  ultra   1950.0  \n",
       "3      81.0  Краснодар  ultra   1950.0  \n",
       "4      57.0  Краснодар  ultra   1950.0  \n",
       "5      73.0  Краснодар  ultra   1950.0  \n",
       "6      58.0  Краснодар  ultra   1950.0  \n",
       "7      70.0  Краснодар  ultra   1950.0  \n",
       "8       0.0     Москва  smart   1150.0  \n",
       "9       0.0     Москва  smart    550.0  "
      ]
     },
     "metadata": {},
     "output_type": "display_data"
    }
   ],
   "source": [
    "#напишем функцию, которая посчитает прибыль по месяцам для каждого пользователя:\n",
    "\n",
    "def revenue(row):\n",
    "    calls_duration = row['calls_duration']\n",
    "    masseges = row['masseges']\n",
    "    internet = row['internet_traffic']\n",
    "    tariff = row['tariff']\n",
    "    \n",
    "    if tariff == 'ultra':\n",
    "        calls_cost = 0\n",
    "        if calls_duration > 3000:\n",
    "            calls_cost = (calls_duration - 3000)*1\n",
    "        masseges_cost = 0\n",
    "        \n",
    "        if masseges > 1000:\n",
    "            masseges_cost = (masseges - 3000)*1\n",
    "        internet_cost = 0\n",
    "        \n",
    "        if internet > 30:\n",
    "            internet_cost = (internet - 30)*150\n",
    "        \n",
    "        revenue = calls_cost + masseges_cost + internet_cost + 1950\n",
    "\n",
    "    \n",
    "    elif tariff == 'smart':\n",
    "        calls_cost = 0\n",
    "        if calls_duration > 500:\n",
    "            calls_cost = (calls_duration - 500)*3\n",
    "        masseges_cost = 0\n",
    "        if masseges > 50:\n",
    "            masseges_cost = (masseges - 50)*3\n",
    "        internet_cost = 0\n",
    "        if internet > 15:\n",
    "            internet_cost = (internet - 15)*200\n",
    "        revenue = calls_cost + masseges_cost + internet_cost + 550 \n",
    "    \n",
    "    return revenue\n",
    "        \n",
    "#применим нашу функцию к таблице:\n",
    "\n",
    "monthly_user_communications['revenue'] = monthly_user_communications.apply(revenue, axis=1)\n",
    "\n",
    "#посмотрим, что у нас вышло:\n",
    "display(monthly_user_communications.head(10))"
   ]
  },
  {
   "cell_type": "markdown",
   "metadata": {},
   "source": [
    "## Анализ поведения пользователей для каждого тарифа <a id='Поведение'></a>\n",
    "\n",
    "Оценим количество пользователей в обоих тарифах:"
   ]
  },
  {
   "cell_type": "code",
   "execution_count": 19,
   "metadata": {},
   "outputs": [
    {
     "name": "stdout",
     "output_type": "stream",
     "text": [
      "Количество пользователей \"ultra\" 985\n",
      "Количество пользователей \"smart\" 2229\n"
     ]
    }
   ],
   "source": [
    "print('Количество пользователей \"ultra\"', monthly_user_communications[monthly_user_communications['tariff'] == 'ultra']['calls_count'].count())\n",
    "print('Количество пользователей \"smart\"', monthly_user_communications[monthly_user_communications['tariff'] == 'smart']['calls_count'].count())"
   ]
  },
  {
   "cell_type": "markdown",
   "metadata": {},
   "source": [
    "У более бюджетного тарифа аудитория в два раза больше. \n",
    "Для того, чтоб достоверно сравнить их, будем опираться на медиану и 95 квантиль(примерно показывает максимальное значение в данных). "
   ]
  },
  {
   "cell_type": "code",
   "execution_count": 20,
   "metadata": {},
   "outputs": [
    {
     "data": {
      "image/png": "[encoded data removed]",
      "text/plain": [
       "<Figure size 432x288 with 1 Axes>"
      ]
     },
     "metadata": {
      "needs_background": "light"
     },
     "output_type": "display_data"
    },
    {
     "name": "stdout",
     "output_type": "stream",
     "text": [
      "\"ultra\"\n",
      "Медиана: 74.0\n",
      "95-ый квантиль: 154\n",
      "Среднее: 73\n",
      "Дисперсия: 1927\n",
      "Стандартное отклонение: 44\n",
      "\n",
      "\"smart\"\n",
      "Медиана: 60.0\n",
      "95-ый квантиль: 99.0\n",
      "Среднее: 58\n",
      "Дисперсия: 673\n",
      "Стандартное отклонение: 26\n"
     ]
    },
    {
     "data": {
      "image/png": "[encoded data removed]",
      "text/plain": [
       "<Figure size 432x288 with 1 Axes>"
      ]
     },
     "metadata": {
      "needs_background": "light"
     },
     "output_type": "display_data"
    },
    {
     "name": "stdout",
     "output_type": "stream",
     "text": [
      "\"smart\"\n",
      "Медиана: 518.0\n",
      "95-ый квантиль: 1088.6\n",
      "Среднее: 58\n",
      "Дисперсия: 673\n",
      "Стандартное отклонение: 26\n",
      "\n",
      "\"ultra\"\n",
      "Медиана: 518.0\n",
      "95-ый квантиль: 1088.6\n",
      "Среднее: 527\n",
      "Дисперсия: 100771\n",
      "Стандартное отклонение: 317\n"
     ]
    }
   ],
   "source": [
    "monthly_user_communications[monthly_user_communications['tariff'] == 'ultra']['calls_count'].hist(bins=30, alpha=0.8, color='r').set_xlabel('количество звонков')\n",
    "monthly_user_communications[monthly_user_communications['tariff'] == 'smart']['calls_count'].hist(bins=30, alpha=0.8, color='g').set_xlabel('количество звонков')\n",
    "plt.show()\n",
    "\n",
    "print('\"ultra\"')\n",
    "print('Медиана:', monthly_user_communications[monthly_user_communications['tariff'] == 'ultra']['calls_count'].median())\n",
    "print('95-ый квантиль:', round(monthly_user_communications[monthly_user_communications['tariff'] == 'ultra']['calls_count'].quantile(0.95)))\n",
    "print('Среднее:', round(monthly_user_communications[monthly_user_communications['tariff'] == 'ultra']['calls_count'].mean()))\n",
    "print('Дисперсия:', round(np.var(monthly_user_communications[monthly_user_communications['tariff'] == 'ultra']['calls_count'])))\n",
    "print('Стандартное отклонение:', round(np.std(monthly_user_communications[monthly_user_communications['tariff'] == 'ultra']['calls_count'])))\n",
    "\n",
    "\n",
    "print()\n",
    "print('\"smart\"')\n",
    "print('Медиана:', monthly_user_communications[monthly_user_communications['tariff'] == 'smart']['calls_count'].median())\n",
    "print('95-ый квантиль:', monthly_user_communications[monthly_user_communications['tariff'] == 'smart']['calls_count'].quantile(0.95))\n",
    "print('Среднее:', round(monthly_user_communications[monthly_user_communications['tariff'] == 'smart']['calls_count'].mean()))\n",
    "print('Дисперсия:', round(np.var(monthly_user_communications[monthly_user_communications['tariff'] == 'smart']['calls_count'])))\n",
    "print('Стандартное отклонение:', round(np.std(monthly_user_communications[monthly_user_communications['tariff'] == 'smart']['calls_count'])))\n",
    "\n",
    "\n",
    "monthly_user_communications[monthly_user_communications['tariff'] == 'ultra']['calls_duration'].hist(bins=30, alpha=0.8, color='r').set_xlabel('продолжительность звонков, мин')\n",
    "monthly_user_communications[monthly_user_communications['tariff'] == 'smart']['calls_duration'].hist(bins=30, alpha=0.8, color='g').set_xlabel('продолжительность звонков, мин')\n",
    "plt.show()\n",
    "\n",
    "\n",
    "print('\"smart\"')\n",
    "print('Медиана:', monthly_user_communications[monthly_user_communications['tariff'] == 'ultra']['calls_duration'].median())\n",
    "print('95-ый квантиль:', monthly_user_communications[monthly_user_communications['tariff'] == 'ultra']['calls_duration'].quantile(0.95))\n",
    "print('Среднее:', round(monthly_user_communications[monthly_user_communications['tariff'] == 'smart']['calls_count'].mean()))\n",
    "print('Дисперсия:', round(np.var(monthly_user_communications[monthly_user_communications['tariff'] == 'smart']['calls_count'])))\n",
    "print('Стандартное отклонение:', round(np.std(monthly_user_communications[monthly_user_communications['tariff'] == 'smart']['calls_count'])))\n",
    "print()\n",
    "print('\"ultra\"')\n",
    "print('Медиана:', monthly_user_communications[monthly_user_communications['tariff'] == 'ultra']['calls_duration'].median())\n",
    "print('95-ый квантиль:', monthly_user_communications[monthly_user_communications['tariff'] == 'ultra']['calls_duration'].quantile(0.95))\n",
    "print('Среднее:', round(monthly_user_communications[monthly_user_communications['tariff'] == 'ultra']['calls_duration'].mean()))\n",
    "print('Дисперсия:', round(np.var(monthly_user_communications[monthly_user_communications['tariff'] == 'ultra']['calls_duration'])))\n",
    "print('Стандартное отклонение:', round(np.std(monthly_user_communications[monthly_user_communications['tariff'] == 'ultra']['calls_duration'])))"
   ]
  },
  {
   "cell_type": "markdown",
   "metadata": {},
   "source": [
    "Удивительно, как отличаются использование телефонных звонков в этих тарифах:\n",
    "- пользователи тарифа \"ultra\" никогда не выговаривают свои 3000 мин. Самые \"болтливые\" из них тратят только половину пакета. А если смотреть на 95 квантиль, то он ограничивается примерно 1000 минутами. \n",
    "- пользователи тарифа \"smart\" активно общаются по телефону и судя по медиане, достаточно хорошо ориентируются на объем пакета: большинство из них попадают в значения вокруг 500 минут. Какое-то количество пользователей выпадают их этих рамок, но судя по 95 квантилю, который ограничен 686 минутами - не на много."
   ]
  },
  {
   "cell_type": "code",
   "execution_count": 21,
   "metadata": {},
   "outputs": [
    {
     "data": {
      "image/png": "[encoded data removed]",
      "text/plain": [
       "<Figure size 432x288 with 1 Axes>"
      ]
     },
     "metadata": {
      "needs_background": "light"
     },
     "output_type": "display_data"
    },
    {
     "name": "stdout",
     "output_type": "stream",
     "text": [
      "\"ultra\"\n",
      "Медиана: 19.0\n",
      "95-ый квантиль: 37.0\n",
      "Среднее: 19\n",
      "Дисперсия: 97\n",
      "Стандартное отклонение: 10\n",
      "\n",
      "\"smart\"\n",
      "медиана: 17.0\n",
      "95-ый квантиль: 25.0\n",
      "Среднее: 16\n",
      "Дисперсия: 33\n",
      "Стандартное отклонение: 6\n"
     ]
    }
   ],
   "source": [
    "monthly_user_communications[monthly_user_communications['tariff'] == 'ultra']['internet_traffic'].hist(bins=30, alpha=0.8, color='r').set_xlabel('Гб')\n",
    "\n",
    "monthly_user_communications[monthly_user_communications['tariff'] == 'smart']['internet_traffic'].hist(bins=30, alpha=0.8, color='g').set_xlabel('Гб')\n",
    "plt.show()\n",
    "\n",
    "print('\"ultra\"')\n",
    "print('Медиана:', monthly_user_communications[monthly_user_communications['tariff'] == 'ultra']['internet_traffic'].median())\n",
    "print('95-ый квантиль:', monthly_user_communications[monthly_user_communications['tariff'] == 'ultra']['internet_traffic'].quantile(0.95))\n",
    "print('Среднее:', round(monthly_user_communications[monthly_user_communications['tariff'] == 'ultra']['internet_traffic'].mean()))\n",
    "print('Дисперсия:', round(np.var(monthly_user_communications[monthly_user_communications['tariff'] == 'ultra']['internet_traffic'])))\n",
    "print('Стандартное отклонение:', round(np.std(monthly_user_communications[monthly_user_communications['tariff'] == 'ultra']['internet_traffic'])))\n",
    "print()\n",
    "print('\"smart\"')\n",
    "print('медиана:', monthly_user_communications[monthly_user_communications['tariff'] == 'smart']['internet_traffic'].median())\n",
    "print('95-ый квантиль:', monthly_user_communications[monthly_user_communications['tariff'] == 'smart']['internet_traffic'].quantile(0.95))\n",
    "print('Среднее:', round(monthly_user_communications[monthly_user_communications['tariff'] == 'smart']['internet_traffic'].mean()))\n",
    "print('Дисперсия:', round(np.var(monthly_user_communications[monthly_user_communications['tariff'] == 'smart']['internet_traffic'])))\n",
    "print('Стандартное отклонение:', round(np.std(monthly_user_communications[monthly_user_communications['tariff'] == 'smart']['internet_traffic'])))\n"
   ]
  },
  {
   "cell_type": "markdown",
   "metadata": {},
   "source": [
    "В использовании интернета так же есть отличия:\n",
    "- несмотря на небольшую разницу в медианном значении по потреблению интернета, среди пользователей тарифа \"ultra\" много пользователей, потребляющих большое количество интернета, что отражается на 95 квантиле- он на 12 Гб больше, чем у тарифа \"smart\"\n",
    "- в тарифе \"smart\" пользователи в большинстве своем выходят за ежемесячный бесплатный пакет и оплачивают дополнительные Гб. Пользователи тарифа \"ultra\" чаще всего укладываются в бесплатные Гб. \n"
   ]
  },
  {
   "cell_type": "code",
   "execution_count": 22,
   "metadata": {},
   "outputs": [
    {
     "data": {
      "image/png": "[encoded data removed]",
      "text/plain": [
       "<Figure size 432x288 with 1 Axes>"
      ]
     },
     "metadata": {
      "needs_background": "light"
     },
     "output_type": "display_data"
    },
    {
     "name": "stdout",
     "output_type": "stream",
     "text": [
      "\"ultra\"\n",
      "Медиана: 38.0\n",
      "95-ый квантиль: 145.0\n",
      "Среднее: 49\n",
      "Дисперсия: 2283\n",
      "Стандартное отклонение: 48\n",
      "\n",
      "\"smart\"\n",
      "Медиана: 28.0\n",
      "95-ый квантиль: 88.0\n",
      "Среднее: 33\n",
      "Дисперсия: 796\n",
      "Стандартное отклонение: 28\n"
     ]
    }
   ],
   "source": [
    "monthly_user_communications[monthly_user_communications['tariff'] == 'ultra']['masseges'].hist(bins=30, alpha=0.8, color='r').set_xlabel('Количество сообщений')\n",
    "\n",
    "monthly_user_communications[monthly_user_communications['tariff'] == 'smart']['masseges'].hist(bins=30, alpha=0.8, color='g').set_xlabel('Количество сообщений')\n",
    "plt.show()\n",
    "\n",
    "print('\"ultra\"')\n",
    "print('Медиана:', monthly_user_communications[monthly_user_communications['tariff'] == 'ultra']['masseges'].median())\n",
    "print('95-ый квантиль:', monthly_user_communications[monthly_user_communications['tariff'] == 'ultra']['masseges'].quantile(0.95))\n",
    "print('Среднее:', round(monthly_user_communications[monthly_user_communications['tariff'] == 'ultra']['masseges'].mean()))\n",
    "print('Дисперсия:', round(np.var(monthly_user_communications[monthly_user_communications['tariff'] == 'ultra']['masseges'])))\n",
    "print('Стандартное отклонение:', round(np.std(monthly_user_communications[monthly_user_communications['tariff'] == 'ultra']['masseges'])))\n",
    "print()\n",
    "print('\"smart\"')\n",
    "print('Медиана:', monthly_user_communications[monthly_user_communications['tariff'] == 'smart']['masseges'].median())\n",
    "print('95-ый квантиль:', monthly_user_communications[monthly_user_communications['tariff'] == 'smart']['masseges'].quantile(0.95))\n",
    "print('Среднее:', round(monthly_user_communications[monthly_user_communications['tariff'] == 'smart']['masseges'].mean()))\n",
    "print('Дисперсия:', round(np.var(monthly_user_communications[monthly_user_communications['tariff'] == 'smart']['masseges'])))\n",
    "print('Стандартное отклонение:', round(np.std(monthly_user_communications[monthly_user_communications['tariff'] == 'smart']['masseges'])))"
   ]
  },
  {
   "cell_type": "markdown",
   "metadata": {},
   "source": [
    "Вот тут у пользователей обоих тарифов есть больше общего:\n",
    "- в обоих тарифах есть значимое число пользователей, которые вообще не пользуются отправкой сообщений\n",
    "- в обоих тарифах пользователи чаще всего укладываются в бесплатный лимит. В \"ultra\" никто не достигает порога в 1000 сообщений, но использует эту коммуникацию активнее, чем в тарифе \"smart\"."
   ]
  },
  {
   "cell_type": "markdown",
   "metadata": {},
   "source": [
    "## Проверка гипотез <a id='Гипотезы'></a>\n",
    "\n",
    "### Гипотеза 1\n",
    "средняя выручка пользователей тарифов «Ультра» и «Смарт» различаются;"
   ]
  },
  {
   "cell_type": "markdown",
   "metadata": {},
   "source": [
    "Сформулируем нулевую и альтернативную гипотезы:\n",
    "\n",
    "- нулевая гипотеза: средняя выручка пользователей тарифов «Ультра» и «Смарт» не различаются\n",
    "- альтернативная гипотеза: средняя выручка пользователей тарифов «Ультра» и «Смарт» отличаются друг от друга"
   ]
  },
  {
   "cell_type": "code",
   "execution_count": 23,
   "metadata": {},
   "outputs": [
    {
     "name": "stdout",
     "output_type": "stream",
     "text": [
      "Границы значений для тарифа \"ultra\":\n",
      "1950.0\n",
      "3000.0\n",
      "Границы значений для тарифа \"smart\":\n",
      "550.0\n",
      "2888.599999999999\n"
     ]
    }
   ],
   "source": [
    "#сформируем выборки для анализа:\n",
    "revenue_ultra = monthly_user_communications[monthly_user_communications['tariff'] == \"ultra\"]\n",
    "revenue_smart = monthly_user_communications[monthly_user_communications['tariff'] == \"smart\"]\n",
    "\n",
    "#для того, чтоб избавиться от выбросов, посмотрим на значения 25 и 75 квантиля:\n",
    "print('Границы значений для тарифа \"ultra\":')\n",
    "print(revenue_ultra['revenue'].quantile(0.25))\n",
    "print(revenue_ultra['revenue'].quantile(0.95))\n",
    "print('Границы значений для тарифа \"smart\":')\n",
    "print(revenue_smart['revenue'].quantile(0.25))\n",
    "print(revenue_smart['revenue'].quantile(0.95))"
   ]
  },
  {
   "cell_type": "code",
   "execution_count": 24,
   "metadata": {},
   "outputs": [],
   "source": [
    "#уберем редкие выбивающиеся значения:\n",
    "revenue_ultra = revenue_ultra[(revenue_ultra['revenue'] <= 3000) & (revenue_ultra['revenue'] >= 1950)]['revenue']\n",
    "revenue_smart = revenue_smart[(revenue_smart['revenue'] <= 2889) & (revenue_smart['revenue'] >= 550)]['revenue']"
   ]
  },
  {
   "cell_type": "code",
   "execution_count": 25,
   "metadata": {},
   "outputs": [
    {
     "name": "stdout",
     "output_type": "stream",
     "text": [
      "p-значение:  1.30820796089857e-271\n",
      "Отвергаем нулевую гипотезу\n"
     ]
    }
   ],
   "source": [
    "#применяем статистический тест\n",
    "alpha = 0.05 \n",
    "\n",
    "results = st.ttest_ind(\n",
    "    revenue_ultra, \n",
    "    revenue_smart)\n",
    "\n",
    "print('p-значение: ', results.pvalue)\n",
    "\n",
    "if results.pvalue < alpha:\n",
    "    print(\"Отвергаем нулевую гипотезу\")\n",
    "else:\n",
    "    print(\"Не получилось отвергнуть нулевую гипотезу\")"
   ]
  },
  {
   "cell_type": "markdown",
   "metadata": {},
   "source": [
    "Исходя из теста делаем вывод, что средний доход в тарифах различается. \n",
    "Давайте посмотрим, в чью пользу."
   ]
  },
  {
   "cell_type": "code",
   "execution_count": 26,
   "metadata": {},
   "outputs": [
    {
     "name": "stdout",
     "output_type": "stream",
     "text": [
      "средняя выручка в тарифе \"ultra\": 2001.27\n",
      "средняя выручка в тарифе \"smart\": 1173.33\n"
     ]
    }
   ],
   "source": [
    "print('средняя выручка в тарифе \"ultra\":',round(revenue_ultra.mean(),2))\n",
    "print('средняя выручка в тарифе \"smart\":',round(revenue_smart.mean(),2))"
   ]
  },
  {
   "cell_type": "markdown",
   "metadata": {},
   "source": [
    "Пользователи тарифа \"ultra\" в среднем приносят больший доход компании, нежели пользователи \"smart\". \n",
    "Похоже, что это обусловлено большим ежемесячным плетежом. Даже несмотря на то, что пользователи \"smart\" не укладываются в лимиты и достаточно много доплачивают за дополнительные пакеты (больше, чем ежемесячный платеж). "
   ]
  },
  {
   "cell_type": "markdown",
   "metadata": {},
   "source": [
    "### Гипотеза 2\n",
    "Cредняя выручка пользователей из Москвы отличается от выручки пользователей из других регионов."
   ]
  },
  {
   "cell_type": "markdown",
   "metadata": {},
   "source": [
    "Сформулируем нулевую и альтернативную гипотезы:\n",
    "\n",
    "нулевая гипотеза: средняя выручка пользователей Москвы и других регионов не различаются\n",
    "альтернативная гипотеза: средняя выручка пользователей Москвы и других регионов отличаются друг от друга"
   ]
  },
  {
   "cell_type": "code",
   "execution_count": 27,
   "metadata": {},
   "outputs": [
    {
     "name": "stdout",
     "output_type": "stream",
     "text": [
      "Границы значений для Москвы:\n",
      "780.5\n",
      "2883.0\n",
      "Границы значений для остальных регионов:\n",
      "750.0\n",
      "2906.6000000000004\n"
     ]
    }
   ],
   "source": [
    "#сформируем выборки для анализа:\n",
    "revenue_moscow = monthly_user_communications[monthly_user_communications['city'] == \"Москва\"]\n",
    "revenue_other = monthly_user_communications[monthly_user_communications['city'] != \"Москва\"]\n",
    "\n",
    "#для того, чтоб избавиться от выбросов, посмотрим на значения 25 и 75 квантиля:\n",
    "print('Границы значений для Москвы:')\n",
    "print(revenue_moscow['revenue'].quantile(0.25))\n",
    "print(revenue_moscow['revenue'].quantile(0.95))\n",
    "print('Границы значений для остальных регионов:')\n",
    "print(revenue_other['revenue'].quantile(0.25))\n",
    "print(revenue_other['revenue'].quantile(0.95))"
   ]
  },
  {
   "cell_type": "code",
   "execution_count": 28,
   "metadata": {},
   "outputs": [],
   "source": [
    "#уберем редкие выбивающиеся значения:\n",
    "revenue_moscow = revenue_moscow[(revenue_moscow['revenue'] <= 2883) & (revenue_moscow['revenue'] >= 780)]['revenue']\n",
    "revenue_other = revenue_other[(revenue_other['revenue'] <= 2907) & (revenue_other['revenue'] >= 750)]['revenue']\n"
   ]
  },
  {
   "cell_type": "code",
   "execution_count": 29,
   "metadata": {},
   "outputs": [
    {
     "name": "stdout",
     "output_type": "stream",
     "text": [
      "p-значение:  0.057342037108214776\n",
      "Не получилось отвергнуть нулевую гипотезу\n"
     ]
    }
   ],
   "source": [
    "#применяем статистический тест\n",
    "alpha = 0.05 \n",
    "\n",
    "results = st.ttest_ind(\n",
    "    revenue_moscow, \n",
    "    revenue_other)\n",
    "\n",
    "print('p-значение: ', results.pvalue)\n",
    "\n",
    "if results.pvalue < alpha:\n",
    "    print(\"Отвергаем нулевую гипотезу\")\n",
    "else:\n",
    "    print(\"Не получилось отвергнуть нулевую гипотезу\")"
   ]
  },
  {
   "cell_type": "markdown",
   "metadata": {},
   "source": [
    "Исходя из теста делаем вывод, что средняя выручка в Москве значимо не отличается от выручки в регионах.\n",
    "Давайте посмотрим на само среднее:"
   ]
  },
  {
   "cell_type": "code",
   "execution_count": 30,
   "metadata": {},
   "outputs": [
    {
     "name": "stdout",
     "output_type": "stream",
     "text": [
      "средняя выручка в Москве: 1761.87\n",
      "средняя выручка в других регионах: 1711.15\n"
     ]
    }
   ],
   "source": [
    "print('средняя выручка в Москве:',round(revenue_moscow.mean(),2))\n",
    "print('средняя выручка в других регионах:',round(revenue_other.mean(),2))"
   ]
  },
  {
   "cell_type": "markdown",
   "metadata": {},
   "source": [
    "Получили разницу в 50 рублей - вряд ли это могло бы стать статистически значимым. "
   ]
  },
  {
   "cell_type": "markdown",
   "metadata": {},
   "source": [
    "# Выводы <a id='Выводы'></a>\n",
    "\n",
    "- поведение пользователей двух предоставленных тарифов отличается. Зная об особенностях повдения, можно улучшать тарифы. Например, пользователи тарифа \"ultra\" редко выговаривают пакет минут для телефонных разговоров, а обозначеный тарифом лимит смс не используется ни в одном из тарифов. Зная это, можно предложить компании \"Мегалайн\" устанавливать безлимитные звонки и смс для данного или для нового тарифа на основе \"ultra\" - это может быть хорошим маркетинговым преимуществом, без дополнитлеьных затрат. \n",
    "- более дорогой тариф \"ultra\" приносит большую выручку компании. Однако, в данный момент пользователей данного тарифа в два раза меньше, чем \"smart\". Если есть задача выбрать для промотирования один из данных тарифов, то выбор стоит сделать в пользу \"ultra\". \n",
    "- пользователи Москвы и других регионов значимо не отличаются в плане выручки. Поэтому особо продвигать тариф в рамках столицы не имеет смысла. "
   ]
  }
 ],
 "metadata": {
  "ExecuteTimeLog": [
   {
    "duration": 931,
    "start_time": "2022-02-22T19:36:12.366Z"
   },
   {
    "duration": 357,
    "start_time": "2022-02-22T19:36:35.036Z"
   },
   {
    "duration": 350,
    "start_time": "2022-02-22T19:37:20.758Z"
   },
   {
    "duration": 365,
    "start_time": "2022-02-22T19:38:02.914Z"
   },
   {
    "duration": 21,
    "start_time": "2022-02-22T19:44:08.654Z"
   },
   {
    "duration": 349,
    "start_time": "2022-02-22T19:44:12.084Z"
   },
   {
    "duration": 8,
    "start_time": "2022-02-22T19:44:58.409Z"
   },
   {
    "duration": 7,
    "start_time": "2022-02-22T19:45:47.086Z"
   },
   {
    "duration": 7,
    "start_time": "2022-02-22T19:46:47.115Z"
   },
   {
    "duration": 7,
    "start_time": "2022-02-22T19:46:56.515Z"
   },
   {
    "duration": 9,
    "start_time": "2022-02-22T19:48:32.664Z"
   },
   {
    "duration": 7,
    "start_time": "2022-02-22T19:52:12.498Z"
   },
   {
    "duration": 345,
    "start_time": "2022-02-22T19:52:15.038Z"
   },
   {
    "duration": 350,
    "start_time": "2022-02-22T19:56:22.566Z"
   },
   {
    "duration": 340,
    "start_time": "2022-02-22T19:58:57.195Z"
   },
   {
    "duration": 12,
    "start_time": "2022-02-22T19:59:07.728Z"
   },
   {
    "duration": 331,
    "start_time": "2022-02-22T20:08:39.216Z"
   },
   {
    "duration": 904,
    "start_time": "2022-02-22T20:11:44.155Z"
   },
   {
    "duration": 14,
    "start_time": "2022-02-22T20:11:45.061Z"
   },
   {
    "duration": 14,
    "start_time": "2022-02-22T20:11:45.077Z"
   },
   {
    "duration": 6,
    "start_time": "2022-02-22T20:11:45.092Z"
   },
   {
    "duration": 8,
    "start_time": "2022-02-22T20:11:45.099Z"
   },
   {
    "duration": 9,
    "start_time": "2022-02-22T20:11:45.108Z"
   },
   {
    "duration": 325,
    "start_time": "2022-02-22T20:11:45.118Z"
   },
   {
    "duration": 322,
    "start_time": "2022-02-22T20:12:07.314Z"
   },
   {
    "duration": 344,
    "start_time": "2022-02-22T20:12:18.769Z"
   },
   {
    "duration": 103,
    "start_time": "2022-02-22T20:15:12.019Z"
   },
   {
    "duration": 330,
    "start_time": "2022-02-22T20:15:22.143Z"
   },
   {
    "duration": 341,
    "start_time": "2022-02-22T20:16:16.487Z"
   },
   {
    "duration": 340,
    "start_time": "2022-02-22T20:16:41.639Z"
   },
   {
    "duration": 25,
    "start_time": "2022-02-22T20:17:04.147Z"
   },
   {
    "duration": 374,
    "start_time": "2022-02-22T20:17:28.299Z"
   },
   {
    "duration": 365,
    "start_time": "2022-02-22T20:17:47.024Z"
   },
   {
    "duration": 39,
    "start_time": "2022-02-22T20:17:47.391Z"
   },
   {
    "duration": 26,
    "start_time": "2022-02-22T20:17:47.432Z"
   },
   {
    "duration": 8,
    "start_time": "2022-02-22T20:17:47.460Z"
   },
   {
    "duration": 12,
    "start_time": "2022-02-22T20:17:47.470Z"
   },
   {
    "duration": 13,
    "start_time": "2022-02-22T20:17:47.483Z"
   },
   {
    "duration": 416,
    "start_time": "2022-02-22T20:17:47.497Z"
   },
   {
    "duration": 935,
    "start_time": "2022-02-22T20:20:07.797Z"
   },
   {
    "duration": 878,
    "start_time": "2022-02-22T20:20:25.308Z"
   },
   {
    "duration": 35,
    "start_time": "2022-02-22T20:20:49.447Z"
   },
   {
    "duration": 303,
    "start_time": "2022-02-22T20:21:37.432Z"
   },
   {
    "duration": 7,
    "start_time": "2022-02-22T20:22:14.221Z"
   },
   {
    "duration": 16,
    "start_time": "2022-02-22T20:22:37.074Z"
   },
   {
    "duration": 33,
    "start_time": "2022-02-22T20:23:51.048Z"
   },
   {
    "duration": 14,
    "start_time": "2022-02-22T20:24:03.287Z"
   },
   {
    "duration": 18,
    "start_time": "2022-02-22T20:24:05.965Z"
   },
   {
    "duration": 7,
    "start_time": "2022-02-22T20:24:17.196Z"
   },
   {
    "duration": 333,
    "start_time": "2022-02-22T20:25:53.054Z"
   },
   {
    "duration": 369,
    "start_time": "2022-02-22T20:25:59.646Z"
   },
   {
    "duration": 10,
    "start_time": "2022-02-22T20:26:00.017Z"
   },
   {
    "duration": 90,
    "start_time": "2022-02-22T20:26:00.030Z"
   },
   {
    "duration": 24,
    "start_time": "2022-02-22T20:26:00.122Z"
   },
   {
    "duration": 8426,
    "start_time": "2022-02-22T20:26:00.147Z"
   },
   {
    "duration": 128,
    "start_time": "2022-02-22T20:26:08.447Z"
   },
   {
    "duration": 124,
    "start_time": "2022-02-22T20:26:08.452Z"
   },
   {
    "duration": 123,
    "start_time": "2022-02-22T20:26:08.454Z"
   },
   {
    "duration": 122,
    "start_time": "2022-02-22T20:26:08.456Z"
   },
   {
    "duration": 310,
    "start_time": "2022-02-22T20:27:11.521Z"
   },
   {
    "duration": 1909,
    "start_time": "2022-02-22T20:27:17.103Z"
   },
   {
    "duration": 7,
    "start_time": "2022-02-22T20:27:19.014Z"
   },
   {
    "duration": 59,
    "start_time": "2022-02-22T20:27:19.022Z"
   },
   {
    "duration": 19,
    "start_time": "2022-02-22T20:27:19.083Z"
   },
   {
    "duration": 60,
    "start_time": "2022-02-22T20:27:19.104Z"
   },
   {
    "duration": 6,
    "start_time": "2022-02-22T20:27:19.165Z"
   },
   {
    "duration": 11,
    "start_time": "2022-02-22T20:27:19.173Z"
   },
   {
    "duration": 12,
    "start_time": "2022-02-22T20:27:19.186Z"
   },
   {
    "duration": 371,
    "start_time": "2022-02-22T20:27:19.200Z"
   },
   {
    "duration": 322,
    "start_time": "2022-02-22T20:27:39.764Z"
   },
   {
    "duration": 351,
    "start_time": "2022-02-22T20:27:45.149Z"
   },
   {
    "duration": 7,
    "start_time": "2022-02-22T20:27:45.502Z"
   },
   {
    "duration": 51,
    "start_time": "2022-02-22T20:27:45.511Z"
   },
   {
    "duration": 21,
    "start_time": "2022-02-22T20:27:45.564Z"
   },
   {
    "duration": 44,
    "start_time": "2022-02-22T20:27:45.586Z"
   },
   {
    "duration": 7,
    "start_time": "2022-02-22T20:27:45.645Z"
   },
   {
    "duration": 8,
    "start_time": "2022-02-22T20:27:45.654Z"
   },
   {
    "duration": 10,
    "start_time": "2022-02-22T20:27:45.663Z"
   },
   {
    "duration": 336,
    "start_time": "2022-02-22T20:27:45.675Z"
   },
   {
    "duration": 10,
    "start_time": "2022-02-22T20:28:14.607Z"
   },
   {
    "duration": 18,
    "start_time": "2022-02-22T20:28:56.800Z"
   },
   {
    "duration": 40,
    "start_time": "2022-02-22T20:30:00.594Z"
   },
   {
    "duration": 7,
    "start_time": "2022-02-22T20:30:12.624Z"
   },
   {
    "duration": 10,
    "start_time": "2022-02-22T20:30:25.689Z"
   },
   {
    "duration": 7,
    "start_time": "2022-02-22T20:30:44.676Z"
   },
   {
    "duration": 11,
    "start_time": "2022-02-22T20:30:56.813Z"
   },
   {
    "duration": 346,
    "start_time": "2022-02-22T20:32:03.362Z"
   },
   {
    "duration": 8,
    "start_time": "2022-02-22T20:32:16.063Z"
   },
   {
    "duration": 10,
    "start_time": "2022-02-22T20:32:26.829Z"
   },
   {
    "duration": 13,
    "start_time": "2022-02-22T20:35:19.829Z"
   },
   {
    "duration": 12,
    "start_time": "2022-02-22T20:35:33.607Z"
   },
   {
    "duration": 14,
    "start_time": "2022-02-22T20:37:14.248Z"
   },
   {
    "duration": 449,
    "start_time": "2022-02-22T20:37:25.074Z"
   },
   {
    "duration": 357,
    "start_time": "2022-02-22T20:37:41.092Z"
   },
   {
    "duration": 6,
    "start_time": "2022-02-22T20:37:41.451Z"
   },
   {
    "duration": 52,
    "start_time": "2022-02-22T20:37:41.459Z"
   },
   {
    "duration": 7,
    "start_time": "2022-02-22T20:37:41.513Z"
   },
   {
    "duration": 61,
    "start_time": "2022-02-22T20:37:41.521Z"
   },
   {
    "duration": 6,
    "start_time": "2022-02-22T20:37:41.583Z"
   },
   {
    "duration": 35,
    "start_time": "2022-02-22T20:37:41.591Z"
   },
   {
    "duration": 20,
    "start_time": "2022-02-22T20:37:41.629Z"
   },
   {
    "duration": 9,
    "start_time": "2022-02-22T20:37:41.651Z"
   },
   {
    "duration": 8,
    "start_time": "2022-02-22T20:37:41.661Z"
   },
   {
    "duration": 16,
    "start_time": "2022-02-22T20:37:41.670Z"
   },
   {
    "duration": 433,
    "start_time": "2022-02-22T20:37:41.688Z"
   },
   {
    "duration": 966,
    "start_time": "2022-02-22T20:38:02.120Z"
   },
   {
    "duration": 14,
    "start_time": "2022-02-22T20:38:03.088Z"
   },
   {
    "duration": 57,
    "start_time": "2022-02-22T20:38:03.104Z"
   },
   {
    "duration": 6,
    "start_time": "2022-02-22T20:38:03.163Z"
   },
   {
    "duration": 48,
    "start_time": "2022-02-22T20:38:03.171Z"
   },
   {
    "duration": 6,
    "start_time": "2022-02-22T20:38:03.221Z"
   },
   {
    "duration": 52,
    "start_time": "2022-02-22T20:38:03.229Z"
   },
   {
    "duration": 6,
    "start_time": "2022-02-22T20:38:03.284Z"
   },
   {
    "duration": 10,
    "start_time": "2022-02-22T20:38:03.291Z"
   },
   {
    "duration": 11,
    "start_time": "2022-02-22T20:38:03.302Z"
   },
   {
    "duration": 35,
    "start_time": "2022-02-22T20:38:03.314Z"
   },
   {
    "duration": 435,
    "start_time": "2022-02-22T20:38:03.351Z"
   },
   {
    "duration": 10,
    "start_time": "2022-02-22T20:39:16.008Z"
   },
   {
    "duration": 423,
    "start_time": "2022-02-22T20:42:33.110Z"
   },
   {
    "duration": 107,
    "start_time": "2022-02-22T20:43:01.548Z"
   },
   {
    "duration": 345,
    "start_time": "2022-02-22T20:43:09.007Z"
   },
   {
    "duration": 322,
    "start_time": "2022-02-22T20:43:30.839Z"
   },
   {
    "duration": 352,
    "start_time": "2022-02-22T20:43:42.167Z"
   },
   {
    "duration": 344,
    "start_time": "2022-02-22T20:44:03.686Z"
   },
   {
    "duration": 460,
    "start_time": "2022-02-22T20:45:40.190Z"
   },
   {
    "duration": 434,
    "start_time": "2022-02-22T20:49:39.253Z"
   },
   {
    "duration": 356,
    "start_time": "2022-02-22T20:50:41.834Z"
   },
   {
    "duration": 1070,
    "start_time": "2022-02-22T20:51:00.873Z"
   },
   {
    "duration": 13,
    "start_time": "2022-02-22T20:51:01.945Z"
   },
   {
    "duration": 58,
    "start_time": "2022-02-22T20:51:01.960Z"
   },
   {
    "duration": 7,
    "start_time": "2022-02-22T20:51:02.020Z"
   },
   {
    "duration": 61,
    "start_time": "2022-02-22T20:51:02.028Z"
   },
   {
    "duration": 5,
    "start_time": "2022-02-22T20:51:02.091Z"
   },
   {
    "duration": 37,
    "start_time": "2022-02-22T20:51:02.097Z"
   },
   {
    "duration": 7,
    "start_time": "2022-02-22T20:51:02.146Z"
   },
   {
    "duration": 12,
    "start_time": "2022-02-22T20:51:02.155Z"
   },
   {
    "duration": 10,
    "start_time": "2022-02-22T20:51:02.168Z"
   },
   {
    "duration": 18,
    "start_time": "2022-02-22T20:51:02.179Z"
   },
   {
    "duration": 430,
    "start_time": "2022-02-22T20:51:02.199Z"
   },
   {
    "duration": 2,
    "start_time": "2022-02-22T20:51:25.881Z"
   },
   {
    "duration": 15,
    "start_time": "2022-02-22T20:51:37.394Z"
   },
   {
    "duration": 286,
    "start_time": "2022-02-23T09:55:09.631Z"
   },
   {
    "duration": 1229,
    "start_time": "2022-02-23T09:55:21.958Z"
   },
   {
    "duration": 17,
    "start_time": "2022-02-23T09:55:23.190Z"
   },
   {
    "duration": 86,
    "start_time": "2022-02-23T09:55:23.209Z"
   },
   {
    "duration": 10,
    "start_time": "2022-02-23T09:55:23.297Z"
   },
   {
    "duration": 72,
    "start_time": "2022-02-23T09:55:23.309Z"
   },
   {
    "duration": 8,
    "start_time": "2022-02-23T09:55:23.383Z"
   },
   {
    "duration": 60,
    "start_time": "2022-02-23T09:55:23.393Z"
   },
   {
    "duration": 10,
    "start_time": "2022-02-23T09:55:23.456Z"
   },
   {
    "duration": 29,
    "start_time": "2022-02-23T09:55:23.469Z"
   },
   {
    "duration": 20,
    "start_time": "2022-02-23T09:55:23.500Z"
   },
   {
    "duration": 50,
    "start_time": "2022-02-23T09:55:23.523Z"
   },
   {
    "duration": 64,
    "start_time": "2022-02-23T09:55:23.575Z"
   },
   {
    "duration": 6655,
    "start_time": "2022-02-23T09:57:09.864Z"
   },
   {
    "duration": 6298,
    "start_time": "2022-02-23T09:57:25.031Z"
   },
   {
    "duration": 1113,
    "start_time": "2022-02-23T09:58:00.989Z"
   },
   {
    "duration": 19,
    "start_time": "2022-02-23T09:58:02.104Z"
   },
   {
    "duration": 71,
    "start_time": "2022-02-23T09:58:02.126Z"
   },
   {
    "duration": 17,
    "start_time": "2022-02-23T09:58:02.199Z"
   },
   {
    "duration": 59,
    "start_time": "2022-02-23T09:58:02.219Z"
   },
   {
    "duration": 29,
    "start_time": "2022-02-23T09:58:02.280Z"
   },
   {
    "duration": 49,
    "start_time": "2022-02-23T09:58:02.311Z"
   },
   {
    "duration": 9,
    "start_time": "2022-02-23T09:58:02.363Z"
   },
   {
    "duration": 34,
    "start_time": "2022-02-23T09:58:02.374Z"
   },
   {
    "duration": 12,
    "start_time": "2022-02-23T09:58:02.410Z"
   },
   {
    "duration": 34,
    "start_time": "2022-02-23T09:58:02.424Z"
   },
   {
    "duration": 6467,
    "start_time": "2022-02-23T09:58:02.460Z"
   },
   {
    "duration": 61,
    "start_time": "2022-02-23T09:58:46.061Z"
   },
   {
    "duration": 74,
    "start_time": "2022-02-23T09:59:26.056Z"
   },
   {
    "duration": 312,
    "start_time": "2022-02-23T10:00:35.516Z"
   },
   {
    "duration": 291,
    "start_time": "2022-02-23T10:00:56.636Z"
   },
   {
    "duration": 309,
    "start_time": "2022-02-23T10:01:13.191Z"
   },
   {
    "duration": 306,
    "start_time": "2022-02-23T10:01:26.299Z"
   },
   {
    "duration": 76,
    "start_time": "2022-02-23T10:01:37.749Z"
   },
   {
    "duration": 67,
    "start_time": "2022-02-23T10:02:18.985Z"
   },
   {
    "duration": 1212,
    "start_time": "2022-02-23T10:02:34.001Z"
   },
   {
    "duration": 18,
    "start_time": "2022-02-23T10:02:35.216Z"
   },
   {
    "duration": 89,
    "start_time": "2022-02-23T10:02:35.237Z"
   },
   {
    "duration": 11,
    "start_time": "2022-02-23T10:02:35.328Z"
   },
   {
    "duration": 84,
    "start_time": "2022-02-23T10:02:35.342Z"
   },
   {
    "duration": 10,
    "start_time": "2022-02-23T10:02:35.428Z"
   },
   {
    "duration": 53,
    "start_time": "2022-02-23T10:02:35.440Z"
   },
   {
    "duration": 9,
    "start_time": "2022-02-23T10:02:35.508Z"
   },
   {
    "duration": 19,
    "start_time": "2022-02-23T10:02:35.520Z"
   },
   {
    "duration": 14,
    "start_time": "2022-02-23T10:02:35.542Z"
   },
   {
    "duration": 28,
    "start_time": "2022-02-23T10:02:35.558Z"
   },
   {
    "duration": 79,
    "start_time": "2022-02-23T10:02:35.609Z"
   },
   {
    "duration": 73,
    "start_time": "2022-02-23T10:02:46.961Z"
   },
   {
    "duration": 69,
    "start_time": "2022-02-23T10:03:18.913Z"
   },
   {
    "duration": 67,
    "start_time": "2022-02-23T10:04:02.129Z"
   },
   {
    "duration": 320,
    "start_time": "2022-02-23T10:04:39.645Z"
   },
   {
    "duration": 1077,
    "start_time": "2022-02-23T10:04:50.084Z"
   },
   {
    "duration": 18,
    "start_time": "2022-02-23T10:04:51.163Z"
   },
   {
    "duration": 74,
    "start_time": "2022-02-23T10:04:51.184Z"
   },
   {
    "duration": 10,
    "start_time": "2022-02-23T10:04:51.261Z"
   },
   {
    "duration": 74,
    "start_time": "2022-02-23T10:04:51.273Z"
   },
   {
    "duration": 8,
    "start_time": "2022-02-23T10:04:51.350Z"
   },
   {
    "duration": 54,
    "start_time": "2022-02-23T10:04:51.360Z"
   },
   {
    "duration": 8,
    "start_time": "2022-02-23T10:04:51.417Z"
   },
   {
    "duration": 19,
    "start_time": "2022-02-23T10:04:51.427Z"
   },
   {
    "duration": 13,
    "start_time": "2022-02-23T10:04:51.448Z"
   },
   {
    "duration": 45,
    "start_time": "2022-02-23T10:04:51.463Z"
   },
   {
    "duration": 74,
    "start_time": "2022-02-23T10:04:51.511Z"
   },
   {
    "duration": 79,
    "start_time": "2022-02-23T10:09:49.005Z"
   },
   {
    "duration": 93,
    "start_time": "2022-02-23T10:09:55.288Z"
   },
   {
    "duration": 1179,
    "start_time": "2022-02-23T10:10:03.123Z"
   },
   {
    "duration": 24,
    "start_time": "2022-02-23T10:10:04.305Z"
   },
   {
    "duration": 85,
    "start_time": "2022-02-23T10:10:04.331Z"
   },
   {
    "duration": 10,
    "start_time": "2022-02-23T10:10:04.418Z"
   },
   {
    "duration": 77,
    "start_time": "2022-02-23T10:10:04.431Z"
   },
   {
    "duration": 9,
    "start_time": "2022-02-23T10:10:04.510Z"
   },
   {
    "duration": 55,
    "start_time": "2022-02-23T10:10:04.521Z"
   },
   {
    "duration": 10,
    "start_time": "2022-02-23T10:10:04.579Z"
   },
   {
    "duration": 26,
    "start_time": "2022-02-23T10:10:04.591Z"
   },
   {
    "duration": 18,
    "start_time": "2022-02-23T10:10:04.619Z"
   },
   {
    "duration": 30,
    "start_time": "2022-02-23T10:10:04.640Z"
   },
   {
    "duration": 108,
    "start_time": "2022-02-23T10:10:04.672Z"
   },
   {
    "duration": 149,
    "start_time": "2022-02-23T10:10:12.735Z"
   },
   {
    "duration": 1182,
    "start_time": "2022-02-23T10:10:19.046Z"
   },
   {
    "duration": 19,
    "start_time": "2022-02-23T10:10:20.230Z"
   },
   {
    "duration": 71,
    "start_time": "2022-02-23T10:10:20.252Z"
   },
   {
    "duration": 10,
    "start_time": "2022-02-23T10:10:20.325Z"
   },
   {
    "duration": 77,
    "start_time": "2022-02-23T10:10:20.338Z"
   },
   {
    "duration": 22,
    "start_time": "2022-02-23T10:10:20.418Z"
   },
   {
    "duration": 54,
    "start_time": "2022-02-23T10:10:20.443Z"
   },
   {
    "duration": 12,
    "start_time": "2022-02-23T10:10:20.500Z"
   },
   {
    "duration": 39,
    "start_time": "2022-02-23T10:10:20.514Z"
   },
   {
    "duration": 17,
    "start_time": "2022-02-23T10:10:20.555Z"
   },
   {
    "duration": 21,
    "start_time": "2022-02-23T10:10:20.574Z"
   },
   {
    "duration": 79,
    "start_time": "2022-02-23T10:10:20.597Z"
   },
   {
    "duration": 1065,
    "start_time": "2022-02-23T10:10:33.222Z"
   },
   {
    "duration": 23,
    "start_time": "2022-02-23T10:10:34.291Z"
   },
   {
    "duration": 94,
    "start_time": "2022-02-23T10:10:34.318Z"
   },
   {
    "duration": 11,
    "start_time": "2022-02-23T10:10:34.415Z"
   },
   {
    "duration": 82,
    "start_time": "2022-02-23T10:10:34.428Z"
   },
   {
    "duration": 10,
    "start_time": "2022-02-23T10:10:34.513Z"
   },
   {
    "duration": 56,
    "start_time": "2022-02-23T10:10:34.526Z"
   },
   {
    "duration": 23,
    "start_time": "2022-02-23T10:10:34.585Z"
   },
   {
    "duration": 12,
    "start_time": "2022-02-23T10:10:34.610Z"
   },
   {
    "duration": 19,
    "start_time": "2022-02-23T10:10:34.624Z"
   },
   {
    "duration": 30,
    "start_time": "2022-02-23T10:10:34.645Z"
   },
   {
    "duration": 113,
    "start_time": "2022-02-23T10:10:34.677Z"
   },
   {
    "duration": 77,
    "start_time": "2022-02-23T10:11:05.505Z"
   },
   {
    "duration": 84,
    "start_time": "2022-02-23T10:11:15.962Z"
   },
   {
    "duration": 370,
    "start_time": "2022-02-23T10:11:42.944Z"
   },
   {
    "duration": 67,
    "start_time": "2022-02-23T10:14:03.080Z"
   },
   {
    "duration": 91,
    "start_time": "2022-02-23T10:43:12.547Z"
   },
   {
    "duration": 94,
    "start_time": "2022-02-23T10:43:26.798Z"
   },
   {
    "duration": 3142,
    "start_time": "2022-02-23T10:44:27.132Z"
   },
   {
    "duration": 940,
    "start_time": "2022-02-23T20:15:59.146Z"
   },
   {
    "duration": 16,
    "start_time": "2022-02-23T20:16:00.088Z"
   },
   {
    "duration": 62,
    "start_time": "2022-02-23T20:16:00.106Z"
   },
   {
    "duration": 8,
    "start_time": "2022-02-23T20:16:00.170Z"
   },
   {
    "duration": 67,
    "start_time": "2022-02-23T20:16:00.179Z"
   },
   {
    "duration": 7,
    "start_time": "2022-02-23T20:16:00.248Z"
   },
   {
    "duration": 37,
    "start_time": "2022-02-23T20:16:00.257Z"
   },
   {
    "duration": 7,
    "start_time": "2022-02-23T20:16:00.297Z"
   },
   {
    "duration": 30,
    "start_time": "2022-02-23T20:16:00.305Z"
   },
   {
    "duration": 23,
    "start_time": "2022-02-23T20:16:00.337Z"
   },
   {
    "duration": 23,
    "start_time": "2022-02-23T20:16:00.362Z"
   },
   {
    "duration": 2279,
    "start_time": "2022-02-23T20:16:00.387Z"
   },
   {
    "duration": 2614,
    "start_time": "2022-02-23T20:16:35.278Z"
   },
   {
    "duration": 920,
    "start_time": "2022-02-23T20:16:49.929Z"
   },
   {
    "duration": 14,
    "start_time": "2022-02-23T20:16:50.851Z"
   },
   {
    "duration": 60,
    "start_time": "2022-02-23T20:16:50.870Z"
   },
   {
    "duration": 8,
    "start_time": "2022-02-23T20:16:50.932Z"
   },
   {
    "duration": 52,
    "start_time": "2022-02-23T20:16:50.941Z"
   },
   {
    "duration": 7,
    "start_time": "2022-02-23T20:16:50.995Z"
   },
   {
    "duration": 58,
    "start_time": "2022-02-23T20:16:51.004Z"
   },
   {
    "duration": 8,
    "start_time": "2022-02-23T20:16:51.064Z"
   },
   {
    "duration": 12,
    "start_time": "2022-02-23T20:16:51.073Z"
   },
   {
    "duration": 17,
    "start_time": "2022-02-23T20:16:51.086Z"
   },
   {
    "duration": 32,
    "start_time": "2022-02-23T20:16:51.104Z"
   },
   {
    "duration": 56,
    "start_time": "2022-02-23T20:16:51.137Z"
   },
   {
    "duration": 1350,
    "start_time": "2022-02-24T09:32:18.092Z"
   },
   {
    "duration": 26,
    "start_time": "2022-02-24T09:32:19.444Z"
   },
   {
    "duration": 102,
    "start_time": "2022-02-24T09:32:19.473Z"
   },
   {
    "duration": 12,
    "start_time": "2022-02-24T09:32:19.578Z"
   },
   {
    "duration": 96,
    "start_time": "2022-02-24T09:32:19.592Z"
   },
   {
    "duration": 35,
    "start_time": "2022-02-24T09:32:19.691Z"
   },
   {
    "duration": 53,
    "start_time": "2022-02-24T09:32:19.729Z"
   },
   {
    "duration": 12,
    "start_time": "2022-02-24T09:32:19.786Z"
   },
   {
    "duration": 15,
    "start_time": "2022-02-24T09:32:19.826Z"
   },
   {
    "duration": 19,
    "start_time": "2022-02-24T09:32:19.843Z"
   },
   {
    "duration": 30,
    "start_time": "2022-02-24T09:32:19.864Z"
   },
   {
    "duration": -137,
    "start_time": "2022-02-24T10:02:44.094Z"
   },
   {
    "duration": 80,
    "start_time": "2022-02-24T10:02:50.731Z"
   },
   {
    "duration": 386,
    "start_time": "2022-02-24T10:02:59.543Z"
   },
   {
    "duration": 78,
    "start_time": "2022-02-24T10:03:17.033Z"
   },
   {
    "duration": 78,
    "start_time": "2022-02-24T10:03:43.590Z"
   },
   {
    "duration": 101,
    "start_time": "2022-02-24T10:03:45.927Z"
   },
   {
    "duration": 296,
    "start_time": "2022-02-24T10:03:58.588Z"
   },
   {
    "duration": 272,
    "start_time": "2022-02-24T10:04:19.352Z"
   },
   {
    "duration": 317,
    "start_time": "2022-02-24T10:04:25.996Z"
   },
   {
    "duration": 288,
    "start_time": "2022-02-24T10:04:31.899Z"
   },
   {
    "duration": 1338,
    "start_time": "2022-02-24T10:04:43.933Z"
   },
   {
    "duration": 22,
    "start_time": "2022-02-24T10:04:45.273Z"
   },
   {
    "duration": 88,
    "start_time": "2022-02-24T10:04:45.299Z"
   },
   {
    "duration": 12,
    "start_time": "2022-02-24T10:04:45.390Z"
   },
   {
    "duration": 92,
    "start_time": "2022-02-24T10:04:45.404Z"
   },
   {
    "duration": 27,
    "start_time": "2022-02-24T10:04:45.499Z"
   },
   {
    "duration": 56,
    "start_time": "2022-02-24T10:04:45.528Z"
   },
   {
    "duration": 11,
    "start_time": "2022-02-24T10:04:45.588Z"
   },
   {
    "duration": 16,
    "start_time": "2022-02-24T10:04:45.626Z"
   },
   {
    "duration": 17,
    "start_time": "2022-02-24T10:04:45.644Z"
   },
   {
    "duration": 76,
    "start_time": "2022-02-24T10:04:45.664Z"
   },
   {
    "duration": 129,
    "start_time": "2022-02-24T10:04:45.743Z"
   },
   {
    "duration": 416,
    "start_time": "2022-02-24T10:05:15.802Z"
   },
   {
    "duration": 1424,
    "start_time": "2022-02-24T10:05:30.978Z"
   },
   {
    "duration": 24,
    "start_time": "2022-02-24T10:05:32.405Z"
   },
   {
    "duration": 109,
    "start_time": "2022-02-24T10:05:32.432Z"
   },
   {
    "duration": 14,
    "start_time": "2022-02-24T10:05:32.545Z"
   },
   {
    "duration": 103,
    "start_time": "2022-02-24T10:05:32.563Z"
   },
   {
    "duration": 12,
    "start_time": "2022-02-24T10:05:32.669Z"
   },
   {
    "duration": 84,
    "start_time": "2022-02-24T10:05:32.684Z"
   },
   {
    "duration": 11,
    "start_time": "2022-02-24T10:05:32.771Z"
   },
   {
    "duration": 43,
    "start_time": "2022-02-24T10:05:32.785Z"
   },
   {
    "duration": 21,
    "start_time": "2022-02-24T10:05:32.831Z"
   },
   {
    "duration": 32,
    "start_time": "2022-02-24T10:05:32.855Z"
   },
   {
    "duration": 181,
    "start_time": "2022-02-24T10:05:32.891Z"
   },
   {
    "duration": 522,
    "start_time": "2022-02-24T10:05:43.392Z"
   },
   {
    "duration": 1347,
    "start_time": "2022-02-24T10:05:50.497Z"
   },
   {
    "duration": 22,
    "start_time": "2022-02-24T10:05:51.847Z"
   },
   {
    "duration": 96,
    "start_time": "2022-02-24T10:05:51.873Z"
   },
   {
    "duration": 13,
    "start_time": "2022-02-24T10:05:51.972Z"
   },
   {
    "duration": 100,
    "start_time": "2022-02-24T10:05:51.988Z"
   },
   {
    "duration": 11,
    "start_time": "2022-02-24T10:05:52.090Z"
   },
   {
    "duration": 114,
    "start_time": "2022-02-24T10:05:52.104Z"
   },
   {
    "duration": 17,
    "start_time": "2022-02-24T10:05:52.227Z"
   },
   {
    "duration": 22,
    "start_time": "2022-02-24T10:05:52.248Z"
   },
   {
    "duration": 58,
    "start_time": "2022-02-24T10:05:52.274Z"
   },
   {
    "duration": 40,
    "start_time": "2022-02-24T10:05:52.335Z"
   },
   {
    "duration": 176,
    "start_time": "2022-02-24T10:05:52.378Z"
   },
   {
    "duration": 8290,
    "start_time": "2022-02-24T10:06:27.956Z"
   },
   {
    "duration": 1377,
    "start_time": "2022-02-24T10:06:42.724Z"
   },
   {
    "duration": 22,
    "start_time": "2022-02-24T10:06:44.104Z"
   },
   {
    "duration": 96,
    "start_time": "2022-02-24T10:06:44.130Z"
   },
   {
    "duration": 12,
    "start_time": "2022-02-24T10:06:44.228Z"
   },
   {
    "duration": 101,
    "start_time": "2022-02-24T10:06:44.242Z"
   },
   {
    "duration": 11,
    "start_time": "2022-02-24T10:06:44.346Z"
   },
   {
    "duration": 85,
    "start_time": "2022-02-24T10:06:44.360Z"
   },
   {
    "duration": 10,
    "start_time": "2022-02-24T10:06:44.449Z"
   },
   {
    "duration": 16,
    "start_time": "2022-02-24T10:06:44.462Z"
   },
   {
    "duration": 46,
    "start_time": "2022-02-24T10:06:44.481Z"
   },
   {
    "duration": 28,
    "start_time": "2022-02-24T10:06:44.529Z"
   },
   {
    "duration": 117,
    "start_time": "2022-02-24T10:06:44.560Z"
   },
   {
    "duration": 8609,
    "start_time": "2022-02-24T10:08:46.584Z"
   },
   {
    "duration": 1358,
    "start_time": "2022-02-24T10:09:02.706Z"
   },
   {
    "duration": 24,
    "start_time": "2022-02-24T10:09:04.066Z"
   },
   {
    "duration": 94,
    "start_time": "2022-02-24T10:09:04.093Z"
   },
   {
    "duration": 12,
    "start_time": "2022-02-24T10:09:04.191Z"
   },
   {
    "duration": 101,
    "start_time": "2022-02-24T10:09:04.206Z"
   },
   {
    "duration": 26,
    "start_time": "2022-02-24T10:09:04.309Z"
   },
   {
    "duration": 55,
    "start_time": "2022-02-24T10:09:04.337Z"
   },
   {
    "duration": 38,
    "start_time": "2022-02-24T10:09:04.395Z"
   },
   {
    "duration": 28,
    "start_time": "2022-02-24T10:09:04.435Z"
   },
   {
    "duration": 26,
    "start_time": "2022-02-24T10:09:04.465Z"
   },
   {
    "duration": 43,
    "start_time": "2022-02-24T10:09:04.493Z"
   },
   {
    "duration": 145,
    "start_time": "2022-02-24T10:09:04.539Z"
   },
   {
    "duration": 7535,
    "start_time": "2022-02-24T10:25:34.423Z"
   },
   {
    "duration": 7733,
    "start_time": "2022-02-24T10:26:20.228Z"
   },
   {
    "duration": 1333,
    "start_time": "2022-02-24T10:26:36.620Z"
   },
   {
    "duration": 23,
    "start_time": "2022-02-24T10:26:37.956Z"
   },
   {
    "duration": 156,
    "start_time": "2022-02-24T10:26:37.984Z"
   },
   {
    "duration": 16,
    "start_time": "2022-02-24T10:26:38.143Z"
   },
   {
    "duration": 152,
    "start_time": "2022-02-24T10:26:38.162Z"
   },
   {
    "duration": 19,
    "start_time": "2022-02-24T10:26:38.316Z"
   },
   {
    "duration": 65,
    "start_time": "2022-02-24T10:26:38.338Z"
   },
   {
    "duration": 30,
    "start_time": "2022-02-24T10:26:38.407Z"
   },
   {
    "duration": 15,
    "start_time": "2022-02-24T10:26:38.440Z"
   },
   {
    "duration": 22,
    "start_time": "2022-02-24T10:26:38.458Z"
   },
   {
    "duration": 61,
    "start_time": "2022-02-24T10:26:38.483Z"
   },
   {
    "duration": 495,
    "start_time": "2022-02-24T10:26:38.546Z"
   },
   {
    "duration": 329,
    "start_time": "2022-02-24T10:26:46.165Z"
   },
   {
    "duration": 585,
    "start_time": "2022-02-24T10:26:57.504Z"
   },
   {
    "duration": 672,
    "start_time": "2022-02-24T10:27:01.875Z"
   },
   {
    "duration": 550,
    "start_time": "2022-02-24T10:27:34.452Z"
   },
   {
    "duration": 1508,
    "start_time": "2022-02-24T10:27:47.876Z"
   },
   {
    "duration": 26,
    "start_time": "2022-02-24T10:27:49.388Z"
   },
   {
    "duration": 106,
    "start_time": "2022-02-24T10:27:49.418Z"
   },
   {
    "duration": 11,
    "start_time": "2022-02-24T10:27:49.527Z"
   },
   {
    "duration": 98,
    "start_time": "2022-02-24T10:27:49.541Z"
   },
   {
    "duration": 10,
    "start_time": "2022-02-24T10:27:49.642Z"
   },
   {
    "duration": 76,
    "start_time": "2022-02-24T10:27:49.654Z"
   },
   {
    "duration": 12,
    "start_time": "2022-02-24T10:27:49.733Z"
   },
   {
    "duration": 21,
    "start_time": "2022-02-24T10:27:49.747Z"
   },
   {
    "duration": 30,
    "start_time": "2022-02-24T10:27:49.771Z"
   },
   {
    "duration": 49,
    "start_time": "2022-02-24T10:27:49.803Z"
   },
   {
    "duration": 144,
    "start_time": "2022-02-24T10:27:49.855Z"
   },
   {
    "duration": 110,
    "start_time": "2022-02-24T10:31:05.366Z"
   },
   {
    "duration": 529,
    "start_time": "2022-02-24T10:38:42.353Z"
   },
   {
    "duration": 364,
    "start_time": "2022-02-24T10:39:19.271Z"
   },
   {
    "duration": 363,
    "start_time": "2022-02-24T10:39:27.309Z"
   },
   {
    "duration": 364,
    "start_time": "2022-02-24T10:39:39.018Z"
   },
   {
    "duration": 379,
    "start_time": "2022-02-24T10:40:52.861Z"
   },
   {
    "duration": 108,
    "start_time": "2022-02-24T10:40:56.095Z"
   },
   {
    "duration": 129,
    "start_time": "2022-02-24T10:41:23.459Z"
   },
   {
    "duration": 378,
    "start_time": "2022-02-24T10:42:03.061Z"
   },
   {
    "duration": 420,
    "start_time": "2022-02-24T10:42:21.061Z"
   },
   {
    "duration": 118,
    "start_time": "2022-02-24T10:43:41.416Z"
   },
   {
    "duration": 147,
    "start_time": "2022-02-24T10:44:23.401Z"
   },
   {
    "duration": 653,
    "start_time": "2022-02-24T10:44:52.180Z"
   },
   {
    "duration": 1531,
    "start_time": "2022-02-24T10:44:59.984Z"
   },
   {
    "duration": 24,
    "start_time": "2022-02-24T10:45:01.517Z"
   },
   {
    "duration": 107,
    "start_time": "2022-02-24T10:45:01.544Z"
   },
   {
    "duration": 13,
    "start_time": "2022-02-24T10:45:01.653Z"
   },
   {
    "duration": 101,
    "start_time": "2022-02-24T10:45:01.669Z"
   },
   {
    "duration": 10,
    "start_time": "2022-02-24T10:45:01.772Z"
   },
   {
    "duration": 72,
    "start_time": "2022-02-24T10:45:01.785Z"
   },
   {
    "duration": 12,
    "start_time": "2022-02-24T10:45:01.861Z"
   },
   {
    "duration": 20,
    "start_time": "2022-02-24T10:45:01.875Z"
   },
   {
    "duration": 40,
    "start_time": "2022-02-24T10:45:01.897Z"
   },
   {
    "duration": 37,
    "start_time": "2022-02-24T10:45:01.940Z"
   },
   {
    "duration": 534,
    "start_time": "2022-02-24T10:45:01.979Z"
   },
   {
    "duration": 123,
    "start_time": "2022-02-24T10:45:17.159Z"
   },
   {
    "duration": 29,
    "start_time": "2022-02-24T10:51:51.997Z"
   },
   {
    "duration": 29,
    "start_time": "2022-02-24T10:52:01.987Z"
   },
   {
    "duration": 36,
    "start_time": "2022-02-24T10:52:04.564Z"
   },
   {
    "duration": 322,
    "start_time": "2022-02-24T10:55:01.155Z"
   },
   {
    "duration": 1338,
    "start_time": "2022-02-24T10:55:10.095Z"
   },
   {
    "duration": 24,
    "start_time": "2022-02-24T10:55:11.436Z"
   },
   {
    "duration": 374,
    "start_time": "2022-02-24T10:55:11.463Z"
   },
   {
    "duration": 124,
    "start_time": "2022-02-24T10:55:11.716Z"
   },
   {
    "duration": 121,
    "start_time": "2022-02-24T10:55:11.720Z"
   },
   {
    "duration": 121,
    "start_time": "2022-02-24T10:55:11.722Z"
   },
   {
    "duration": 120,
    "start_time": "2022-02-24T10:55:11.724Z"
   },
   {
    "duration": 112,
    "start_time": "2022-02-24T10:55:11.734Z"
   },
   {
    "duration": 110,
    "start_time": "2022-02-24T10:55:11.737Z"
   },
   {
    "duration": 81,
    "start_time": "2022-02-24T10:55:11.768Z"
   },
   {
    "duration": 77,
    "start_time": "2022-02-24T10:55:11.773Z"
   },
   {
    "duration": 76,
    "start_time": "2022-02-24T10:55:11.775Z"
   },
   {
    "duration": 76,
    "start_time": "2022-02-24T10:55:11.776Z"
   },
   {
    "duration": 277,
    "start_time": "2022-02-24T10:55:29.207Z"
   },
   {
    "duration": 102,
    "start_time": "2022-02-24T10:55:34.198Z"
   },
   {
    "duration": 289,
    "start_time": "2022-02-24T10:57:29.763Z"
   },
   {
    "duration": 438,
    "start_time": "2022-02-24T10:57:55.667Z"
   },
   {
    "duration": 285,
    "start_time": "2022-02-24T10:58:41.147Z"
   },
   {
    "duration": 60907,
    "start_time": "2022-02-24T11:05:39.084Z"
   },
   {
    "duration": 365,
    "start_time": "2022-02-24T11:07:01.240Z"
   },
   {
    "duration": 1291,
    "start_time": "2022-02-24T11:07:10.054Z"
   },
   {
    "duration": 24,
    "start_time": "2022-02-24T11:07:11.348Z"
   },
   {
    "duration": 396,
    "start_time": "2022-02-24T11:07:11.376Z"
   },
   {
    "duration": 78,
    "start_time": "2022-02-24T11:07:11.697Z"
   },
   {
    "duration": 78,
    "start_time": "2022-02-24T11:07:11.699Z"
   },
   {
    "duration": 77,
    "start_time": "2022-02-24T11:07:11.701Z"
   },
   {
    "duration": 77,
    "start_time": "2022-02-24T11:07:11.702Z"
   },
   {
    "duration": 77,
    "start_time": "2022-02-24T11:07:11.704Z"
   },
   {
    "duration": 77,
    "start_time": "2022-02-24T11:07:11.705Z"
   },
   {
    "duration": 73,
    "start_time": "2022-02-24T11:07:11.711Z"
   },
   {
    "duration": 72,
    "start_time": "2022-02-24T11:07:11.713Z"
   },
   {
    "duration": 72,
    "start_time": "2022-02-24T11:07:11.715Z"
   },
   {
    "duration": 72,
    "start_time": "2022-02-24T11:07:11.716Z"
   },
   {
    "duration": 96,
    "start_time": "2022-02-24T11:07:30.444Z"
   },
   {
    "duration": 34,
    "start_time": "2022-02-24T11:08:36.499Z"
   },
   {
    "duration": 53,
    "start_time": "2022-02-24T11:08:40.464Z"
   },
   {
    "duration": 694,
    "start_time": "2022-02-24T11:13:59.518Z"
   },
   {
    "duration": 901,
    "start_time": "2022-02-24T11:14:11.562Z"
   },
   {
    "duration": 721,
    "start_time": "2022-02-24T11:14:33.513Z"
   },
   {
    "duration": 597,
    "start_time": "2022-02-24T11:14:43.030Z"
   },
   {
    "duration": 366,
    "start_time": "2022-02-24T11:15:10.300Z"
   },
   {
    "duration": 291,
    "start_time": "2022-02-24T11:48:34.482Z"
   },
   {
    "duration": 33,
    "start_time": "2022-02-24T11:48:44.499Z"
   },
   {
    "duration": 936,
    "start_time": "2022-02-24T15:12:02.532Z"
   },
   {
    "duration": 16,
    "start_time": "2022-02-24T15:12:03.470Z"
   },
   {
    "duration": 76,
    "start_time": "2022-02-24T15:12:03.488Z"
   },
   {
    "duration": 8,
    "start_time": "2022-02-24T15:12:03.566Z"
   },
   {
    "duration": 66,
    "start_time": "2022-02-24T15:12:03.575Z"
   },
   {
    "duration": 7,
    "start_time": "2022-02-24T15:12:03.643Z"
   },
   {
    "duration": 54,
    "start_time": "2022-02-24T15:12:03.652Z"
   },
   {
    "duration": 11,
    "start_time": "2022-02-24T15:12:03.708Z"
   },
   {
    "duration": 22,
    "start_time": "2022-02-24T15:12:03.721Z"
   },
   {
    "duration": 25,
    "start_time": "2022-02-24T15:12:03.745Z"
   },
   {
    "duration": 32,
    "start_time": "2022-02-24T15:12:03.772Z"
   },
   {
    "duration": 117,
    "start_time": "2022-02-24T15:12:03.806Z"
   },
   {
    "duration": 3,
    "start_time": "2022-02-24T15:12:03.925Z"
   },
   {
    "duration": 26,
    "start_time": "2022-02-24T15:12:57.063Z"
   },
   {
    "duration": 212,
    "start_time": "2022-02-24T18:50:23.890Z"
   },
   {
    "duration": 978,
    "start_time": "2022-02-24T18:50:34.882Z"
   },
   {
    "duration": 14,
    "start_time": "2022-02-24T18:50:35.862Z"
   },
   {
    "duration": 84,
    "start_time": "2022-02-24T18:50:35.878Z"
   },
   {
    "duration": 8,
    "start_time": "2022-02-24T18:50:35.964Z"
   },
   {
    "duration": 58,
    "start_time": "2022-02-24T18:50:35.974Z"
   },
   {
    "duration": 26,
    "start_time": "2022-02-24T18:50:36.034Z"
   },
   {
    "duration": 39,
    "start_time": "2022-02-24T18:50:36.062Z"
   },
   {
    "duration": 8,
    "start_time": "2022-02-24T18:50:36.104Z"
   },
   {
    "duration": 17,
    "start_time": "2022-02-24T18:50:36.114Z"
   },
   {
    "duration": 36,
    "start_time": "2022-02-24T18:50:36.133Z"
   },
   {
    "duration": 36,
    "start_time": "2022-02-24T18:50:36.171Z"
   },
   {
    "duration": 109,
    "start_time": "2022-02-24T18:50:36.209Z"
   },
   {
    "duration": 49,
    "start_time": "2022-02-24T18:50:36.320Z"
   },
   {
    "duration": 958,
    "start_time": "2022-02-24T18:51:37.570Z"
   },
   {
    "duration": 15,
    "start_time": "2022-02-24T18:51:38.530Z"
   },
   {
    "duration": 72,
    "start_time": "2022-02-24T18:51:38.548Z"
   },
   {
    "duration": 8,
    "start_time": "2022-02-24T18:51:38.622Z"
   },
   {
    "duration": 71,
    "start_time": "2022-02-24T18:51:38.631Z"
   },
   {
    "duration": 6,
    "start_time": "2022-02-24T18:51:38.704Z"
   },
   {
    "duration": 51,
    "start_time": "2022-02-24T18:51:38.712Z"
   },
   {
    "duration": 7,
    "start_time": "2022-02-24T18:51:38.765Z"
   },
   {
    "duration": 11,
    "start_time": "2022-02-24T18:51:38.774Z"
   },
   {
    "duration": 14,
    "start_time": "2022-02-24T18:51:38.787Z"
   },
   {
    "duration": 23,
    "start_time": "2022-02-24T18:51:38.802Z"
   },
   {
    "duration": 115,
    "start_time": "2022-02-24T18:51:38.827Z"
   },
   {
    "duration": 48,
    "start_time": "2022-02-24T18:51:38.944Z"
   },
   {
    "duration": 87,
    "start_time": "2022-02-24T18:52:48.893Z"
   },
   {
    "duration": 45,
    "start_time": "2022-02-24T18:54:10.914Z"
   },
   {
    "duration": 76,
    "start_time": "2022-02-24T18:54:53.356Z"
   },
   {
    "duration": 435,
    "start_time": "2022-02-24T19:29:35.051Z"
   },
   {
    "duration": 180,
    "start_time": "2022-02-24T19:30:07.014Z"
   },
   {
    "duration": 65,
    "start_time": "2022-02-24T19:30:44.018Z"
   },
   {
    "duration": 4411,
    "start_time": "2022-02-24T19:30:55.965Z"
   },
   {
    "duration": 953,
    "start_time": "2022-02-24T19:31:25.986Z"
   },
   {
    "duration": 16,
    "start_time": "2022-02-24T19:31:26.941Z"
   },
   {
    "duration": 76,
    "start_time": "2022-02-24T19:31:26.960Z"
   },
   {
    "duration": 27,
    "start_time": "2022-02-24T19:31:27.038Z"
   },
   {
    "duration": 54,
    "start_time": "2022-02-24T19:31:27.067Z"
   },
   {
    "duration": 7,
    "start_time": "2022-02-24T19:31:27.123Z"
   },
   {
    "duration": 56,
    "start_time": "2022-02-24T19:31:27.132Z"
   },
   {
    "duration": 8,
    "start_time": "2022-02-24T19:31:27.190Z"
   },
   {
    "duration": 16,
    "start_time": "2022-02-24T19:31:27.200Z"
   },
   {
    "duration": 13,
    "start_time": "2022-02-24T19:31:27.218Z"
   },
   {
    "duration": 36,
    "start_time": "2022-02-24T19:31:27.233Z"
   },
   {
    "duration": 99,
    "start_time": "2022-02-24T19:31:27.270Z"
   },
   {
    "duration": 46,
    "start_time": "2022-02-24T19:31:27.371Z"
   },
   {
    "duration": 4837,
    "start_time": "2022-02-24T19:31:27.419Z"
   },
   {
    "duration": 4512,
    "start_time": "2022-02-24T19:33:53.889Z"
   },
   {
    "duration": 4751,
    "start_time": "2022-02-24T19:35:21.306Z"
   },
   {
    "duration": 4460,
    "start_time": "2022-02-24T19:42:31.283Z"
   },
   {
    "duration": 4460,
    "start_time": "2022-02-24T19:43:31.271Z"
   },
   {
    "duration": 4979,
    "start_time": "2022-02-24T19:45:41.742Z"
   },
   {
    "duration": 4478,
    "start_time": "2022-02-24T19:45:52.693Z"
   },
   {
    "duration": 4234,
    "start_time": "2022-02-24T19:46:28.208Z"
   },
   {
    "duration": 16,
    "start_time": "2022-02-24T19:46:45.754Z"
   },
   {
    "duration": 4386,
    "start_time": "2022-02-24T19:47:00.621Z"
   },
   {
    "duration": 171,
    "start_time": "2022-02-24T19:48:37.031Z"
   },
   {
    "duration": 173,
    "start_time": "2022-02-24T19:49:02.784Z"
   },
   {
    "duration": 17,
    "start_time": "2022-02-24T19:49:14.288Z"
   },
   {
    "duration": 201,
    "start_time": "2022-02-24T19:52:40.670Z"
   },
   {
    "duration": 1017,
    "start_time": "2022-02-24T19:53:18.730Z"
   },
   {
    "duration": 14,
    "start_time": "2022-02-24T19:53:19.749Z"
   },
   {
    "duration": 73,
    "start_time": "2022-02-24T19:53:19.765Z"
   },
   {
    "duration": 7,
    "start_time": "2022-02-24T19:53:19.840Z"
   },
   {
    "duration": 62,
    "start_time": "2022-02-24T19:53:19.849Z"
   },
   {
    "duration": 7,
    "start_time": "2022-02-24T19:53:19.913Z"
   },
   {
    "duration": 61,
    "start_time": "2022-02-24T19:53:19.921Z"
   },
   {
    "duration": 7,
    "start_time": "2022-02-24T19:53:19.984Z"
   },
   {
    "duration": 10,
    "start_time": "2022-02-24T19:53:19.993Z"
   },
   {
    "duration": 12,
    "start_time": "2022-02-24T19:53:20.005Z"
   },
   {
    "duration": 40,
    "start_time": "2022-02-24T19:53:20.019Z"
   },
   {
    "duration": 85,
    "start_time": "2022-02-24T19:53:20.061Z"
   },
   {
    "duration": 43,
    "start_time": "2022-02-24T19:53:20.159Z"
   },
   {
    "duration": 16,
    "start_time": "2022-02-24T19:53:20.204Z"
   },
   {
    "duration": 23,
    "start_time": "2022-02-24T19:57:25.032Z"
   },
   {
    "duration": 14,
    "start_time": "2022-02-24T19:57:33.679Z"
   },
   {
    "duration": 17,
    "start_time": "2022-02-24T19:57:39.672Z"
   },
   {
    "duration": 6,
    "start_time": "2022-02-24T19:58:06.032Z"
   },
   {
    "duration": 15,
    "start_time": "2022-02-24T19:58:07.700Z"
   },
   {
    "duration": 11,
    "start_time": "2022-02-24T19:59:29.591Z"
   },
   {
    "duration": 269,
    "start_time": "2022-02-24T19:59:47.029Z"
   },
   {
    "duration": 185,
    "start_time": "2022-02-24T20:00:48.781Z"
   },
   {
    "duration": 191,
    "start_time": "2022-02-24T20:01:01.320Z"
   },
   {
    "duration": 179,
    "start_time": "2022-02-24T20:01:17.658Z"
   },
   {
    "duration": 10,
    "start_time": "2022-02-24T20:02:14.338Z"
   },
   {
    "duration": 13,
    "start_time": "2022-02-24T20:04:39.289Z"
   },
   {
    "duration": 12,
    "start_time": "2022-02-24T20:05:03.229Z"
   },
   {
    "duration": 12,
    "start_time": "2022-02-24T20:05:07.939Z"
   },
   {
    "duration": 13,
    "start_time": "2022-02-24T20:05:40.545Z"
   },
   {
    "duration": 61,
    "start_time": "2022-02-24T20:06:04.339Z"
   },
   {
    "duration": 14,
    "start_time": "2022-02-24T20:06:21.430Z"
   },
   {
    "duration": 16,
    "start_time": "2022-02-24T20:06:40.466Z"
   },
   {
    "duration": 16,
    "start_time": "2022-02-24T20:06:49.729Z"
   },
   {
    "duration": 14,
    "start_time": "2022-02-24T20:07:35.730Z"
   },
   {
    "duration": 13,
    "start_time": "2022-02-24T20:08:10.378Z"
   },
   {
    "duration": 12,
    "start_time": "2022-02-24T20:08:56.250Z"
   },
   {
    "duration": 10,
    "start_time": "2022-02-24T20:08:58.783Z"
   },
   {
    "duration": 11,
    "start_time": "2022-02-24T20:09:01.383Z"
   },
   {
    "duration": 15,
    "start_time": "2022-02-24T20:09:13.201Z"
   },
   {
    "duration": 19,
    "start_time": "2022-02-24T20:10:14.193Z"
   },
   {
    "duration": 4227,
    "start_time": "2022-02-24T20:11:35.210Z"
   },
   {
    "duration": 21,
    "start_time": "2022-02-24T20:11:53.516Z"
   },
   {
    "duration": 11,
    "start_time": "2022-02-24T20:16:01.569Z"
   },
   {
    "duration": 38,
    "start_time": "2022-02-24T20:16:10.191Z"
   },
   {
    "duration": 190,
    "start_time": "2022-02-24T20:19:09.024Z"
   },
   {
    "duration": 179,
    "start_time": "2022-02-24T20:19:19.151Z"
   },
   {
    "duration": 85,
    "start_time": "2022-02-24T20:19:35.010Z"
   },
   {
    "duration": 85,
    "start_time": "2022-02-24T20:19:35.012Z"
   },
   {
    "duration": 83,
    "start_time": "2022-02-24T20:19:35.015Z"
   },
   {
    "duration": 82,
    "start_time": "2022-02-24T20:19:35.017Z"
   },
   {
    "duration": 48,
    "start_time": "2022-02-24T20:19:35.052Z"
   },
   {
    "duration": 45,
    "start_time": "2022-02-24T20:19:35.056Z"
   },
   {
    "duration": 44,
    "start_time": "2022-02-24T20:19:35.058Z"
   },
   {
    "duration": 43,
    "start_time": "2022-02-24T20:19:35.060Z"
   },
   {
    "duration": 42,
    "start_time": "2022-02-24T20:19:35.062Z"
   },
   {
    "duration": 42,
    "start_time": "2022-02-24T20:19:35.063Z"
   },
   {
    "duration": 41,
    "start_time": "2022-02-24T20:19:35.065Z"
   },
   {
    "duration": 41,
    "start_time": "2022-02-24T20:19:35.066Z"
   },
   {
    "duration": 40,
    "start_time": "2022-02-24T20:19:35.068Z"
   },
   {
    "duration": 40,
    "start_time": "2022-02-24T20:19:35.069Z"
   },
   {
    "duration": 39,
    "start_time": "2022-02-24T20:19:35.071Z"
   },
   {
    "duration": 376,
    "start_time": "2022-02-24T20:19:53.017Z"
   },
   {
    "duration": 27,
    "start_time": "2022-02-24T20:19:53.395Z"
   },
   {
    "duration": 52,
    "start_time": "2022-02-24T20:19:53.424Z"
   },
   {
    "duration": 22,
    "start_time": "2022-02-24T20:19:53.478Z"
   },
   {
    "duration": 64,
    "start_time": "2022-02-24T20:19:53.501Z"
   },
   {
    "duration": 19,
    "start_time": "2022-02-24T20:19:53.567Z"
   },
   {
    "duration": 32,
    "start_time": "2022-02-24T20:19:53.588Z"
   },
   {
    "duration": 7,
    "start_time": "2022-02-24T20:19:53.622Z"
   },
   {
    "duration": 38,
    "start_time": "2022-02-24T20:19:53.631Z"
   },
   {
    "duration": 13,
    "start_time": "2022-02-24T20:19:53.671Z"
   },
   {
    "duration": 16,
    "start_time": "2022-02-24T20:19:53.686Z"
   },
   {
    "duration": 102,
    "start_time": "2022-02-24T20:19:53.704Z"
   },
   {
    "duration": 52,
    "start_time": "2022-02-24T20:19:53.808Z"
   },
   {
    "duration": 18,
    "start_time": "2022-02-24T20:19:53.862Z"
   },
   {
    "duration": 188,
    "start_time": "2022-02-24T20:19:53.882Z"
   },
   {
    "duration": 4406,
    "start_time": "2022-02-24T20:21:04.139Z"
   },
   {
    "duration": 178,
    "start_time": "2022-02-24T20:26:22.897Z"
   },
   {
    "duration": 23,
    "start_time": "2022-02-24T20:26:29.675Z"
   },
   {
    "duration": 19,
    "start_time": "2022-02-24T20:27:33.103Z"
   },
   {
    "duration": 228,
    "start_time": "2022-02-24T20:33:22.273Z"
   },
   {
    "duration": 180,
    "start_time": "2022-02-24T20:33:39.553Z"
   },
   {
    "duration": 178,
    "start_time": "2022-02-24T20:33:52.195Z"
   },
   {
    "duration": 184,
    "start_time": "2022-02-24T20:34:22.058Z"
   },
   {
    "duration": 1042,
    "start_time": "2022-02-24T20:34:42.037Z"
   },
   {
    "duration": 33,
    "start_time": "2022-02-24T20:34:43.081Z"
   },
   {
    "duration": 57,
    "start_time": "2022-02-24T20:34:43.116Z"
   },
   {
    "duration": 23,
    "start_time": "2022-02-24T20:34:43.175Z"
   },
   {
    "duration": 60,
    "start_time": "2022-02-24T20:34:43.200Z"
   },
   {
    "duration": 18,
    "start_time": "2022-02-24T20:34:43.261Z"
   },
   {
    "duration": 33,
    "start_time": "2022-02-24T20:34:43.280Z"
   },
   {
    "duration": 8,
    "start_time": "2022-02-24T20:34:43.314Z"
   },
   {
    "duration": 40,
    "start_time": "2022-02-24T20:34:43.324Z"
   },
   {
    "duration": 12,
    "start_time": "2022-02-24T20:34:43.367Z"
   },
   {
    "duration": 16,
    "start_time": "2022-02-24T20:34:43.380Z"
   },
   {
    "duration": 115,
    "start_time": "2022-02-24T20:34:43.398Z"
   },
   {
    "duration": 65,
    "start_time": "2022-02-24T20:34:43.515Z"
   },
   {
    "duration": 19,
    "start_time": "2022-02-24T20:34:43.582Z"
   },
   {
    "duration": 24,
    "start_time": "2022-02-24T20:34:43.602Z"
   },
   {
    "duration": 255,
    "start_time": "2022-02-24T20:35:01.224Z"
   },
   {
    "duration": 995,
    "start_time": "2022-02-24T20:35:08.041Z"
   },
   {
    "duration": 34,
    "start_time": "2022-02-24T20:35:09.038Z"
   },
   {
    "duration": 61,
    "start_time": "2022-02-24T20:35:09.075Z"
   },
   {
    "duration": 34,
    "start_time": "2022-02-24T20:35:09.138Z"
   },
   {
    "duration": 48,
    "start_time": "2022-02-24T20:35:09.174Z"
   },
   {
    "duration": 41,
    "start_time": "2022-02-24T20:35:09.224Z"
   },
   {
    "duration": 33,
    "start_time": "2022-02-24T20:35:09.267Z"
   },
   {
    "duration": 8,
    "start_time": "2022-02-24T20:35:09.302Z"
   },
   {
    "duration": 16,
    "start_time": "2022-02-24T20:35:09.312Z"
   },
   {
    "duration": 38,
    "start_time": "2022-02-24T20:35:09.330Z"
   },
   {
    "duration": 16,
    "start_time": "2022-02-24T20:35:09.370Z"
   },
   {
    "duration": 113,
    "start_time": "2022-02-24T20:35:09.388Z"
   },
   {
    "duration": 57,
    "start_time": "2022-02-24T20:35:09.503Z"
   },
   {
    "duration": 22,
    "start_time": "2022-02-24T20:35:09.562Z"
   },
   {
    "duration": 27,
    "start_time": "2022-02-24T20:35:09.585Z"
   },
   {
    "duration": 249,
    "start_time": "2022-02-24T20:36:46.871Z"
   },
   {
    "duration": 209,
    "start_time": "2022-02-24T20:37:05.774Z"
   },
   {
    "duration": 193,
    "start_time": "2022-02-24T20:37:31.214Z"
   },
   {
    "duration": 48,
    "start_time": "2022-02-24T20:37:40.487Z"
   },
   {
    "duration": 13,
    "start_time": "2022-02-24T20:41:02.722Z"
   },
   {
    "duration": 4385,
    "start_time": "2022-02-24T20:41:14.861Z"
   },
   {
    "duration": 19,
    "start_time": "2022-02-24T20:41:58.984Z"
   },
   {
    "duration": 46,
    "start_time": "2022-02-24T20:42:19.634Z"
   },
   {
    "duration": 955,
    "start_time": "2022-02-24T20:42:26.220Z"
   },
   {
    "duration": 34,
    "start_time": "2022-02-24T20:42:27.177Z"
   },
   {
    "duration": 63,
    "start_time": "2022-02-24T20:42:27.213Z"
   },
   {
    "duration": 23,
    "start_time": "2022-02-24T20:42:27.278Z"
   },
   {
    "duration": 60,
    "start_time": "2022-02-24T20:42:27.302Z"
   },
   {
    "duration": 20,
    "start_time": "2022-02-24T20:42:27.364Z"
   },
   {
    "duration": 43,
    "start_time": "2022-02-24T20:42:27.386Z"
   },
   {
    "duration": 29,
    "start_time": "2022-02-24T20:42:27.432Z"
   },
   {
    "duration": 17,
    "start_time": "2022-02-24T20:42:27.464Z"
   },
   {
    "duration": 13,
    "start_time": "2022-02-24T20:42:27.483Z"
   },
   {
    "duration": 18,
    "start_time": "2022-02-24T20:42:27.498Z"
   },
   {
    "duration": 118,
    "start_time": "2022-02-24T20:42:27.518Z"
   },
   {
    "duration": 56,
    "start_time": "2022-02-24T20:42:27.638Z"
   },
   {
    "duration": 19,
    "start_time": "2022-02-24T20:42:27.696Z"
   },
   {
    "duration": 41,
    "start_time": "2022-02-24T20:42:27.717Z"
   },
   {
    "duration": 966,
    "start_time": "2022-02-24T20:43:11.156Z"
   },
   {
    "duration": 34,
    "start_time": "2022-02-24T20:43:12.124Z"
   },
   {
    "duration": 56,
    "start_time": "2022-02-24T20:43:12.161Z"
   },
   {
    "duration": 22,
    "start_time": "2022-02-24T20:43:12.219Z"
   },
   {
    "duration": 60,
    "start_time": "2022-02-24T20:43:12.242Z"
   },
   {
    "duration": 20,
    "start_time": "2022-02-24T20:43:12.304Z"
   },
   {
    "duration": 53,
    "start_time": "2022-02-24T20:43:12.326Z"
   },
   {
    "duration": 7,
    "start_time": "2022-02-24T20:43:12.381Z"
   },
   {
    "duration": 14,
    "start_time": "2022-02-24T20:43:12.390Z"
   },
   {
    "duration": 12,
    "start_time": "2022-02-24T20:43:12.406Z"
   },
   {
    "duration": 45,
    "start_time": "2022-02-24T20:43:12.419Z"
   },
   {
    "duration": 95,
    "start_time": "2022-02-24T20:43:12.466Z"
   },
   {
    "duration": 43,
    "start_time": "2022-02-24T20:43:12.563Z"
   },
   {
    "duration": 18,
    "start_time": "2022-02-24T20:43:12.607Z"
   },
   {
    "duration": 237,
    "start_time": "2022-02-24T20:43:12.626Z"
   },
   {
    "duration": 20,
    "start_time": "2022-02-24T20:43:35.834Z"
   },
   {
    "duration": 199,
    "start_time": "2022-02-24T20:46:19.444Z"
   },
   {
    "duration": 248,
    "start_time": "2022-02-24T20:49:02.079Z"
   },
   {
    "duration": 66,
    "start_time": "2022-02-24T20:50:14.819Z"
   },
   {
    "duration": 193,
    "start_time": "2022-02-24T20:50:21.740Z"
   },
   {
    "duration": 75,
    "start_time": "2022-02-24T20:50:36.761Z"
   },
   {
    "duration": 191,
    "start_time": "2022-02-24T20:50:48.405Z"
   },
   {
    "duration": 24,
    "start_time": "2022-02-24T20:51:01.021Z"
   },
   {
    "duration": 977,
    "start_time": "2022-02-24T20:51:19.715Z"
   },
   {
    "duration": 33,
    "start_time": "2022-02-24T20:51:20.694Z"
   },
   {
    "duration": 58,
    "start_time": "2022-02-24T20:51:20.729Z"
   },
   {
    "duration": 23,
    "start_time": "2022-02-24T20:51:20.789Z"
   },
   {
    "duration": 70,
    "start_time": "2022-02-24T20:51:20.814Z"
   },
   {
    "duration": 20,
    "start_time": "2022-02-24T20:51:20.886Z"
   },
   {
    "duration": 51,
    "start_time": "2022-02-24T20:51:20.908Z"
   },
   {
    "duration": 8,
    "start_time": "2022-02-24T20:51:20.961Z"
   },
   {
    "duration": 14,
    "start_time": "2022-02-24T20:51:20.971Z"
   },
   {
    "duration": 12,
    "start_time": "2022-02-24T20:51:20.987Z"
   },
   {
    "duration": 16,
    "start_time": "2022-02-24T20:51:21.001Z"
   },
   {
    "duration": 119,
    "start_time": "2022-02-24T20:51:21.019Z"
   },
   {
    "duration": 48,
    "start_time": "2022-02-24T20:51:21.140Z"
   },
   {
    "duration": 19,
    "start_time": "2022-02-24T20:51:21.190Z"
   },
   {
    "duration": 19,
    "start_time": "2022-02-24T20:51:21.211Z"
   },
   {
    "duration": 4,
    "start_time": "2022-02-24T20:52:01.010Z"
   },
   {
    "duration": 5,
    "start_time": "2022-02-24T21:03:03.343Z"
   },
   {
    "duration": 6,
    "start_time": "2022-02-24T21:03:15.638Z"
   },
   {
    "duration": 930,
    "start_time": "2022-02-25T10:06:41.566Z"
   },
   {
    "duration": 31,
    "start_time": "2022-02-25T10:06:42.498Z"
   },
   {
    "duration": 51,
    "start_time": "2022-02-25T10:06:42.531Z"
   },
   {
    "duration": 20,
    "start_time": "2022-02-25T10:06:42.584Z"
   },
   {
    "duration": 54,
    "start_time": "2022-02-25T10:06:42.606Z"
   },
   {
    "duration": 17,
    "start_time": "2022-02-25T10:06:42.661Z"
   },
   {
    "duration": 30,
    "start_time": "2022-02-25T10:06:42.679Z"
   },
   {
    "duration": 23,
    "start_time": "2022-02-25T10:06:42.711Z"
   },
   {
    "duration": 13,
    "start_time": "2022-02-25T10:06:42.736Z"
   },
   {
    "duration": 11,
    "start_time": "2022-02-25T10:06:42.751Z"
   },
   {
    "duration": 15,
    "start_time": "2022-02-25T10:06:42.764Z"
   },
   {
    "duration": 105,
    "start_time": "2022-02-25T10:06:42.780Z"
   },
   {
    "duration": 46,
    "start_time": "2022-02-25T10:06:42.887Z"
   },
   {
    "duration": 105,
    "start_time": "2022-02-25T10:06:42.935Z"
   },
   {
    "duration": 1952,
    "start_time": "2022-02-25T10:06:41.090Z"
   },
   {
    "duration": 1950,
    "start_time": "2022-02-25T10:06:41.093Z"
   },
   {
    "duration": 99,
    "start_time": "2022-02-25T10:07:30.930Z"
   },
   {
    "duration": 101,
    "start_time": "2022-02-25T10:08:04.916Z"
   },
   {
    "duration": 110,
    "start_time": "2022-02-25T10:08:21.016Z"
   },
   {
    "duration": 103,
    "start_time": "2022-02-25T10:08:24.183Z"
   },
   {
    "duration": 909,
    "start_time": "2022-02-25T10:09:16.471Z"
   },
   {
    "duration": 29,
    "start_time": "2022-02-25T10:09:17.382Z"
   },
   {
    "duration": 51,
    "start_time": "2022-02-25T10:09:17.413Z"
   },
   {
    "duration": 19,
    "start_time": "2022-02-25T10:09:17.466Z"
   },
   {
    "duration": 41,
    "start_time": "2022-02-25T10:09:17.487Z"
   },
   {
    "duration": 17,
    "start_time": "2022-02-25T10:09:17.532Z"
   },
   {
    "duration": 29,
    "start_time": "2022-02-25T10:09:17.550Z"
   },
   {
    "duration": 7,
    "start_time": "2022-02-25T10:09:17.581Z"
   },
   {
    "duration": 12,
    "start_time": "2022-02-25T10:09:17.591Z"
   },
   {
    "duration": 37,
    "start_time": "2022-02-25T10:09:17.605Z"
   },
   {
    "duration": 16,
    "start_time": "2022-02-25T10:09:17.644Z"
   },
   {
    "duration": 106,
    "start_time": "2022-02-25T10:09:17.662Z"
   },
   {
    "duration": 43,
    "start_time": "2022-02-25T10:09:17.770Z"
   },
   {
    "duration": 109,
    "start_time": "2022-02-25T10:09:17.815Z"
   },
   {
    "duration": 1962,
    "start_time": "2022-02-25T10:09:15.964Z"
   },
   {
    "duration": 1959,
    "start_time": "2022-02-25T10:09:15.968Z"
   },
   {
    "duration": 108,
    "start_time": "2022-02-25T10:09:42.851Z"
   },
   {
    "duration": 131,
    "start_time": "2022-02-25T10:10:58.994Z"
   },
   {
    "duration": 97,
    "start_time": "2022-02-25T10:11:04.388Z"
   },
   {
    "duration": 9,
    "start_time": "2022-02-25T10:11:46.375Z"
   },
   {
    "duration": 9,
    "start_time": "2022-02-25T10:12:25.299Z"
   },
   {
    "duration": 111,
    "start_time": "2022-02-25T10:13:07.689Z"
   },
   {
    "duration": 7,
    "start_time": "2022-02-25T10:13:16.485Z"
   },
   {
    "duration": 651,
    "start_time": "2022-02-25T10:15:55.884Z"
   },
   {
    "duration": 385,
    "start_time": "2022-02-25T10:16:30.869Z"
   },
   {
    "duration": 212,
    "start_time": "2022-02-25T10:16:37.436Z"
   },
   {
    "duration": 229,
    "start_time": "2022-02-25T10:16:48.330Z"
   },
   {
    "duration": 397,
    "start_time": "2022-02-25T10:17:22.077Z"
   },
   {
    "duration": 606,
    "start_time": "2022-02-25T10:20:28.680Z"
   },
   {
    "duration": 796,
    "start_time": "2022-02-25T10:20:36.861Z"
   },
   {
    "duration": 1097,
    "start_time": "2022-02-25T10:21:10.666Z"
   },
   {
    "duration": 923,
    "start_time": "2022-02-25T10:22:38.576Z"
   },
   {
    "duration": 47,
    "start_time": "2022-02-25T10:28:09.297Z"
   },
   {
    "duration": 25,
    "start_time": "2022-02-25T10:32:19.631Z"
   },
   {
    "duration": 99,
    "start_time": "2022-02-25T10:32:46.826Z"
   },
   {
    "duration": 20,
    "start_time": "2022-02-25T10:32:57.451Z"
   },
   {
    "duration": 27,
    "start_time": "2022-02-25T10:33:28.788Z"
   },
   {
    "duration": 20,
    "start_time": "2022-02-25T10:33:36.077Z"
   },
   {
    "duration": 19,
    "start_time": "2022-02-25T10:33:48.015Z"
   },
   {
    "duration": 1088,
    "start_time": "2022-02-25T10:33:54.076Z"
   },
   {
    "duration": 39,
    "start_time": "2022-02-25T10:33:55.168Z"
   },
   {
    "duration": 60,
    "start_time": "2022-02-25T10:33:55.210Z"
   },
   {
    "duration": 26,
    "start_time": "2022-02-25T10:33:55.273Z"
   },
   {
    "duration": 81,
    "start_time": "2022-02-25T10:33:55.300Z"
   },
   {
    "duration": 19,
    "start_time": "2022-02-25T10:33:55.383Z"
   },
   {
    "duration": 42,
    "start_time": "2022-02-25T10:33:55.404Z"
   },
   {
    "duration": 8,
    "start_time": "2022-02-25T10:33:55.449Z"
   },
   {
    "duration": 15,
    "start_time": "2022-02-25T10:33:55.460Z"
   },
   {
    "duration": 12,
    "start_time": "2022-02-25T10:33:55.477Z"
   },
   {
    "duration": 45,
    "start_time": "2022-02-25T10:33:55.490Z"
   },
   {
    "duration": 76,
    "start_time": "2022-02-25T10:33:55.537Z"
   },
   {
    "duration": 56,
    "start_time": "2022-02-25T10:33:55.615Z"
   },
   {
    "duration": 10,
    "start_time": "2022-02-25T10:33:55.673Z"
   },
   {
    "duration": 16,
    "start_time": "2022-02-25T10:33:55.684Z"
   },
   {
    "duration": 1044,
    "start_time": "2022-02-25T10:33:55.701Z"
   },
   {
    "duration": 8,
    "start_time": "2022-02-25T10:33:56.748Z"
   },
   {
    "duration": 24,
    "start_time": "2022-02-25T10:34:30.209Z"
   },
   {
    "duration": 25,
    "start_time": "2022-02-25T10:34:38.712Z"
   },
   {
    "duration": 1054,
    "start_time": "2022-02-25T10:34:53.473Z"
   },
   {
    "duration": 42,
    "start_time": "2022-02-25T10:34:54.530Z"
   },
   {
    "duration": 68,
    "start_time": "2022-02-25T10:34:54.574Z"
   },
   {
    "duration": 26,
    "start_time": "2022-02-25T10:34:54.645Z"
   },
   {
    "duration": 59,
    "start_time": "2022-02-25T10:34:54.672Z"
   },
   {
    "duration": 20,
    "start_time": "2022-02-25T10:34:54.733Z"
   },
   {
    "duration": 29,
    "start_time": "2022-02-25T10:34:54.755Z"
   },
   {
    "duration": 56,
    "start_time": "2022-02-25T10:34:54.786Z"
   },
   {
    "duration": 19,
    "start_time": "2022-02-25T10:34:54.845Z"
   },
   {
    "duration": 20,
    "start_time": "2022-02-25T10:34:54.865Z"
   },
   {
    "duration": 21,
    "start_time": "2022-02-25T10:34:54.886Z"
   },
   {
    "duration": 88,
    "start_time": "2022-02-25T10:34:54.908Z"
   },
   {
    "duration": 45,
    "start_time": "2022-02-25T10:34:54.998Z"
   },
   {
    "duration": 7,
    "start_time": "2022-02-25T10:34:55.045Z"
   },
   {
    "duration": 34,
    "start_time": "2022-02-25T10:34:55.053Z"
   },
   {
    "duration": 825,
    "start_time": "2022-02-25T10:34:55.089Z"
   },
   {
    "duration": 16,
    "start_time": "2022-02-25T10:34:55.916Z"
   },
   {
    "duration": 18,
    "start_time": "2022-02-25T10:49:09.463Z"
   },
   {
    "duration": 19,
    "start_time": "2022-02-25T10:49:25.032Z"
   },
   {
    "duration": 1071,
    "start_time": "2022-02-25T10:49:33.573Z"
   },
   {
    "duration": 27,
    "start_time": "2022-02-25T10:49:34.646Z"
   },
   {
    "duration": 57,
    "start_time": "2022-02-25T10:49:34.677Z"
   },
   {
    "duration": 19,
    "start_time": "2022-02-25T10:49:34.736Z"
   },
   {
    "duration": 41,
    "start_time": "2022-02-25T10:49:34.756Z"
   },
   {
    "duration": 37,
    "start_time": "2022-02-25T10:49:34.798Z"
   },
   {
    "duration": 30,
    "start_time": "2022-02-25T10:49:34.837Z"
   },
   {
    "duration": 7,
    "start_time": "2022-02-25T10:49:34.869Z"
   },
   {
    "duration": 12,
    "start_time": "2022-02-25T10:49:34.877Z"
   },
   {
    "duration": 42,
    "start_time": "2022-02-25T10:49:34.890Z"
   },
   {
    "duration": 24,
    "start_time": "2022-02-25T10:49:34.934Z"
   },
   {
    "duration": 89,
    "start_time": "2022-02-25T10:49:34.959Z"
   },
   {
    "duration": 37,
    "start_time": "2022-02-25T10:49:35.050Z"
   },
   {
    "duration": 8,
    "start_time": "2022-02-25T10:49:35.089Z"
   },
   {
    "duration": 39,
    "start_time": "2022-02-25T10:49:35.098Z"
   },
   {
    "duration": 839,
    "start_time": "2022-02-25T10:49:35.138Z"
   },
   {
    "duration": 7,
    "start_time": "2022-02-25T10:49:35.979Z"
   },
   {
    "duration": 19,
    "start_time": "2022-02-25T10:50:02.741Z"
   },
   {
    "duration": 1001,
    "start_time": "2022-02-25T10:50:22.983Z"
   },
   {
    "duration": 27,
    "start_time": "2022-02-25T10:50:23.986Z"
   },
   {
    "duration": 54,
    "start_time": "2022-02-25T10:50:24.015Z"
   },
   {
    "duration": 23,
    "start_time": "2022-02-25T10:50:24.071Z"
   },
   {
    "duration": 61,
    "start_time": "2022-02-25T10:50:24.096Z"
   },
   {
    "duration": 18,
    "start_time": "2022-02-25T10:50:24.159Z"
   },
   {
    "duration": 28,
    "start_time": "2022-02-25T10:50:24.178Z"
   },
   {
    "duration": 26,
    "start_time": "2022-02-25T10:50:24.208Z"
   },
   {
    "duration": 12,
    "start_time": "2022-02-25T10:50:24.237Z"
   },
   {
    "duration": 11,
    "start_time": "2022-02-25T10:50:24.252Z"
   },
   {
    "duration": 14,
    "start_time": "2022-02-25T10:50:24.264Z"
   },
   {
    "duration": 104,
    "start_time": "2022-02-25T10:50:24.280Z"
   },
   {
    "duration": 47,
    "start_time": "2022-02-25T10:50:24.386Z"
   },
   {
    "duration": 9,
    "start_time": "2022-02-25T10:50:24.434Z"
   },
   {
    "duration": 20,
    "start_time": "2022-02-25T10:50:24.445Z"
   },
   {
    "duration": 874,
    "start_time": "2022-02-25T10:50:24.466Z"
   },
   {
    "duration": 7,
    "start_time": "2022-02-25T10:50:25.342Z"
   },
   {
    "duration": 25,
    "start_time": "2022-02-25T10:51:01.407Z"
   },
   {
    "duration": 3414,
    "start_time": "2022-02-25T10:52:44.539Z"
   },
   {
    "duration": 28,
    "start_time": "2022-02-25T10:52:47.955Z"
   },
   {
    "duration": 54,
    "start_time": "2022-02-25T10:52:47.984Z"
   },
   {
    "duration": 20,
    "start_time": "2022-02-25T10:52:48.040Z"
   },
   {
    "duration": 43,
    "start_time": "2022-02-25T10:52:48.061Z"
   },
   {
    "duration": 36,
    "start_time": "2022-02-25T10:52:48.106Z"
   },
   {
    "duration": 40,
    "start_time": "2022-02-25T10:52:48.144Z"
   },
   {
    "duration": 11,
    "start_time": "2022-02-25T10:52:48.188Z"
   },
   {
    "duration": 37,
    "start_time": "2022-02-25T10:52:48.201Z"
   },
   {
    "duration": 12,
    "start_time": "2022-02-25T10:52:48.239Z"
   },
   {
    "duration": 15,
    "start_time": "2022-02-25T10:52:48.253Z"
   },
   {
    "duration": 102,
    "start_time": "2022-02-25T10:52:48.270Z"
   },
   {
    "duration": 40,
    "start_time": "2022-02-25T10:52:48.374Z"
   },
   {
    "duration": 19,
    "start_time": "2022-02-25T10:52:48.416Z"
   },
   {
    "duration": 24,
    "start_time": "2022-02-25T10:52:48.436Z"
   },
   {
    "duration": 899,
    "start_time": "2022-02-25T10:52:48.462Z"
   },
   {
    "duration": 6,
    "start_time": "2022-02-25T10:52:49.363Z"
   },
   {
    "duration": 879,
    "start_time": "2022-02-25T10:53:22.798Z"
   },
   {
    "duration": 12,
    "start_time": "2022-02-25T10:56:20.982Z"
   },
   {
    "duration": 2243,
    "start_time": "2022-02-25T11:02:59.992Z"
   },
   {
    "duration": 1186,
    "start_time": "2022-02-25T11:03:30.386Z"
   },
   {
    "duration": 26,
    "start_time": "2022-02-25T11:03:31.574Z"
   },
   {
    "duration": 59,
    "start_time": "2022-02-25T11:03:31.601Z"
   },
   {
    "duration": 28,
    "start_time": "2022-02-25T11:03:31.662Z"
   },
   {
    "duration": 63,
    "start_time": "2022-02-25T11:03:31.692Z"
   },
   {
    "duration": 20,
    "start_time": "2022-02-25T11:03:31.757Z"
   },
   {
    "duration": 36,
    "start_time": "2022-02-25T11:03:31.779Z"
   },
   {
    "duration": 16,
    "start_time": "2022-02-25T11:03:31.817Z"
   },
   {
    "duration": 34,
    "start_time": "2022-02-25T11:03:31.835Z"
   },
   {
    "duration": 11,
    "start_time": "2022-02-25T11:03:31.871Z"
   },
   {
    "duration": 15,
    "start_time": "2022-02-25T11:03:31.883Z"
   },
   {
    "duration": 95,
    "start_time": "2022-02-25T11:03:31.900Z"
   },
   {
    "duration": 40,
    "start_time": "2022-02-25T11:03:31.997Z"
   },
   {
    "duration": 9,
    "start_time": "2022-02-25T11:03:32.039Z"
   },
   {
    "duration": 26,
    "start_time": "2022-02-25T11:03:32.050Z"
   },
   {
    "duration": 1002,
    "start_time": "2022-02-25T11:03:32.078Z"
   },
   {
    "duration": 11,
    "start_time": "2022-02-25T11:03:33.082Z"
   },
   {
    "duration": 3125,
    "start_time": "2022-02-25T12:47:58.277Z"
   },
   {
    "duration": 33,
    "start_time": "2022-02-25T12:48:01.404Z"
   },
   {
    "duration": 63,
    "start_time": "2022-02-25T12:48:01.439Z"
   },
   {
    "duration": 25,
    "start_time": "2022-02-25T12:48:01.505Z"
   },
   {
    "duration": 69,
    "start_time": "2022-02-25T12:48:01.531Z"
   },
   {
    "duration": 25,
    "start_time": "2022-02-25T12:48:01.603Z"
   },
   {
    "duration": 60,
    "start_time": "2022-02-25T12:48:01.630Z"
   },
   {
    "duration": 30,
    "start_time": "2022-02-25T12:48:01.693Z"
   },
   {
    "duration": 44,
    "start_time": "2022-02-25T12:48:01.727Z"
   },
   {
    "duration": 34,
    "start_time": "2022-02-25T12:48:01.773Z"
   },
   {
    "duration": 34,
    "start_time": "2022-02-25T12:48:01.809Z"
   },
   {
    "duration": 101,
    "start_time": "2022-02-25T12:48:01.845Z"
   },
   {
    "duration": 43,
    "start_time": "2022-02-25T12:48:01.948Z"
   },
   {
    "duration": 9,
    "start_time": "2022-02-25T12:48:01.993Z"
   },
   {
    "duration": 39,
    "start_time": "2022-02-25T12:48:02.004Z"
   },
   {
    "duration": 1214,
    "start_time": "2022-02-25T12:48:02.045Z"
   },
   {
    "duration": 17,
    "start_time": "2022-02-25T12:48:03.260Z"
   },
   {
    "duration": 19,
    "start_time": "2022-02-25T12:48:16.385Z"
   },
   {
    "duration": 18,
    "start_time": "2022-02-25T12:51:45.777Z"
   },
   {
    "duration": 20,
    "start_time": "2022-02-25T12:54:09.826Z"
   },
   {
    "duration": 86,
    "start_time": "2022-02-25T13:20:45.491Z"
   },
   {
    "duration": 103,
    "start_time": "2022-02-25T13:21:19.378Z"
   },
   {
    "duration": 336,
    "start_time": "2022-02-25T13:23:40.900Z"
   },
   {
    "duration": 366,
    "start_time": "2022-02-25T13:24:19.449Z"
   },
   {
    "duration": 122,
    "start_time": "2022-02-25T13:24:52.198Z"
   },
   {
    "duration": 121,
    "start_time": "2022-02-25T13:25:00.338Z"
   },
   {
    "duration": 138,
    "start_time": "2022-02-25T13:34:09.054Z"
   },
   {
    "duration": 10,
    "start_time": "2022-02-25T13:36:03.690Z"
   },
   {
    "duration": 121,
    "start_time": "2022-02-25T13:36:23.755Z"
   },
   {
    "duration": 274,
    "start_time": "2022-02-25T13:43:15.499Z"
   },
   {
    "duration": 555,
    "start_time": "2022-02-25T13:43:49.503Z"
   },
   {
    "duration": 1167,
    "start_time": "2022-02-25T13:45:16.166Z"
   },
   {
    "duration": 968,
    "start_time": "2022-02-25T13:46:49.175Z"
   },
   {
    "duration": 684,
    "start_time": "2022-02-25T13:47:11.216Z"
   },
   {
    "duration": 779,
    "start_time": "2022-02-25T13:47:42.590Z"
   },
   {
    "duration": 734,
    "start_time": "2022-02-25T13:49:26.004Z"
   },
   {
    "duration": 663,
    "start_time": "2022-02-25T13:49:39.042Z"
   },
   {
    "duration": 672,
    "start_time": "2022-02-25T13:49:46.660Z"
   },
   {
    "duration": 765,
    "start_time": "2022-02-25T13:50:48.318Z"
   },
   {
    "duration": 670,
    "start_time": "2022-02-25T13:52:26.234Z"
   },
   {
    "duration": 645,
    "start_time": "2022-02-25T13:52:32.430Z"
   },
   {
    "duration": 733,
    "start_time": "2022-02-25T13:53:13.533Z"
   },
   {
    "duration": 671,
    "start_time": "2022-02-25T13:53:24.993Z"
   },
   {
    "duration": 654,
    "start_time": "2022-02-25T13:53:43.926Z"
   },
   {
    "duration": 748,
    "start_time": "2022-02-25T13:54:10.747Z"
   },
   {
    "duration": 660,
    "start_time": "2022-02-25T13:54:32.428Z"
   },
   {
    "duration": 674,
    "start_time": "2022-02-25T13:54:58.209Z"
   },
   {
    "duration": 600,
    "start_time": "2022-02-25T14:01:14.657Z"
   },
   {
    "duration": 728,
    "start_time": "2022-02-25T14:01:29.952Z"
   },
   {
    "duration": 666,
    "start_time": "2022-02-25T14:02:04.520Z"
   },
   {
    "duration": 652,
    "start_time": "2022-02-25T14:02:56.141Z"
   },
   {
    "duration": 724,
    "start_time": "2022-02-25T14:04:11.408Z"
   },
   {
    "duration": 126,
    "start_time": "2022-02-25T14:04:47.463Z"
   },
   {
    "duration": 666,
    "start_time": "2022-02-25T14:04:56.468Z"
   },
   {
    "duration": 659,
    "start_time": "2022-02-25T14:05:36.766Z"
   },
   {
    "duration": 771,
    "start_time": "2022-02-25T14:05:50.598Z"
   },
   {
    "duration": 742,
    "start_time": "2022-02-25T14:07:30.096Z"
   },
   {
    "duration": 341,
    "start_time": "2022-02-25T14:14:31.133Z"
   },
   {
    "duration": 7,
    "start_time": "2022-02-25T14:16:55.917Z"
   },
   {
    "duration": 9,
    "start_time": "2022-02-25T14:19:04.958Z"
   },
   {
    "duration": 380,
    "start_time": "2022-02-25T14:31:45.083Z"
   },
   {
    "duration": 73,
    "start_time": "2022-02-28T08:15:42.323Z"
   },
   {
    "duration": 1061,
    "start_time": "2022-02-28T08:16:01.466Z"
   },
   {
    "duration": 31,
    "start_time": "2022-02-28T08:16:02.529Z"
   },
   {
    "duration": 65,
    "start_time": "2022-02-28T08:16:02.562Z"
   },
   {
    "duration": 24,
    "start_time": "2022-02-28T08:16:02.629Z"
   },
   {
    "duration": 57,
    "start_time": "2022-02-28T08:16:02.663Z"
   },
   {
    "duration": 22,
    "start_time": "2022-02-28T08:16:02.722Z"
   },
   {
    "duration": 37,
    "start_time": "2022-02-28T08:16:02.746Z"
   },
   {
    "duration": 7,
    "start_time": "2022-02-28T08:16:02.785Z"
   },
   {
    "duration": 19,
    "start_time": "2022-02-28T08:16:02.794Z"
   },
   {
    "duration": 12,
    "start_time": "2022-02-28T08:16:02.815Z"
   },
   {
    "duration": 35,
    "start_time": "2022-02-28T08:16:02.829Z"
   },
   {
    "duration": 78,
    "start_time": "2022-02-28T08:16:02.866Z"
   },
   {
    "duration": 48,
    "start_time": "2022-02-28T08:16:02.946Z"
   },
   {
    "duration": 8,
    "start_time": "2022-02-28T08:16:02.995Z"
   },
   {
    "duration": 21,
    "start_time": "2022-02-28T08:16:03.005Z"
   },
   {
    "duration": 942,
    "start_time": "2022-02-28T08:16:03.028Z"
   },
   {
    "duration": 347,
    "start_time": "2022-02-28T08:16:03.972Z"
   },
   {
    "duration": -699,
    "start_time": "2022-02-28T08:16:05.020Z"
   },
   {
    "duration": -700,
    "start_time": "2022-02-28T08:16:05.023Z"
   },
   {
    "duration": -702,
    "start_time": "2022-02-28T08:16:05.026Z"
   },
   {
    "duration": -702,
    "start_time": "2022-02-28T08:16:05.028Z"
   },
   {
    "duration": -703,
    "start_time": "2022-02-28T08:16:05.030Z"
   },
   {
    "duration": 8,
    "start_time": "2022-02-28T08:17:15.140Z"
   },
   {
    "duration": 1064,
    "start_time": "2022-02-28T08:17:25.445Z"
   },
   {
    "duration": 31,
    "start_time": "2022-02-28T08:17:26.511Z"
   },
   {
    "duration": 62,
    "start_time": "2022-02-28T08:17:26.544Z"
   },
   {
    "duration": 24,
    "start_time": "2022-02-28T08:17:26.608Z"
   },
   {
    "duration": 61,
    "start_time": "2022-02-28T08:17:26.634Z"
   },
   {
    "duration": 19,
    "start_time": "2022-02-28T08:17:26.697Z"
   },
   {
    "duration": 48,
    "start_time": "2022-02-28T08:17:26.718Z"
   },
   {
    "duration": 7,
    "start_time": "2022-02-28T08:17:26.768Z"
   },
   {
    "duration": 19,
    "start_time": "2022-02-28T08:17:26.779Z"
   },
   {
    "duration": 12,
    "start_time": "2022-02-28T08:17:26.800Z"
   },
   {
    "duration": 22,
    "start_time": "2022-02-28T08:17:26.814Z"
   },
   {
    "duration": 99,
    "start_time": "2022-02-28T08:17:26.838Z"
   },
   {
    "duration": 52,
    "start_time": "2022-02-28T08:17:26.939Z"
   },
   {
    "duration": 8,
    "start_time": "2022-02-28T08:17:26.993Z"
   },
   {
    "duration": 25,
    "start_time": "2022-02-28T08:17:27.003Z"
   },
   {
    "duration": 961,
    "start_time": "2022-02-28T08:17:27.030Z"
   },
   {
    "duration": 8,
    "start_time": "2022-02-28T08:17:27.992Z"
   },
   {
    "duration": 127,
    "start_time": "2022-02-28T08:17:28.001Z"
   },
   {
    "duration": 7,
    "start_time": "2022-02-28T08:17:28.130Z"
   },
   {
    "duration": 79,
    "start_time": "2022-02-28T08:17:28.138Z"
   },
   {
    "duration": -596,
    "start_time": "2022-02-28T08:17:28.815Z"
   },
   {
    "duration": -598,
    "start_time": "2022-02-28T08:17:28.818Z"
   },
   {
    "duration": 561,
    "start_time": "2022-02-28T08:18:31.058Z"
   },
   {
    "duration": 90,
    "start_time": "2022-02-28T08:18:41.434Z"
   },
   {
    "duration": 6,
    "start_time": "2022-02-28T08:18:58.823Z"
   },
   {
    "duration": 8,
    "start_time": "2022-02-28T08:21:00.581Z"
   },
   {
    "duration": 13,
    "start_time": "2022-02-28T08:22:04.036Z"
   },
   {
    "duration": 15,
    "start_time": "2022-02-28T08:39:40.811Z"
   },
   {
    "duration": 134,
    "start_time": "2022-02-28T08:49:01.155Z"
   },
   {
    "duration": 23,
    "start_time": "2022-02-28T08:49:08.736Z"
   },
   {
    "duration": 544,
    "start_time": "2022-02-28T08:53:10.385Z"
   },
   {
    "duration": 290,
    "start_time": "2022-02-28T08:56:24.411Z"
   },
   {
    "duration": 356,
    "start_time": "2022-02-28T08:57:49.972Z"
   },
   {
    "duration": 20,
    "start_time": "2022-02-28T08:58:27.668Z"
   },
   {
    "duration": 23,
    "start_time": "2022-02-28T08:59:10.193Z"
   },
   {
    "duration": 1060,
    "start_time": "2022-02-28T09:01:01.092Z"
   },
   {
    "duration": 30,
    "start_time": "2022-02-28T09:01:02.154Z"
   },
   {
    "duration": 76,
    "start_time": "2022-02-28T09:01:02.187Z"
   },
   {
    "duration": 49,
    "start_time": "2022-02-28T09:01:02.265Z"
   },
   {
    "duration": 58,
    "start_time": "2022-02-28T09:01:02.316Z"
   },
   {
    "duration": 20,
    "start_time": "2022-02-28T09:01:02.376Z"
   },
   {
    "duration": 54,
    "start_time": "2022-02-28T09:01:02.397Z"
   },
   {
    "duration": 8,
    "start_time": "2022-02-28T09:01:02.454Z"
   },
   {
    "duration": 41,
    "start_time": "2022-02-28T09:01:02.464Z"
   },
   {
    "duration": 16,
    "start_time": "2022-02-28T09:01:02.507Z"
   },
   {
    "duration": 32,
    "start_time": "2022-02-28T09:01:02.525Z"
   },
   {
    "duration": 120,
    "start_time": "2022-02-28T09:01:02.559Z"
   },
   {
    "duration": 41,
    "start_time": "2022-02-28T09:01:02.681Z"
   },
   {
    "duration": 8,
    "start_time": "2022-02-28T09:01:02.724Z"
   },
   {
    "duration": 35,
    "start_time": "2022-02-28T09:01:02.733Z"
   },
   {
    "duration": 943,
    "start_time": "2022-02-28T09:01:02.770Z"
   },
   {
    "duration": 7,
    "start_time": "2022-02-28T09:01:03.715Z"
   },
   {
    "duration": 124,
    "start_time": "2022-02-28T09:01:03.723Z"
   },
   {
    "duration": 15,
    "start_time": "2022-02-28T09:01:03.848Z"
   },
   {
    "duration": 555,
    "start_time": "2022-02-28T09:01:03.865Z"
   },
   {
    "duration": 288,
    "start_time": "2022-02-28T09:01:04.421Z"
   },
   {
    "duration": 287,
    "start_time": "2022-02-28T09:01:04.711Z"
   },
   {
    "duration": 24,
    "start_time": "2022-02-28T09:01:05.001Z"
   },
   {
    "duration": 634,
    "start_time": "2022-02-28T10:42:46.276Z"
   },
   {
    "duration": 553,
    "start_time": "2022-02-28T10:43:28.523Z"
   },
   {
    "duration": 578,
    "start_time": "2022-02-28T10:43:59.099Z"
   },
   {
    "duration": 766,
    "start_time": "2022-02-28T14:05:14.530Z"
   },
   {
    "duration": 1026,
    "start_time": "2022-02-28T20:21:03.151Z"
   },
   {
    "duration": 27,
    "start_time": "2022-02-28T20:21:04.179Z"
   },
   {
    "duration": 50,
    "start_time": "2022-02-28T20:21:04.208Z"
   },
   {
    "duration": 21,
    "start_time": "2022-02-28T20:21:04.260Z"
   },
   {
    "duration": 84,
    "start_time": "2022-02-28T20:21:04.283Z"
   },
   {
    "duration": 25,
    "start_time": "2022-02-28T20:21:04.369Z"
   },
   {
    "duration": 36,
    "start_time": "2022-02-28T20:21:04.406Z"
   },
   {
    "duration": 6,
    "start_time": "2022-02-28T20:21:04.444Z"
   },
   {
    "duration": 14,
    "start_time": "2022-02-28T20:21:04.452Z"
   },
   {
    "duration": 11,
    "start_time": "2022-02-28T20:21:04.467Z"
   },
   {
    "duration": 32,
    "start_time": "2022-02-28T20:21:04.479Z"
   },
   {
    "duration": 70,
    "start_time": "2022-02-28T20:21:04.512Z"
   },
   {
    "duration": 44,
    "start_time": "2022-02-28T20:21:04.584Z"
   },
   {
    "duration": 7,
    "start_time": "2022-02-28T20:21:04.629Z"
   },
   {
    "duration": 17,
    "start_time": "2022-02-28T20:21:04.638Z"
   },
   {
    "duration": 798,
    "start_time": "2022-02-28T20:21:04.656Z"
   },
   {
    "duration": 6,
    "start_time": "2022-02-28T20:21:05.455Z"
   },
   {
    "duration": 99,
    "start_time": "2022-02-28T20:21:05.462Z"
   },
   {
    "duration": 6,
    "start_time": "2022-02-28T20:21:05.563Z"
   },
   {
    "duration": 507,
    "start_time": "2022-02-28T20:21:05.570Z"
   },
   {
    "duration": 238,
    "start_time": "2022-02-28T20:21:06.078Z"
   },
   {
    "duration": 242,
    "start_time": "2022-02-28T20:21:06.317Z"
   },
   {
    "duration": 12,
    "start_time": "2022-02-28T20:21:06.561Z"
   },
   {
    "duration": 516,
    "start_time": "2022-02-28T20:21:50.367Z"
   },
   {
    "duration": 497,
    "start_time": "2022-02-28T20:22:11.634Z"
   },
   {
    "duration": 564,
    "start_time": "2022-02-28T20:22:36.188Z"
   },
   {
    "duration": 100,
    "start_time": "2022-02-28T20:23:08.524Z"
   },
   {
    "duration": 534,
    "start_time": "2022-02-28T20:23:44.896Z"
   },
   {
    "duration": 828,
    "start_time": "2022-02-28T20:43:54.355Z"
   },
   {
    "duration": 938,
    "start_time": "2022-02-28T20:44:15.540Z"
   },
   {
    "duration": 29,
    "start_time": "2022-02-28T20:44:16.479Z"
   },
   {
    "duration": 48,
    "start_time": "2022-02-28T20:44:16.510Z"
   },
   {
    "duration": 18,
    "start_time": "2022-02-28T20:44:16.560Z"
   },
   {
    "duration": 50,
    "start_time": "2022-02-28T20:44:16.579Z"
   },
   {
    "duration": 15,
    "start_time": "2022-02-28T20:44:16.631Z"
   },
   {
    "duration": 26,
    "start_time": "2022-02-28T20:44:16.648Z"
   },
   {
    "duration": 6,
    "start_time": "2022-02-28T20:44:16.676Z"
   },
   {
    "duration": 29,
    "start_time": "2022-02-28T20:44:16.684Z"
   },
   {
    "duration": 10,
    "start_time": "2022-02-28T20:44:16.714Z"
   },
   {
    "duration": 13,
    "start_time": "2022-02-28T20:44:16.725Z"
   },
   {
    "duration": 94,
    "start_time": "2022-02-28T20:44:16.739Z"
   },
   {
    "duration": 32,
    "start_time": "2022-02-28T20:44:16.835Z"
   },
   {
    "duration": 8,
    "start_time": "2022-02-28T20:44:16.868Z"
   },
   {
    "duration": 31,
    "start_time": "2022-02-28T20:44:16.877Z"
   },
   {
    "duration": 813,
    "start_time": "2022-02-28T20:44:16.910Z"
   },
   {
    "duration": 6,
    "start_time": "2022-02-28T20:44:17.724Z"
   },
   {
    "duration": 100,
    "start_time": "2022-02-28T20:44:17.732Z"
   },
   {
    "duration": 6,
    "start_time": "2022-02-28T20:44:17.834Z"
   },
   {
    "duration": 834,
    "start_time": "2022-02-28T20:44:17.842Z"
   },
   {
    "duration": 490,
    "start_time": "2022-02-28T20:44:18.187Z"
   },
   {
    "duration": 488,
    "start_time": "2022-02-28T20:44:18.190Z"
   },
   {
    "duration": 486,
    "start_time": "2022-02-28T20:44:18.193Z"
   },
   {
    "duration": 488,
    "start_time": "2022-02-28T20:44:44.217Z"
   },
   {
    "duration": 311,
    "start_time": "2022-03-01T19:56:06.210Z"
   },
   {
    "duration": 925,
    "start_time": "2022-03-01T19:56:16.048Z"
   },
   {
    "duration": 26,
    "start_time": "2022-03-01T19:56:16.974Z"
   },
   {
    "duration": 50,
    "start_time": "2022-03-01T19:56:17.001Z"
   },
   {
    "duration": 18,
    "start_time": "2022-03-01T19:56:17.053Z"
   },
   {
    "duration": 54,
    "start_time": "2022-03-01T19:56:17.073Z"
   },
   {
    "duration": 15,
    "start_time": "2022-03-01T19:56:17.129Z"
   },
   {
    "duration": 27,
    "start_time": "2022-03-01T19:56:17.145Z"
   },
   {
    "duration": 6,
    "start_time": "2022-03-01T19:56:17.174Z"
   },
   {
    "duration": 32,
    "start_time": "2022-03-01T19:56:17.182Z"
   },
   {
    "duration": 13,
    "start_time": "2022-03-01T19:56:17.215Z"
   },
   {
    "duration": 29,
    "start_time": "2022-03-01T19:56:17.229Z"
   },
   {
    "duration": 80,
    "start_time": "2022-03-01T19:56:17.259Z"
   },
   {
    "duration": 32,
    "start_time": "2022-03-01T19:56:17.340Z"
   },
   {
    "duration": 7,
    "start_time": "2022-03-01T19:56:17.373Z"
   },
   {
    "duration": 26,
    "start_time": "2022-03-01T19:56:17.381Z"
   },
   {
    "duration": 876,
    "start_time": "2022-03-01T19:56:17.408Z"
   },
   {
    "duration": 8,
    "start_time": "2022-03-01T19:56:18.285Z"
   },
   {
    "duration": 100,
    "start_time": "2022-03-01T19:56:18.295Z"
   },
   {
    "duration": 13,
    "start_time": "2022-03-01T19:56:18.396Z"
   },
   {
    "duration": 498,
    "start_time": "2022-03-01T19:56:18.410Z"
   },
   {
    "duration": 247,
    "start_time": "2022-03-01T19:56:18.910Z"
   },
   {
    "duration": 248,
    "start_time": "2022-03-01T19:56:19.159Z"
   },
   {
    "duration": 13,
    "start_time": "2022-03-01T19:56:19.409Z"
   },
   {
    "duration": 243,
    "start_time": "2022-03-01T19:57:55.574Z"
   },
   {
    "duration": 297,
    "start_time": "2022-03-01T19:58:19.413Z"
   },
   {
    "duration": 235,
    "start_time": "2022-03-01T19:58:55.574Z"
   },
   {
    "duration": 241,
    "start_time": "2022-03-01T20:48:12.875Z"
   },
   {
    "duration": 295,
    "start_time": "2022-03-05T10:02:19.305Z"
   },
   {
    "duration": 1377,
    "start_time": "2022-03-05T10:02:34.878Z"
   },
   {
    "duration": 38,
    "start_time": "2022-03-05T10:02:36.258Z"
   },
   {
    "duration": 84,
    "start_time": "2022-03-05T10:02:36.299Z"
   },
   {
    "duration": 32,
    "start_time": "2022-03-05T10:02:36.386Z"
   },
   {
    "duration": 91,
    "start_time": "2022-03-05T10:02:36.421Z"
   },
   {
    "duration": 26,
    "start_time": "2022-03-05T10:02:36.515Z"
   },
   {
    "duration": 65,
    "start_time": "2022-03-05T10:02:36.544Z"
   },
   {
    "duration": 12,
    "start_time": "2022-03-05T10:02:36.613Z"
   },
   {
    "duration": 21,
    "start_time": "2022-03-05T10:02:36.628Z"
   },
   {
    "duration": 18,
    "start_time": "2022-03-05T10:02:36.674Z"
   },
   {
    "duration": 25,
    "start_time": "2022-03-05T10:02:36.694Z"
   },
   {
    "duration": 151,
    "start_time": "2022-03-05T10:02:36.722Z"
   },
   {
    "duration": 59,
    "start_time": "2022-03-05T10:02:36.876Z"
   },
   {
    "duration": 35,
    "start_time": "2022-03-05T10:02:36.938Z"
   },
   {
    "duration": 29,
    "start_time": "2022-03-05T10:02:36.977Z"
   },
   {
    "duration": 1658,
    "start_time": "2022-03-05T10:02:37.009Z"
   },
   {
    "duration": 13,
    "start_time": "2022-03-05T10:02:38.674Z"
   },
   {
    "duration": 212,
    "start_time": "2022-03-05T10:02:38.689Z"
   },
   {
    "duration": 11,
    "start_time": "2022-03-05T10:02:38.903Z"
   },
   {
    "duration": 1089,
    "start_time": "2022-03-05T10:02:38.916Z"
   },
   {
    "duration": 588,
    "start_time": "2022-03-05T10:02:40.008Z"
   },
   {
    "duration": 511,
    "start_time": "2022-03-05T10:02:40.599Z"
   },
   {
    "duration": 6495,
    "start_time": "2022-03-05T10:02:41.114Z"
   },
   {
    "duration": 8,
    "start_time": "2022-03-05T10:14:41.181Z"
   },
   {
    "duration": 16,
    "start_time": "2022-03-05T10:14:54.298Z"
   },
   {
    "duration": 475,
    "start_time": "2022-03-05T10:33:24.304Z"
   },
   {
    "duration": 10,
    "start_time": "2022-03-05T10:33:45.411Z"
   },
   {
    "duration": 13,
    "start_time": "2022-03-05T10:33:55.064Z"
   },
   {
    "duration": 16,
    "start_time": "2022-03-05T10:34:13.826Z"
   },
   {
    "duration": 18,
    "start_time": "2022-03-05T10:35:05.422Z"
   },
   {
    "duration": 19,
    "start_time": "2022-03-05T10:35:13.827Z"
   },
   {
    "duration": 999,
    "start_time": "2022-03-05T10:45:41.273Z"
   },
   {
    "duration": 24,
    "start_time": "2022-03-05T10:48:36.126Z"
   },
   {
    "duration": 26,
    "start_time": "2022-03-05T10:48:54.085Z"
   },
   {
    "duration": 1001,
    "start_time": "2022-03-05T10:49:23.514Z"
   },
   {
    "duration": 41,
    "start_time": "2022-03-05T10:49:36.967Z"
   },
   {
    "duration": 1505,
    "start_time": "2022-03-05T10:49:50.143Z"
   },
   {
    "duration": 44,
    "start_time": "2022-03-05T10:49:51.651Z"
   },
   {
    "duration": 102,
    "start_time": "2022-03-05T10:49:51.698Z"
   },
   {
    "duration": 30,
    "start_time": "2022-03-05T10:49:51.803Z"
   },
   {
    "duration": 96,
    "start_time": "2022-03-05T10:49:51.836Z"
   },
   {
    "duration": 40,
    "start_time": "2022-03-05T10:49:51.934Z"
   },
   {
    "duration": 52,
    "start_time": "2022-03-05T10:49:51.978Z"
   },
   {
    "duration": 38,
    "start_time": "2022-03-05T10:49:52.035Z"
   },
   {
    "duration": 25,
    "start_time": "2022-03-05T10:49:52.078Z"
   },
   {
    "duration": 22,
    "start_time": "2022-03-05T10:49:52.106Z"
   },
   {
    "duration": 72,
    "start_time": "2022-03-05T10:49:52.130Z"
   },
   {
    "duration": 142,
    "start_time": "2022-03-05T10:49:52.205Z"
   },
   {
    "duration": 69,
    "start_time": "2022-03-05T10:49:52.350Z"
   },
   {
    "duration": 13,
    "start_time": "2022-03-05T10:49:52.421Z"
   },
   {
    "duration": 54,
    "start_time": "2022-03-05T10:49:52.436Z"
   },
   {
    "duration": 1805,
    "start_time": "2022-03-05T10:49:52.493Z"
   },
   {
    "duration": 11,
    "start_time": "2022-03-05T10:49:54.301Z"
   },
   {
    "duration": 212,
    "start_time": "2022-03-05T10:49:54.314Z"
   },
   {
    "duration": 11,
    "start_time": "2022-03-05T10:49:54.528Z"
   },
   {
    "duration": 1038,
    "start_time": "2022-03-05T10:49:54.542Z"
   },
   {
    "duration": 540,
    "start_time": "2022-03-05T10:49:55.583Z"
   },
   {
    "duration": 547,
    "start_time": "2022-03-05T10:49:56.126Z"
   },
   {
    "duration": 38,
    "start_time": "2022-03-05T10:49:56.679Z"
   },
   {
    "duration": 24,
    "start_time": "2022-03-05T10:50:33.414Z"
   },
   {
    "duration": 12,
    "start_time": "2022-03-05T10:56:05.965Z"
   },
   {
    "duration": 377,
    "start_time": "2022-03-05T10:56:24.186Z"
   },
   {
    "duration": 1344,
    "start_time": "2022-03-05T10:57:54.715Z"
   },
   {
    "duration": 7,
    "start_time": "2022-03-05T10:58:02.597Z"
   },
   {
    "duration": 7,
    "start_time": "2022-03-05T11:00:24.327Z"
   },
   {
    "duration": 1379,
    "start_time": "2022-03-05T18:27:18.247Z"
   },
   {
    "duration": 27,
    "start_time": "2022-03-05T18:27:19.628Z"
   },
   {
    "duration": 50,
    "start_time": "2022-03-05T18:27:19.657Z"
   },
   {
    "duration": 25,
    "start_time": "2022-03-05T18:27:19.711Z"
   },
   {
    "duration": 38,
    "start_time": "2022-03-05T18:27:19.737Z"
   },
   {
    "duration": 38,
    "start_time": "2022-03-05T18:27:19.776Z"
   },
   {
    "duration": 30,
    "start_time": "2022-03-05T18:27:19.816Z"
   },
   {
    "duration": 7,
    "start_time": "2022-03-05T18:27:19.848Z"
   },
   {
    "duration": 12,
    "start_time": "2022-03-05T18:27:19.856Z"
   },
   {
    "duration": 33,
    "start_time": "2022-03-05T18:27:19.869Z"
   },
   {
    "duration": 18,
    "start_time": "2022-03-05T18:27:19.905Z"
   },
   {
    "duration": 89,
    "start_time": "2022-03-05T18:27:19.925Z"
   },
   {
    "duration": 33,
    "start_time": "2022-03-05T18:27:20.016Z"
   },
   {
    "duration": 7,
    "start_time": "2022-03-05T18:27:20.051Z"
   },
   {
    "duration": 17,
    "start_time": "2022-03-05T18:27:20.060Z"
   },
   {
    "duration": 873,
    "start_time": "2022-03-05T18:27:20.079Z"
   },
   {
    "duration": 8,
    "start_time": "2022-03-05T18:27:20.954Z"
   },
   {
    "duration": 123,
    "start_time": "2022-03-05T18:27:20.963Z"
   },
   {
    "duration": 14,
    "start_time": "2022-03-05T18:27:21.088Z"
   },
   {
    "duration": 545,
    "start_time": "2022-03-05T18:27:21.105Z"
   },
   {
    "duration": 335,
    "start_time": "2022-03-05T18:27:21.652Z"
   },
   {
    "duration": 278,
    "start_time": "2022-03-05T18:27:21.988Z"
   },
   {
    "duration": 10,
    "start_time": "2022-03-05T18:27:22.268Z"
   },
   {
    "duration": 28,
    "start_time": "2022-03-05T18:27:22.279Z"
   },
   {
    "duration": 6,
    "start_time": "2022-03-05T18:27:22.309Z"
   },
   {
    "duration": 1968,
    "start_time": "2022-03-06T18:26:54.561Z"
   },
   {
    "duration": 54,
    "start_time": "2022-03-06T18:26:56.532Z"
   },
   {
    "duration": 137,
    "start_time": "2022-03-06T18:26:56.590Z"
   },
   {
    "duration": 56,
    "start_time": "2022-03-06T18:26:56.731Z"
   },
   {
    "duration": 82,
    "start_time": "2022-03-06T18:26:56.789Z"
   },
   {
    "duration": 26,
    "start_time": "2022-03-06T18:26:56.873Z"
   },
   {
    "duration": 68,
    "start_time": "2022-03-06T18:26:56.902Z"
   },
   {
    "duration": 11,
    "start_time": "2022-03-06T18:26:56.974Z"
   },
   {
    "duration": 29,
    "start_time": "2022-03-06T18:26:56.989Z"
   },
   {
    "duration": 23,
    "start_time": "2022-03-06T18:26:57.053Z"
   },
   {
    "duration": 35,
    "start_time": "2022-03-06T18:26:57.079Z"
   },
   {
    "duration": 162,
    "start_time": "2022-03-06T18:26:57.151Z"
   },
   {
    "duration": 89,
    "start_time": "2022-03-06T18:26:57.316Z"
   },
   {
    "duration": 12,
    "start_time": "2022-03-06T18:26:57.407Z"
   },
   {
    "duration": 46,
    "start_time": "2022-03-06T18:26:57.421Z"
   },
   {
    "duration": 1482,
    "start_time": "2022-03-06T18:26:57.469Z"
   },
   {
    "duration": 13,
    "start_time": "2022-03-06T18:26:58.954Z"
   },
   {
    "duration": 315,
    "start_time": "2022-03-06T18:26:58.970Z"
   },
   {
    "duration": 13,
    "start_time": "2022-03-06T18:26:59.288Z"
   },
   {
    "duration": 1352,
    "start_time": "2022-03-06T18:26:59.304Z"
   },
   {
    "duration": 579,
    "start_time": "2022-03-06T18:27:00.658Z"
   },
   {
    "duration": 526,
    "start_time": "2022-03-06T18:27:01.239Z"
   },
   {
    "duration": 19,
    "start_time": "2022-03-06T18:27:01.769Z"
   },
   {
    "duration": 16,
    "start_time": "2022-03-06T18:27:01.792Z"
   },
   {
    "duration": 41,
    "start_time": "2022-03-06T18:27:01.811Z"
   },
   {
    "duration": 335,
    "start_time": "2022-03-06T18:56:13.523Z"
   },
   {
    "duration": 1688,
    "start_time": "2022-03-06T18:56:25.770Z"
   },
   {
    "duration": 39,
    "start_time": "2022-03-06T18:56:27.461Z"
   },
   {
    "duration": 89,
    "start_time": "2022-03-06T18:56:27.502Z"
   },
   {
    "duration": 32,
    "start_time": "2022-03-06T18:56:27.594Z"
   },
   {
    "duration": 79,
    "start_time": "2022-03-06T18:56:27.629Z"
   },
   {
    "duration": 45,
    "start_time": "2022-03-06T18:56:27.711Z"
   },
   {
    "duration": 43,
    "start_time": "2022-03-06T18:56:27.759Z"
   },
   {
    "duration": 10,
    "start_time": "2022-03-06T18:56:27.806Z"
   },
   {
    "duration": 47,
    "start_time": "2022-03-06T18:56:27.819Z"
   },
   {
    "duration": 16,
    "start_time": "2022-03-06T18:56:27.869Z"
   },
   {
    "duration": 25,
    "start_time": "2022-03-06T18:56:27.888Z"
   },
   {
    "duration": 145,
    "start_time": "2022-03-06T18:56:27.915Z"
   },
   {
    "duration": 54,
    "start_time": "2022-03-06T18:56:28.062Z"
   },
   {
    "duration": 12,
    "start_time": "2022-03-06T18:56:28.118Z"
   },
   {
    "duration": 28,
    "start_time": "2022-03-06T18:56:28.152Z"
   },
   {
    "duration": 1408,
    "start_time": "2022-03-06T18:56:28.183Z"
   },
   {
    "duration": 10,
    "start_time": "2022-03-06T18:56:29.593Z"
   },
   {
    "duration": 195,
    "start_time": "2022-03-06T18:56:29.605Z"
   },
   {
    "duration": 10,
    "start_time": "2022-03-06T18:56:29.802Z"
   },
   {
    "duration": 987,
    "start_time": "2022-03-06T18:56:29.814Z"
   },
   {
    "duration": 574,
    "start_time": "2022-03-06T18:56:30.803Z"
   },
   {
    "duration": 504,
    "start_time": "2022-03-06T18:56:31.379Z"
   },
   {
    "duration": 19,
    "start_time": "2022-03-06T18:56:31.887Z"
   },
   {
    "duration": 10,
    "start_time": "2022-03-06T18:56:31.909Z"
   },
   {
    "duration": 6,
    "start_time": "2022-03-06T18:56:31.951Z"
   },
   {
    "duration": 5,
    "start_time": "2022-03-06T18:56:31.960Z"
   },
   {
    "duration": 6,
    "start_time": "2022-03-06T18:59:18.410Z"
   },
   {
    "duration": 69,
    "start_time": "2022-03-06T18:59:27.702Z"
   },
   {
    "duration": 5,
    "start_time": "2022-03-06T18:59:37.369Z"
   },
   {
    "duration": 6,
    "start_time": "2022-03-06T18:59:45.014Z"
   },
   {
    "duration": 7,
    "start_time": "2022-03-06T19:00:08.516Z"
   },
   {
    "duration": 18,
    "start_time": "2022-03-06T19:11:31.965Z"
   },
   {
    "duration": 10,
    "start_time": "2022-03-06T19:11:32.494Z"
   },
   {
    "duration": 7,
    "start_time": "2022-03-06T19:11:32.890Z"
   },
   {
    "duration": 7,
    "start_time": "2022-03-06T19:11:34.942Z"
   },
   {
    "duration": 8,
    "start_time": "2022-03-06T19:13:45.390Z"
   },
   {
    "duration": 20,
    "start_time": "2022-03-06T19:14:09.873Z"
   },
   {
    "duration": 8,
    "start_time": "2022-03-06T19:14:18.878Z"
   },
   {
    "duration": 18,
    "start_time": "2022-03-06T19:15:09.022Z"
   },
   {
    "duration": 18,
    "start_time": "2022-03-06T19:15:32.462Z"
   },
   {
    "duration": 3249,
    "start_time": "2022-03-06T19:19:28.879Z"
   },
   {
    "duration": -86,
    "start_time": "2022-03-06T19:19:32.217Z"
   },
   {
    "duration": 1870,
    "start_time": "2022-03-06T19:19:42.620Z"
   },
   {
    "duration": 41,
    "start_time": "2022-03-06T19:19:44.492Z"
   },
   {
    "duration": 79,
    "start_time": "2022-03-06T19:19:44.536Z"
   },
   {
    "duration": 43,
    "start_time": "2022-03-06T19:19:44.619Z"
   },
   {
    "duration": 61,
    "start_time": "2022-03-06T19:19:44.665Z"
   },
   {
    "duration": 49,
    "start_time": "2022-03-06T19:19:44.729Z"
   },
   {
    "duration": 70,
    "start_time": "2022-03-06T19:19:44.781Z"
   },
   {
    "duration": 12,
    "start_time": "2022-03-06T19:19:44.857Z"
   },
   {
    "duration": 34,
    "start_time": "2022-03-06T19:19:44.874Z"
   },
   {
    "duration": 59,
    "start_time": "2022-03-06T19:19:44.912Z"
   },
   {
    "duration": 26,
    "start_time": "2022-03-06T19:19:44.973Z"
   },
   {
    "duration": 141,
    "start_time": "2022-03-06T19:19:45.001Z"
   },
   {
    "duration": 53,
    "start_time": "2022-03-06T19:19:45.145Z"
   },
   {
    "duration": 13,
    "start_time": "2022-03-06T19:19:45.201Z"
   },
   {
    "duration": 51,
    "start_time": "2022-03-06T19:19:45.216Z"
   },
   {
    "duration": 1442,
    "start_time": "2022-03-06T19:19:45.270Z"
   },
   {
    "duration": 11,
    "start_time": "2022-03-06T19:19:46.715Z"
   },
   {
    "duration": 196,
    "start_time": "2022-03-06T19:19:46.729Z"
   },
   {
    "duration": 24,
    "start_time": "2022-03-06T19:19:46.928Z"
   },
   {
    "duration": 965,
    "start_time": "2022-03-06T19:19:46.955Z"
   },
   {
    "duration": 583,
    "start_time": "2022-03-06T19:19:47.922Z"
   },
   {
    "duration": 816,
    "start_time": "2022-03-06T19:19:48.509Z"
   },
   {
    "duration": 37,
    "start_time": "2022-03-06T19:19:49.331Z"
   },
   {
    "duration": 16,
    "start_time": "2022-03-06T19:19:49.372Z"
   },
   {
    "duration": 10,
    "start_time": "2022-03-06T19:19:49.392Z"
   },
   {
    "duration": 47,
    "start_time": "2022-03-06T19:19:49.405Z"
   },
   {
    "duration": 25,
    "start_time": "2022-03-06T19:19:49.456Z"
   },
   {
    "duration": 12,
    "start_time": "2022-03-06T19:19:49.485Z"
   },
   {
    "duration": 3148,
    "start_time": "2022-03-06T19:27:13.010Z"
   },
   {
    "duration": 1819,
    "start_time": "2022-03-06T19:27:30.373Z"
   },
   {
    "duration": 40,
    "start_time": "2022-03-06T19:27:32.195Z"
   },
   {
    "duration": 77,
    "start_time": "2022-03-06T19:27:32.238Z"
   },
   {
    "duration": 44,
    "start_time": "2022-03-06T19:27:32.317Z"
   },
   {
    "duration": 61,
    "start_time": "2022-03-06T19:27:32.364Z"
   },
   {
    "duration": 47,
    "start_time": "2022-03-06T19:27:32.428Z"
   },
   {
    "duration": 44,
    "start_time": "2022-03-06T19:27:32.477Z"
   },
   {
    "duration": 36,
    "start_time": "2022-03-06T19:27:32.525Z"
   },
   {
    "duration": 22,
    "start_time": "2022-03-06T19:27:32.565Z"
   },
   {
    "duration": 21,
    "start_time": "2022-03-06T19:27:32.590Z"
   },
   {
    "duration": 64,
    "start_time": "2022-03-06T19:27:32.613Z"
   },
   {
    "duration": 139,
    "start_time": "2022-03-06T19:27:32.679Z"
   },
   {
    "duration": 61,
    "start_time": "2022-03-06T19:27:32.821Z"
   },
   {
    "duration": 13,
    "start_time": "2022-03-06T19:27:32.884Z"
   },
   {
    "duration": 53,
    "start_time": "2022-03-06T19:27:32.900Z"
   },
   {
    "duration": 1455,
    "start_time": "2022-03-06T19:27:32.955Z"
   },
   {
    "duration": 11,
    "start_time": "2022-03-06T19:27:34.412Z"
   },
   {
    "duration": 200,
    "start_time": "2022-03-06T19:27:34.425Z"
   },
   {
    "duration": 24,
    "start_time": "2022-03-06T19:27:34.628Z"
   },
   {
    "duration": 1150,
    "start_time": "2022-03-06T19:27:34.655Z"
   },
   {
    "duration": 577,
    "start_time": "2022-03-06T19:27:35.807Z"
   },
   {
    "duration": 528,
    "start_time": "2022-03-06T19:27:36.386Z"
   },
   {
    "duration": 38,
    "start_time": "2022-03-06T19:27:36.918Z"
   },
   {
    "duration": 15,
    "start_time": "2022-03-06T19:27:36.959Z"
   },
   {
    "duration": 9,
    "start_time": "2022-03-06T19:27:36.977Z"
   },
   {
    "duration": 12,
    "start_time": "2022-03-06T19:27:36.988Z"
   },
   {
    "duration": 49,
    "start_time": "2022-03-06T19:27:37.002Z"
   },
   {
    "duration": 3017,
    "start_time": "2022-03-06T19:27:37.054Z"
   },
   {
    "duration": -23,
    "start_time": "2022-03-06T19:27:40.097Z"
   },
   {
    "duration": 2611,
    "start_time": "2022-03-06T19:29:26.642Z"
   },
   {
    "duration": 65,
    "start_time": "2022-03-06T19:29:29.257Z"
   },
   {
    "duration": 161,
    "start_time": "2022-03-06T19:29:29.326Z"
   },
   {
    "duration": 38,
    "start_time": "2022-03-06T19:29:29.491Z"
   },
   {
    "duration": 80,
    "start_time": "2022-03-06T19:29:29.532Z"
   },
   {
    "duration": 50,
    "start_time": "2022-03-06T19:29:29.615Z"
   },
   {
    "duration": 47,
    "start_time": "2022-03-06T19:29:29.668Z"
   },
   {
    "duration": 36,
    "start_time": "2022-03-06T19:29:29.720Z"
   },
   {
    "duration": 22,
    "start_time": "2022-03-06T19:29:29.760Z"
   },
   {
    "duration": 24,
    "start_time": "2022-03-06T19:29:29.785Z"
   },
   {
    "duration": 79,
    "start_time": "2022-03-06T19:29:29.813Z"
   },
   {
    "duration": 188,
    "start_time": "2022-03-06T19:29:29.895Z"
   },
   {
    "duration": 68,
    "start_time": "2022-03-06T19:29:30.086Z"
   },
   {
    "duration": 13,
    "start_time": "2022-03-06T19:29:30.157Z"
   },
   {
    "duration": 30,
    "start_time": "2022-03-06T19:29:30.172Z"
   },
   {
    "duration": 1537,
    "start_time": "2022-03-06T19:29:30.205Z"
   },
   {
    "duration": 15,
    "start_time": "2022-03-06T19:29:31.745Z"
   },
   {
    "duration": 206,
    "start_time": "2022-03-06T19:29:31.763Z"
   },
   {
    "duration": 16,
    "start_time": "2022-03-06T19:29:31.972Z"
   },
   {
    "duration": 996,
    "start_time": "2022-03-06T19:29:31.992Z"
   },
   {
    "duration": 590,
    "start_time": "2022-03-06T19:29:32.991Z"
   },
   {
    "duration": 517,
    "start_time": "2022-03-06T19:29:33.584Z"
   },
   {
    "duration": 19,
    "start_time": "2022-03-06T19:29:34.105Z"
   },
   {
    "duration": 12,
    "start_time": "2022-03-06T19:29:34.152Z"
   },
   {
    "duration": 8,
    "start_time": "2022-03-06T19:29:34.166Z"
   },
   {
    "duration": 7,
    "start_time": "2022-03-06T19:29:34.177Z"
   },
   {
    "duration": 19,
    "start_time": "2022-03-06T19:29:34.187Z"
   },
   {
    "duration": 3502,
    "start_time": "2022-03-06T19:29:34.209Z"
   },
   {
    "duration": -41,
    "start_time": "2022-03-06T19:29:37.755Z"
   },
   {
    "duration": 3047,
    "start_time": "2022-03-06T19:30:58.472Z"
   },
   {
    "duration": 2888,
    "start_time": "2022-03-06T19:31:32.557Z"
   },
   {
    "duration": 1763,
    "start_time": "2022-03-06T19:31:47.115Z"
   },
   {
    "duration": 38,
    "start_time": "2022-03-06T19:31:48.881Z"
   },
   {
    "duration": 80,
    "start_time": "2022-03-06T19:31:48.922Z"
   },
   {
    "duration": 47,
    "start_time": "2022-03-06T19:31:49.005Z"
   },
   {
    "duration": 63,
    "start_time": "2022-03-06T19:31:49.055Z"
   },
   {
    "duration": 39,
    "start_time": "2022-03-06T19:31:49.120Z"
   },
   {
    "duration": 47,
    "start_time": "2022-03-06T19:31:49.161Z"
   },
   {
    "duration": 11,
    "start_time": "2022-03-06T19:31:49.212Z"
   },
   {
    "duration": 22,
    "start_time": "2022-03-06T19:31:49.252Z"
   },
   {
    "duration": 18,
    "start_time": "2022-03-06T19:31:49.276Z"
   },
   {
    "duration": 57,
    "start_time": "2022-03-06T19:31:49.297Z"
   },
   {
    "duration": 138,
    "start_time": "2022-03-06T19:31:49.356Z"
   },
   {
    "duration": 61,
    "start_time": "2022-03-06T19:31:49.497Z"
   },
   {
    "duration": 13,
    "start_time": "2022-03-06T19:31:49.560Z"
   },
   {
    "duration": 26,
    "start_time": "2022-03-06T19:31:49.576Z"
   },
   {
    "duration": 1439,
    "start_time": "2022-03-06T19:31:49.604Z"
   },
   {
    "duration": 10,
    "start_time": "2022-03-06T19:31:51.051Z"
   },
   {
    "duration": 190,
    "start_time": "2022-03-06T19:31:51.063Z"
   },
   {
    "duration": 11,
    "start_time": "2022-03-06T19:31:51.255Z"
   },
   {
    "duration": 971,
    "start_time": "2022-03-06T19:31:51.269Z"
   },
   {
    "duration": 562,
    "start_time": "2022-03-06T19:31:52.243Z"
   },
   {
    "duration": 487,
    "start_time": "2022-03-06T19:31:52.808Z"
   },
   {
    "duration": 16,
    "start_time": "2022-03-06T19:31:53.300Z"
   },
   {
    "duration": 35,
    "start_time": "2022-03-06T19:31:53.318Z"
   },
   {
    "duration": 6,
    "start_time": "2022-03-06T19:31:53.355Z"
   },
   {
    "duration": 6,
    "start_time": "2022-03-06T19:31:53.364Z"
   },
   {
    "duration": 17,
    "start_time": "2022-03-06T19:31:53.372Z"
   },
   {
    "duration": 10,
    "start_time": "2022-03-06T19:31:53.391Z"
   },
   {
    "duration": 50,
    "start_time": "2022-03-06T19:31:53.403Z"
   },
   {
    "duration": 8,
    "start_time": "2022-03-06T19:32:15.792Z"
   },
   {
    "duration": 7,
    "start_time": "2022-03-06T19:35:21.848Z"
   },
   {
    "duration": 6,
    "start_time": "2022-03-06T19:35:51.371Z"
   },
   {
    "duration": 6,
    "start_time": "2022-03-06T19:37:19.434Z"
   },
   {
    "duration": 6,
    "start_time": "2022-03-06T19:37:25.405Z"
   },
   {
    "duration": 1871,
    "start_time": "2022-03-06T20:36:59.845Z"
   },
   {
    "duration": 41,
    "start_time": "2022-03-06T20:37:01.719Z"
   },
   {
    "duration": 90,
    "start_time": "2022-03-06T20:37:01.763Z"
   },
   {
    "duration": 33,
    "start_time": "2022-03-06T20:37:01.856Z"
   },
   {
    "duration": 88,
    "start_time": "2022-03-06T20:37:01.892Z"
   },
   {
    "duration": 28,
    "start_time": "2022-03-06T20:37:01.983Z"
   },
   {
    "duration": 68,
    "start_time": "2022-03-06T20:37:02.014Z"
   },
   {
    "duration": 11,
    "start_time": "2022-03-06T20:37:02.088Z"
   },
   {
    "duration": 54,
    "start_time": "2022-03-06T20:37:02.103Z"
   },
   {
    "duration": 26,
    "start_time": "2022-03-06T20:37:02.160Z"
   },
   {
    "duration": 33,
    "start_time": "2022-03-06T20:37:02.189Z"
   },
   {
    "duration": 143,
    "start_time": "2022-03-06T20:37:02.225Z"
   },
   {
    "duration": 59,
    "start_time": "2022-03-06T20:37:02.371Z"
   },
   {
    "duration": 15,
    "start_time": "2022-03-06T20:37:02.452Z"
   },
   {
    "duration": 28,
    "start_time": "2022-03-06T20:37:02.470Z"
   },
   {
    "duration": 1690,
    "start_time": "2022-03-06T20:37:02.501Z"
   },
   {
    "duration": 11,
    "start_time": "2022-03-06T20:37:04.193Z"
   },
   {
    "duration": 219,
    "start_time": "2022-03-06T20:37:04.206Z"
   },
   {
    "duration": 23,
    "start_time": "2022-03-06T20:37:04.428Z"
   },
   {
    "duration": 997,
    "start_time": "2022-03-06T20:37:04.454Z"
   },
   {
    "duration": 578,
    "start_time": "2022-03-06T20:37:05.454Z"
   },
   {
    "duration": 525,
    "start_time": "2022-03-06T20:37:06.035Z"
   },
   {
    "duration": 25,
    "start_time": "2022-03-06T20:37:06.567Z"
   },
   {
    "duration": 10,
    "start_time": "2022-03-06T20:37:06.595Z"
   },
   {
    "duration": 9,
    "start_time": "2022-03-06T20:37:06.607Z"
   },
   {
    "duration": 14,
    "start_time": "2022-03-06T20:37:06.653Z"
   },
   {
    "duration": 21,
    "start_time": "2022-03-06T20:37:06.670Z"
   },
   {
    "duration": 11,
    "start_time": "2022-03-06T20:37:06.693Z"
   },
   {
    "duration": 11,
    "start_time": "2022-03-06T20:37:06.706Z"
   },
   {
    "duration": 8,
    "start_time": "2022-03-06T20:37:06.752Z"
   },
   {
    "duration": 381,
    "start_time": "2022-03-14T19:36:48.908Z"
   },
   {
    "duration": 28,
    "start_time": "2022-03-14T19:36:49.290Z"
   },
   {
    "duration": 45,
    "start_time": "2022-03-14T19:36:49.320Z"
   },
   {
    "duration": 24,
    "start_time": "2022-03-14T19:36:49.367Z"
   },
   {
    "duration": 42,
    "start_time": "2022-03-14T19:36:49.393Z"
   },
   {
    "duration": 37,
    "start_time": "2022-03-14T19:36:49.436Z"
   },
   {
    "duration": 29,
    "start_time": "2022-03-14T19:36:49.475Z"
   },
   {
    "duration": 7,
    "start_time": "2022-03-14T19:36:49.505Z"
   },
   {
    "duration": 17,
    "start_time": "2022-03-14T19:36:49.514Z"
   },
   {
    "duration": 39,
    "start_time": "2022-03-14T19:36:49.532Z"
   },
   {
    "duration": 14,
    "start_time": "2022-03-14T19:36:49.573Z"
   },
   {
    "duration": 92,
    "start_time": "2022-03-14T19:36:49.589Z"
   },
   {
    "duration": 32,
    "start_time": "2022-03-14T19:36:49.683Z"
   },
   {
    "duration": 6,
    "start_time": "2022-03-14T19:36:49.717Z"
   },
   {
    "duration": 38,
    "start_time": "2022-03-14T19:36:49.725Z"
   },
   {
    "duration": 901,
    "start_time": "2022-03-14T19:36:49.764Z"
   },
   {
    "duration": 7,
    "start_time": "2022-03-14T19:36:50.666Z"
   },
   {
    "duration": 90,
    "start_time": "2022-03-14T19:36:50.674Z"
   },
   {
    "duration": 7,
    "start_time": "2022-03-14T19:36:50.766Z"
   },
   {
    "duration": 554,
    "start_time": "2022-03-14T19:36:50.774Z"
   },
   {
    "duration": 276,
    "start_time": "2022-03-14T19:36:51.330Z"
   },
   {
    "duration": 273,
    "start_time": "2022-03-14T19:36:51.608Z"
   },
   {
    "duration": 9,
    "start_time": "2022-03-14T19:36:51.883Z"
   },
   {
    "duration": 6,
    "start_time": "2022-03-14T19:36:51.894Z"
   },
   {
    "duration": 7,
    "start_time": "2022-03-14T19:36:51.902Z"
   },
   {
    "duration": 7,
    "start_time": "2022-03-14T19:36:51.911Z"
   },
   {
    "duration": 45,
    "start_time": "2022-03-14T19:36:51.920Z"
   },
   {
    "duration": 6,
    "start_time": "2022-03-14T19:36:51.967Z"
   },
   {
    "duration": 6,
    "start_time": "2022-03-14T19:36:51.975Z"
   },
   {
    "duration": 7,
    "start_time": "2022-03-14T19:36:51.982Z"
   },
   {
    "duration": 10,
    "start_time": "2022-03-14T19:48:07.653Z"
   },
   {
    "duration": 14,
    "start_time": "2022-03-14T19:50:08.639Z"
   },
   {
    "duration": 2380,
    "start_time": "2022-03-15T10:15:13.297Z"
   },
   {
    "duration": 58,
    "start_time": "2022-03-15T10:15:15.681Z"
   },
   {
    "duration": 106,
    "start_time": "2022-03-15T10:15:15.742Z"
   },
   {
    "duration": 60,
    "start_time": "2022-03-15T10:15:15.851Z"
   },
   {
    "duration": 108,
    "start_time": "2022-03-15T10:15:15.918Z"
   },
   {
    "duration": 73,
    "start_time": "2022-03-15T10:15:16.029Z"
   },
   {
    "duration": 87,
    "start_time": "2022-03-15T10:15:16.105Z"
   },
   {
    "duration": 20,
    "start_time": "2022-03-15T10:15:16.197Z"
   },
   {
    "duration": 27,
    "start_time": "2022-03-15T10:15:16.222Z"
   },
   {
    "duration": 52,
    "start_time": "2022-03-15T10:15:16.251Z"
   },
   {
    "duration": 43,
    "start_time": "2022-03-15T10:15:16.309Z"
   },
   {
    "duration": 9897,
    "start_time": "2022-03-15T10:15:16.355Z"
   },
   {
    "duration": 1984,
    "start_time": "2022-03-15T10:15:24.271Z"
   },
   {
    "duration": 1980,
    "start_time": "2022-03-15T10:15:24.277Z"
   },
   {
    "duration": 1978,
    "start_time": "2022-03-15T10:15:24.280Z"
   },
   {
    "duration": 1976,
    "start_time": "2022-03-15T10:15:24.284Z"
   },
   {
    "duration": 1974,
    "start_time": "2022-03-15T10:15:24.287Z"
   },
   {
    "duration": 1972,
    "start_time": "2022-03-15T10:15:24.291Z"
   },
   {
    "duration": 1969,
    "start_time": "2022-03-15T10:15:24.295Z"
   },
   {
    "duration": 1968,
    "start_time": "2022-03-15T10:15:24.298Z"
   },
   {
    "duration": 1966,
    "start_time": "2022-03-15T10:15:24.302Z"
   },
   {
    "duration": 1964,
    "start_time": "2022-03-15T10:15:24.305Z"
   },
   {
    "duration": 1962,
    "start_time": "2022-03-15T10:15:24.309Z"
   },
   {
    "duration": 1962,
    "start_time": "2022-03-15T10:15:24.311Z"
   },
   {
    "duration": 1964,
    "start_time": "2022-03-15T10:15:24.314Z"
   },
   {
    "duration": 1971,
    "start_time": "2022-03-15T10:15:24.316Z"
   },
   {
    "duration": 1971,
    "start_time": "2022-03-15T10:15:24.320Z"
   },
   {
    "duration": 1973,
    "start_time": "2022-03-15T10:15:24.323Z"
   },
   {
    "duration": 1975,
    "start_time": "2022-03-15T10:15:24.325Z"
   },
   {
    "duration": 1974,
    "start_time": "2022-03-15T10:15:24.328Z"
   },
   {
    "duration": 132,
    "start_time": "2022-03-15T10:16:13.802Z"
   },
   {
    "duration": 88,
    "start_time": "2022-03-15T10:16:21.221Z"
   },
   {
    "duration": 2231,
    "start_time": "2022-03-15T10:16:54.405Z"
   },
   {
    "duration": 53,
    "start_time": "2022-03-15T10:16:56.639Z"
   },
   {
    "duration": 121,
    "start_time": "2022-03-15T10:16:56.696Z"
   },
   {
    "duration": 40,
    "start_time": "2022-03-15T10:16:56.820Z"
   },
   {
    "duration": 102,
    "start_time": "2022-03-15T10:16:56.863Z"
   },
   {
    "duration": 46,
    "start_time": "2022-03-15T10:16:56.967Z"
   },
   {
    "duration": 97,
    "start_time": "2022-03-15T10:16:57.016Z"
   },
   {
    "duration": 16,
    "start_time": "2022-03-15T10:16:57.118Z"
   },
   {
    "duration": 58,
    "start_time": "2022-03-15T10:16:57.138Z"
   },
   {
    "duration": 38,
    "start_time": "2022-03-15T10:16:57.200Z"
   },
   {
    "duration": 36,
    "start_time": "2022-03-15T10:16:57.241Z"
   },
   {
    "duration": 158,
    "start_time": "2022-03-15T10:16:57.283Z"
   },
   {
    "duration": 71,
    "start_time": "2022-03-15T10:16:57.444Z"
   },
   {
    "duration": 14,
    "start_time": "2022-03-15T10:16:57.518Z"
   },
   {
    "duration": 55,
    "start_time": "2022-03-15T10:16:57.538Z"
   },
   {
    "duration": 2125,
    "start_time": "2022-03-15T10:16:57.600Z"
   },
   {
    "duration": 10,
    "start_time": "2022-03-15T10:16:59.727Z"
   },
   {
    "duration": 265,
    "start_time": "2022-03-15T10:16:59.740Z"
   },
   {
    "duration": 20,
    "start_time": "2022-03-15T10:17:00.009Z"
   },
   {
    "duration": 1300,
    "start_time": "2022-03-15T10:17:00.031Z"
   },
   {
    "duration": 686,
    "start_time": "2022-03-15T10:17:01.334Z"
   },
   {
    "duration": 610,
    "start_time": "2022-03-15T10:17:02.023Z"
   },
   {
    "duration": 43,
    "start_time": "2022-03-15T10:17:02.640Z"
   },
   {
    "duration": 32,
    "start_time": "2022-03-15T10:17:02.687Z"
   },
   {
    "duration": 7,
    "start_time": "2022-03-15T10:17:02.723Z"
   },
   {
    "duration": 21,
    "start_time": "2022-03-15T10:17:02.733Z"
   },
   {
    "duration": 35,
    "start_time": "2022-03-15T10:17:02.757Z"
   },
   {
    "duration": 39,
    "start_time": "2022-03-15T10:17:02.795Z"
   },
   {
    "duration": 12,
    "start_time": "2022-03-15T10:17:02.838Z"
   },
   {
    "duration": 10,
    "start_time": "2022-03-15T10:17:02.853Z"
   },
   {
    "duration": 133,
    "start_time": "2022-03-15T10:27:11.705Z"
   },
   {
    "duration": 142,
    "start_time": "2022-03-15T10:31:04.510Z"
   },
   {
    "duration": 125,
    "start_time": "2022-03-15T10:31:14.125Z"
   },
   {
    "duration": 143,
    "start_time": "2022-03-15T10:31:21.616Z"
   },
   {
    "duration": 2250,
    "start_time": "2022-03-15T10:32:31.213Z"
   },
   {
    "duration": 60,
    "start_time": "2022-03-15T10:32:33.466Z"
   },
   {
    "duration": 115,
    "start_time": "2022-03-15T10:32:33.530Z"
   },
   {
    "duration": 65,
    "start_time": "2022-03-15T10:32:33.647Z"
   },
   {
    "duration": 109,
    "start_time": "2022-03-15T10:32:33.715Z"
   },
   {
    "duration": 49,
    "start_time": "2022-03-15T10:32:33.828Z"
   },
   {
    "duration": 74,
    "start_time": "2022-03-15T10:32:33.880Z"
   },
   {
    "duration": 28,
    "start_time": "2022-03-15T10:32:33.957Z"
   },
   {
    "duration": 58,
    "start_time": "2022-03-15T10:32:33.990Z"
   },
   {
    "duration": 22,
    "start_time": "2022-03-15T10:32:34.052Z"
   },
   {
    "duration": 43,
    "start_time": "2022-03-15T10:32:34.080Z"
   },
   {
    "duration": 185,
    "start_time": "2022-03-15T10:32:34.126Z"
   },
   {
    "duration": 583,
    "start_time": "2022-03-15T10:32:34.313Z"
   },
   {
    "duration": 2104,
    "start_time": "2022-03-15T10:32:32.796Z"
   },
   {
    "duration": 2105,
    "start_time": "2022-03-15T10:32:32.799Z"
   },
   {
    "duration": 2107,
    "start_time": "2022-03-15T10:32:32.801Z"
   },
   {
    "duration": 2100,
    "start_time": "2022-03-15T10:32:32.810Z"
   },
   {
    "duration": 2101,
    "start_time": "2022-03-15T10:32:32.813Z"
   },
   {
    "duration": 2099,
    "start_time": "2022-03-15T10:32:32.816Z"
   },
   {
    "duration": 2102,
    "start_time": "2022-03-15T10:32:32.818Z"
   },
   {
    "duration": 2097,
    "start_time": "2022-03-15T10:32:32.826Z"
   },
   {
    "duration": 2096,
    "start_time": "2022-03-15T10:32:32.829Z"
   },
   {
    "duration": 2094,
    "start_time": "2022-03-15T10:32:32.833Z"
   },
   {
    "duration": 2092,
    "start_time": "2022-03-15T10:32:32.836Z"
   },
   {
    "duration": 2086,
    "start_time": "2022-03-15T10:32:32.844Z"
   },
   {
    "duration": 2084,
    "start_time": "2022-03-15T10:32:32.847Z"
   },
   {
    "duration": 2082,
    "start_time": "2022-03-15T10:32:32.850Z"
   },
   {
    "duration": 2079,
    "start_time": "2022-03-15T10:32:32.855Z"
   },
   {
    "duration": 2073,
    "start_time": "2022-03-15T10:32:32.862Z"
   },
   {
    "duration": 2072,
    "start_time": "2022-03-15T10:32:32.865Z"
   },
   {
    "duration": 148,
    "start_time": "2022-03-15T10:33:10.098Z"
   },
   {
    "duration": 158,
    "start_time": "2022-03-15T10:33:19.547Z"
   },
   {
    "duration": 2051,
    "start_time": "2022-03-15T10:33:32.082Z"
   },
   {
    "duration": 45,
    "start_time": "2022-03-15T10:33:34.136Z"
   },
   {
    "duration": 102,
    "start_time": "2022-03-15T10:33:34.185Z"
   },
   {
    "duration": 36,
    "start_time": "2022-03-15T10:33:34.291Z"
   },
   {
    "duration": 99,
    "start_time": "2022-03-15T10:33:34.330Z"
   },
   {
    "duration": 46,
    "start_time": "2022-03-15T10:33:34.431Z"
   },
   {
    "duration": 58,
    "start_time": "2022-03-15T10:33:34.480Z"
   },
   {
    "duration": 12,
    "start_time": "2022-03-15T10:33:34.541Z"
   },
   {
    "duration": 28,
    "start_time": "2022-03-15T10:33:34.581Z"
   },
   {
    "duration": 19,
    "start_time": "2022-03-15T10:33:34.612Z"
   },
   {
    "duration": 55,
    "start_time": "2022-03-15T10:33:34.633Z"
   },
   {
    "duration": 153,
    "start_time": "2022-03-15T10:33:34.691Z"
   },
   {
    "duration": 82,
    "start_time": "2022-03-15T10:33:34.847Z"
   },
   {
    "duration": 13,
    "start_time": "2022-03-15T10:33:34.931Z"
   },
   {
    "duration": 59,
    "start_time": "2022-03-15T10:33:34.946Z"
   },
   {
    "duration": 1526,
    "start_time": "2022-03-15T10:33:35.007Z"
   },
   {
    "duration": 11,
    "start_time": "2022-03-15T10:33:36.536Z"
   },
   {
    "duration": 234,
    "start_time": "2022-03-15T10:33:36.549Z"
   },
   {
    "duration": 14,
    "start_time": "2022-03-15T10:33:36.786Z"
   },
   {
    "duration": 1053,
    "start_time": "2022-03-15T10:33:36.802Z"
   },
   {
    "duration": 725,
    "start_time": "2022-03-15T10:33:37.857Z"
   },
   {
    "duration": 556,
    "start_time": "2022-03-15T10:33:38.585Z"
   },
   {
    "duration": 37,
    "start_time": "2022-03-15T10:33:39.143Z"
   },
   {
    "duration": 16,
    "start_time": "2022-03-15T10:33:39.183Z"
   },
   {
    "duration": 20,
    "start_time": "2022-03-15T10:33:39.202Z"
   },
   {
    "duration": 10,
    "start_time": "2022-03-15T10:33:39.225Z"
   },
   {
    "duration": 52,
    "start_time": "2022-03-15T10:33:39.241Z"
   },
   {
    "duration": 17,
    "start_time": "2022-03-15T10:33:39.295Z"
   },
   {
    "duration": 8,
    "start_time": "2022-03-15T10:33:39.315Z"
   },
   {
    "duration": 7,
    "start_time": "2022-03-15T10:33:39.326Z"
   },
   {
    "duration": 207,
    "start_time": "2022-03-15T10:33:52.004Z"
   },
   {
    "duration": 203,
    "start_time": "2022-03-15T10:34:02.016Z"
   },
   {
    "duration": 188,
    "start_time": "2022-03-15T10:35:50.868Z"
   },
   {
    "duration": 291,
    "start_time": "2022-03-15T10:38:53.964Z"
   },
   {
    "duration": 251,
    "start_time": "2022-03-15T10:40:38.597Z"
   },
   {
    "duration": 241,
    "start_time": "2022-03-15T10:41:44.521Z"
   },
   {
    "duration": 2077,
    "start_time": "2022-03-15T10:41:51.451Z"
   },
   {
    "duration": 46,
    "start_time": "2022-03-15T10:41:53.532Z"
   },
   {
    "duration": 97,
    "start_time": "2022-03-15T10:41:53.582Z"
   },
   {
    "duration": 47,
    "start_time": "2022-03-15T10:41:53.681Z"
   },
   {
    "duration": 77,
    "start_time": "2022-03-15T10:41:53.731Z"
   },
   {
    "duration": 26,
    "start_time": "2022-03-15T10:41:53.811Z"
   },
   {
    "duration": 67,
    "start_time": "2022-03-15T10:41:53.839Z"
   },
   {
    "duration": 13,
    "start_time": "2022-03-15T10:41:53.908Z"
   },
   {
    "duration": 23,
    "start_time": "2022-03-15T10:41:53.927Z"
   },
   {
    "duration": 39,
    "start_time": "2022-03-15T10:41:53.954Z"
   },
   {
    "duration": 98,
    "start_time": "2022-03-15T10:41:53.995Z"
   },
   {
    "duration": 809,
    "start_time": "2022-03-15T10:41:54.096Z"
   },
   {
    "duration": 1385,
    "start_time": "2022-03-15T10:41:53.523Z"
   },
   {
    "duration": 1385,
    "start_time": "2022-03-15T10:41:53.525Z"
   },
   {
    "duration": 1384,
    "start_time": "2022-03-15T10:41:53.527Z"
   },
   {
    "duration": 1383,
    "start_time": "2022-03-15T10:41:53.530Z"
   },
   {
    "duration": 1382,
    "start_time": "2022-03-15T10:41:53.532Z"
   },
   {
    "duration": 1380,
    "start_time": "2022-03-15T10:41:53.536Z"
   },
   {
    "duration": 1379,
    "start_time": "2022-03-15T10:41:53.538Z"
   },
   {
    "duration": 1377,
    "start_time": "2022-03-15T10:41:53.542Z"
   },
   {
    "duration": 1376,
    "start_time": "2022-03-15T10:41:53.545Z"
   },
   {
    "duration": 1374,
    "start_time": "2022-03-15T10:41:53.548Z"
   },
   {
    "duration": 1373,
    "start_time": "2022-03-15T10:41:53.551Z"
   },
   {
    "duration": 1371,
    "start_time": "2022-03-15T10:41:53.554Z"
   },
   {
    "duration": 1371,
    "start_time": "2022-03-15T10:41:53.556Z"
   },
   {
    "duration": 1370,
    "start_time": "2022-03-15T10:41:53.558Z"
   },
   {
    "duration": 1368,
    "start_time": "2022-03-15T10:41:53.561Z"
   },
   {
    "duration": 1366,
    "start_time": "2022-03-15T10:41:53.565Z"
   },
   {
    "duration": 1364,
    "start_time": "2022-03-15T10:41:53.568Z"
   },
   {
    "duration": 1362,
    "start_time": "2022-03-15T10:41:53.572Z"
   },
   {
    "duration": 245,
    "start_time": "2022-03-15T10:42:17.103Z"
   },
   {
    "duration": 142,
    "start_time": "2022-03-15T10:42:54.748Z"
   },
   {
    "duration": 132,
    "start_time": "2022-03-15T10:42:56.777Z"
   },
   {
    "duration": 111,
    "start_time": "2022-03-15T10:43:06.501Z"
   },
   {
    "duration": 148,
    "start_time": "2022-03-15T10:55:38.988Z"
   },
   {
    "duration": 85,
    "start_time": "2022-03-15T10:57:31.032Z"
   },
   {
    "duration": 98,
    "start_time": "2022-03-15T10:58:42.710Z"
   },
   {
    "duration": 68,
    "start_time": "2022-03-15T10:59:51.162Z"
   },
   {
    "duration": 105,
    "start_time": "2022-03-15T11:00:52.354Z"
   },
   {
    "duration": 141,
    "start_time": "2022-03-15T11:00:59.589Z"
   },
   {
    "duration": 88,
    "start_time": "2022-03-15T11:01:02.870Z"
   },
   {
    "duration": 324,
    "start_time": "2022-03-15T11:04:35.997Z"
   },
   {
    "duration": 2260,
    "start_time": "2022-03-15T11:04:53.570Z"
   },
   {
    "duration": 41,
    "start_time": "2022-03-15T11:04:55.832Z"
   },
   {
    "duration": 109,
    "start_time": "2022-03-15T11:04:55.877Z"
   },
   {
    "duration": 35,
    "start_time": "2022-03-15T11:04:55.989Z"
   },
   {
    "duration": 93,
    "start_time": "2022-03-15T11:04:56.027Z"
   },
   {
    "duration": 27,
    "start_time": "2022-03-15T11:04:56.123Z"
   },
   {
    "duration": 75,
    "start_time": "2022-03-15T11:04:56.153Z"
   },
   {
    "duration": 12,
    "start_time": "2022-03-15T11:04:56.231Z"
   },
   {
    "duration": 48,
    "start_time": "2022-03-15T11:04:56.247Z"
   },
   {
    "duration": 22,
    "start_time": "2022-03-15T11:04:56.298Z"
   },
   {
    "duration": 52,
    "start_time": "2022-03-15T11:04:56.322Z"
   },
   {
    "duration": 151,
    "start_time": "2022-03-15T11:04:56.377Z"
   },
   {
    "duration": 77,
    "start_time": "2022-03-15T11:04:56.530Z"
   },
   {
    "duration": 13,
    "start_time": "2022-03-15T11:04:56.610Z"
   },
   {
    "duration": 47,
    "start_time": "2022-03-15T11:04:56.626Z"
   },
   {
    "duration": 1485,
    "start_time": "2022-03-15T11:04:56.676Z"
   },
   {
    "duration": 20,
    "start_time": "2022-03-15T11:04:58.163Z"
   },
   {
    "duration": 229,
    "start_time": "2022-03-15T11:04:58.186Z"
   },
   {
    "duration": 13,
    "start_time": "2022-03-15T11:04:58.418Z"
   },
   {
    "duration": 1068,
    "start_time": "2022-03-15T11:04:58.433Z"
   },
   {
    "duration": 834,
    "start_time": "2022-03-15T11:04:59.505Z"
   },
   {
    "duration": 763,
    "start_time": "2022-03-15T11:05:00.343Z"
   },
   {
    "duration": 18,
    "start_time": "2022-03-15T11:05:01.108Z"
   },
   {
    "duration": 22,
    "start_time": "2022-03-15T11:05:01.128Z"
   },
   {
    "duration": 49,
    "start_time": "2022-03-15T11:05:01.152Z"
   },
   {
    "duration": 17,
    "start_time": "2022-03-15T11:05:01.204Z"
   },
   {
    "duration": 35,
    "start_time": "2022-03-15T11:05:01.227Z"
   },
   {
    "duration": 26,
    "start_time": "2022-03-15T11:05:01.265Z"
   },
   {
    "duration": 22,
    "start_time": "2022-03-15T11:05:01.294Z"
   },
   {
    "duration": 16,
    "start_time": "2022-03-15T11:05:01.318Z"
   },
   {
    "duration": 4661,
    "start_time": "2022-03-15T11:06:34.621Z"
   },
   {
    "duration": 5456,
    "start_time": "2022-03-15T11:06:43.591Z"
   },
   {
    "duration": 2087,
    "start_time": "2022-03-15T11:08:19.358Z"
   },
   {
    "duration": 50,
    "start_time": "2022-03-15T11:08:21.448Z"
   },
   {
    "duration": 106,
    "start_time": "2022-03-15T11:08:21.502Z"
   },
   {
    "duration": 31,
    "start_time": "2022-03-15T11:08:21.611Z"
   },
   {
    "duration": 104,
    "start_time": "2022-03-15T11:08:21.644Z"
   },
   {
    "duration": 62,
    "start_time": "2022-03-15T11:08:21.751Z"
   },
   {
    "duration": 84,
    "start_time": "2022-03-15T11:08:21.816Z"
   },
   {
    "duration": 12,
    "start_time": "2022-03-15T11:08:21.906Z"
   },
   {
    "duration": 25,
    "start_time": "2022-03-15T11:08:21.921Z"
   },
   {
    "duration": 45,
    "start_time": "2022-03-15T11:08:21.948Z"
   },
   {
    "duration": 44,
    "start_time": "2022-03-15T11:08:21.995Z"
   },
   {
    "duration": 161,
    "start_time": "2022-03-15T11:08:22.041Z"
   },
   {
    "duration": 72,
    "start_time": "2022-03-15T11:08:22.205Z"
   },
   {
    "duration": 16,
    "start_time": "2022-03-15T11:08:22.279Z"
   },
   {
    "duration": 37,
    "start_time": "2022-03-15T11:08:22.298Z"
   },
   {
    "duration": 1569,
    "start_time": "2022-03-15T11:08:22.338Z"
   },
   {
    "duration": 12,
    "start_time": "2022-03-15T11:08:23.910Z"
   },
   {
    "duration": 248,
    "start_time": "2022-03-15T11:08:23.924Z"
   },
   {
    "duration": 12,
    "start_time": "2022-03-15T11:08:24.178Z"
   },
   {
    "duration": 1168,
    "start_time": "2022-03-15T11:08:24.193Z"
   },
   {
    "duration": 591,
    "start_time": "2022-03-15T11:08:25.373Z"
   },
   {
    "duration": 535,
    "start_time": "2022-03-15T11:08:25.983Z"
   },
   {
    "duration": 18,
    "start_time": "2022-03-15T11:08:26.523Z"
   },
   {
    "duration": 37,
    "start_time": "2022-03-15T11:08:26.543Z"
   },
   {
    "duration": 26,
    "start_time": "2022-03-15T11:08:26.585Z"
   },
   {
    "duration": 11,
    "start_time": "2022-03-15T11:08:26.613Z"
   },
   {
    "duration": 18,
    "start_time": "2022-03-15T11:08:26.627Z"
   },
   {
    "duration": 10,
    "start_time": "2022-03-15T11:08:26.647Z"
   },
   {
    "duration": 23,
    "start_time": "2022-03-15T11:08:26.659Z"
   },
   {
    "duration": 27,
    "start_time": "2022-03-15T11:08:26.684Z"
   },
   {
    "duration": 5700,
    "start_time": "2022-03-15T11:10:06.620Z"
   },
   {
    "duration": 61,
    "start_time": "2022-03-15T11:10:12.262Z"
   },
   {
    "duration": 2075,
    "start_time": "2022-03-15T11:10:20.960Z"
   },
   {
    "duration": 51,
    "start_time": "2022-03-15T11:10:23.038Z"
   },
   {
    "duration": 94,
    "start_time": "2022-03-15T11:10:23.092Z"
   },
   {
    "duration": 37,
    "start_time": "2022-03-15T11:10:23.189Z"
   },
   {
    "duration": 98,
    "start_time": "2022-03-15T11:10:23.228Z"
   },
   {
    "duration": 27,
    "start_time": "2022-03-15T11:10:23.329Z"
   },
   {
    "duration": 59,
    "start_time": "2022-03-15T11:10:23.375Z"
   },
   {
    "duration": 11,
    "start_time": "2022-03-15T11:10:23.437Z"
   },
   {
    "duration": 33,
    "start_time": "2022-03-15T11:10:23.475Z"
   },
   {
    "duration": 20,
    "start_time": "2022-03-15T11:10:23.513Z"
   },
   {
    "duration": 55,
    "start_time": "2022-03-15T11:10:23.536Z"
   },
   {
    "duration": 158,
    "start_time": "2022-03-15T11:10:23.594Z"
   },
   {
    "duration": 84,
    "start_time": "2022-03-15T11:10:23.755Z"
   },
   {
    "duration": 13,
    "start_time": "2022-03-15T11:10:23.842Z"
   },
   {
    "duration": 35,
    "start_time": "2022-03-15T11:10:23.881Z"
   },
   {
    "duration": 1751,
    "start_time": "2022-03-15T11:10:23.919Z"
   },
   {
    "duration": 18,
    "start_time": "2022-03-15T11:10:25.674Z"
   },
   {
    "duration": 236,
    "start_time": "2022-03-15T11:10:25.696Z"
   },
   {
    "duration": 12,
    "start_time": "2022-03-15T11:10:25.934Z"
   },
   {
    "duration": 1056,
    "start_time": "2022-03-15T11:10:25.949Z"
   },
   {
    "duration": 625,
    "start_time": "2022-03-15T11:10:27.007Z"
   },
   {
    "duration": 556,
    "start_time": "2022-03-15T11:10:27.635Z"
   },
   {
    "duration": 20,
    "start_time": "2022-03-15T11:10:28.194Z"
   },
   {
    "duration": 10,
    "start_time": "2022-03-15T11:10:28.216Z"
   },
   {
    "duration": 7,
    "start_time": "2022-03-15T11:10:28.229Z"
   },
   {
    "duration": 41,
    "start_time": "2022-03-15T11:10:28.239Z"
   },
   {
    "duration": 38,
    "start_time": "2022-03-15T11:10:28.288Z"
   },
   {
    "duration": 11,
    "start_time": "2022-03-15T11:10:28.328Z"
   },
   {
    "duration": 11,
    "start_time": "2022-03-15T11:10:28.341Z"
   },
   {
    "duration": 28,
    "start_time": "2022-03-15T11:10:28.355Z"
   }
  ],
  "kernelspec": {
   "display_name": "Python 3 (ipykernel)",
   "language": "python",
   "name": "python3"
  },
  "language_info": {
   "codemirror_mode": {
    "name": "ipython",
    "version": 3
   },
   "file_extension": ".py",
   "mimetype": "text/x-python",
   "name": "python",
   "nbconvert_exporter": "python",
   "pygments_lexer": "ipython3",
   "version": "3.9.12"
  },
  "toc": {
   "base_numbering": 1,
   "nav_menu": {},
   "number_sections": true,
   "sideBar": true,
   "skip_h1_title": true,
   "title_cell": "Table of Contents",
   "title_sidebar": "Contents",
   "toc_cell": false,
   "toc_position": {},
   "toc_section_display": true,
   "toc_window_display": false
  }
 },
 "nbformat": 4,
 "nbformat_minor": 2
}
