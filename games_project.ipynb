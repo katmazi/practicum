{
 "cells": [
  {
   "cell_type": "markdown",
   "id": "87cabf7d",
   "metadata": {},
   "source": [
    "### Оглавление проекта"
   ]
  },
  {
   "cell_type": "markdown",
   "id": "439edd86",
   "metadata": {},
   "source": [
    "* [Описание проекта](#Описание)\n",
    "* [Обзор данных и подготовка к исследованию:](#Подготовка)  \n",
    "* [Исследовательский анализ данных:](#Анализ)\n",
    "* [Портрет пользователя в разных регионах](#Портрет)\n",
    "* [Проверка гипотез](#Гипотезы)\n",
    "* [Общий вывод](#Выводы)"
   ]
  },
  {
   "cell_type": "markdown",
   "id": "1347bf08",
   "metadata": {},
   "source": [
    "### Описание проекта <a id='Описание'></a>\n",
    "\n",
    "\n",
    "Вы работаете в интернет-магазине «Стримчик», который продаёт по всему миру\n",
    "компьютерные игры. Из открытых источников доступны исторические данные о\n",
    "продажах игр, оценки пользователей и экспертов, жанры и платформы\n",
    "(например, Xboxили PlayStation). Вам нужно выявить определяющие успешность\n",
    "игры закономерности. Это позволит сделать ставку на потенциально популярный\n",
    "продукт и спланировать рекламные кампании.\n",
    "Перед вами данные до 2016 года. Представим, что сейчас декабрь 2016 г., и вы\n",
    "планируете кампанию на 2017-й. Нужно отработать принцип работы с данными.\n",
    "Неважно, прогнозируете ли вы продажи на 2017 год по данным 2016-го или же\n",
    "2027-й — по данным 2026 года.\n",
    "В наборе данных попадается аббревиатура ESRB (Entertainment Software Rating\n",
    "Board) — это ассоциация, определяющая возрастной рейтинг компьютерных\n",
    "игр. ESRB оценивает игровой контент и присваивает ему подходящую возрастную\n",
    "категорию, например, «Для взрослых», «Для детей младшего возраста» или «Для\n",
    "подростков».\n",
    "\n",
    "Данные за 2016 год могут быть неполными."
   ]
  },
  {
   "cell_type": "markdown",
   "id": "ccfc4f46",
   "metadata": {},
   "source": [
    "### Обзор данных и подготовка к исследованию <a id='Подготовка'></a>"
   ]
  },
  {
   "cell_type": "code",
   "execution_count": 2,
   "id": "eacdb0d9",
   "metadata": {},
   "outputs": [],
   "source": [
    "import pandas as pd\n",
    "import numpy as np\n",
    "import seaborn as sns\n",
    "import matplotlib.pyplot as plt\n",
    "import scipy.stats as st\n",
    "from scipy.stats import levene"
   ]
  },
  {
   "cell_type": "code",
   "execution_count": 3,
   "id": "f891a584",
   "metadata": {},
   "outputs": [],
   "source": [
    "data=pd.read_csv('/datasets/games.csv')"
   ]
  },
  {
   "cell_type": "markdown",
   "id": "dbd68ace",
   "metadata": {},
   "source": [
    "Посмотрим на данные в предоставленной таблице:"
   ]
  },
  {
   "cell_type": "code",
   "execution_count": 4,
   "id": "c3d02d8b",
   "metadata": {
    "scrolled": false
   },
   "outputs": [
    {
     "data": {
      "text/html": [
       "<div>\n",
       "<style scoped>\n",
       "    .dataframe tbody tr th:only-of-type {\n",
       "        vertical-align: middle;\n",
       "    }\n",
       "\n",
       "    .dataframe tbody tr th {\n",
       "        vertical-align: top;\n",
       "    }\n",
       "\n",
       "    .dataframe thead th {\n",
       "        text-align: right;\n",
       "    }\n",
       "</style>\n",
       "<table border=\"1\" class=\"dataframe\">\n",
       "  <thead>\n",
       "    <tr style=\"text-align: right;\">\n",
       "      <th></th>\n",
       "      <th>Name</th>\n",
       "      <th>Platform</th>\n",
       "      <th>Year_of_Release</th>\n",
       "      <th>Genre</th>\n",
       "      <th>NA_sales</th>\n",
       "      <th>EU_sales</th>\n",
       "      <th>JP_sales</th>\n",
       "      <th>Other_sales</th>\n",
       "      <th>Critic_Score</th>\n",
       "      <th>User_Score</th>\n",
       "      <th>Rating</th>\n",
       "    </tr>\n",
       "  </thead>\n",
       "  <tbody>\n",
       "    <tr>\n",
       "      <th>5182</th>\n",
       "      <td>One Piece: Gigant Battle!</td>\n",
       "      <td>DS</td>\n",
       "      <td>2010.0</td>\n",
       "      <td>Fighting</td>\n",
       "      <td>0.00</td>\n",
       "      <td>0.00</td>\n",
       "      <td>0.36</td>\n",
       "      <td>0.00</td>\n",
       "      <td>NaN</td>\n",
       "      <td>NaN</td>\n",
       "      <td>NaN</td>\n",
       "    </tr>\n",
       "    <tr>\n",
       "      <th>11245</th>\n",
       "      <td>Lara Croft and the Temple of Osiris</td>\n",
       "      <td>PS4</td>\n",
       "      <td>2014.0</td>\n",
       "      <td>Action</td>\n",
       "      <td>0.00</td>\n",
       "      <td>0.07</td>\n",
       "      <td>0.00</td>\n",
       "      <td>0.01</td>\n",
       "      <td>74.0</td>\n",
       "      <td>6.7</td>\n",
       "      <td>T</td>\n",
       "    </tr>\n",
       "    <tr>\n",
       "      <th>3310</th>\n",
       "      <td>Petz: Dogz Pack</td>\n",
       "      <td>DS</td>\n",
       "      <td>2008.0</td>\n",
       "      <td>Simulation</td>\n",
       "      <td>0.56</td>\n",
       "      <td>0.00</td>\n",
       "      <td>0.00</td>\n",
       "      <td>0.05</td>\n",
       "      <td>NaN</td>\n",
       "      <td>NaN</td>\n",
       "      <td>NaN</td>\n",
       "    </tr>\n",
       "    <tr>\n",
       "      <th>3313</th>\n",
       "      <td>Dragon Ball Z: Buu's Fury</td>\n",
       "      <td>GBA</td>\n",
       "      <td>2004.0</td>\n",
       "      <td>Action</td>\n",
       "      <td>0.44</td>\n",
       "      <td>0.16</td>\n",
       "      <td>0.00</td>\n",
       "      <td>0.01</td>\n",
       "      <td>62.0</td>\n",
       "      <td>8.9</td>\n",
       "      <td>E</td>\n",
       "    </tr>\n",
       "    <tr>\n",
       "      <th>11018</th>\n",
       "      <td>NERF N-Strike: Double Blast Bundle</td>\n",
       "      <td>Wii</td>\n",
       "      <td>2010.0</td>\n",
       "      <td>Shooter</td>\n",
       "      <td>0.09</td>\n",
       "      <td>0.00</td>\n",
       "      <td>0.00</td>\n",
       "      <td>0.00</td>\n",
       "      <td>NaN</td>\n",
       "      <td>tbd</td>\n",
       "      <td>E10+</td>\n",
       "    </tr>\n",
       "    <tr>\n",
       "      <th>10545</th>\n",
       "      <td>Urban Chaos</td>\n",
       "      <td>PS</td>\n",
       "      <td>1999.0</td>\n",
       "      <td>Action</td>\n",
       "      <td>0.06</td>\n",
       "      <td>0.04</td>\n",
       "      <td>0.00</td>\n",
       "      <td>0.01</td>\n",
       "      <td>NaN</td>\n",
       "      <td>NaN</td>\n",
       "      <td>NaN</td>\n",
       "    </tr>\n",
       "    <tr>\n",
       "      <th>12795</th>\n",
       "      <td>Starwinder: The Ultimate Space Race</td>\n",
       "      <td>PS</td>\n",
       "      <td>1996.0</td>\n",
       "      <td>Racing</td>\n",
       "      <td>0.03</td>\n",
       "      <td>0.02</td>\n",
       "      <td>0.00</td>\n",
       "      <td>0.00</td>\n",
       "      <td>NaN</td>\n",
       "      <td>NaN</td>\n",
       "      <td>NaN</td>\n",
       "    </tr>\n",
       "    <tr>\n",
       "      <th>828</th>\n",
       "      <td>Ghostbusters: The Video Game (DS Version)</td>\n",
       "      <td>PS3</td>\n",
       "      <td>2010.0</td>\n",
       "      <td>Action</td>\n",
       "      <td>0.60</td>\n",
       "      <td>0.96</td>\n",
       "      <td>0.13</td>\n",
       "      <td>0.36</td>\n",
       "      <td>NaN</td>\n",
       "      <td>NaN</td>\n",
       "      <td>NaN</td>\n",
       "    </tr>\n",
       "    <tr>\n",
       "      <th>182</th>\n",
       "      <td>Tomb Raider II</td>\n",
       "      <td>PS</td>\n",
       "      <td>1997.0</td>\n",
       "      <td>Action</td>\n",
       "      <td>2.30</td>\n",
       "      <td>2.46</td>\n",
       "      <td>0.20</td>\n",
       "      <td>0.28</td>\n",
       "      <td>85.0</td>\n",
       "      <td>NaN</td>\n",
       "      <td>T</td>\n",
       "    </tr>\n",
       "    <tr>\n",
       "      <th>7060</th>\n",
       "      <td>Naruto: Ninja Council 2 European Version</td>\n",
       "      <td>DS</td>\n",
       "      <td>2005.0</td>\n",
       "      <td>Fighting</td>\n",
       "      <td>0.00</td>\n",
       "      <td>0.00</td>\n",
       "      <td>0.23</td>\n",
       "      <td>0.00</td>\n",
       "      <td>NaN</td>\n",
       "      <td>NaN</td>\n",
       "      <td>NaN</td>\n",
       "    </tr>\n",
       "    <tr>\n",
       "      <th>900</th>\n",
       "      <td>The Sims: Makin' Magic</td>\n",
       "      <td>PC</td>\n",
       "      <td>2003.0</td>\n",
       "      <td>Simulation</td>\n",
       "      <td>1.03</td>\n",
       "      <td>0.80</td>\n",
       "      <td>0.00</td>\n",
       "      <td>0.09</td>\n",
       "      <td>80.0</td>\n",
       "      <td>8.6</td>\n",
       "      <td>T</td>\n",
       "    </tr>\n",
       "    <tr>\n",
       "      <th>16387</th>\n",
       "      <td>Durarara!! Relay</td>\n",
       "      <td>PSV</td>\n",
       "      <td>2015.0</td>\n",
       "      <td>Action</td>\n",
       "      <td>0.00</td>\n",
       "      <td>0.00</td>\n",
       "      <td>0.01</td>\n",
       "      <td>0.00</td>\n",
       "      <td>NaN</td>\n",
       "      <td>NaN</td>\n",
       "      <td>NaN</td>\n",
       "    </tr>\n",
       "    <tr>\n",
       "      <th>1145</th>\n",
       "      <td>Baseball</td>\n",
       "      <td>GB</td>\n",
       "      <td>1989.0</td>\n",
       "      <td>Sports</td>\n",
       "      <td>0.66</td>\n",
       "      <td>0.27</td>\n",
       "      <td>0.65</td>\n",
       "      <td>0.03</td>\n",
       "      <td>NaN</td>\n",
       "      <td>NaN</td>\n",
       "      <td>NaN</td>\n",
       "    </tr>\n",
       "    <tr>\n",
       "      <th>6005</th>\n",
       "      <td>Ken Griffey Jr.'s Slugfest</td>\n",
       "      <td>N64</td>\n",
       "      <td>1999.0</td>\n",
       "      <td>Sports</td>\n",
       "      <td>0.23</td>\n",
       "      <td>0.06</td>\n",
       "      <td>0.00</td>\n",
       "      <td>0.00</td>\n",
       "      <td>NaN</td>\n",
       "      <td>NaN</td>\n",
       "      <td>NaN</td>\n",
       "    </tr>\n",
       "    <tr>\n",
       "      <th>15738</th>\n",
       "      <td>Titanic Mystery</td>\n",
       "      <td>Wii</td>\n",
       "      <td>2010.0</td>\n",
       "      <td>Puzzle</td>\n",
       "      <td>0.02</td>\n",
       "      <td>0.00</td>\n",
       "      <td>0.00</td>\n",
       "      <td>0.00</td>\n",
       "      <td>NaN</td>\n",
       "      <td>tbd</td>\n",
       "      <td>T</td>\n",
       "    </tr>\n",
       "    <tr>\n",
       "      <th>15952</th>\n",
       "      <td>Shinkyoku Soukai Polyphonica</td>\n",
       "      <td>PS2</td>\n",
       "      <td>2007.0</td>\n",
       "      <td>Adventure</td>\n",
       "      <td>0.00</td>\n",
       "      <td>0.00</td>\n",
       "      <td>0.02</td>\n",
       "      <td>0.00</td>\n",
       "      <td>NaN</td>\n",
       "      <td>NaN</td>\n",
       "      <td>NaN</td>\n",
       "    </tr>\n",
       "    <tr>\n",
       "      <th>9383</th>\n",
       "      <td>Castrol Honda Superbike Racing</td>\n",
       "      <td>PS</td>\n",
       "      <td>1998.0</td>\n",
       "      <td>Racing</td>\n",
       "      <td>0.07</td>\n",
       "      <td>0.05</td>\n",
       "      <td>0.00</td>\n",
       "      <td>0.01</td>\n",
       "      <td>NaN</td>\n",
       "      <td>NaN</td>\n",
       "      <td>NaN</td>\n",
       "    </tr>\n",
       "    <tr>\n",
       "      <th>8098</th>\n",
       "      <td>The Chronicles of Narnia: Prince Caspian</td>\n",
       "      <td>X360</td>\n",
       "      <td>2008.0</td>\n",
       "      <td>Action</td>\n",
       "      <td>0.16</td>\n",
       "      <td>0.01</td>\n",
       "      <td>0.00</td>\n",
       "      <td>0.01</td>\n",
       "      <td>56.0</td>\n",
       "      <td>7.5</td>\n",
       "      <td>T</td>\n",
       "    </tr>\n",
       "    <tr>\n",
       "      <th>15551</th>\n",
       "      <td>Mortal Kombat</td>\n",
       "      <td>PC</td>\n",
       "      <td>1994.0</td>\n",
       "      <td>Fighting</td>\n",
       "      <td>0.02</td>\n",
       "      <td>0.00</td>\n",
       "      <td>0.00</td>\n",
       "      <td>0.00</td>\n",
       "      <td>NaN</td>\n",
       "      <td>NaN</td>\n",
       "      <td>NaN</td>\n",
       "    </tr>\n",
       "    <tr>\n",
       "      <th>11180</th>\n",
       "      <td>Sotsugyou Crossworld</td>\n",
       "      <td>PS</td>\n",
       "      <td>1996.0</td>\n",
       "      <td>Simulation</td>\n",
       "      <td>0.00</td>\n",
       "      <td>0.00</td>\n",
       "      <td>0.08</td>\n",
       "      <td>0.01</td>\n",
       "      <td>NaN</td>\n",
       "      <td>NaN</td>\n",
       "      <td>NaN</td>\n",
       "    </tr>\n",
       "    <tr>\n",
       "      <th>16366</th>\n",
       "      <td>Naxat Soft Reachmania Vol. 1: CR Galaxy Angel</td>\n",
       "      <td>PS2</td>\n",
       "      <td>2008.0</td>\n",
       "      <td>Misc</td>\n",
       "      <td>0.00</td>\n",
       "      <td>0.00</td>\n",
       "      <td>0.01</td>\n",
       "      <td>0.00</td>\n",
       "      <td>NaN</td>\n",
       "      <td>NaN</td>\n",
       "      <td>NaN</td>\n",
       "    </tr>\n",
       "    <tr>\n",
       "      <th>2416</th>\n",
       "      <td>Guitar Hero Live</td>\n",
       "      <td>PS4</td>\n",
       "      <td>2015.0</td>\n",
       "      <td>Misc</td>\n",
       "      <td>0.34</td>\n",
       "      <td>0.38</td>\n",
       "      <td>0.00</td>\n",
       "      <td>0.14</td>\n",
       "      <td>80.0</td>\n",
       "      <td>6.2</td>\n",
       "      <td>T</td>\n",
       "    </tr>\n",
       "    <tr>\n",
       "      <th>12773</th>\n",
       "      <td>Pump It Up: Exceed</td>\n",
       "      <td>PS2</td>\n",
       "      <td>2005.0</td>\n",
       "      <td>Misc</td>\n",
       "      <td>0.03</td>\n",
       "      <td>0.02</td>\n",
       "      <td>0.00</td>\n",
       "      <td>0.01</td>\n",
       "      <td>73.0</td>\n",
       "      <td>8.4</td>\n",
       "      <td>T</td>\n",
       "    </tr>\n",
       "    <tr>\n",
       "      <th>14350</th>\n",
       "      <td>Bikkuriman Daijiten</td>\n",
       "      <td>DS</td>\n",
       "      <td>NaN</td>\n",
       "      <td>Misc</td>\n",
       "      <td>0.00</td>\n",
       "      <td>0.00</td>\n",
       "      <td>0.03</td>\n",
       "      <td>0.00</td>\n",
       "      <td>NaN</td>\n",
       "      <td>NaN</td>\n",
       "      <td>NaN</td>\n",
       "    </tr>\n",
       "    <tr>\n",
       "      <th>391</th>\n",
       "      <td>Spider-Man 2</td>\n",
       "      <td>PS2</td>\n",
       "      <td>2004.0</td>\n",
       "      <td>Action</td>\n",
       "      <td>1.75</td>\n",
       "      <td>1.20</td>\n",
       "      <td>0.02</td>\n",
       "      <td>0.43</td>\n",
       "      <td>80.0</td>\n",
       "      <td>8.9</td>\n",
       "      <td>T</td>\n",
       "    </tr>\n",
       "    <tr>\n",
       "      <th>2953</th>\n",
       "      <td>NFL Xtreme</td>\n",
       "      <td>PS</td>\n",
       "      <td>1998.0</td>\n",
       "      <td>Sports</td>\n",
       "      <td>0.38</td>\n",
       "      <td>0.26</td>\n",
       "      <td>0.00</td>\n",
       "      <td>0.05</td>\n",
       "      <td>NaN</td>\n",
       "      <td>NaN</td>\n",
       "      <td>NaN</td>\n",
       "    </tr>\n",
       "    <tr>\n",
       "      <th>13071</th>\n",
       "      <td>MorphX</td>\n",
       "      <td>X360</td>\n",
       "      <td>2010.0</td>\n",
       "      <td>Shooter</td>\n",
       "      <td>0.05</td>\n",
       "      <td>0.00</td>\n",
       "      <td>0.00</td>\n",
       "      <td>0.00</td>\n",
       "      <td>33.0</td>\n",
       "      <td>6.6</td>\n",
       "      <td>M</td>\n",
       "    </tr>\n",
       "    <tr>\n",
       "      <th>14452</th>\n",
       "      <td>House M.D.</td>\n",
       "      <td>DS</td>\n",
       "      <td>2010.0</td>\n",
       "      <td>Adventure</td>\n",
       "      <td>0.02</td>\n",
       "      <td>0.00</td>\n",
       "      <td>0.00</td>\n",
       "      <td>0.00</td>\n",
       "      <td>NaN</td>\n",
       "      <td>NaN</td>\n",
       "      <td>T</td>\n",
       "    </tr>\n",
       "    <tr>\n",
       "      <th>4707</th>\n",
       "      <td>Ogre Battle 64: Person of Lordly Caliber</td>\n",
       "      <td>N64</td>\n",
       "      <td>1999.0</td>\n",
       "      <td>Role-Playing</td>\n",
       "      <td>0.10</td>\n",
       "      <td>0.02</td>\n",
       "      <td>0.25</td>\n",
       "      <td>0.04</td>\n",
       "      <td>NaN</td>\n",
       "      <td>NaN</td>\n",
       "      <td>NaN</td>\n",
       "    </tr>\n",
       "    <tr>\n",
       "      <th>3814</th>\n",
       "      <td>Mario Tennis: Power Tour</td>\n",
       "      <td>GBA</td>\n",
       "      <td>2005.0</td>\n",
       "      <td>Sports</td>\n",
       "      <td>0.24</td>\n",
       "      <td>0.09</td>\n",
       "      <td>0.19</td>\n",
       "      <td>0.01</td>\n",
       "      <td>81.0</td>\n",
       "      <td>8</td>\n",
       "      <td>E</td>\n",
       "    </tr>\n",
       "    <tr>\n",
       "      <th>3339</th>\n",
       "      <td>Disney Infinity</td>\n",
       "      <td>WiiU</td>\n",
       "      <td>2013.0</td>\n",
       "      <td>Action</td>\n",
       "      <td>0.33</td>\n",
       "      <td>0.22</td>\n",
       "      <td>0.00</td>\n",
       "      <td>0.05</td>\n",
       "      <td>71.0</td>\n",
       "      <td>7.6</td>\n",
       "      <td>E10+</td>\n",
       "    </tr>\n",
       "    <tr>\n",
       "      <th>8917</th>\n",
       "      <td>Phantasy Star Online Episode I &amp; II</td>\n",
       "      <td>XB</td>\n",
       "      <td>2003.0</td>\n",
       "      <td>Role-Playing</td>\n",
       "      <td>0.11</td>\n",
       "      <td>0.03</td>\n",
       "      <td>0.00</td>\n",
       "      <td>0.01</td>\n",
       "      <td>NaN</td>\n",
       "      <td>NaN</td>\n",
       "      <td>NaN</td>\n",
       "    </tr>\n",
       "    <tr>\n",
       "      <th>16640</th>\n",
       "      <td>Hospital Tycoon</td>\n",
       "      <td>PC</td>\n",
       "      <td>2007.0</td>\n",
       "      <td>Strategy</td>\n",
       "      <td>0.00</td>\n",
       "      <td>0.01</td>\n",
       "      <td>0.00</td>\n",
       "      <td>0.00</td>\n",
       "      <td>51.0</td>\n",
       "      <td>3.8</td>\n",
       "      <td>E10+</td>\n",
       "    </tr>\n",
       "    <tr>\n",
       "      <th>16013</th>\n",
       "      <td>Dead Rising 2</td>\n",
       "      <td>XOne</td>\n",
       "      <td>2016.0</td>\n",
       "      <td>Action</td>\n",
       "      <td>0.01</td>\n",
       "      <td>0.00</td>\n",
       "      <td>0.00</td>\n",
       "      <td>0.00</td>\n",
       "      <td>NaN</td>\n",
       "      <td>tbd</td>\n",
       "      <td>M</td>\n",
       "    </tr>\n",
       "    <tr>\n",
       "      <th>9557</th>\n",
       "      <td>Under Night In-Birth</td>\n",
       "      <td>PS3</td>\n",
       "      <td>2014.0</td>\n",
       "      <td>Fighting</td>\n",
       "      <td>0.06</td>\n",
       "      <td>0.01</td>\n",
       "      <td>0.04</td>\n",
       "      <td>0.02</td>\n",
       "      <td>NaN</td>\n",
       "      <td>NaN</td>\n",
       "      <td>NaN</td>\n",
       "    </tr>\n",
       "    <tr>\n",
       "      <th>6416</th>\n",
       "      <td>Gallop Racer 2: One and Only Road to Victory</td>\n",
       "      <td>PS</td>\n",
       "      <td>1997.0</td>\n",
       "      <td>Sports</td>\n",
       "      <td>0.00</td>\n",
       "      <td>0.00</td>\n",
       "      <td>0.25</td>\n",
       "      <td>0.02</td>\n",
       "      <td>NaN</td>\n",
       "      <td>NaN</td>\n",
       "      <td>NaN</td>\n",
       "    </tr>\n",
       "    <tr>\n",
       "      <th>14552</th>\n",
       "      <td>Minna no Golf Jou Vol.1</td>\n",
       "      <td>PSP</td>\n",
       "      <td>2007.0</td>\n",
       "      <td>Sports</td>\n",
       "      <td>0.00</td>\n",
       "      <td>0.00</td>\n",
       "      <td>0.03</td>\n",
       "      <td>0.00</td>\n",
       "      <td>NaN</td>\n",
       "      <td>NaN</td>\n",
       "      <td>NaN</td>\n",
       "    </tr>\n",
       "    <tr>\n",
       "      <th>12118</th>\n",
       "      <td>Operation: Vietnam</td>\n",
       "      <td>DS</td>\n",
       "      <td>2007.0</td>\n",
       "      <td>Shooter</td>\n",
       "      <td>0.06</td>\n",
       "      <td>0.00</td>\n",
       "      <td>0.00</td>\n",
       "      <td>0.00</td>\n",
       "      <td>65.0</td>\n",
       "      <td>6.3</td>\n",
       "      <td>T</td>\n",
       "    </tr>\n",
       "    <tr>\n",
       "      <th>5130</th>\n",
       "      <td>Hell's Kitchen: The Game</td>\n",
       "      <td>DS</td>\n",
       "      <td>2008.0</td>\n",
       "      <td>Simulation</td>\n",
       "      <td>0.34</td>\n",
       "      <td>0.00</td>\n",
       "      <td>0.00</td>\n",
       "      <td>0.03</td>\n",
       "      <td>NaN</td>\n",
       "      <td>NaN</td>\n",
       "      <td>NaN</td>\n",
       "    </tr>\n",
       "    <tr>\n",
       "      <th>3839</th>\n",
       "      <td>Ready 2 Rumble Boxing: Round 2</td>\n",
       "      <td>PS</td>\n",
       "      <td>2000.0</td>\n",
       "      <td>Fighting</td>\n",
       "      <td>0.29</td>\n",
       "      <td>0.20</td>\n",
       "      <td>0.00</td>\n",
       "      <td>0.03</td>\n",
       "      <td>68.0</td>\n",
       "      <td>tbd</td>\n",
       "      <td>T</td>\n",
       "    </tr>\n",
       "    <tr>\n",
       "      <th>849</th>\n",
       "      <td>Need for Speed: The Run</td>\n",
       "      <td>PS3</td>\n",
       "      <td>2011.0</td>\n",
       "      <td>Action</td>\n",
       "      <td>0.58</td>\n",
       "      <td>1.04</td>\n",
       "      <td>0.03</td>\n",
       "      <td>0.36</td>\n",
       "      <td>64.0</td>\n",
       "      <td>6.4</td>\n",
       "      <td>T</td>\n",
       "    </tr>\n",
       "    <tr>\n",
       "      <th>14000</th>\n",
       "      <td>Magical Starsign (JP sales)</td>\n",
       "      <td>DS</td>\n",
       "      <td>2006.0</td>\n",
       "      <td>Role-Playing</td>\n",
       "      <td>0.00</td>\n",
       "      <td>0.00</td>\n",
       "      <td>0.04</td>\n",
       "      <td>0.00</td>\n",
       "      <td>NaN</td>\n",
       "      <td>NaN</td>\n",
       "      <td>NaN</td>\n",
       "    </tr>\n",
       "    <tr>\n",
       "      <th>10625</th>\n",
       "      <td>Nodame Cantabile</td>\n",
       "      <td>DS</td>\n",
       "      <td>2007.0</td>\n",
       "      <td>Misc</td>\n",
       "      <td>0.00</td>\n",
       "      <td>0.00</td>\n",
       "      <td>0.10</td>\n",
       "      <td>0.00</td>\n",
       "      <td>NaN</td>\n",
       "      <td>NaN</td>\n",
       "      <td>NaN</td>\n",
       "    </tr>\n",
       "    <tr>\n",
       "      <th>8072</th>\n",
       "      <td>Super Robot Taisen UX</td>\n",
       "      <td>3DS</td>\n",
       "      <td>2013.0</td>\n",
       "      <td>Role-Playing</td>\n",
       "      <td>0.00</td>\n",
       "      <td>0.00</td>\n",
       "      <td>0.18</td>\n",
       "      <td>0.00</td>\n",
       "      <td>NaN</td>\n",
       "      <td>NaN</td>\n",
       "      <td>NaN</td>\n",
       "    </tr>\n",
       "    <tr>\n",
       "      <th>13824</th>\n",
       "      <td>Super Robot Gakuen</td>\n",
       "      <td>DS</td>\n",
       "      <td>2009.0</td>\n",
       "      <td>Adventure</td>\n",
       "      <td>0.00</td>\n",
       "      <td>0.00</td>\n",
       "      <td>0.04</td>\n",
       "      <td>0.00</td>\n",
       "      <td>NaN</td>\n",
       "      <td>NaN</td>\n",
       "      <td>NaN</td>\n",
       "    </tr>\n",
       "    <tr>\n",
       "      <th>4441</th>\n",
       "      <td>Samurai Warriors 3</td>\n",
       "      <td>Wii</td>\n",
       "      <td>2009.0</td>\n",
       "      <td>Action</td>\n",
       "      <td>0.09</td>\n",
       "      <td>0.02</td>\n",
       "      <td>0.32</td>\n",
       "      <td>0.01</td>\n",
       "      <td>55.0</td>\n",
       "      <td>7.2</td>\n",
       "      <td>T</td>\n",
       "    </tr>\n",
       "    <tr>\n",
       "      <th>1991</th>\n",
       "      <td>Dance Dance Revolution SuperNOVA</td>\n",
       "      <td>PS2</td>\n",
       "      <td>2006.0</td>\n",
       "      <td>Simulation</td>\n",
       "      <td>0.87</td>\n",
       "      <td>0.03</td>\n",
       "      <td>0.00</td>\n",
       "      <td>0.14</td>\n",
       "      <td>73.0</td>\n",
       "      <td>8.7</td>\n",
       "      <td>E10+</td>\n",
       "    </tr>\n",
       "    <tr>\n",
       "      <th>526</th>\n",
       "      <td>Hot Shots Golf</td>\n",
       "      <td>PS</td>\n",
       "      <td>1997.0</td>\n",
       "      <td>Sports</td>\n",
       "      <td>0.29</td>\n",
       "      <td>0.20</td>\n",
       "      <td>2.13</td>\n",
       "      <td>0.18</td>\n",
       "      <td>NaN</td>\n",
       "      <td>NaN</td>\n",
       "      <td>NaN</td>\n",
       "    </tr>\n",
       "    <tr>\n",
       "      <th>9496</th>\n",
       "      <td>All Star Cheer Squad 2</td>\n",
       "      <td>Wii</td>\n",
       "      <td>2009.0</td>\n",
       "      <td>Sports</td>\n",
       "      <td>0.12</td>\n",
       "      <td>0.00</td>\n",
       "      <td>0.00</td>\n",
       "      <td>0.01</td>\n",
       "      <td>NaN</td>\n",
       "      <td>tbd</td>\n",
       "      <td>E</td>\n",
       "    </tr>\n",
       "    <tr>\n",
       "      <th>15816</th>\n",
       "      <td>Without Warning</td>\n",
       "      <td>XB</td>\n",
       "      <td>NaN</td>\n",
       "      <td>Shooter</td>\n",
       "      <td>0.01</td>\n",
       "      <td>0.00</td>\n",
       "      <td>0.00</td>\n",
       "      <td>0.00</td>\n",
       "      <td>45.0</td>\n",
       "      <td>2</td>\n",
       "      <td>M</td>\n",
       "    </tr>\n",
       "  </tbody>\n",
       "</table>\n",
       "</div>"
      ],
      "text/plain": [
       "                                                Name Platform  \\\n",
       "5182                       One Piece: Gigant Battle!       DS   \n",
       "11245            Lara Croft and the Temple of Osiris      PS4   \n",
       "3310                                 Petz: Dogz Pack       DS   \n",
       "3313                       Dragon Ball Z: Buu's Fury      GBA   \n",
       "11018             NERF N-Strike: Double Blast Bundle      Wii   \n",
       "10545                                    Urban Chaos       PS   \n",
       "12795            Starwinder: The Ultimate Space Race       PS   \n",
       "828        Ghostbusters: The Video Game (DS Version)      PS3   \n",
       "182                                   Tomb Raider II       PS   \n",
       "7060        Naruto: Ninja Council 2 European Version       DS   \n",
       "900                           The Sims: Makin' Magic       PC   \n",
       "16387                               Durarara!! Relay      PSV   \n",
       "1145                                        Baseball       GB   \n",
       "6005                      Ken Griffey Jr.'s Slugfest      N64   \n",
       "15738                                Titanic Mystery      Wii   \n",
       "15952                   Shinkyoku Soukai Polyphonica      PS2   \n",
       "9383                  Castrol Honda Superbike Racing       PS   \n",
       "8098        The Chronicles of Narnia: Prince Caspian     X360   \n",
       "15551                                  Mortal Kombat       PC   \n",
       "11180                           Sotsugyou Crossworld       PS   \n",
       "16366  Naxat Soft Reachmania Vol. 1: CR Galaxy Angel      PS2   \n",
       "2416                                Guitar Hero Live      PS4   \n",
       "12773                             Pump It Up: Exceed      PS2   \n",
       "14350                            Bikkuriman Daijiten       DS   \n",
       "391                                     Spider-Man 2      PS2   \n",
       "2953                                      NFL Xtreme       PS   \n",
       "13071                                         MorphX     X360   \n",
       "14452                                     House M.D.       DS   \n",
       "4707        Ogre Battle 64: Person of Lordly Caliber      N64   \n",
       "3814                        Mario Tennis: Power Tour      GBA   \n",
       "3339                                 Disney Infinity     WiiU   \n",
       "8917             Phantasy Star Online Episode I & II       XB   \n",
       "16640                                Hospital Tycoon       PC   \n",
       "16013                                  Dead Rising 2     XOne   \n",
       "9557                            Under Night In-Birth      PS3   \n",
       "6416    Gallop Racer 2: One and Only Road to Victory       PS   \n",
       "14552                        Minna no Golf Jou Vol.1      PSP   \n",
       "12118                             Operation: Vietnam       DS   \n",
       "5130                        Hell's Kitchen: The Game       DS   \n",
       "3839                  Ready 2 Rumble Boxing: Round 2       PS   \n",
       "849                          Need for Speed: The Run      PS3   \n",
       "14000                    Magical Starsign (JP sales)       DS   \n",
       "10625                               Nodame Cantabile       DS   \n",
       "8072                           Super Robot Taisen UX      3DS   \n",
       "13824                             Super Robot Gakuen       DS   \n",
       "4441                              Samurai Warriors 3      Wii   \n",
       "1991                Dance Dance Revolution SuperNOVA      PS2   \n",
       "526                                   Hot Shots Golf       PS   \n",
       "9496                          All Star Cheer Squad 2      Wii   \n",
       "15816                                Without Warning       XB   \n",
       "\n",
       "       Year_of_Release         Genre  NA_sales  EU_sales  JP_sales  \\\n",
       "5182            2010.0      Fighting      0.00      0.00      0.36   \n",
       "11245           2014.0        Action      0.00      0.07      0.00   \n",
       "3310            2008.0    Simulation      0.56      0.00      0.00   \n",
       "3313            2004.0        Action      0.44      0.16      0.00   \n",
       "11018           2010.0       Shooter      0.09      0.00      0.00   \n",
       "10545           1999.0        Action      0.06      0.04      0.00   \n",
       "12795           1996.0        Racing      0.03      0.02      0.00   \n",
       "828             2010.0        Action      0.60      0.96      0.13   \n",
       "182             1997.0        Action      2.30      2.46      0.20   \n",
       "7060            2005.0      Fighting      0.00      0.00      0.23   \n",
       "900             2003.0    Simulation      1.03      0.80      0.00   \n",
       "16387           2015.0        Action      0.00      0.00      0.01   \n",
       "1145            1989.0        Sports      0.66      0.27      0.65   \n",
       "6005            1999.0        Sports      0.23      0.06      0.00   \n",
       "15738           2010.0        Puzzle      0.02      0.00      0.00   \n",
       "15952           2007.0     Adventure      0.00      0.00      0.02   \n",
       "9383            1998.0        Racing      0.07      0.05      0.00   \n",
       "8098            2008.0        Action      0.16      0.01      0.00   \n",
       "15551           1994.0      Fighting      0.02      0.00      0.00   \n",
       "11180           1996.0    Simulation      0.00      0.00      0.08   \n",
       "16366           2008.0          Misc      0.00      0.00      0.01   \n",
       "2416            2015.0          Misc      0.34      0.38      0.00   \n",
       "12773           2005.0          Misc      0.03      0.02      0.00   \n",
       "14350              NaN          Misc      0.00      0.00      0.03   \n",
       "391             2004.0        Action      1.75      1.20      0.02   \n",
       "2953            1998.0        Sports      0.38      0.26      0.00   \n",
       "13071           2010.0       Shooter      0.05      0.00      0.00   \n",
       "14452           2010.0     Adventure      0.02      0.00      0.00   \n",
       "4707            1999.0  Role-Playing      0.10      0.02      0.25   \n",
       "3814            2005.0        Sports      0.24      0.09      0.19   \n",
       "3339            2013.0        Action      0.33      0.22      0.00   \n",
       "8917            2003.0  Role-Playing      0.11      0.03      0.00   \n",
       "16640           2007.0      Strategy      0.00      0.01      0.00   \n",
       "16013           2016.0        Action      0.01      0.00      0.00   \n",
       "9557            2014.0      Fighting      0.06      0.01      0.04   \n",
       "6416            1997.0        Sports      0.00      0.00      0.25   \n",
       "14552           2007.0        Sports      0.00      0.00      0.03   \n",
       "12118           2007.0       Shooter      0.06      0.00      0.00   \n",
       "5130            2008.0    Simulation      0.34      0.00      0.00   \n",
       "3839            2000.0      Fighting      0.29      0.20      0.00   \n",
       "849             2011.0        Action      0.58      1.04      0.03   \n",
       "14000           2006.0  Role-Playing      0.00      0.00      0.04   \n",
       "10625           2007.0          Misc      0.00      0.00      0.10   \n",
       "8072            2013.0  Role-Playing      0.00      0.00      0.18   \n",
       "13824           2009.0     Adventure      0.00      0.00      0.04   \n",
       "4441            2009.0        Action      0.09      0.02      0.32   \n",
       "1991            2006.0    Simulation      0.87      0.03      0.00   \n",
       "526             1997.0        Sports      0.29      0.20      2.13   \n",
       "9496            2009.0        Sports      0.12      0.00      0.00   \n",
       "15816              NaN       Shooter      0.01      0.00      0.00   \n",
       "\n",
       "       Other_sales  Critic_Score User_Score Rating  \n",
       "5182          0.00           NaN        NaN    NaN  \n",
       "11245         0.01          74.0        6.7      T  \n",
       "3310          0.05           NaN        NaN    NaN  \n",
       "3313          0.01          62.0        8.9      E  \n",
       "11018         0.00           NaN        tbd   E10+  \n",
       "10545         0.01           NaN        NaN    NaN  \n",
       "12795         0.00           NaN        NaN    NaN  \n",
       "828           0.36           NaN        NaN    NaN  \n",
       "182           0.28          85.0        NaN      T  \n",
       "7060          0.00           NaN        NaN    NaN  \n",
       "900           0.09          80.0        8.6      T  \n",
       "16387         0.00           NaN        NaN    NaN  \n",
       "1145          0.03           NaN        NaN    NaN  \n",
       "6005          0.00           NaN        NaN    NaN  \n",
       "15738         0.00           NaN        tbd      T  \n",
       "15952         0.00           NaN        NaN    NaN  \n",
       "9383          0.01           NaN        NaN    NaN  \n",
       "8098          0.01          56.0        7.5      T  \n",
       "15551         0.00           NaN        NaN    NaN  \n",
       "11180         0.01           NaN        NaN    NaN  \n",
       "16366         0.00           NaN        NaN    NaN  \n",
       "2416          0.14          80.0        6.2      T  \n",
       "12773         0.01          73.0        8.4      T  \n",
       "14350         0.00           NaN        NaN    NaN  \n",
       "391           0.43          80.0        8.9      T  \n",
       "2953          0.05           NaN        NaN    NaN  \n",
       "13071         0.00          33.0        6.6      M  \n",
       "14452         0.00           NaN        NaN      T  \n",
       "4707          0.04           NaN        NaN    NaN  \n",
       "3814          0.01          81.0          8      E  \n",
       "3339          0.05          71.0        7.6   E10+  \n",
       "8917          0.01           NaN        NaN    NaN  \n",
       "16640         0.00          51.0        3.8   E10+  \n",
       "16013         0.00           NaN        tbd      M  \n",
       "9557          0.02           NaN        NaN    NaN  \n",
       "6416          0.02           NaN        NaN    NaN  \n",
       "14552         0.00           NaN        NaN    NaN  \n",
       "12118         0.00          65.0        6.3      T  \n",
       "5130          0.03           NaN        NaN    NaN  \n",
       "3839          0.03          68.0        tbd      T  \n",
       "849           0.36          64.0        6.4      T  \n",
       "14000         0.00           NaN        NaN    NaN  \n",
       "10625         0.00           NaN        NaN    NaN  \n",
       "8072          0.00           NaN        NaN    NaN  \n",
       "13824         0.00           NaN        NaN    NaN  \n",
       "4441          0.01          55.0        7.2      T  \n",
       "1991          0.14          73.0        8.7   E10+  \n",
       "526           0.18           NaN        NaN    NaN  \n",
       "9496          0.01           NaN        tbd      E  \n",
       "15816         0.00          45.0          2      M  "
      ]
     },
     "metadata": {},
     "output_type": "display_data"
    }
   ],
   "source": [
    "display(data.sample(50))"
   ]
  },
  {
   "cell_type": "markdown",
   "id": "4b9622c1",
   "metadata": {},
   "source": [
    "* **Name** — название игры\n",
    "* **Platform** — платформа\n",
    "* **Year_of_Release** — год выпуска\n",
    "* **Genre** — жанр игры\n",
    "* **NA_sales** — продажи в Северной Америке (миллионы проданных копий)\n",
    "* **EU_sales** — продажи в Европе (миллионы проданных копий)\n",
    "* **JP_sales** — продажи в Японии (миллионы проданных копий)\n",
    "* **Other_sales** — продажи в других странах (миллионы проданных копий)\n",
    "* **Critic_Score** — оценка критиков (максимум 100)\n",
    "* **User_Score** — оценка пользователей (максимум 10)\n",
    "* **Rating** — рейтинг от организации ESRB (англ. Entertainment Software Rating\n",
    "Board). Эта ассоциация определяет рейтинг компьютерных игр и присваивает\n",
    "им подходящую возрастную категорию."
   ]
  },
  {
   "cell_type": "markdown",
   "id": "d085c01a",
   "metadata": {},
   "source": [
    "###### 1) Заменим названия столбцов, приведя их к нижнему регистру:"
   ]
  },
  {
   "cell_type": "code",
   "execution_count": 4,
   "id": "660ad9df",
   "metadata": {},
   "outputs": [
    {
     "name": "stdout",
     "output_type": "stream",
     "text": [
      "Index(['name', 'platform', 'year_of_release', 'genre', 'na_sales', 'eu_sales',\n",
      "       'jp_sales', 'other_sales', 'critic_score', 'user_score', 'rating'],\n",
      "      dtype='object')\n"
     ]
    }
   ],
   "source": [
    "#напишем цикл, который применит метод lower() ко всем названиям столбцов:\n",
    "data.columns = data.columns.str.lower()\n",
    "\n",
    "#проверим результат\n",
    "print(data.columns)"
   ]
  },
  {
   "cell_type": "markdown",
   "id": "b2f48237",
   "metadata": {},
   "source": [
    "###### 2) Преобразуем данные в нужные типы:"
   ]
  },
  {
   "cell_type": "code",
   "execution_count": 6,
   "id": "9ca9a04d",
   "metadata": {},
   "outputs": [
    {
     "name": "stdout",
     "output_type": "stream",
     "text": [
      "<class 'pandas.core.frame.DataFrame'>\n",
      "RangeIndex: 16715 entries, 0 to 16714\n",
      "Data columns (total 11 columns):\n",
      " #   Column           Non-Null Count  Dtype  \n",
      "---  ------           --------------  -----  \n",
      " 0   name             16713 non-null  object \n",
      " 1   platform         16715 non-null  object \n",
      " 2   year_of_release  16446 non-null  float64\n",
      " 3   genre            16713 non-null  object \n",
      " 4   na_sales         16715 non-null  float64\n",
      " 5   eu_sales         16715 non-null  float64\n",
      " 6   jp_sales         16715 non-null  float64\n",
      " 7   other_sales      16715 non-null  float64\n",
      " 8   critic_score     8137 non-null   float64\n",
      " 9   user_score       10014 non-null  object \n",
      " 10  rating           9949 non-null   object \n",
      "dtypes: float64(6), object(5)\n",
      "memory usage: 1.4+ MB\n"
     ]
    }
   ],
   "source": [
    "#посмотрим в каких форматах предоставлены данные:\n",
    "data.info()"
   ]
  },
  {
   "cell_type": "markdown",
   "id": "d712e1a5",
   "metadata": {},
   "source": [
    "Заменим форматы данных в колонках:\n",
    "\n",
    "1) **'year_of_release'** - переведем в целове число, т.к. год - это всегда целое число\n",
    "\n",
    "2) **'user_score'** - переведем из строки в вещественное число"
   ]
  },
  {
   "cell_type": "markdown",
   "id": "9154aa9e",
   "metadata": {},
   "source": [
    "c 'user_score' возникла проблема: помимо пропусков значений, у нас ест значение \"tbd\", вероятно, предполагающий что-то вроде 'to be determined'. Т.е. значения, которые еще не определены. Если мы заменим их на 0, то это может повлиять на среднее, подобных строк - 2424. \n",
    "Поэтому я удалю эти значения, для того, чтоб иметь возможность поменять формат столбца и производить математические операции с рейтингом.\n"
   ]
  },
  {
   "cell_type": "code",
   "execution_count": 7,
   "id": "1cc0298e",
   "metadata": {},
   "outputs": [
    {
     "name": "stdout",
     "output_type": "stream",
     "text": [
      "Строк с оценкой 'tbd': 0\n"
     ]
    }
   ],
   "source": [
    "#display(data[(data['rating'].isna() == True) & (data['user_score'] == 'tbd')])\n",
    "\n",
    "#удалим значения 'tbd'\n",
    "data['user_score'] = data['user_score'].replace('tbd', np.NaN)\n",
    "        \n",
    "#проверим, что таких значений больше нет\n",
    "print(\"Строк с оценкой 'tbd':\",data[data['user_score'] == 'tbd']['user_score'].count())"
   ]
  },
  {
   "cell_type": "markdown",
   "id": "121c9bae",
   "metadata": {},
   "source": [
    "Есть пропуски в годе выпуска игры. Заменим его на 0, чтоб попробовать заполнить год выпуска игры, взяв его из названия."
   ]
  },
  {
   "cell_type": "code",
   "execution_count": 8,
   "id": "58a65731",
   "metadata": {},
   "outputs": [
    {
     "name": "stdout",
     "output_type": "stream",
     "text": [
      "[2006, 1985, 2008, 2009, 1996, 1989, 1984, 2005, 1999, 2007, 2010, 2013, 2004, 1990, 1988, 2002, 2001, 2011, 1998, 2015, 2012, 2014, 1992, 1997, 1993, 1994, 1982, 2016, 2003, 1986, 2000, 0, 1995, 1991, 1981, 1987, 1980, 1983]\n"
     ]
    }
   ],
   "source": [
    "data['year_of_release'] = data['year_of_release'].fillna(0)\n",
    "\n",
    "#переведем год в int\n",
    "data=data.astype({'year_of_release': int}, errors='ignore')\n",
    "\n",
    "#создадим список годов выпуска игр, которые есть у нас в данных:\n",
    "years_list = list(data['year_of_release'].unique())\n",
    "\n",
    "print(years_list)"
   ]
  },
  {
   "cell_type": "code",
   "execution_count": 9,
   "id": "b7ccf94e",
   "metadata": {
    "scrolled": true
   },
   "outputs": [
    {
     "name": "stdout",
     "output_type": "stream",
     "text": [
      "Количество 0 в годах выпуска до применения функции: 269\n",
      "Количество 0 в годах выпуска после применения функции: 267\n"
     ]
    }
   ],
   "source": [
    "print('Количество 0 в годах выпуска до применения функции:', data[data['year_of_release'] == 0]['year_of_release'].count())\n",
    "\n",
    "#напишем функцию, которая вытащит год из названия игры, там, где год неизвестен\n",
    "def find_year_in_name(row):\n",
    "    name = row['name']\n",
    "    release_year = row['year_of_release']\n",
    "    if release_year == 0:\n",
    "        for year in years_list:\n",
    "            if str(year) in name:\n",
    "                return year\n",
    "            else:\n",
    "                return 0\n",
    "    else:\n",
    "        return release_year\n",
    "\n",
    "#тест функции\n",
    "#d = {'name': ['WARCRAFT 2014', 'Mario 1984', 'FutureGame 2020'], 'year_of_release': [0, 1985, 0]}\n",
    "#df = pd.DataFrame(data=d)\n",
    "#df['year_of_release'] = df.apply(find_year_in_name, axis=1)\n",
    "#print(df)\n",
    "\n",
    "#применим функцию\n",
    "data['year_of_release'] = data.apply(find_year_in_name, axis=1)\n",
    "\n",
    "\n",
    "print('Количество 0 в годах выпуска после применения функции:',data[data['year_of_release'] == 0]['year_of_release'].count())\n"
   ]
  },
  {
   "cell_type": "markdown",
   "id": "c69c5b9f",
   "metadata": {},
   "source": [
    "После применения функции, у нас остались 0 в годах, но т.к. дальнейшие исследования строятся на годе выпуска, а % пропущенных значений всего 1,5, то удалим эти строки <a id='нет0годов'></a>"
   ]
  },
  {
   "cell_type": "code",
   "execution_count": 10,
   "id": "834a616a",
   "metadata": {
    "scrolled": true
   },
   "outputs": [],
   "source": [
    "#оставим в таблице только ненулевые значения года выпуска\n",
    "data = data[data['year_of_release'] > 0]\n"
   ]
  },
  {
   "cell_type": "code",
   "execution_count": 11,
   "id": "a3903418",
   "metadata": {
    "scrolled": true
   },
   "outputs": [
    {
     "name": "stdout",
     "output_type": "stream",
     "text": [
      "<class 'pandas.core.frame.DataFrame'>\n",
      "Int64Index: 16448 entries, 0 to 16714\n",
      "Data columns (total 11 columns):\n",
      " #   Column           Non-Null Count  Dtype  \n",
      "---  ------           --------------  -----  \n",
      " 0   name             16446 non-null  object \n",
      " 1   platform         16448 non-null  object \n",
      " 2   year_of_release  16448 non-null  int64  \n",
      " 3   genre            16446 non-null  object \n",
      " 4   na_sales         16448 non-null  float64\n",
      " 5   eu_sales         16448 non-null  float64\n",
      " 6   jp_sales         16448 non-null  float64\n",
      " 7   other_sales      16448 non-null  float64\n",
      " 8   critic_score     7983 non-null   float64\n",
      " 9   user_score       7463 non-null   float64\n",
      " 10  rating           9768 non-null   object \n",
      "dtypes: float64(6), int64(1), object(4)\n",
      "memory usage: 1.5+ MB\n"
     ]
    }
   ],
   "source": [
    "#переведем 'user_score' в вещестенное число\n",
    "data=data.astype({'user_score': float}, errors='ignore')\n",
    "\n",
    "#проверим обновленные типы данных\n",
    "data.info()\n"
   ]
  },
  {
   "cell_type": "markdown",
   "id": "ad58bbd6",
   "metadata": {},
   "source": [
    "Пропусков в оценках очень много и мы не можем избавиться от этих строк. \n",
    "Заменим пропуски в оценках на 0 для проведения математических операций с ними <a id='оценка0'></a>"
   ]
  },
  {
   "cell_type": "code",
   "execution_count": 12,
   "id": "b3b3841c",
   "metadata": {},
   "outputs": [],
   "source": [
    "data['critic_score'] = data['critic_score'].fillna(0) \n",
    "data['user_score'] = data['critic_score'].fillna(0) "
   ]
  },
  {
   "cell_type": "markdown",
   "id": "a877dee1",
   "metadata": {},
   "source": [
    "Для поля 'rating' замена на 0 будет выглядеть странно, давайте используем рейтинг 'RP' для пропущенных значений"
   ]
  },
  {
   "cell_type": "code",
   "execution_count": 13,
   "id": "d4558a05",
   "metadata": {},
   "outputs": [],
   "source": [
    "data['rating'] = data['rating'].fillna('RP') "
   ]
  },
  {
   "cell_type": "markdown",
   "id": "78b2e0d3",
   "metadata": {},
   "source": [
    "###### 3) Разберемся с пропусками и невалидными значениями."
   ]
  },
  {
   "cell_type": "markdown",
   "id": "affbe16f",
   "metadata": {},
   "source": [
    "На всякий случай проверим, нет ли дубликатов в таблице."
   ]
  },
  {
   "cell_type": "code",
   "execution_count": 14,
   "id": "22d35f84",
   "metadata": {},
   "outputs": [
    {
     "name": "stdout",
     "output_type": "stream",
     "text": [
      "Количество дубликатов в таблице: 0\n"
     ]
    }
   ],
   "source": [
    "print('Количество дубликатов в таблице:', data.duplicated().sum())"
   ]
  },
  {
   "cell_type": "markdown",
   "id": "54fd718c",
   "metadata": {},
   "source": [
    "Посмотрим на значения в столбце 'rating'."
   ]
  },
  {
   "cell_type": "code",
   "execution_count": 15,
   "id": "92d82022",
   "metadata": {},
   "outputs": [
    {
     "name": "stdout",
     "output_type": "stream",
     "text": [
      "['E' 'RP' 'M' 'T' 'E10+' 'K-A' 'AO' 'EC']\n"
     ]
    }
   ],
   "source": [
    "print(data['rating'].unique())"
   ]
  },
  {
   "cell_type": "markdown",
   "id": "4e9b3960",
   "metadata": {},
   "source": [
    "Посмотрим, что значат эти рейтинги: https://ru.wikipedia.org/wiki/Entertainment_Software_Rating_Board\n",
    "\n",
    "* EC - Early childhood\n",
    "* E - Everyone. Сюда же нужно отнести и K-A(Kids to Adults) - это старое обозначение.\n",
    "* E10 - Everyone 10 and older\n",
    "* T - Teen\n",
    "* M - Mature\n",
    "* AO - Adults Only 18+\n",
    "* RP - Rating Pending\n",
    "\n",
    "Исходя из этого, нужно объединить E и K-A"
   ]
  },
  {
   "cell_type": "code",
   "execution_count": 16,
   "id": "637d0478",
   "metadata": {
    "scrolled": true
   },
   "outputs": [
    {
     "name": "stderr",
     "output_type": "stream",
     "text": [
      "/opt/conda/lib/python3.9/site-packages/pandas/core/indexing.py:1637: SettingWithCopyWarning: \n",
      "A value is trying to be set on a copy of a slice from a DataFrame\n",
      "\n",
      "See the caveats in the documentation: https://pandas.pydata.org/pandas-docs/stable/user_guide/indexing.html#returning-a-view-versus-a-copy\n",
      "  self._setitem_single_block(indexer, value, name)\n"
     ]
    }
   ],
   "source": [
    "data['rating'].loc[data['rating'] == 'K-A'] = 'E'"
   ]
  },
  {
   "cell_type": "code",
   "execution_count": 17,
   "id": "c33cf16f",
   "metadata": {},
   "outputs": [
    {
     "name": "stdout",
     "output_type": "stream",
     "text": [
      "      name platform  year_of_release genre  na_sales  eu_sales  jp_sales  \\\n",
      "659    NaN      GEN             1993   NaN      1.78      0.53      0.00   \n",
      "14244  NaN      GEN             1993   NaN      0.00      0.00      0.03   \n",
      "\n",
      "       other_sales  critic_score  user_score rating  \n",
      "659           0.08           0.0         0.0     RP  \n",
      "14244         0.00           0.0         0.0     RP  \n"
     ]
    }
   ],
   "source": [
    "#проверим пропуски в name:\n",
    "print(data[data['name'].isna() == True])"
   ]
  },
  {
   "cell_type": "markdown",
   "id": "c678a3fe",
   "metadata": {},
   "source": [
    "Есть две строчки без имени игры, жанра и рейтингов. Такие строки нам не будут полезны. Т.к. их всего 2 из 16 тыс, просто избавимся от них. "
   ]
  },
  {
   "cell_type": "code",
   "execution_count": 18,
   "id": "cf6259c1",
   "metadata": {},
   "outputs": [],
   "source": [
    "data = data[data['name'].isna() == False]"
   ]
  },
  {
   "cell_type": "markdown",
   "id": "3f58a4d4",
   "metadata": {},
   "source": [
    "Эффективность данной функции - всего две дополнительные записи, но было очень интересно решить такую задачку :)"
   ]
  },
  {
   "cell_type": "markdown",
   "id": "60f3e357",
   "metadata": {},
   "source": [
    "###### 4) Посчитаем суммарные продажи во всех регионах и запишем их в отдельный столбец."
   ]
  },
  {
   "cell_type": "code",
   "execution_count": 5,
   "id": "9b91b43d",
   "metadata": {},
   "outputs": [],
   "source": [
    "data['total_sales'] = data[['na_sales','eu_sales','jp_sales', 'other_sales']].sum(axis = 1)"
   ]
  },
  {
   "cell_type": "markdown",
   "id": "cdc4efe8",
   "metadata": {},
   "source": [
    "**Выводы:**\n",
    "\n",
    "Данные выглядят достоверно. Есть два момента которые стоит учитывать далее:\n",
    "- пропуски в оценках пользователей, оценках критиков и рейтингах. Это можно случиться по разным причинам. Пропуски формируются из-за миграции данных, человеческого фактора(ошибка при внесении), или, что тут вероятнее всего, по части игр оценки не были собраны в принципе или еще не успели собраться;\n",
    "- в описании проекта сказано, что части данных за 2016 год может не быть. Это стоит помнить и корректировать выводы с учётом этого."
   ]
  },
  {
   "cell_type": "code",
   "execution_count": 20,
   "id": "9b8a6ef0",
   "metadata": {},
   "outputs": [
    {
     "name": "stdout",
     "output_type": "stream",
     "text": [
      "<class 'pandas.core.frame.DataFrame'>\n",
      "Int64Index: 16446 entries, 0 to 16714\n",
      "Data columns (total 12 columns):\n",
      " #   Column           Non-Null Count  Dtype  \n",
      "---  ------           --------------  -----  \n",
      " 0   name             16446 non-null  object \n",
      " 1   platform         16446 non-null  object \n",
      " 2   year_of_release  16446 non-null  int64  \n",
      " 3   genre            16446 non-null  object \n",
      " 4   na_sales         16446 non-null  float64\n",
      " 5   eu_sales         16446 non-null  float64\n",
      " 6   jp_sales         16446 non-null  float64\n",
      " 7   other_sales      16446 non-null  float64\n",
      " 8   critic_score     16446 non-null  float64\n",
      " 9   user_score       16446 non-null  float64\n",
      " 10  rating           16446 non-null  object \n",
      " 11  total_sales      16446 non-null  float64\n",
      "dtypes: float64(7), int64(1), object(4)\n",
      "memory usage: 1.6+ MB\n",
      "None\n",
      "-------------------------\n",
      "name [' Beyblade Burst' ' Fire Emblem Fates' \" Frozen: Olaf's Quest\" ...\n",
      " 'uDraw Studio: Instant Artist' 'wwe Smackdown vs. Raw 2006'\n",
      " '¡Shin Chan Flipa en colores!']\n",
      "name: кол-во NaN, доля 0 0.0\n",
      "-------------------------\n",
      "platform ['2600' '3DO' '3DS' 'DC' 'DS' 'GB' 'GBA' 'GC' 'GEN' 'GG' 'N64' 'NES' 'NG'\n",
      " 'PC' 'PCFX' 'PS' 'PS2' 'PS3' 'PS4' 'PSP' 'PSV' 'SAT' 'SCD' 'SNES' 'TG16'\n",
      " 'WS' 'Wii' 'WiiU' 'X360' 'XB' 'XOne']\n",
      "platform: кол-во NaN, доля 0 0.0\n",
      "-------------------------\n",
      "year_of_release [1980 1981 1982 1983 1984 1985 1986 1987 1988 1989 1990 1991 1992 1993\n",
      " 1994 1995 1996 1997 1998 1999 2000 2001 2002 2003 2004 2005 2006 2007\n",
      " 2008 2009 2010 2011 2012 2013 2014 2015 2016]\n",
      "year_of_release: кол-во 0 0\n",
      "year_of_release: кол-во NaN, доля 0 0.0\n",
      "-------------------------\n",
      "genre ['Action' 'Adventure' 'Fighting' 'Misc' 'Platform' 'Puzzle' 'Racing'\n",
      " 'Role-Playing' 'Shooter' 'Simulation' 'Sports' 'Strategy']\n",
      "genre: кол-во NaN, доля 0 0.0\n",
      "-------------------------\n",
      "critic_score [ 0. 13. 17. 19. 20. 21. 23. 24. 25. 26. 27. 28. 29. 30. 31. 32. 33. 34.\n",
      " 35. 36. 37. 38. 39. 40. 41. 42. 43. 44. 45. 46. 47. 48. 49. 50. 51. 52.\n",
      " 53. 54. 55. 56. 57. 58. 59. 60. 61. 62. 63. 64. 65. 66. 67. 68. 69. 70.\n",
      " 71. 72. 73. 74. 75. 76. 77. 78. 79. 80. 81. 82. 83. 84. 85. 86. 87. 88.\n",
      " 89. 90. 91. 92. 93. 94. 95. 96. 97. 98.]\n",
      "critic_score: кол-во NaN, доля 0 0.0\n",
      "-------------------------\n",
      "user_score [ 0. 13. 17. 19. 20. 21. 23. 24. 25. 26. 27. 28. 29. 30. 31. 32. 33. 34.\n",
      " 35. 36. 37. 38. 39. 40. 41. 42. 43. 44. 45. 46. 47. 48. 49. 50. 51. 52.\n",
      " 53. 54. 55. 56. 57. 58. 59. 60. 61. 62. 63. 64. 65. 66. 67. 68. 69. 70.\n",
      " 71. 72. 73. 74. 75. 76. 77. 78. 79. 80. 81. 82. 83. 84. 85. 86. 87. 88.\n",
      " 89. 90. 91. 92. 93. 94. 95. 96. 97. 98.]\n",
      "user_score: кол-во 0 8463\n",
      "user_score: кол-во NaN, доля 0 0.0\n",
      "-------------------------\n",
      "rating ['AO' 'E' 'E10+' 'EC' 'M' 'RP' 'T']\n",
      "rating: кол-во NaN, доля 0 0.0\n"
     ]
    }
   ],
   "source": [
    "# Посмотрим, что у нас осталось\n",
    "temp = data.copy() \n",
    "print(temp.info())\n",
    "print('-------------------------')\n",
    "print('name', temp.name.sort_values().unique())\n",
    "print('name: кол-во NaN, доля',temp.name.isna().sum(), temp.name.isna().sum()/len(temp))\n",
    "print('-------------------------')\n",
    "print('platform', temp.platform.sort_values().unique())\n",
    "print('platform: кол-во NaN, доля',temp.platform.isna().sum(), temp.platform.isna().sum()/len(temp))\n",
    "print('-------------------------')\n",
    "print('year_of_release', temp.year_of_release.sort_values().unique())\n",
    "print('year_of_release: кол-во 0', temp.year_of_release[data.year_of_release == 0].count())\n",
    "print('year_of_release: кол-во NaN, доля',temp.year_of_release.isna().sum(), temp.year_of_release.isna().sum()/len(temp))\n",
    "print('-------------------------')\n",
    "print('genre', temp.genre.sort_values().unique())\n",
    "print('genre: кол-во NaN, доля',temp.genre.isna().sum(), temp.genre.isna().sum()/len(temp))\n",
    "print('-------------------------')\n",
    "print('critic_score', temp.critic_score.sort_values().unique())\n",
    "print('critic_score: кол-во NaN, доля', temp.critic_score.isna().sum(), temp.critic_score.isna().sum()/len(temp))\n",
    "print('-------------------------')\n",
    "print('user_score', temp.user_score.sort_values().unique())\n",
    "print('user_score: кол-во 0', temp.user_score[temp.user_score == 0].count())\n",
    "print('user_score: кол-во NaN, доля',temp.user_score.isna().sum(), temp.user_score.isna().sum()/len(temp))\n",
    "print('-------------------------')\n",
    "print('rating', temp.rating.sort_values().unique())\n",
    "print('rating: кол-во NaN, доля',temp.rating.isna().sum(), temp.rating.isna().sum()/len(temp))"
   ]
  },
  {
   "cell_type": "markdown",
   "id": "f22f583d",
   "metadata": {},
   "source": [
    "### Исследовательский анализ данных <a id='Анализ'></a>"
   ]
  },
  {
   "cell_type": "markdown",
   "id": "c53511d6",
   "metadata": {},
   "source": [
    "###### 1) Посчитаем сколько игр выпускалось в разные годы"
   ]
  },
  {
   "cell_type": "code",
   "execution_count": 21,
   "id": "1c304be6",
   "metadata": {
    "scrolled": true
   },
   "outputs": [
    {
     "data": {
      "image/png": "[encoded data removed]",
      "text/plain": [
       "<Figure size 1008x288 with 1 Axes>"
      ]
     },
     "metadata": {
      "needs_background": "light"
     },
     "output_type": "display_data"
    }
   ],
   "source": [
    "year_releases = data[data['year_of_release'] != 0].groupby('year_of_release')['total_sales'].count()\n",
    "year_releases.plot(figsize=(14, 4)) \n",
    "plt.ylabel(\"releases\")\n",
    "plt.show()"
   ]
  },
  {
   "cell_type": "markdown",
   "id": "1276159c",
   "metadata": {},
   "source": [
    "**Выводы:**\n",
    "- до 1994 года количество игр определялось десятками и не сильно расло от года к году;\n",
    "- с 1994 года до 2003 года виден резкий рост. Игры стали выпускаться тысячами. Этот рост сохранялся до 2008 года;\n",
    "- в 2008 году случился мировой финансовый кризис, что так же отражается и на графике продаж игр;\n",
    "- после нескольких лет упадка, в индустрии наметился тренд на рост после 2012 года;\n",
    "- падение графика после 2015 года выглядит как отсуствие части данных за 2016 год. Это оговаривается и в описании предоставленных данных. Быстрый ресерч подтверждает это предположение: после 2012 года, индустрия видеоигр только росла. \n"
   ]
  },
  {
   "cell_type": "markdown",
   "id": "5dc15d53",
   "metadata": {},
   "source": [
    "###### 1) Посмотрим, как менялись продажи по платформам"
   ]
  },
  {
   "cell_type": "code",
   "execution_count": 22,
   "id": "8cac541a",
   "metadata": {
    "scrolled": true
   },
   "outputs": [
    {
     "name": "stdout",
     "output_type": "stream",
     "text": [
      "platform\n",
      "PS2     1236.60\n",
      "X360     961.24\n",
      "PS3      931.34\n",
      "Wii      891.18\n",
      "DS       802.78\n",
      "PS       727.58\n",
      "PS4      314.14\n",
      "GBA      312.88\n",
      "PSP      289.53\n",
      "3DS      257.81\n",
      "Name: total_sales, dtype: float64\n"
     ]
    }
   ],
   "source": [
    "#выберем топ-10 платформ с наибольшими суммарными продажами за весь период\n",
    "total_sales_platform = data.groupby('platform')['total_sales'].sum()\n",
    "print(total_sales_platform.sort_values(ascending=False).head(10))\n"
   ]
  },
  {
   "cell_type": "code",
   "execution_count": 23,
   "id": "f095fdfc",
   "metadata": {},
   "outputs": [
    {
     "data": {
      "text/plain": [
       "<seaborn.axisgrid.FacetGrid at 0x7f855fbd0c40>"
      ]
     },
     "execution_count": 23,
     "metadata": {},
     "output_type": "execute_result"
    },
    {
     "data": {
      "image/png": "[encoded data removed]",
      "text/plain": [
       "<Figure size 782.5x360 with 1 Axes>"
      ]
     },
     "metadata": {
      "needs_background": "light"
     },
     "output_type": "display_data"
    }
   ],
   "source": [
    "#посмотрим на то, как менялись продажи по этим платформам \n",
    "#добавим в срез платформы PC и X-Box, как популярные ранее платформы, для оценки сменяемости \n",
    "top_sales_platform = data[data['year_of_release'] > 0]\n",
    "top_sales_platform = top_sales_platform[(top_sales_platform['platform'] == 'PS4') | \n",
    "                                        (top_sales_platform['platform'] == 'XOne') | \n",
    "                                        (top_sales_platform['platform'] == '3DS') | \n",
    "                                        (top_sales_platform['platform'] == 'PS3') | \n",
    "                                        (top_sales_platform['platform'] == 'X360') | \n",
    "                                        (top_sales_platform['platform'] == 'WiiU') | \n",
    "                                        (top_sales_platform['platform'] == 'PC') |\n",
    "                                        (top_sales_platform['platform'] == 'WiiU') |\n",
    "                                        (top_sales_platform['platform'] == 'PSV') |\n",
    "                                        (top_sales_platform['platform'] == 'Wii') |\n",
    "                                        (top_sales_platform['platform'] == 'PSP')]\n",
    "top_sales_platform = top_sales_platform.groupby(['platform','year_of_release'])['total_sales'].sum().reset_index()\n",
    "\n",
    "\n",
    "sns.relplot(x=\"year_of_release\", y=\"total_sales\", hue=\"platform\", kind=\"line\", height=5, aspect=2, data=top_sales_platform)"
   ]
  },
  {
   "cell_type": "markdown",
   "id": "93bcdc8e",
   "metadata": {},
   "source": [
    "Давайте на всякий случай проверим еще, что в последние годы не появилось новой платформы, которая только-только начала набирать обороты и не успела еще попасть в топ-продаж. "
   ]
  },
  {
   "cell_type": "code",
   "execution_count": 24,
   "id": "b147d351",
   "metadata": {},
   "outputs": [
    {
     "data": {
      "text/plain": [
       "<seaborn.axisgrid.FacetGrid at 0x7f855fbd0040>"
      ]
     },
     "execution_count": 24,
     "metadata": {},
     "output_type": "execute_result"
    },
    {
     "data": {
      "image/png": "[encoded data removed]",
      "text/plain": [
       "<Figure size 422.5x360 with 1 Axes>"
      ]
     },
     "metadata": {
      "needs_background": "light"
     },
     "output_type": "display_data"
    }
   ],
   "source": [
    "#построим аналогичный график по всем платформам в последние три года\n",
    "top_sales_platform_new = data[data['year_of_release'] >= 2014]\n",
    "top_sales_platform_new = top_sales_platform_new.groupby(['platform','year_of_release'])['total_sales'].sum().reset_index()\n",
    "\n",
    "\n",
    "sns.relplot(x=\"year_of_release\", y=\"total_sales\", hue=\"platform\", kind=\"line\", data=top_sales_platform_new)"
   ]
  },
  {
   "cell_type": "markdown",
   "id": "b03199b3",
   "metadata": {},
   "source": [
    "Новой растущей платформы не нашлось.\n",
    "\n",
    "**Выводы:**\n",
    "- В последние 5 лет лидером по проданым копиям является Playstation платформа. PS4 пришла на смену PS3, сохранив лидерство в продажах;\n",
    "- Платформа появляется и устаревает за 5-10 лет. До 2012 года это было около 10 лет, ближе к 2016 - 5 лет. Это не касается платформы персональных компьютеров, продажи на нее на удивление стабильны;\n",
    "- Самые новые платформы, которые показывают лучшие продажи: PlayStation4 и X One. Падение графика в 2016 году, с учётом того, что глобальных финансовых катаклизмов не происходило в этот момент, вероятнее всего обусловлено отсутствием части данных. Падение выглядит неестественно слишком резко."
   ]
  },
  {
   "cell_type": "markdown",
   "id": "e71886c1",
   "metadata": {},
   "source": [
    "Исходя из этого, не стоит смотреть на период дальше 5 лет назад. Это обусловлено периодом устаревания платформ. "
   ]
  },
  {
   "cell_type": "markdown",
   "id": "42dc0bf9",
   "metadata": {},
   "source": [
    "###### 2) Выберем несколько потенциально прибыльных платформ."
   ]
  },
  {
   "cell_type": "code",
   "execution_count": 25,
   "id": "205a160c",
   "metadata": {},
   "outputs": [],
   "source": [
    "#оставим в датасете данные только за последние 4 года:\n",
    "data = data[data['year_of_release'] >= 2013]"
   ]
  },
  {
   "cell_type": "code",
   "execution_count": 26,
   "id": "8027c02f",
   "metadata": {
    "scrolled": true
   },
   "outputs": [
    {
     "name": "stdout",
     "output_type": "stream",
     "text": [
      "platform\n",
      "PS4     314.14\n",
      "PS3     181.43\n",
      "XOne    159.32\n",
      "3DS     143.25\n",
      "X360    136.80\n",
      "WiiU     64.63\n",
      "PC       39.43\n",
      "PSV      32.99\n",
      "Wii      13.66\n",
      "PSP       3.50\n",
      "Name: total_sales, dtype: float64\n"
     ]
    }
   ],
   "source": [
    "#посмотрим, изменился ли топ платформ по продажам\n",
    "total_sales_platform = data.groupby('platform')['total_sales'].sum()\n",
    "print(total_sales_platform.sort_values(ascending=False).head(10))"
   ]
  },
  {
   "cell_type": "code",
   "execution_count": 27,
   "id": "ad321198",
   "metadata": {},
   "outputs": [
    {
     "name": "stdout",
     "output_type": "stream",
     "text": [
      "platform\n",
      "PS4     392\n",
      "PSV     358\n",
      "PS3     345\n",
      "3DS     303\n",
      "XOne    247\n",
      "PC      189\n",
      "X360    186\n",
      "WiiU    115\n",
      "PSP      67\n",
      "Wii      23\n",
      "Name: name, dtype: int64\n"
     ]
    }
   ],
   "source": [
    "#посмотрим на топ платформ по выпуску игр\n",
    "total_release_platform = data.groupby('platform')['name'].count()\n",
    "print(total_release_platform.sort_values(ascending=False).head(10))"
   ]
  },
  {
   "cell_type": "markdown",
   "id": "32374dfb",
   "metadata": {},
   "source": [
    "**Выводы:**\n",
    "\n",
    "- стабильной во все времена остаётся PC, при среднем количесвте выпускаемых игр, они дают средние в топе продажи;\n",
    "- не хотелось бы рекомендовать вкладывать ресурсы в игры под PSV. Игр под эту платформу выпускается сравнительно много, а вот продаж они генерят почти меньше всего в топе;\n",
    "- возможно, стоит посмотреть на платформы Wii и WiiU. Игр под них выпускается очень мало(в сравнении с другими платформами в топе), однако это не мешает им быть в топе по количеству продаж;\n",
    "- самые последние платформы популярных линеек: PS4 и X-One. Появились не более 3 лет назад, они генерят большую часть продаж, а значит можно рассматривать их как перспективные платформы. "
   ]
  },
  {
   "cell_type": "markdown",
   "id": "89a50727",
   "metadata": {},
   "source": [
    "###### 3) Построим диаграмму размаха глобальных продаж игр в разбивке по платформам"
   ]
  },
  {
   "cell_type": "markdown",
   "id": "41dd275d",
   "metadata": {},
   "source": [
    "Для того, чтоб получить читабельные графики, очистим данные от выбросов. Для этого ограничим значения 5-ым и 95-ым квантилем (они выбраны потому что 25 и 75 отбрасывают слишком много значений). "
   ]
  },
  {
   "cell_type": "code",
   "execution_count": 28,
   "id": "f25975b8",
   "metadata": {
    "scrolled": false
   },
   "outputs": [
    {
     "name": "stdout",
     "output_type": "stream",
     "text": [
      "0.01\n",
      "2.1220000000000026\n"
     ]
    }
   ],
   "source": [
    "#определим 5-ый и 95-ый квантиль\n",
    "print(data['total_sales'].quantile(0.05))\n",
    "print(data['total_sales'].quantile(0.95))\n",
    "\n",
    "\n"
   ]
  },
  {
   "cell_type": "code",
   "execution_count": 29,
   "id": "269be4bd",
   "metadata": {
    "scrolled": true
   },
   "outputs": [
    {
     "name": "stdout",
     "output_type": "stream",
     "text": [
      "Диаграмма размаха по полным данным\n"
     ]
    },
    {
     "data": {
      "image/png": "[encoded data removed]",
      "text/plain": [
       "<Figure size 1440x360 with 1 Axes>"
      ]
     },
     "metadata": {
      "needs_background": "light"
     },
     "output_type": "display_data"
    }
   ],
   "source": [
    "#построим диаграммы размаха по олным данным\n",
    "print('Диаграмма размаха по полным данным')\n",
    "plt.figure(figsize=(20,5))\n",
    "sns.boxplot(\n",
    "    data=data,\n",
    "    x='platform',\n",
    "    y='total_sales')\n",
    "plt.show()"
   ]
  },
  {
   "cell_type": "code",
   "execution_count": 30,
   "id": "67546088",
   "metadata": {},
   "outputs": [
    {
     "name": "stdout",
     "output_type": "stream",
     "text": [
      "Диаграмма размаха по данным без выбросов\n"
     ]
    },
    {
     "data": {
      "image/png": "[encoded data removed]",
      "text/plain": [
       "<Figure size 1440x360 with 1 Axes>"
      ]
     },
     "metadata": {
      "needs_background": "light"
     },
     "output_type": "display_data"
    }
   ],
   "source": [
    "#удалим выбивающиеся значения\n",
    "data = data[(data['total_sales'] < 1.83) &\n",
    "                (data['total_sales'] > 0.01)]\n",
    "\n",
    "print('Диаграмма размаха по данным без выбросов')\n",
    "#построим диаграммы размаха по продажам для всех платформ\n",
    "plt.figure(figsize=(20,5))\n",
    "sns.boxplot(\n",
    "    data=data,\n",
    "    x='platform',\n",
    "    y='total_sales')\n",
    "plt.show()"
   ]
  },
  {
   "cell_type": "markdown",
   "id": "602369c6",
   "metadata": {},
   "source": [
    "**Выводы:**\n",
    "- самые продаваемые в среднем игры выпуска(лись/ются) для платформ: PlayStation3, X-360, X-One. \n",
    "- чаще всего, особо-успешные игры (попадающие в выобросы) встречаются на платформе PlayStation3"
   ]
  },
  {
   "cell_type": "markdown",
   "id": "00865b63",
   "metadata": {},
   "source": [
    "В данной диаграмме смущает то, что статистика размазана по разным версиям приставок, например PlayStation2, PlayStation3 и PlayStation4. Интересно посмотреть на статистику, объединив платформы по линейкам, оставив разбивку на консольные и портативные. "
   ]
  },
  {
   "cell_type": "code",
   "execution_count": 31,
   "id": "c1e9cd73",
   "metadata": {},
   "outputs": [
    {
     "data": {
      "text/plain": [
       "(0.0, 2.0)"
      ]
     },
     "execution_count": 31,
     "metadata": {},
     "output_type": "execute_result"
    },
    {
     "data": {
      "image/png": "[encoded data removed]",
      "text/plain": [
       "<Figure size 1440x360 with 1 Axes>"
      ]
     },
     "metadata": {
      "needs_background": "light"
     },
     "output_type": "display_data"
    }
   ],
   "source": [
    "#создадим копию датасета \n",
    "data_global_platforms = data\n",
    "\n",
    "#напишем функцию, которая объединит приставки разных версий\n",
    "def global_platform(platform):\n",
    "    if platform == 'PS2' or platform == 'PS3' or platform == 'PS4':\n",
    "        return 'PS'\n",
    "    elif platform == 'WiiU':\n",
    "        return 'Wii'\n",
    "    elif platform == '3DS' or platform == 'GBA':\n",
    "        return 'DS'\n",
    "    elif platform == 'PSV':\n",
    "        return 'PSP'\n",
    "    if platform == 'X360' or platform == 'XOne':\n",
    "        return 'XB'\n",
    "    else:\n",
    "        return platform\n",
    "\n",
    "#применим функцию к нашему датасету\n",
    "data_global_platforms['global_platform'] = data_global_platforms['platform'].apply(global_platform)\n",
    "\n",
    "#построим диаграмму размаха по новым данным\n",
    "plt.figure(figsize=(20,5))\n",
    "sns.boxplot(\n",
    "    data=data_global_platforms,\n",
    "    x='global_platform',\n",
    "    y='total_sales')        \n",
    "\n",
    "plt.ylim(0, 2)"
   ]
  },
  {
   "cell_type": "markdown",
   "id": "713674a8",
   "metadata": {},
   "source": [
    "**Выводы:**\n",
    "- самые продаваемые игры производятся под X-Box\n",
    "- но, в общем, средние продажи для PlayStation, X-Box и Wii отличаются не сильно\n",
    "- консоли опережают по средним продажам портативные платформы\n",
    "- если говорить о производителе в общем, то особо-успешные игры выпускаются на PlayStation и X-Box примерно одинаково. "
   ]
  },
  {
   "cell_type": "markdown",
   "id": "515d5fc5",
   "metadata": {},
   "source": [
    "###### 4) Оценим, как влияют на продажи внутри одной популярной платформы отзывы пользователей и критиков."
   ]
  },
  {
   "cell_type": "code",
   "execution_count": 32,
   "id": "db93d539",
   "metadata": {},
   "outputs": [],
   "source": [
    "#сделаем срез данных по PS4\n",
    "data_ps4 = data[(data['platform'] == 'PS4') & (data['critic_score'] > 0) & (data['user_score'] > 0)]"
   ]
  },
  {
   "cell_type": "code",
   "execution_count": 33,
   "id": "3b2b7ca6",
   "metadata": {},
   "outputs": [
    {
     "data": {
      "image/png": "[encoded data removed]",
      "text/plain": [
       "<Figure size 432x288 with 1 Axes>"
      ]
     },
     "metadata": {
      "needs_background": "light"
     },
     "output_type": "display_data"
    },
    {
     "name": "stdout",
     "output_type": "stream",
     "text": [
      "Коэффициен корреляции:  0.24000105031366703\n"
     ]
    }
   ],
   "source": [
    "#оценим влияние оценки критиков\n",
    "data_ps4.plot(x='critic_score', y='total_sales', kind='scatter')\n",
    "plt.show()\n",
    "\n",
    "print('Коэффициен корреляции: ',data_ps4['critic_score'].corr(data_ps4['total_sales']))\n"
   ]
  },
  {
   "cell_type": "code",
   "execution_count": 34,
   "id": "2622c8de",
   "metadata": {},
   "outputs": [
    {
     "data": {
      "image/png": "[encoded data removed]",
      "text/plain": [
       "<Figure size 432x288 with 1 Axes>"
      ]
     },
     "metadata": {
      "needs_background": "light"
     },
     "output_type": "display_data"
    },
    {
     "name": "stdout",
     "output_type": "stream",
     "text": [
      "Коэффициен корреляции:  0.24000105031366703\n"
     ]
    }
   ],
   "source": [
    "#оценим влияние оценки пользователей\n",
    "data_ps4.plot(x='user_score', y='total_sales', kind='scatter')\n",
    "plt.show()\n",
    "\n",
    "print('Коэффициен корреляции: ',data_ps4['user_score'].corr(data_ps4['total_sales']))"
   ]
  },
  {
   "cell_type": "markdown",
   "id": "d5828a90",
   "metadata": {},
   "source": [
    "**Выводы:**\n",
    "- оценка критиков игр на PS4 коррелирует с продажами, но не очень ярко. Предположим, что критики, профессионально могут оценить игру и её перспективы, поэтому чаще \"попадают\" оценкой в объем продаж. Так же их оценка может быть заложена в бюджет раскручевыемых игр. А чем лучше маркетинг - тем лучше продажи.  \n",
    "- оценка пользователей не влияет на объем продаж. Возможно, это связано с субъективностью мнения обычных пользователей."
   ]
  },
  {
   "cell_type": "markdown",
   "id": "4df6dcde",
   "metadata": {},
   "source": [
    "**На другие платформы.**\n",
    "1) Посмотрим на конкурента PS4 - XOne"
   ]
  },
  {
   "cell_type": "code",
   "execution_count": 35,
   "id": "3a461d52",
   "metadata": {
    "scrolled": true
   },
   "outputs": [
    {
     "data": {
      "image/png": "[encoded data removed]",
      "text/plain": [
       "<Figure size 432x288 with 1 Axes>"
      ]
     },
     "metadata": {
      "needs_background": "light"
     },
     "output_type": "display_data"
    },
    {
     "name": "stdout",
     "output_type": "stream",
     "text": [
      "Коэффициен корреляции:  0.4264484890497219\n"
     ]
    }
   ],
   "source": [
    "#сделаем срез данных по XOne\n",
    "data_xone = data[(data['platform'] == 'XOne') & (data['critic_score'] > 0) & (data['user_score'] > 0)]\n",
    "\n",
    "#оценим влияние оценки критиков\n",
    "data_xone.plot(x='critic_score', y='total_sales', kind='scatter')\n",
    "plt.show()\n",
    "\n",
    "print('Коэффициен корреляции: ',data_xone['critic_score'].corr(data_xone['total_sales']))\n"
   ]
  },
  {
   "cell_type": "code",
   "execution_count": 36,
   "id": "c61f3e43",
   "metadata": {
    "scrolled": true
   },
   "outputs": [
    {
     "data": {
      "image/png": "[encoded data removed]",
      "text/plain": [
       "<Figure size 432x288 with 1 Axes>"
      ]
     },
     "metadata": {
      "needs_background": "light"
     },
     "output_type": "display_data"
    },
    {
     "name": "stdout",
     "output_type": "stream",
     "text": [
      "Коэффициен корреляции:  0.4264484890497219\n"
     ]
    }
   ],
   "source": [
    "#оценим влияние оценки пользователей\n",
    "data_xone.plot(x='user_score', y='total_sales', kind='scatter')\n",
    "plt.show()\n",
    "\n",
    "print('Коэффициен корреляции: ',data_xone['user_score'].corr(data_xone['total_sales']))"
   ]
  },
  {
   "cell_type": "markdown",
   "id": "79e37d99",
   "metadata": {},
   "source": [
    "2) Посмотрим на эту же связь на портативной модели - 3DS"
   ]
  },
  {
   "cell_type": "code",
   "execution_count": 37,
   "id": "499106f7",
   "metadata": {
    "scrolled": true
   },
   "outputs": [
    {
     "data": {
      "image/png": "[encoded data removed]",
      "text/plain": [
       "<Figure size 432x288 with 1 Axes>"
      ]
     },
     "metadata": {
      "needs_background": "light"
     },
     "output_type": "display_data"
    },
    {
     "name": "stdout",
     "output_type": "stream",
     "text": [
      "Коэффициен корреляции:  0.24658195235899288\n"
     ]
    }
   ],
   "source": [
    "#сделаем срез данных по 3DS\n",
    "data_3ds = data[(data['platform'] == '3DS') & (data['critic_score'] > 0) & (data['user_score'] > 0)]\n",
    "\n",
    "#оценим влияние оценки критиков\n",
    "data_3ds.plot(x='critic_score', y='total_sales', kind='scatter')\n",
    "plt.show()\n",
    "\n",
    "print('Коэффициен корреляции: ',data_3ds['critic_score'].corr(data_3ds['total_sales']))"
   ]
  },
  {
   "cell_type": "code",
   "execution_count": 38,
   "id": "dfffd141",
   "metadata": {},
   "outputs": [
    {
     "data": {
      "image/png": "[encoded data removed]",
      "text/plain": [
       "<Figure size 432x288 with 1 Axes>"
      ]
     },
     "metadata": {
      "needs_background": "light"
     },
     "output_type": "display_data"
    },
    {
     "name": "stdout",
     "output_type": "stream",
     "text": [
      "Коэффициен корреляции:  0.24658195235899288\n"
     ]
    }
   ],
   "source": [
    "#оценим влияние оценки пользователей\n",
    "data_3ds.plot(x='user_score', y='total_sales', kind='scatter')\n",
    "plt.show()\n",
    "\n",
    "print('Коэффициен корреляции: ',data_3ds['user_score'].corr(data_3ds['total_sales']))"
   ]
  },
  {
   "cell_type": "markdown",
   "id": "461a5b7c",
   "metadata": {},
   "source": [
    "3) Посмотрим еще одну портативную модель - PSV"
   ]
  },
  {
   "cell_type": "code",
   "execution_count": 39,
   "id": "336a3fd9",
   "metadata": {
    "scrolled": true
   },
   "outputs": [
    {
     "data": {
      "image/png": "[encoded data removed]",
      "text/plain": [
       "<Figure size 432x288 with 1 Axes>"
      ]
     },
     "metadata": {
      "needs_background": "light"
     },
     "output_type": "display_data"
    },
    {
     "name": "stdout",
     "output_type": "stream",
     "text": [
      "Коэффициен корреляции:  0.23361716001331798\n"
     ]
    }
   ],
   "source": [
    "#сделаем срез данных по PSV\n",
    "data_psv = data[(data['platform'] == 'PSV') & (data['critic_score'] > 0) & (data['user_score'] > 0)]\n",
    "\n",
    "#оценим влияние оценки критиков\n",
    "data_psv.plot(x='critic_score', y='total_sales', kind='scatter')\n",
    "plt.show()\n",
    "\n",
    "print('Коэффициен корреляции: ',data_psv['critic_score'].corr(data_psv['total_sales']))"
   ]
  },
  {
   "cell_type": "code",
   "execution_count": 40,
   "id": "caf54ad3",
   "metadata": {},
   "outputs": [
    {
     "data": {
      "image/png": "[encoded data removed]",
      "text/plain": [
       "<Figure size 432x288 with 1 Axes>"
      ]
     },
     "metadata": {
      "needs_background": "light"
     },
     "output_type": "display_data"
    },
    {
     "name": "stdout",
     "output_type": "stream",
     "text": [
      "Коэффициен корреляции:  0.23361716001331798\n"
     ]
    }
   ],
   "source": [
    "#оценим влияние оценки пользователей\n",
    "data_psv.plot(x='user_score', y='total_sales', kind='scatter')\n",
    "plt.show()\n",
    "\n",
    "print('Коэффициен корреляции: ',data_psv['user_score'].corr(data_psv['total_sales']))"
   ]
  },
  {
   "cell_type": "markdown",
   "id": "05de3912",
   "metadata": {},
   "source": [
    "###### 5) Оценим, как влияют на продажи в общем отзывы пользователей и критиков."
   ]
  },
  {
   "cell_type": "code",
   "execution_count": 41,
   "id": "bfd81662",
   "metadata": {},
   "outputs": [
    {
     "data": {
      "image/png": "[encoded data removed]",
      "text/plain": [
       "<Figure size 432x288 with 1 Axes>"
      ]
     },
     "metadata": {
      "needs_background": "light"
     },
     "output_type": "display_data"
    },
    {
     "name": "stdout",
     "output_type": "stream",
     "text": [
      "Коэффициен корреляции:  0.2986109496164101\n"
     ]
    }
   ],
   "source": [
    "#оценим влияние оценки критиков\n",
    "data_cor = data[(data['critic_score'] > 0) & (data['user_score'] > 0)]\n",
    "data_cor.plot(x='critic_score', y='total_sales', kind='scatter')\n",
    "plt.show()\n",
    "\n",
    "print('Коэффициен корреляции: ',data_cor['critic_score'].corr(data_cor['total_sales']))\n"
   ]
  },
  {
   "cell_type": "code",
   "execution_count": 42,
   "id": "62dc8e97",
   "metadata": {},
   "outputs": [
    {
     "data": {
      "image/png": "[encoded data removed]",
      "text/plain": [
       "<Figure size 432x288 with 1 Axes>"
      ]
     },
     "metadata": {
      "needs_background": "light"
     },
     "output_type": "display_data"
    },
    {
     "name": "stdout",
     "output_type": "stream",
     "text": [
      "Коэффициен корреляции:  0.2986109496164101\n"
     ]
    }
   ],
   "source": [
    "#оценим влияние оценки пользователей\n",
    "data_cor.plot(x='user_score', y='total_sales', kind='scatter')\n",
    "plt.show()\n",
    "\n",
    "print('Коэффициен корреляции: ',data_cor['user_score'].corr(data_cor['total_sales']))"
   ]
  },
  {
   "cell_type": "markdown",
   "id": "ca6365c5",
   "metadata": {},
   "source": [
    "**Выводы:**\n",
    "- картина не сильно меняется, если смотреть на корреляцию в общем, а не в рамках конкретной платформы\n",
    "- оценка критиков неярко, но коррелирует с продажами, а вот оценка пользователей на продажи не влияет\n",
    "- корреляция не меняется в случае, если смотреть на различные платформы."
   ]
  },
  {
   "cell_type": "markdown",
   "id": "1710569a",
   "metadata": {},
   "source": [
    "###### 6) Посмотрим на общее распределение игр по жанрам. \n",
    "\n",
    "Для того, чтоб понять самые продоваемые жанры, оценим среднее количество продаж в жанре на одну выпущеную игру. "
   ]
  },
  {
   "cell_type": "code",
   "execution_count": 43,
   "id": "e69dd74f",
   "metadata": {},
   "outputs": [
    {
     "data": {
      "text/html": [
       "<div>\n",
       "<style scoped>\n",
       "    .dataframe tbody tr th:only-of-type {\n",
       "        vertical-align: middle;\n",
       "    }\n",
       "\n",
       "    .dataframe tbody tr th {\n",
       "        vertical-align: top;\n",
       "    }\n",
       "\n",
       "    .dataframe thead th {\n",
       "        text-align: right;\n",
       "    }\n",
       "</style>\n",
       "<table border=\"1\" class=\"dataframe\">\n",
       "  <thead>\n",
       "    <tr style=\"text-align: right;\">\n",
       "      <th></th>\n",
       "      <th>genre</th>\n",
       "      <th>count</th>\n",
       "      <th>sum</th>\n",
       "      <th>mean_sales</th>\n",
       "    </tr>\n",
       "  </thead>\n",
       "  <tbody>\n",
       "    <tr>\n",
       "      <th>8</th>\n",
       "      <td>Shooter</td>\n",
       "      <td>145</td>\n",
       "      <td>67.85</td>\n",
       "      <td>0.467931</td>\n",
       "    </tr>\n",
       "    <tr>\n",
       "      <th>4</th>\n",
       "      <td>Platform</td>\n",
       "      <td>63</td>\n",
       "      <td>25.04</td>\n",
       "      <td>0.397460</td>\n",
       "    </tr>\n",
       "    <tr>\n",
       "      <th>10</th>\n",
       "      <td>Sports</td>\n",
       "      <td>174</td>\n",
       "      <td>67.39</td>\n",
       "      <td>0.387299</td>\n",
       "    </tr>\n",
       "    <tr>\n",
       "      <th>6</th>\n",
       "      <td>Racing</td>\n",
       "      <td>70</td>\n",
       "      <td>20.81</td>\n",
       "      <td>0.297286</td>\n",
       "    </tr>\n",
       "    <tr>\n",
       "      <th>7</th>\n",
       "      <td>Role-Playing</td>\n",
       "      <td>270</td>\n",
       "      <td>73.85</td>\n",
       "      <td>0.273519</td>\n",
       "    </tr>\n",
       "    <tr>\n",
       "      <th>2</th>\n",
       "      <td>Fighting</td>\n",
       "      <td>75</td>\n",
       "      <td>20.09</td>\n",
       "      <td>0.267867</td>\n",
       "    </tr>\n",
       "    <tr>\n",
       "      <th>0</th>\n",
       "      <td>Action</td>\n",
       "      <td>654</td>\n",
       "      <td>171.25</td>\n",
       "      <td>0.261850</td>\n",
       "    </tr>\n",
       "    <tr>\n",
       "      <th>3</th>\n",
       "      <td>Misc</td>\n",
       "      <td>135</td>\n",
       "      <td>31.70</td>\n",
       "      <td>0.234815</td>\n",
       "    </tr>\n",
       "    <tr>\n",
       "      <th>5</th>\n",
       "      <td>Puzzle</td>\n",
       "      <td>14</td>\n",
       "      <td>3.14</td>\n",
       "      <td>0.224286</td>\n",
       "    </tr>\n",
       "    <tr>\n",
       "      <th>9</th>\n",
       "      <td>Simulation</td>\n",
       "      <td>51</td>\n",
       "      <td>10.36</td>\n",
       "      <td>0.203137</td>\n",
       "    </tr>\n",
       "    <tr>\n",
       "      <th>11</th>\n",
       "      <td>Strategy</td>\n",
       "      <td>51</td>\n",
       "      <td>10.03</td>\n",
       "      <td>0.196667</td>\n",
       "    </tr>\n",
       "    <tr>\n",
       "      <th>1</th>\n",
       "      <td>Adventure</td>\n",
       "      <td>192</td>\n",
       "      <td>23.11</td>\n",
       "      <td>0.120365</td>\n",
       "    </tr>\n",
       "  </tbody>\n",
       "</table>\n",
       "</div>"
      ],
      "text/plain": [
       "           genre  count     sum  mean_sales\n",
       "8        Shooter    145   67.85    0.467931\n",
       "4       Platform     63   25.04    0.397460\n",
       "10        Sports    174   67.39    0.387299\n",
       "6         Racing     70   20.81    0.297286\n",
       "7   Role-Playing    270   73.85    0.273519\n",
       "2       Fighting     75   20.09    0.267867\n",
       "0         Action    654  171.25    0.261850\n",
       "3           Misc    135   31.70    0.234815\n",
       "5         Puzzle     14    3.14    0.224286\n",
       "9     Simulation     51   10.36    0.203137\n",
       "11      Strategy     51   10.03    0.196667\n",
       "1      Adventure    192   23.11    0.120365"
      ]
     },
     "metadata": {},
     "output_type": "display_data"
    }
   ],
   "source": [
    "#создадим сводную таблицу с данными о продажах и количестве выпущенных игр\n",
    "total_sales_genre = data.pivot_table(index = ('genre'), values = 'total_sales', aggfunc = ('count', 'sum')).reset_index()\n",
    "\n",
    "#посчитаем сколько в среднем приходится продаж на одну игру в жанре\n",
    "total_sales_genre['mean_sales'] = total_sales_genre['sum'] / total_sales_genre['count']\n",
    "display(total_sales_genre.sort_values(by='mean_sales', ascending=False))\n"
   ]
  },
  {
   "cell_type": "code",
   "execution_count": 44,
   "id": "fe01a521",
   "metadata": {},
   "outputs": [
    {
     "data": {
      "image/png": "[encoded data removed]",
      "text/plain": [
       "<Figure size 1440x360 with 1 Axes>"
      ]
     },
     "metadata": {
      "needs_background": "light"
     },
     "output_type": "display_data"
    }
   ],
   "source": [
    "plt.figure(figsize=(20,5))\n",
    "sns.boxplot(\n",
    "    data=data,\n",
    "    x='genre',\n",
    "    y='total_sales')\n",
    "plt.show()"
   ]
  },
  {
   "cell_type": "markdown",
   "id": "404f2bfb",
   "metadata": {},
   "source": [
    "**Выводы:**\n",
    "- самый продаваемый жанр: 'Shooter'. Он значимо выбивается по продажам от остальных жанров \n",
    "- интересно, что 'Action' выпускается очень часто(самый популярный по релизам жанр), а вот продажи у него средние\n",
    "- самые низкие продажи у жанра 'Adventure'. Опять же, при большом количестве релизов этого жанра, средние продажи колоссально отличаются от лидеров списка\n",
    "- хорошим вариантом для планирования станет выбор жанра 'Platform'. Платформеров выпускается мало, это позволит не затеряться среди новинок, и они генерят хорошие продажи. А так же диаграмма размаха подсказала нам, что можно вложиться в 'Shooter' или 'Sports' - продажи этих жанров устойчиво выше остальных. "
   ]
  },
  {
   "cell_type": "markdown",
   "id": "f1abefa8",
   "metadata": {},
   "source": [
    "### Портрет пользователя в разных регионах  <a id='Портрет'></a>"
   ]
  },
  {
   "cell_type": "markdown",
   "id": "8e5e3120",
   "metadata": {},
   "source": [
    "###### 1) Определим для пользователя каждого региона (NA, EU, JP): Самые популярные платформы (топ-5)"
   ]
  },
  {
   "cell_type": "code",
   "execution_count": 45,
   "id": "67b1bc06",
   "metadata": {},
   "outputs": [],
   "source": [
    "platform_sales_na = data.pivot_table(index = ('platform'), values = 'na_sales', aggfunc = ('sum')).reset_index().sort_values(by='na_sales', ascending=False).head()\n",
    "newline1_na = {'platform': 'Other', 'na_sales':data['na_sales'].sum() - platform_sales_na['na_sales'].sum()}\n",
    "platform_sales_na = platform_sales_na.append(newline1_na, ignore_index=True)\n",
    "\n",
    "platform_sales_eu = data.pivot_table(index = ('platform'), values = 'eu_sales', aggfunc = ('sum')).reset_index().sort_values(by='eu_sales', ascending=False).head()\n",
    "newline1_eu = {'platform': 'Other', 'eu_sales':data['eu_sales'].sum() - platform_sales_eu['eu_sales'].sum()}\n",
    "platform_sales_eu = platform_sales_eu.append(newline1_eu, ignore_index=True)\n",
    "\n",
    "platform_sales_jp = data.pivot_table(index = ('platform'), values = 'jp_sales', aggfunc = ('sum')).reset_index().sort_values(by='jp_sales', ascending=False).head()\n",
    "newline1_jp = {'platform': 'Other', 'jp_sales':data['jp_sales'].sum() - platform_sales_jp['jp_sales'].sum()}\n",
    "platform_sales_jp = platform_sales_jp.append(newline1_jp, ignore_index=True)\n",
    "\n",
    "\n",
    "genre_sales_na = data.pivot_table(index = ('genre'), values = 'na_sales', aggfunc = ('sum')).reset_index().sort_values(by='na_sales', ascending=False).head()\n",
    "newline2_na = {'genre': 'Other', 'na_sales':data['na_sales'].sum() - genre_sales_na['na_sales'].sum()}\n",
    "genre_sales_na = genre_sales_na.append(newline2_na, ignore_index=True)\n",
    "\n",
    "genre_sales_eu = data.pivot_table(index = ('genre'), values = 'eu_sales', aggfunc = ('sum')).reset_index().sort_values(by='eu_sales', ascending=False).head()\n",
    "newline2_eu = {'genre': 'Other', 'eu_sales':data['eu_sales'].sum() - genre_sales_eu['eu_sales'].sum()}\n",
    "genre_sales_eu = genre_sales_eu.append(newline2_eu, ignore_index=True)\n",
    "\n",
    "genre_sales_jp = data.pivot_table(index = ('genre'), values = 'jp_sales', aggfunc = ('sum')).reset_index().sort_values(by='jp_sales', ascending=False).head()\n",
    "newline2_jp = {'genre': 'Other', 'jp_sales':data['jp_sales'].sum() - genre_sales_jp['jp_sales'].sum()}\n",
    "genre_sales_jp = genre_sales_jp.append(newline2_jp, ignore_index=True)\n"
   ]
  },
  {
   "cell_type": "code",
   "execution_count": 46,
   "id": "c984d763",
   "metadata": {
    "scrolled": false
   },
   "outputs": [
    {
     "data": {
      "image/png": "[encoded data removed]",
      "text/plain": [
       "<Figure size 432x288 with 1 Axes>"
      ]
     },
     "metadata": {},
     "output_type": "display_data"
    },
    {
     "data": {
      "image/png": "[encoded data removed]",
      "text/plain": [
       "<Figure size 432x288 with 1 Axes>"
      ]
     },
     "metadata": {},
     "output_type": "display_data"
    },
    {
     "data": {
      "image/png": "[encoded data removed]",
      "text/plain": [
       "<Figure size 432x288 with 1 Axes>"
      ]
     },
     "metadata": {},
     "output_type": "display_data"
    }
   ],
   "source": [
    "plt.title('Распределение продаж по платформам в Северной Америке')\n",
    "plt.pie(platform_sales_na['na_sales'], autopct='%.1f')\n",
    "plt.legend(\n",
    "    bbox_to_anchor = (-0.16, 0.45, 0.25, 0.25),\n",
    "    labels = platform_sales_na['platform'] )\n",
    "plt.show()\n",
    "\n",
    "plt.title('Распределение продаж по платформам в Европе')\n",
    "plt.pie(platform_sales_eu['eu_sales'], autopct='%.1f')\n",
    "plt.legend(\n",
    "    bbox_to_anchor = (-0.16, 0.45, 0.25, 0.25),\n",
    "    labels = platform_sales_eu['platform'])\n",
    "plt.show()\n",
    "\n",
    "plt.title('Распределение продаж по платформам в Японии')\n",
    "plt.pie(platform_sales_jp['jp_sales'], autopct='%.1f')\n",
    "plt.legend(\n",
    "    bbox_to_anchor = (-0.16, 0.45, 0.25, 0.25),\n",
    "    labels = platform_sales_jp['platform'])\n",
    "plt.show()"
   ]
  },
  {
   "cell_type": "markdown",
   "id": "40f492b6",
   "metadata": {},
   "source": [
    "**Выводы:**\n",
    "- самые популярные платформы Северной Америки: консоли X-360(Microsoft) и Wii. Это можно объяснить тем, что прямой конкурент PlayStation: X-360 от MS выигрывает на домашней территории. \n",
    "- самые популярные платформы в Европе: консоли PlayStation3,4(Sony), XOne. Тут, как раз две конкурирующие платформы разыгрывают рынок. Видим отличие этого рынка в том, что тут в топ вышли персональные компьютеры, что не характерно для Северной Америки и Японии. \n",
    "- самые популярные платформы в Японии: DS(портативный Nintendo), PlayStation3 и портативный PlayStation. Тут, опять же: домашний регион для команий-лидеров и национальная склонность японцев к портативным приставкам. "
   ]
  },
  {
   "cell_type": "markdown",
   "id": "dcb76bfa",
   "metadata": {},
   "source": [
    "###### 2) Определим для пользователя каждого региона (NA, EU, JP): Самые популярные жанры (топ-5)"
   ]
  },
  {
   "cell_type": "code",
   "execution_count": 47,
   "id": "e01d8ad1",
   "metadata": {
    "scrolled": false
   },
   "outputs": [
    {
     "data": {
      "image/png": "[encoded data removed]",
      "text/plain": [
       "<Figure size 432x288 with 1 Axes>"
      ]
     },
     "metadata": {},
     "output_type": "display_data"
    },
    {
     "data": {
      "image/png": "[encoded data removed]",
      "text/plain": [
       "<Figure size 432x288 with 1 Axes>"
      ]
     },
     "metadata": {},
     "output_type": "display_data"
    },
    {
     "data": {
      "image/png": "[encoded data removed]",
      "text/plain": [
       "<Figure size 432x288 with 1 Axes>"
      ]
     },
     "metadata": {},
     "output_type": "display_data"
    }
   ],
   "source": [
    "plt.title('Распределение продаж по жанрам в Северной Америке')\n",
    "plt.pie(genre_sales_na['na_sales'], autopct='%.1f')\n",
    "plt.legend(\n",
    "    bbox_to_anchor = (-0.16, 0.45, 0.25, 0.25),\n",
    "    labels = genre_sales_na['genre'] )\n",
    "plt.show()\n",
    "\n",
    "plt.title('Распределение продаж по жанрам в Европе')\n",
    "plt.pie(genre_sales_eu['eu_sales'], autopct='%.1f')\n",
    "plt.legend(\n",
    "    bbox_to_anchor = (-0.16, 0.45, 0.25, 0.25),\n",
    "    labels = genre_sales_eu['genre'])\n",
    "plt.show()\n",
    "\n",
    "plt.title('Распределение продаж по жанрам в Японии')\n",
    "plt.pie(genre_sales_jp['jp_sales'], autopct='%.1f')\n",
    "plt.legend(\n",
    "    bbox_to_anchor = (-0.16, 0.45, 0.25, 0.25),\n",
    "    labels = genre_sales_jp['genre'])\n",
    "plt.show()"
   ]
  },
  {
   "cell_type": "markdown",
   "id": "f90836d3",
   "metadata": {},
   "source": [
    "**Выводы:**\n",
    "- популярные жанры в Америке и Европе достаточно похожи: лидерами являются экшены, шутеры и спортивные симуляторы, а чуть ниже - RPG. Отличием стало то, что 6,5 % продаж в Европе отдано гонкам, а вот в Северной Америке примерно столько же - музыкальным играм. \n",
    "- жанры в Японии отличаются примерно как и менталитет. Самый популярный жанр - Action, но за ним львиная доля продаж уходит rpg, который как раз и родился в Японии. Третье место за жанром Music, которого совсем нет в топе Европы и менее активно продается в Северной Америке. "
   ]
  },
  {
   "cell_type": "markdown",
   "id": "1db79f75",
   "metadata": {},
   "source": [
    "Оценим влияние рейтинга ESRB на продажи в рамках каждого региона. Использовать коэффициент корреляции мы тут не можем: рейтинги - это набор категорий, а не изменяемая величина. Так что посмотрим на продажи в рамках каждой возрастной категории. Оценивать по сумме продаж будет не очень корректно - игры релизятся в разном количестве. \n",
    "Поэтому посмотрим на средние продажи в регионе в рамках каждоро рейтинга. \n",
    "\n",
    "**ВАЖНЫЙ МОМЕНТ**\n",
    "В рамках первой версии исследования я выкинула из исследования игры без указанного рейтинга и упустила важный момент - у части игр, которые продавались только в Европе/Японии логично не было этого рейтинга, потому что он предусмотрен только для маркировки игр в США и Канаде. Это привело к мысли, что в этом исследовании еще отдельно стоит посмотреть на те игры, которые продавались во всех трех регионах. "
   ]
  },
  {
   "cell_type": "code",
   "execution_count": 48,
   "id": "12d11672",
   "metadata": {
    "scrolled": true
   },
   "outputs": [
    {
     "data": {
      "text/plain": [
       "<seaborn.axisgrid.FacetGrid at 0x7f85577e9400>"
      ]
     },
     "execution_count": 48,
     "metadata": {},
     "output_type": "execute_result"
    },
    {
     "data": {
      "image/png": "[encoded data removed]",
      "text/plain": [
       "<Figure size 360x360 with 1 Axes>"
      ]
     },
     "metadata": {
      "needs_background": "light"
     },
     "output_type": "display_data"
    },
    {
     "data": {
      "image/png": "[encoded data removed]",
      "text/plain": [
       "<Figure size 360x360 with 1 Axes>"
      ]
     },
     "metadata": {
      "needs_background": "light"
     },
     "output_type": "display_data"
    },
    {
     "data": {
      "image/png": "[encoded data removed]",
      "text/plain": [
       "<Figure size 360x360 with 1 Axes>"
      ]
     },
     "metadata": {
      "needs_background": "light"
     },
     "output_type": "display_data"
    }
   ],
   "source": [
    "#построим графики для сравнения продаж\n",
    "eu_rating_mean = data.pivot_table(index = ('rating'), values = 'eu_sales', aggfunc = ('mean')).reset_index()\n",
    "sns.catplot(x='rating', y='eu_sales', kind=\"bar\", data=eu_rating_mean)\n",
    "\n",
    "na_rating_mean = data.pivot_table(index = ('rating'), values = 'na_sales', aggfunc = ('mean')).reset_index()\n",
    "sns.catplot(x='rating', y='na_sales', kind=\"bar\", data=na_rating_mean)\n",
    "\n",
    "jp_rating_mean = data.pivot_table(index = ('rating'), values = 'jp_sales', aggfunc = ('mean')).reset_index()\n",
    "sns.catplot(x='rating', y='jp_sales', kind=\"bar\", data=jp_rating_mean)"
   ]
  },
  {
   "cell_type": "markdown",
   "id": "a04ea5d1",
   "metadata": {},
   "source": [
    "**Выводы по общим данным:**\n",
    "- в Европе и Северной Америке самыми продаваемыми являются игры для зрелого возраста(М) \n",
    "- Тинейджеры Северной Америки и Европы не так увлечены видеоиграми, как в Японии\n",
    "- В Японии очень популярны игры, которыене выходили на Американский рынок. "
   ]
  },
  {
   "cell_type": "code",
   "execution_count": 49,
   "id": "f4eca2ca",
   "metadata": {},
   "outputs": [
    {
     "data": {
      "text/plain": [
       "<seaborn.axisgrid.FacetGrid at 0x7f855fa0c7c0>"
      ]
     },
     "execution_count": 49,
     "metadata": {},
     "output_type": "execute_result"
    },
    {
     "data": {
      "image/png": "[encoded data removed]",
      "text/plain": [
       "<Figure size 360x360 with 1 Axes>"
      ]
     },
     "metadata": {
      "needs_background": "light"
     },
     "output_type": "display_data"
    },
    {
     "data": {
      "image/png": "[encoded data removed]",
      "text/plain": [
       "<Figure size 360x360 with 1 Axes>"
      ]
     },
     "metadata": {
      "needs_background": "light"
     },
     "output_type": "display_data"
    },
    {
     "data": {
      "image/png": "[encoded data removed]",
      "text/plain": [
       "<Figure size 360x360 with 1 Axes>"
      ]
     },
     "metadata": {
      "needs_background": "light"
     },
     "output_type": "display_data"
    }
   ],
   "source": [
    "#выберем только те игры, что имели продажи во всех регионах\n",
    "rating_data = data[(data['eu_sales'] > 0) & (data['na_sales'] > 0) & (data['jp_sales'] > 0)]\n",
    "\n",
    "#построим графики для сравнения\n",
    "eu_rating_mean = rating_data.pivot_table(index = ('rating'), values = 'eu_sales', aggfunc = ('mean')).reset_index()\n",
    "sns.catplot(x='rating', y='eu_sales', kind=\"bar\", data=eu_rating_mean)\n",
    "\n",
    "na_rating_mean = rating_data.pivot_table(index = ('rating'), values = 'na_sales', aggfunc = ('mean')).reset_index()\n",
    "sns.catplot(x='rating', y='na_sales', kind=\"bar\", data=na_rating_mean)\n",
    "\n",
    "jp_rating_mean = rating_data.pivot_table(index = ('rating'), values = 'jp_sales', aggfunc = ('mean')).reset_index()\n",
    "sns.catplot(x='rating', y='jp_sales', kind=\"bar\", data=jp_rating_mean)"
   ]
  },
  {
   "cell_type": "markdown",
   "id": "fa9f4d65",
   "metadata": {},
   "source": [
    "**Выводы по играм, продававшимся во всех регионах:**\n",
    "- в Европе и  Северной Америке все так же популярны игры для зрелого возраста(М)и для детей(и взрослых): E(Everyone), а вот тинейджеры в видеоигры особо не играют.  \n",
    "- в этом срезе в Японии в лидеры вырвалась категория E, но тинейджеры так же остались на лидирующей позиции. "
   ]
  },
  {
   "cell_type": "markdown",
   "id": "94d25a8c",
   "metadata": {},
   "source": [
    "Если говорить о портрете пользователя по регионам, то можно предположить следующее:\n",
    "\n",
    "**Европа:** Человек зрелого возраста, играющий в экшн-игры на PlayStation3.\n",
    "\n",
    "**Северная Америка:** Ребенок, до 13 лет, играющий в экшн-игры на X-360.\n",
    "\n",
    "**Япония:** Тинейджер, играющий в RPG на портативной Nintendo."
   ]
  },
  {
   "cell_type": "markdown",
   "id": "c4af812d",
   "metadata": {},
   "source": [
    "### Проверка гипотез  <a id='Гипотезы'></a>"
   ]
  },
  {
   "cell_type": "markdown",
   "id": "f54929a6",
   "metadata": {},
   "source": [
    "###### 1) Средние пользовательские рейтинги платформ Xbox One и PC одинаковые"
   ]
  },
  {
   "cell_type": "markdown",
   "id": "dcd4c387",
   "metadata": {},
   "source": [
    "Сформулируем нулевую и альтернативную гипотезы:\n",
    "\n",
    "**Нулевая гипотеза:** средние пользовательские рейтинги платформ Xbox One и PC не различаются\n",
    "\n",
    "**Альтернативная гипотеза:** средние пользовательские рейтинги платформ Xbox One и PC одинаковые отличаются друг от друга"
   ]
  },
  {
   "cell_type": "code",
   "execution_count": 51,
   "id": "fb4a7d97",
   "metadata": {
    "scrolled": true
   },
   "outputs": [
    {
     "name": "stdout",
     "output_type": "stream",
     "text": [
      "p-значение:  0.00233018698297135\n",
      "Отвергаем нулевую гипотезу\n"
     ]
    }
   ],
   "source": [
    "#сформируем выборки для анализа\n",
    "#выберем строки, в которых установлен рейтинг\n",
    "xone_user_rating = data[(data['platform'] == 'XOne') & (data['user_score'] > 0)]['user_score']\n",
    "pc_user_rating = data[(data['platform'] == 'PC') & (data['user_score'] > 0)]['user_score']\n",
    "\n",
    "\n",
    "#чтобы выборки были соизмеримы, возьмем равные семплы данных из каждого среза\n",
    "xone_user_rating = xone_user_rating.sample(100)\n",
    "pc_user_rating = pc_user_rating.sample(100)\n",
    "\n",
    "\n",
    "#применяем статистический тест\n",
    "alpha = 0.05\n",
    "\n",
    "results = st.ttest_ind(\n",
    "    xone_user_rating, \n",
    "    pc_user_rating)\n",
    "\n",
    "print('p-значение: ', results.pvalue)\n",
    "\n",
    "if results.pvalue < alpha:\n",
    "    print(\"Отвергаем нулевую гипотезу\")\n",
    "else:\n",
    "    print(\"Не получилось отвергнуть нулевую гипотезу\")"
   ]
  },
  {
   "cell_type": "code",
   "execution_count": 52,
   "id": "fe613ad1",
   "metadata": {},
   "outputs": [
    {
     "name": "stdout",
     "output_type": "stream",
     "text": [
      "71.6\n",
      "77.09\n"
     ]
    }
   ],
   "source": [
    "#посмотрим на само среднее значение оценок\n",
    "print(xone_user_rating.mean()) \n",
    "print(pc_user_rating.mean())"
   ]
  },
  {
   "cell_type": "markdown",
   "id": "1464a55f",
   "metadata": {},
   "source": [
    "**Вывод:**\n",
    "- средние пользовательские рейтинги платформ Xbox One и PC, действительно различаются."
   ]
  },
  {
   "cell_type": "markdown",
   "id": "6047eef4",
   "metadata": {},
   "source": [
    "###### 2) Средние пользовательские рейтинги жанров Action и Sports разные."
   ]
  },
  {
   "cell_type": "markdown",
   "id": "730479a4",
   "metadata": {},
   "source": [
    "Сформулируем нулевую и альтернативную гипотезы:\n",
    "\n",
    "**Нулевая гипотеза:** cредние пользовательские рейтинги жанров Action и Sports одинаковые.\n",
    "\n",
    "**Альтернативная гипотеза:** cредние пользовательские рейтинги жанров Action и Sports отличаются."
   ]
  },
  {
   "cell_type": "code",
   "execution_count": 53,
   "id": "91b1d710",
   "metadata": {},
   "outputs": [
    {
     "name": "stdout",
     "output_type": "stream",
     "text": [
      "p-значение:  0.6919069635185023\n",
      "Не получилось отвергнуть нулевую гипотезу\n"
     ]
    }
   ],
   "source": [
    "#сформируем выборки для анализа\n",
    "#выберем строки, в которых установлен рейтинг\n",
    "action_user_rating = data[(data['genre'] == 'Action') & (data['user_score'] > 0)]['user_score']\n",
    "sports_user_rating = data[(data['genre'] == 'Sports') & (data['user_score'] > 0)]['user_score']\n",
    "\n",
    "#чтобы выборки были соизмеримы, возьмем равные семплы данных из каждого среза\n",
    "action_user_rating = action_user_rating.sample(80)\n",
    "sports_user_rating = sports_user_rating.sample(80)\n",
    "\n",
    "\n",
    "\n",
    "#применяем статистический тест\n",
    "alpha = 0.05 \n",
    "\n",
    "results = st.ttest_ind(\n",
    "    action_user_rating, \n",
    "    sports_user_rating)\n",
    "\n",
    "print('p-значение: ', results.pvalue)\n",
    "\n",
    "if results.pvalue < alpha:\n",
    "    print(\"Отвергаем нулевую гипотезу\")\n",
    "else:\n",
    "    print(\"Не получилось отвергнуть нулевую гипотезу\")"
   ]
  },
  {
   "cell_type": "code",
   "execution_count": 54,
   "id": "1ac96372",
   "metadata": {},
   "outputs": [
    {
     "name": "stdout",
     "output_type": "stream",
     "text": [
      "69.975\n",
      "70.8375\n"
     ]
    }
   ],
   "source": [
    "#посмотрим на само среднее значение оценок\n",
    "print(sports_user_rating.mean())\n",
    "print(action_user_rating.mean())"
   ]
  },
  {
   "cell_type": "markdown",
   "id": "01946f40",
   "metadata": {},
   "source": [
    "**Выводы:**\n",
    "- cредние пользовательские рейтинги жанров Action и Sports отличаютсяне значимо;\n",
    "- исходя из данных двух тестов можно сделать вывод, что средние оценки пользователя будут отличаться в зависимости от платформы, но не от жанра."
   ]
  },
  {
   "cell_type": "markdown",
   "id": "8724728d",
   "metadata": {},
   "source": [
    "### Общий вывод <a id='Выводы'></a>\n",
    "\n",
    "Мировой финансовый кризис очень ярко отразился на игровой индустрии. После 2008 года видим падение, сохраняющееся несколько лет. В данный момент индустрия пришла в себя и начала показывать рост. В наших данных роста за 2016 год мы не видим из-за отсутствия части данных, но он вероятнее всего есть;\n",
    "\n",
    "\n",
    "При планировании рекламных компаний на 2017 год стоит учесть следующее:\n",
    "\n",
    " - для РК стоит выбирать платформы вышедшие не более 3 лет назад. На момент 2016 года стоит рассмотреть PlayStation4 и X One; \n",
    " - важно учитывать регион, в котором планируется РК и его особенности: популярные платформы и жанры. Портрет польльзователя предоставлен в исследовании выше;\n",
    " - для того, чтобы выбрать перспективную игру, можно обратиться к оценке профессиональных критиков;"
   ]
  }
 ],
 "metadata": {
  "ExecuteTimeLog": [
   {
    "duration": 1768,
    "start_time": "2022-03-27T18:18:39.343Z"
   },
   {
    "duration": 166,
    "start_time": "2022-03-27T18:18:41.114Z"
   },
   {
    "duration": 1,
    "start_time": "2022-03-27T18:18:41.284Z"
   },
   {
    "duration": 0,
    "start_time": "2022-03-27T18:18:41.287Z"
   },
   {
    "duration": 0,
    "start_time": "2022-03-27T18:18:41.290Z"
   },
   {
    "duration": 1,
    "start_time": "2022-03-27T18:18:41.291Z"
   },
   {
    "duration": 0,
    "start_time": "2022-03-27T18:18:41.294Z"
   },
   {
    "duration": 0,
    "start_time": "2022-03-27T18:18:41.297Z"
   },
   {
    "duration": 0,
    "start_time": "2022-03-27T18:18:41.299Z"
   },
   {
    "duration": 0,
    "start_time": "2022-03-27T18:18:41.301Z"
   },
   {
    "duration": 0,
    "start_time": "2022-03-27T18:18:41.303Z"
   },
   {
    "duration": 0,
    "start_time": "2022-03-27T18:18:41.305Z"
   },
   {
    "duration": 0,
    "start_time": "2022-03-27T18:18:41.307Z"
   },
   {
    "duration": 0,
    "start_time": "2022-03-27T18:18:41.310Z"
   },
   {
    "duration": 0,
    "start_time": "2022-03-27T18:18:41.311Z"
   },
   {
    "duration": 0,
    "start_time": "2022-03-27T18:18:41.313Z"
   },
   {
    "duration": 0,
    "start_time": "2022-03-27T18:18:41.315Z"
   },
   {
    "duration": 0,
    "start_time": "2022-03-27T18:18:41.317Z"
   },
   {
    "duration": 0,
    "start_time": "2022-03-27T18:18:41.373Z"
   },
   {
    "duration": 0,
    "start_time": "2022-03-27T18:18:41.375Z"
   },
   {
    "duration": 0,
    "start_time": "2022-03-27T18:18:41.377Z"
   },
   {
    "duration": 0,
    "start_time": "2022-03-27T18:18:41.378Z"
   },
   {
    "duration": 0,
    "start_time": "2022-03-27T18:18:41.380Z"
   },
   {
    "duration": 0,
    "start_time": "2022-03-27T18:18:41.381Z"
   },
   {
    "duration": 0,
    "start_time": "2022-03-27T18:18:41.383Z"
   },
   {
    "duration": 0,
    "start_time": "2022-03-27T18:18:41.385Z"
   },
   {
    "duration": 0,
    "start_time": "2022-03-27T18:18:41.387Z"
   },
   {
    "duration": 0,
    "start_time": "2022-03-27T18:18:41.388Z"
   },
   {
    "duration": 0,
    "start_time": "2022-03-27T18:18:41.390Z"
   },
   {
    "duration": 0,
    "start_time": "2022-03-27T18:18:41.392Z"
   },
   {
    "duration": 1,
    "start_time": "2022-03-27T18:18:41.393Z"
   },
   {
    "duration": 0,
    "start_time": "2022-03-27T18:18:41.395Z"
   },
   {
    "duration": 0,
    "start_time": "2022-03-27T18:18:41.396Z"
   },
   {
    "duration": 0,
    "start_time": "2022-03-27T18:18:41.398Z"
   },
   {
    "duration": 0,
    "start_time": "2022-03-27T18:18:41.399Z"
   },
   {
    "duration": 0,
    "start_time": "2022-03-27T18:18:41.401Z"
   },
   {
    "duration": 0,
    "start_time": "2022-03-27T18:18:41.403Z"
   },
   {
    "duration": 0,
    "start_time": "2022-03-27T18:18:41.405Z"
   },
   {
    "duration": 0,
    "start_time": "2022-03-27T18:18:41.407Z"
   },
   {
    "duration": 0,
    "start_time": "2022-03-27T18:18:41.408Z"
   },
   {
    "duration": 1192,
    "start_time": "2022-03-27T18:31:15.581Z"
   },
   {
    "duration": 2,
    "start_time": "2022-03-27T18:31:16.775Z"
   },
   {
    "duration": 58,
    "start_time": "2022-03-27T18:31:16.779Z"
   },
   {
    "duration": 23,
    "start_time": "2022-03-27T18:31:16.839Z"
   },
   {
    "duration": 13,
    "start_time": "2022-03-27T18:31:16.864Z"
   },
   {
    "duration": 14,
    "start_time": "2022-03-27T18:31:16.879Z"
   },
   {
    "duration": 38,
    "start_time": "2022-03-27T18:31:16.895Z"
   },
   {
    "duration": 1003,
    "start_time": "2022-03-27T18:31:16.935Z"
   },
   {
    "duration": 20,
    "start_time": "2022-03-27T18:31:17.940Z"
   },
   {
    "duration": 15,
    "start_time": "2022-03-27T18:31:17.963Z"
   },
   {
    "duration": 5,
    "start_time": "2022-03-27T18:31:17.980Z"
   },
   {
    "duration": 257,
    "start_time": "2022-03-27T18:31:17.987Z"
   },
   {
    "duration": 14,
    "start_time": "2022-03-27T18:31:18.245Z"
   },
   {
    "duration": 6,
    "start_time": "2022-03-27T18:31:18.262Z"
   },
   {
    "duration": 9,
    "start_time": "2022-03-27T18:31:18.269Z"
   },
   {
    "duration": 197,
    "start_time": "2022-03-27T18:31:18.279Z"
   },
   {
    "duration": 5,
    "start_time": "2022-03-27T18:31:18.478Z"
   },
   {
    "duration": 184,
    "start_time": "2022-03-27T18:31:18.485Z"
   },
   {
    "duration": 9,
    "start_time": "2022-03-27T18:31:18.670Z"
   },
   {
    "duration": 620,
    "start_time": "2022-03-27T18:31:18.681Z"
   },
   {
    "duration": 620,
    "start_time": "2022-03-27T18:31:19.303Z"
   },
   {
    "duration": 6,
    "start_time": "2022-03-27T18:31:19.925Z"
   },
   {
    "duration": 15,
    "start_time": "2022-03-27T18:31:19.934Z"
   },
   {
    "duration": 9,
    "start_time": "2022-03-27T18:31:19.951Z"
   },
   {
    "duration": 8,
    "start_time": "2022-03-27T18:31:19.962Z"
   },
   {
    "duration": 408,
    "start_time": "2022-03-27T18:31:19.972Z"
   },
   {
    "duration": 284,
    "start_time": "2022-03-27T18:31:20.382Z"
   },
   {
    "duration": 6,
    "start_time": "2022-03-27T18:31:20.671Z"
   },
   {
    "duration": 174,
    "start_time": "2022-03-27T18:31:20.679Z"
   },
   {
    "duration": 161,
    "start_time": "2022-03-27T18:31:20.856Z"
   },
   {
    "duration": 238,
    "start_time": "2022-03-27T18:31:21.019Z"
   },
   {
    "duration": 160,
    "start_time": "2022-03-27T18:31:21.260Z"
   },
   {
    "duration": 30,
    "start_time": "2022-03-27T18:31:21.422Z"
   },
   {
    "duration": 45,
    "start_time": "2022-03-27T18:31:21.454Z"
   },
   {
    "duration": 524,
    "start_time": "2022-03-27T18:31:21.501Z"
   },
   {
    "duration": 518,
    "start_time": "2022-03-27T18:31:22.027Z"
   },
   {
    "duration": 854,
    "start_time": "2022-03-27T18:31:22.547Z"
   },
   {
    "duration": 11,
    "start_time": "2022-03-27T18:31:23.403Z"
   },
   {
    "duration": 17,
    "start_time": "2022-03-27T18:31:23.416Z"
   },
   {
    "duration": 14,
    "start_time": "2022-03-27T18:31:23.434Z"
   },
   {
    "duration": 8,
    "start_time": "2022-03-27T18:31:23.450Z"
   },
   {
    "duration": 1279,
    "start_time": "2022-03-27T18:52:37.706Z"
   },
   {
    "duration": 2,
    "start_time": "2022-03-27T18:52:38.987Z"
   },
   {
    "duration": 51,
    "start_time": "2022-03-27T18:52:38.991Z"
   },
   {
    "duration": 23,
    "start_time": "2022-03-27T18:52:39.044Z"
   },
   {
    "duration": 14,
    "start_time": "2022-03-27T18:52:39.069Z"
   },
   {
    "duration": 16,
    "start_time": "2022-03-27T18:52:39.085Z"
   },
   {
    "duration": 31,
    "start_time": "2022-03-27T18:52:39.102Z"
   },
   {
    "duration": 976,
    "start_time": "2022-03-27T18:52:39.136Z"
   },
   {
    "duration": 33,
    "start_time": "2022-03-27T18:52:40.114Z"
   },
   {
    "duration": 22,
    "start_time": "2022-03-27T18:52:40.151Z"
   },
   {
    "duration": 5,
    "start_time": "2022-03-27T18:52:40.175Z"
   },
   {
    "duration": 240,
    "start_time": "2022-03-27T18:52:40.182Z"
   },
   {
    "duration": 15,
    "start_time": "2022-03-27T18:52:40.424Z"
   },
   {
    "duration": 8,
    "start_time": "2022-03-27T18:52:40.440Z"
   },
   {
    "duration": 7,
    "start_time": "2022-03-27T18:52:40.450Z"
   },
   {
    "duration": 191,
    "start_time": "2022-03-27T18:52:40.458Z"
   },
   {
    "duration": 5,
    "start_time": "2022-03-27T18:52:40.651Z"
   },
   {
    "duration": 107,
    "start_time": "2022-03-27T18:52:40.658Z"
   },
   {
    "duration": 192,
    "start_time": "2022-03-27T18:52:40.767Z"
   },
   {
    "duration": 8,
    "start_time": "2022-03-27T18:52:40.960Z"
   },
   {
    "duration": 666,
    "start_time": "2022-03-27T18:52:40.970Z"
   },
   {
    "duration": 601,
    "start_time": "2022-03-27T18:52:41.638Z"
   },
   {
    "duration": 5,
    "start_time": "2022-03-27T18:52:42.241Z"
   },
   {
    "duration": 9,
    "start_time": "2022-03-27T18:52:42.248Z"
   },
   {
    "duration": 7,
    "start_time": "2022-03-27T18:52:42.259Z"
   },
   {
    "duration": 6,
    "start_time": "2022-03-27T18:52:42.268Z"
   },
   {
    "duration": 415,
    "start_time": "2022-03-27T18:52:42.276Z"
   },
   {
    "duration": 273,
    "start_time": "2022-03-27T18:52:42.695Z"
   },
   {
    "duration": 5,
    "start_time": "2022-03-27T18:52:42.970Z"
   },
   {
    "duration": 193,
    "start_time": "2022-03-27T18:52:42.977Z"
   },
   {
    "duration": 173,
    "start_time": "2022-03-27T18:52:43.172Z"
   },
   {
    "duration": 249,
    "start_time": "2022-03-27T18:52:43.347Z"
   },
   {
    "duration": 170,
    "start_time": "2022-03-27T18:52:43.599Z"
   },
   {
    "duration": 26,
    "start_time": "2022-03-27T18:52:43.771Z"
   },
   {
    "duration": 64,
    "start_time": "2022-03-27T18:52:43.799Z"
   },
   {
    "duration": 550,
    "start_time": "2022-03-27T18:52:43.865Z"
   },
   {
    "duration": 567,
    "start_time": "2022-03-27T18:52:44.417Z"
   },
   {
    "duration": 934,
    "start_time": "2022-03-27T18:52:44.986Z"
   },
   {
    "duration": 18,
    "start_time": "2022-03-27T18:52:45.922Z"
   },
   {
    "duration": 7,
    "start_time": "2022-03-27T18:52:45.942Z"
   },
   {
    "duration": 14,
    "start_time": "2022-03-27T18:52:45.950Z"
   },
   {
    "duration": 7,
    "start_time": "2022-03-27T18:52:45.966Z"
   },
   {
    "duration": 10,
    "start_time": "2022-03-27T19:10:28.247Z"
   },
   {
    "duration": 1774,
    "start_time": "2022-03-28T10:11:12.914Z"
   },
   {
    "duration": 131,
    "start_time": "2022-03-28T10:11:28.010Z"
   },
   {
    "duration": 1454,
    "start_time": "2022-03-28T10:11:36.833Z"
   },
   {
    "duration": 3,
    "start_time": "2022-03-28T10:11:38.290Z"
   },
   {
    "duration": 52,
    "start_time": "2022-03-28T10:11:38.295Z"
   },
   {
    "duration": 46,
    "start_time": "2022-03-28T10:11:38.350Z"
   },
   {
    "duration": 24,
    "start_time": "2022-03-28T10:11:38.399Z"
   },
   {
    "duration": 26,
    "start_time": "2022-03-28T10:11:38.425Z"
   },
   {
    "duration": 36,
    "start_time": "2022-03-28T10:11:38.454Z"
   },
   {
    "duration": 1759,
    "start_time": "2022-03-28T10:11:38.492Z"
   },
   {
    "duration": 47,
    "start_time": "2022-03-28T10:11:40.254Z"
   },
   {
    "duration": 19,
    "start_time": "2022-03-28T10:11:40.305Z"
   },
   {
    "duration": 6,
    "start_time": "2022-03-28T10:11:40.327Z"
   },
   {
    "duration": 392,
    "start_time": "2022-03-28T10:11:40.335Z"
   },
   {
    "duration": 17,
    "start_time": "2022-03-28T10:11:40.730Z"
   },
   {
    "duration": 17,
    "start_time": "2022-03-28T10:11:40.749Z"
   },
   {
    "duration": 27,
    "start_time": "2022-03-28T10:11:40.769Z"
   },
   {
    "duration": 283,
    "start_time": "2022-03-28T10:11:40.799Z"
   },
   {
    "duration": 7,
    "start_time": "2022-03-28T10:11:41.085Z"
   },
   {
    "duration": 126,
    "start_time": "2022-03-28T10:11:41.095Z"
   },
   {
    "duration": 274,
    "start_time": "2022-03-28T10:11:41.224Z"
   },
   {
    "duration": 10,
    "start_time": "2022-03-28T10:11:41.500Z"
   },
   {
    "duration": 850,
    "start_time": "2022-03-28T10:11:41.512Z"
   },
   {
    "duration": 809,
    "start_time": "2022-03-28T10:11:42.365Z"
   },
   {
    "duration": 8,
    "start_time": "2022-03-28T10:11:43.182Z"
   },
   {
    "duration": 14,
    "start_time": "2022-03-28T10:11:43.193Z"
   },
   {
    "duration": 10,
    "start_time": "2022-03-28T10:11:43.210Z"
   },
   {
    "duration": 12,
    "start_time": "2022-03-28T10:11:43.223Z"
   },
   {
    "duration": 658,
    "start_time": "2022-03-28T10:11:43.237Z"
   },
   {
    "duration": 397,
    "start_time": "2022-03-28T10:11:43.900Z"
   },
   {
    "duration": 7,
    "start_time": "2022-03-28T10:11:44.299Z"
   },
   {
    "duration": 243,
    "start_time": "2022-03-28T10:11:44.308Z"
   },
   {
    "duration": 273,
    "start_time": "2022-03-28T10:11:44.554Z"
   },
   {
    "duration": 309,
    "start_time": "2022-03-28T10:11:44.829Z"
   },
   {
    "duration": 221,
    "start_time": "2022-03-28T10:11:45.140Z"
   },
   {
    "duration": 46,
    "start_time": "2022-03-28T10:11:45.364Z"
   },
   {
    "duration": 85,
    "start_time": "2022-03-28T10:11:45.413Z"
   },
   {
    "duration": 730,
    "start_time": "2022-03-28T10:11:45.500Z"
   },
   {
    "duration": 721,
    "start_time": "2022-03-28T10:11:46.232Z"
   },
   {
    "duration": 1403,
    "start_time": "2022-03-28T10:11:46.955Z"
   },
   {
    "duration": 25,
    "start_time": "2022-03-28T10:11:48.360Z"
   },
   {
    "duration": 19,
    "start_time": "2022-03-28T10:11:48.387Z"
   },
   {
    "duration": 10,
    "start_time": "2022-03-28T10:11:48.410Z"
   },
   {
    "duration": 21,
    "start_time": "2022-03-28T10:11:48.423Z"
   },
   {
    "duration": 36,
    "start_time": "2022-03-28T10:11:48.447Z"
   },
   {
    "duration": 13,
    "start_time": "2022-03-28T10:15:53.177Z"
   },
   {
    "duration": 11,
    "start_time": "2022-03-28T10:16:34.483Z"
   },
   {
    "duration": 12,
    "start_time": "2022-03-28T10:16:36.922Z"
   },
   {
    "duration": 17,
    "start_time": "2022-03-28T10:16:54.351Z"
   },
   {
    "duration": 147,
    "start_time": "2022-03-28T10:17:17.241Z"
   },
   {
    "duration": 18,
    "start_time": "2022-03-28T10:17:19.714Z"
   },
   {
    "duration": 41,
    "start_time": "2022-03-28T10:17:41.991Z"
   },
   {
    "duration": 39,
    "start_time": "2022-03-28T10:18:08.769Z"
   },
   {
    "duration": 17,
    "start_time": "2022-03-28T10:18:20.201Z"
   },
   {
    "duration": 161,
    "start_time": "2022-03-28T10:18:26.650Z"
   },
   {
    "duration": 23,
    "start_time": "2022-03-28T10:18:37.982Z"
   },
   {
    "duration": 18,
    "start_time": "2022-03-28T10:18:46.607Z"
   },
   {
    "duration": 12,
    "start_time": "2022-03-28T10:39:41.636Z"
   },
   {
    "duration": 26,
    "start_time": "2022-03-28T10:39:49.757Z"
   },
   {
    "duration": 1424,
    "start_time": "2022-03-28T10:40:04.623Z"
   },
   {
    "duration": 3,
    "start_time": "2022-03-28T10:40:06.050Z"
   },
   {
    "duration": 55,
    "start_time": "2022-03-28T10:40:06.055Z"
   },
   {
    "duration": 30,
    "start_time": "2022-03-28T10:40:06.113Z"
   },
   {
    "duration": 33,
    "start_time": "2022-03-28T10:40:06.145Z"
   },
   {
    "duration": 20,
    "start_time": "2022-03-28T10:40:06.183Z"
   },
   {
    "duration": 29,
    "start_time": "2022-03-28T10:40:06.205Z"
   },
   {
    "duration": 1828,
    "start_time": "2022-03-28T10:40:06.237Z"
   },
   {
    "duration": 33,
    "start_time": "2022-03-28T10:40:08.067Z"
   },
   {
    "duration": 22,
    "start_time": "2022-03-28T10:40:08.104Z"
   },
   {
    "duration": 7,
    "start_time": "2022-03-28T10:40:08.128Z"
   },
   {
    "duration": 385,
    "start_time": "2022-03-28T10:40:08.138Z"
   },
   {
    "duration": 65,
    "start_time": "2022-03-28T10:40:08.526Z"
   },
   {
    "duration": 22,
    "start_time": "2022-03-28T10:40:08.594Z"
   },
   {
    "duration": 207,
    "start_time": "2022-03-28T10:40:08.619Z"
   },
   {
    "duration": 1,
    "start_time": "2022-03-28T10:40:08.830Z"
   },
   {
    "duration": 0,
    "start_time": "2022-03-28T10:40:08.833Z"
   },
   {
    "duration": 0,
    "start_time": "2022-03-28T10:40:08.835Z"
   },
   {
    "duration": 0,
    "start_time": "2022-03-28T10:40:08.837Z"
   },
   {
    "duration": 0,
    "start_time": "2022-03-28T10:40:08.838Z"
   },
   {
    "duration": 0,
    "start_time": "2022-03-28T10:40:08.845Z"
   },
   {
    "duration": 0,
    "start_time": "2022-03-28T10:40:08.847Z"
   },
   {
    "duration": 0,
    "start_time": "2022-03-28T10:40:08.848Z"
   },
   {
    "duration": 0,
    "start_time": "2022-03-28T10:40:08.850Z"
   },
   {
    "duration": 0,
    "start_time": "2022-03-28T10:40:08.853Z"
   },
   {
    "duration": 0,
    "start_time": "2022-03-28T10:40:08.883Z"
   },
   {
    "duration": 0,
    "start_time": "2022-03-28T10:40:08.884Z"
   },
   {
    "duration": 0,
    "start_time": "2022-03-28T10:40:08.885Z"
   },
   {
    "duration": 0,
    "start_time": "2022-03-28T10:40:08.887Z"
   },
   {
    "duration": 0,
    "start_time": "2022-03-28T10:40:08.888Z"
   },
   {
    "duration": 0,
    "start_time": "2022-03-28T10:40:08.890Z"
   },
   {
    "duration": 0,
    "start_time": "2022-03-28T10:40:08.891Z"
   },
   {
    "duration": 0,
    "start_time": "2022-03-28T10:40:08.893Z"
   },
   {
    "duration": 0,
    "start_time": "2022-03-28T10:40:08.894Z"
   },
   {
    "duration": 0,
    "start_time": "2022-03-28T10:40:08.896Z"
   },
   {
    "duration": 0,
    "start_time": "2022-03-28T10:40:08.897Z"
   },
   {
    "duration": 0,
    "start_time": "2022-03-28T10:40:08.900Z"
   },
   {
    "duration": 0,
    "start_time": "2022-03-28T10:40:08.901Z"
   },
   {
    "duration": 0,
    "start_time": "2022-03-28T10:40:08.903Z"
   },
   {
    "duration": 0,
    "start_time": "2022-03-28T10:40:08.904Z"
   },
   {
    "duration": 0,
    "start_time": "2022-03-28T10:40:08.906Z"
   },
   {
    "duration": 0,
    "start_time": "2022-03-28T10:40:08.908Z"
   },
   {
    "duration": 0,
    "start_time": "2022-03-28T10:40:08.909Z"
   },
   {
    "duration": 25,
    "start_time": "2022-03-28T10:40:30.076Z"
   },
   {
    "duration": 29,
    "start_time": "2022-03-28T10:42:36.896Z"
   },
   {
    "duration": 9,
    "start_time": "2022-03-28T10:55:28.911Z"
   },
   {
    "duration": 12,
    "start_time": "2022-03-28T10:56:30.368Z"
   },
   {
    "duration": 6,
    "start_time": "2022-03-28T10:56:43.627Z"
   },
   {
    "duration": 18,
    "start_time": "2022-03-28T11:12:29.894Z"
   },
   {
    "duration": 1515,
    "start_time": "2022-03-28T11:12:43.395Z"
   },
   {
    "duration": 3,
    "start_time": "2022-03-28T11:12:44.913Z"
   },
   {
    "duration": 53,
    "start_time": "2022-03-28T11:12:44.919Z"
   },
   {
    "duration": 35,
    "start_time": "2022-03-28T11:12:44.974Z"
   },
   {
    "duration": 20,
    "start_time": "2022-03-28T11:12:45.012Z"
   },
   {
    "duration": 49,
    "start_time": "2022-03-28T11:12:45.035Z"
   },
   {
    "duration": 30,
    "start_time": "2022-03-28T11:12:45.086Z"
   },
   {
    "duration": 10,
    "start_time": "2022-03-28T11:12:45.119Z"
   },
   {
    "duration": 55,
    "start_time": "2022-03-28T11:12:45.131Z"
   },
   {
    "duration": 19,
    "start_time": "2022-03-28T11:12:45.188Z"
   },
   {
    "duration": 5,
    "start_time": "2022-03-28T11:12:45.210Z"
   },
   {
    "duration": 2863,
    "start_time": "2022-03-28T11:12:45.217Z"
   },
   {
    "duration": 0,
    "start_time": "2022-03-28T11:12:48.083Z"
   },
   {
    "duration": 0,
    "start_time": "2022-03-28T11:12:48.086Z"
   },
   {
    "duration": 0,
    "start_time": "2022-03-28T11:12:48.088Z"
   },
   {
    "duration": 0,
    "start_time": "2022-03-28T11:12:48.090Z"
   },
   {
    "duration": 0,
    "start_time": "2022-03-28T11:12:48.092Z"
   },
   {
    "duration": 0,
    "start_time": "2022-03-28T11:12:48.093Z"
   },
   {
    "duration": 0,
    "start_time": "2022-03-28T11:12:48.095Z"
   },
   {
    "duration": 0,
    "start_time": "2022-03-28T11:12:48.096Z"
   },
   {
    "duration": 0,
    "start_time": "2022-03-28T11:12:48.098Z"
   },
   {
    "duration": 0,
    "start_time": "2022-03-28T11:12:48.099Z"
   },
   {
    "duration": 0,
    "start_time": "2022-03-28T11:12:48.101Z"
   },
   {
    "duration": 0,
    "start_time": "2022-03-28T11:12:48.103Z"
   },
   {
    "duration": 0,
    "start_time": "2022-03-28T11:12:48.104Z"
   },
   {
    "duration": 0,
    "start_time": "2022-03-28T11:12:48.106Z"
   },
   {
    "duration": 0,
    "start_time": "2022-03-28T11:12:48.108Z"
   },
   {
    "duration": 0,
    "start_time": "2022-03-28T11:12:48.109Z"
   },
   {
    "duration": 0,
    "start_time": "2022-03-28T11:12:48.111Z"
   },
   {
    "duration": 0,
    "start_time": "2022-03-28T11:12:48.113Z"
   },
   {
    "duration": 0,
    "start_time": "2022-03-28T11:12:48.114Z"
   },
   {
    "duration": 0,
    "start_time": "2022-03-28T11:12:48.116Z"
   },
   {
    "duration": 0,
    "start_time": "2022-03-28T11:12:48.118Z"
   },
   {
    "duration": 0,
    "start_time": "2022-03-28T11:12:48.119Z"
   },
   {
    "duration": 0,
    "start_time": "2022-03-28T11:12:48.120Z"
   },
   {
    "duration": 0,
    "start_time": "2022-03-28T11:12:48.122Z"
   },
   {
    "duration": 0,
    "start_time": "2022-03-28T11:12:48.182Z"
   },
   {
    "duration": 0,
    "start_time": "2022-03-28T11:12:48.184Z"
   },
   {
    "duration": 0,
    "start_time": "2022-03-28T11:12:48.186Z"
   },
   {
    "duration": 0,
    "start_time": "2022-03-28T11:12:48.188Z"
   },
   {
    "duration": 0,
    "start_time": "2022-03-28T11:12:48.189Z"
   },
   {
    "duration": 0,
    "start_time": "2022-03-28T11:12:48.191Z"
   },
   {
    "duration": 1,
    "start_time": "2022-03-28T11:12:48.192Z"
   },
   {
    "duration": 23,
    "start_time": "2022-03-28T11:14:06.171Z"
   },
   {
    "duration": 15,
    "start_time": "2022-03-28T11:14:28.072Z"
   },
   {
    "duration": 2548,
    "start_time": "2022-03-28T11:17:12.702Z"
   },
   {
    "duration": 2486,
    "start_time": "2022-03-28T11:17:38.556Z"
   },
   {
    "duration": 47,
    "start_time": "2022-03-28T13:09:40.302Z"
   },
   {
    "duration": 1342,
    "start_time": "2022-03-28T13:09:46.886Z"
   },
   {
    "duration": 3,
    "start_time": "2022-03-28T13:09:48.231Z"
   },
   {
    "duration": 50,
    "start_time": "2022-03-28T13:09:48.235Z"
   },
   {
    "duration": 20,
    "start_time": "2022-03-28T13:09:48.287Z"
   },
   {
    "duration": 14,
    "start_time": "2022-03-28T13:09:48.309Z"
   },
   {
    "duration": 24,
    "start_time": "2022-03-28T13:09:48.324Z"
   },
   {
    "duration": 11,
    "start_time": "2022-03-28T13:09:48.350Z"
   },
   {
    "duration": 7,
    "start_time": "2022-03-28T13:09:48.362Z"
   },
   {
    "duration": 19,
    "start_time": "2022-03-28T13:09:48.371Z"
   },
   {
    "duration": 13,
    "start_time": "2022-03-28T13:09:48.392Z"
   },
   {
    "duration": 31,
    "start_time": "2022-03-28T13:09:48.407Z"
   },
   {
    "duration": 2290,
    "start_time": "2022-03-28T13:09:48.440Z"
   },
   {
    "duration": 0,
    "start_time": "2022-03-28T13:09:50.733Z"
   },
   {
    "duration": 0,
    "start_time": "2022-03-28T13:09:50.734Z"
   },
   {
    "duration": 0,
    "start_time": "2022-03-28T13:09:50.735Z"
   },
   {
    "duration": 0,
    "start_time": "2022-03-28T13:09:50.736Z"
   },
   {
    "duration": 0,
    "start_time": "2022-03-28T13:09:50.737Z"
   },
   {
    "duration": 0,
    "start_time": "2022-03-28T13:09:50.739Z"
   },
   {
    "duration": 0,
    "start_time": "2022-03-28T13:09:50.740Z"
   },
   {
    "duration": 0,
    "start_time": "2022-03-28T13:09:50.741Z"
   },
   {
    "duration": 0,
    "start_time": "2022-03-28T13:09:50.742Z"
   },
   {
    "duration": 0,
    "start_time": "2022-03-28T13:09:50.743Z"
   },
   {
    "duration": 0,
    "start_time": "2022-03-28T13:09:50.744Z"
   },
   {
    "duration": 0,
    "start_time": "2022-03-28T13:09:50.746Z"
   },
   {
    "duration": 0,
    "start_time": "2022-03-28T13:09:50.747Z"
   },
   {
    "duration": 0,
    "start_time": "2022-03-28T13:09:50.748Z"
   },
   {
    "duration": 0,
    "start_time": "2022-03-28T13:09:50.749Z"
   },
   {
    "duration": 0,
    "start_time": "2022-03-28T13:09:50.750Z"
   },
   {
    "duration": 0,
    "start_time": "2022-03-28T13:09:50.751Z"
   },
   {
    "duration": 0,
    "start_time": "2022-03-28T13:09:50.752Z"
   },
   {
    "duration": 0,
    "start_time": "2022-03-28T13:09:50.753Z"
   },
   {
    "duration": 0,
    "start_time": "2022-03-28T13:09:50.754Z"
   },
   {
    "duration": 0,
    "start_time": "2022-03-28T13:09:50.755Z"
   },
   {
    "duration": 0,
    "start_time": "2022-03-28T13:09:50.756Z"
   },
   {
    "duration": 0,
    "start_time": "2022-03-28T13:09:50.757Z"
   },
   {
    "duration": 0,
    "start_time": "2022-03-28T13:09:50.758Z"
   },
   {
    "duration": 0,
    "start_time": "2022-03-28T13:09:50.759Z"
   },
   {
    "duration": 0,
    "start_time": "2022-03-28T13:09:50.760Z"
   },
   {
    "duration": 0,
    "start_time": "2022-03-28T13:09:50.761Z"
   },
   {
    "duration": 0,
    "start_time": "2022-03-28T13:09:50.762Z"
   },
   {
    "duration": 0,
    "start_time": "2022-03-28T13:09:50.763Z"
   },
   {
    "duration": 0,
    "start_time": "2022-03-28T13:09:50.764Z"
   },
   {
    "duration": 0,
    "start_time": "2022-03-28T13:09:50.765Z"
   },
   {
    "duration": 116,
    "start_time": "2022-03-28T13:10:45.863Z"
   },
   {
    "duration": 0,
    "start_time": "2022-03-28T13:11:10.576Z"
   },
   {
    "duration": 2324,
    "start_time": "2022-03-28T13:11:19.281Z"
   },
   {
    "duration": 17,
    "start_time": "2022-03-28T13:11:40.841Z"
   },
   {
    "duration": 4,
    "start_time": "2022-03-28T13:13:00.646Z"
   },
   {
    "duration": 3,
    "start_time": "2022-03-28T13:13:07.698Z"
   },
   {
    "duration": 14,
    "start_time": "2022-03-28T13:13:20.370Z"
   },
   {
    "duration": 17,
    "start_time": "2022-03-28T13:13:33.496Z"
   },
   {
    "duration": 11,
    "start_time": "2022-03-28T13:13:49.608Z"
   },
   {
    "duration": 20,
    "start_time": "2022-03-28T13:14:06.753Z"
   },
   {
    "duration": 23,
    "start_time": "2022-03-28T13:14:40.860Z"
   },
   {
    "duration": 29,
    "start_time": "2022-03-28T13:15:10.609Z"
   },
   {
    "duration": 2,
    "start_time": "2022-03-28T13:15:48.164Z"
   },
   {
    "duration": 21,
    "start_time": "2022-03-28T13:15:52.466Z"
   },
   {
    "duration": 29,
    "start_time": "2022-03-28T13:15:56.268Z"
   },
   {
    "duration": 1141,
    "start_time": "2022-03-28T13:16:03.575Z"
   },
   {
    "duration": 2,
    "start_time": "2022-03-28T13:16:04.718Z"
   },
   {
    "duration": 47,
    "start_time": "2022-03-28T13:16:04.721Z"
   },
   {
    "duration": 21,
    "start_time": "2022-03-28T13:16:04.770Z"
   },
   {
    "duration": 13,
    "start_time": "2022-03-28T13:16:04.793Z"
   },
   {
    "duration": 31,
    "start_time": "2022-03-28T13:16:04.807Z"
   },
   {
    "duration": 12,
    "start_time": "2022-03-28T13:16:04.840Z"
   },
   {
    "duration": 3,
    "start_time": "2022-03-28T13:16:04.853Z"
   },
   {
    "duration": 20,
    "start_time": "2022-03-28T13:16:04.857Z"
   },
   {
    "duration": 14,
    "start_time": "2022-03-28T13:16:04.879Z"
   },
   {
    "duration": 4,
    "start_time": "2022-03-28T13:16:04.895Z"
   },
   {
    "duration": 77,
    "start_time": "2022-03-28T13:16:04.900Z"
   },
   {
    "duration": 9,
    "start_time": "2022-03-28T13:16:04.979Z"
   },
   {
    "duration": 10,
    "start_time": "2022-03-28T13:16:04.990Z"
   },
   {
    "duration": 9,
    "start_time": "2022-03-28T13:16:05.002Z"
   },
   {
    "duration": 163,
    "start_time": "2022-03-28T13:16:05.013Z"
   },
   {
    "duration": 6,
    "start_time": "2022-03-28T13:16:05.178Z"
   },
   {
    "duration": 170,
    "start_time": "2022-03-28T13:16:05.186Z"
   },
   {
    "duration": 0,
    "start_time": "2022-03-28T13:16:05.358Z"
   },
   {
    "duration": 0,
    "start_time": "2022-03-28T13:16:05.359Z"
   },
   {
    "duration": 0,
    "start_time": "2022-03-28T13:16:05.360Z"
   },
   {
    "duration": 0,
    "start_time": "2022-03-28T13:16:05.361Z"
   },
   {
    "duration": 0,
    "start_time": "2022-03-28T13:16:05.362Z"
   },
   {
    "duration": 0,
    "start_time": "2022-03-28T13:16:05.363Z"
   },
   {
    "duration": 0,
    "start_time": "2022-03-28T13:16:05.364Z"
   },
   {
    "duration": 0,
    "start_time": "2022-03-28T13:16:05.365Z"
   },
   {
    "duration": 0,
    "start_time": "2022-03-28T13:16:05.366Z"
   },
   {
    "duration": 0,
    "start_time": "2022-03-28T13:16:05.367Z"
   },
   {
    "duration": 0,
    "start_time": "2022-03-28T13:16:05.368Z"
   },
   {
    "duration": 0,
    "start_time": "2022-03-28T13:16:05.369Z"
   },
   {
    "duration": 0,
    "start_time": "2022-03-28T13:16:05.370Z"
   },
   {
    "duration": 0,
    "start_time": "2022-03-28T13:16:05.370Z"
   },
   {
    "duration": 0,
    "start_time": "2022-03-28T13:16:05.371Z"
   },
   {
    "duration": 0,
    "start_time": "2022-03-28T13:16:05.372Z"
   },
   {
    "duration": 0,
    "start_time": "2022-03-28T13:16:05.374Z"
   },
   {
    "duration": 0,
    "start_time": "2022-03-28T13:16:05.375Z"
   },
   {
    "duration": 0,
    "start_time": "2022-03-28T13:16:05.376Z"
   },
   {
    "duration": 0,
    "start_time": "2022-03-28T13:16:05.377Z"
   },
   {
    "duration": 0,
    "start_time": "2022-03-28T13:16:05.378Z"
   },
   {
    "duration": 0,
    "start_time": "2022-03-28T13:16:05.379Z"
   },
   {
    "duration": 0,
    "start_time": "2022-03-28T13:16:05.380Z"
   },
   {
    "duration": 0,
    "start_time": "2022-03-28T13:16:05.381Z"
   },
   {
    "duration": 0,
    "start_time": "2022-03-28T13:16:05.382Z"
   },
   {
    "duration": 14,
    "start_time": "2022-03-28T13:16:23.721Z"
   },
   {
    "duration": 29,
    "start_time": "2022-03-28T13:16:46.656Z"
   },
   {
    "duration": 28,
    "start_time": "2022-03-28T13:23:41.685Z"
   },
   {
    "duration": 4,
    "start_time": "2022-03-28T13:24:46.479Z"
   },
   {
    "duration": 36,
    "start_time": "2022-03-28T13:24:51.171Z"
   },
   {
    "duration": 15,
    "start_time": "2022-03-28T13:25:14.229Z"
   },
   {
    "duration": 24,
    "start_time": "2022-03-28T13:25:22.569Z"
   },
   {
    "duration": 1224,
    "start_time": "2022-03-28T13:25:58.874Z"
   },
   {
    "duration": 3,
    "start_time": "2022-03-28T13:26:00.100Z"
   },
   {
    "duration": 62,
    "start_time": "2022-03-28T13:26:00.104Z"
   },
   {
    "duration": 21,
    "start_time": "2022-03-28T13:26:00.168Z"
   },
   {
    "duration": 20,
    "start_time": "2022-03-28T13:26:00.193Z"
   },
   {
    "duration": 22,
    "start_time": "2022-03-28T13:26:00.216Z"
   },
   {
    "duration": 15,
    "start_time": "2022-03-28T13:26:00.239Z"
   },
   {
    "duration": 43,
    "start_time": "2022-03-28T13:26:00.256Z"
   },
   {
    "duration": 7,
    "start_time": "2022-03-28T13:26:00.301Z"
   },
   {
    "duration": 40,
    "start_time": "2022-03-28T13:26:00.310Z"
   },
   {
    "duration": 42,
    "start_time": "2022-03-28T13:26:00.352Z"
   },
   {
    "duration": 4,
    "start_time": "2022-03-28T13:26:00.396Z"
   },
   {
    "duration": 42,
    "start_time": "2022-03-28T13:26:00.401Z"
   },
   {
    "duration": 12,
    "start_time": "2022-03-28T13:26:00.447Z"
   },
   {
    "duration": 20,
    "start_time": "2022-03-28T13:26:00.461Z"
   },
   {
    "duration": 9,
    "start_time": "2022-03-28T13:26:00.483Z"
   },
   {
    "duration": 173,
    "start_time": "2022-03-28T13:26:00.494Z"
   },
   {
    "duration": 7,
    "start_time": "2022-03-28T13:26:00.669Z"
   },
   {
    "duration": 182,
    "start_time": "2022-03-28T13:26:00.678Z"
   },
   {
    "duration": 0,
    "start_time": "2022-03-28T13:26:00.862Z"
   },
   {
    "duration": 0,
    "start_time": "2022-03-28T13:26:00.863Z"
   },
   {
    "duration": 0,
    "start_time": "2022-03-28T13:26:00.864Z"
   },
   {
    "duration": 0,
    "start_time": "2022-03-28T13:26:00.865Z"
   },
   {
    "duration": 1,
    "start_time": "2022-03-28T13:26:00.866Z"
   },
   {
    "duration": 0,
    "start_time": "2022-03-28T13:26:00.868Z"
   },
   {
    "duration": 0,
    "start_time": "2022-03-28T13:26:00.868Z"
   },
   {
    "duration": 0,
    "start_time": "2022-03-28T13:26:00.870Z"
   },
   {
    "duration": 0,
    "start_time": "2022-03-28T13:26:00.871Z"
   },
   {
    "duration": 0,
    "start_time": "2022-03-28T13:26:00.871Z"
   },
   {
    "duration": 0,
    "start_time": "2022-03-28T13:26:00.873Z"
   },
   {
    "duration": 0,
    "start_time": "2022-03-28T13:26:00.874Z"
   },
   {
    "duration": 0,
    "start_time": "2022-03-28T13:26:00.874Z"
   },
   {
    "duration": 0,
    "start_time": "2022-03-28T13:26:00.875Z"
   },
   {
    "duration": 0,
    "start_time": "2022-03-28T13:26:00.877Z"
   },
   {
    "duration": 0,
    "start_time": "2022-03-28T13:26:00.878Z"
   },
   {
    "duration": 0,
    "start_time": "2022-03-28T13:26:00.879Z"
   },
   {
    "duration": 0,
    "start_time": "2022-03-28T13:26:00.879Z"
   },
   {
    "duration": 0,
    "start_time": "2022-03-28T13:26:00.881Z"
   },
   {
    "duration": 0,
    "start_time": "2022-03-28T13:26:00.883Z"
   },
   {
    "duration": 0,
    "start_time": "2022-03-28T13:26:00.884Z"
   },
   {
    "duration": 0,
    "start_time": "2022-03-28T13:26:00.886Z"
   },
   {
    "duration": 0,
    "start_time": "2022-03-28T13:26:00.887Z"
   },
   {
    "duration": 0,
    "start_time": "2022-03-28T13:26:00.889Z"
   },
   {
    "duration": 0,
    "start_time": "2022-03-28T13:26:00.939Z"
   },
   {
    "duration": 45,
    "start_time": "2022-03-28T13:27:29.003Z"
   },
   {
    "duration": 45,
    "start_time": "2022-03-28T13:29:06.198Z"
   },
   {
    "duration": 22,
    "start_time": "2022-03-28T13:29:37.117Z"
   },
   {
    "duration": 15,
    "start_time": "2022-03-28T13:30:29.166Z"
   },
   {
    "duration": 16,
    "start_time": "2022-03-28T13:30:38.057Z"
   },
   {
    "duration": 13,
    "start_time": "2022-03-28T13:30:53.018Z"
   },
   {
    "duration": 16,
    "start_time": "2022-03-28T13:30:58.703Z"
   },
   {
    "duration": 11,
    "start_time": "2022-03-28T13:31:08.901Z"
   },
   {
    "duration": 23,
    "start_time": "2022-03-28T13:31:37.641Z"
   },
   {
    "duration": 11,
    "start_time": "2022-03-28T13:32:54.977Z"
   },
   {
    "duration": 8,
    "start_time": "2022-03-28T13:33:01.634Z"
   },
   {
    "duration": 7,
    "start_time": "2022-03-28T13:33:23.904Z"
   },
   {
    "duration": 455,
    "start_time": "2022-03-28T13:47:52.894Z"
   },
   {
    "duration": 1257,
    "start_time": "2022-03-28T13:48:06.215Z"
   },
   {
    "duration": 3,
    "start_time": "2022-03-28T13:48:07.473Z"
   },
   {
    "duration": 55,
    "start_time": "2022-03-28T13:48:07.477Z"
   },
   {
    "duration": 34,
    "start_time": "2022-03-28T13:48:07.534Z"
   },
   {
    "duration": 13,
    "start_time": "2022-03-28T13:48:07.569Z"
   },
   {
    "duration": 22,
    "start_time": "2022-03-28T13:48:07.584Z"
   },
   {
    "duration": 22,
    "start_time": "2022-03-28T13:48:07.608Z"
   },
   {
    "duration": 12,
    "start_time": "2022-03-28T13:48:07.637Z"
   },
   {
    "duration": 24,
    "start_time": "2022-03-28T13:48:07.651Z"
   },
   {
    "duration": 13,
    "start_time": "2022-03-28T13:48:07.677Z"
   },
   {
    "duration": 6,
    "start_time": "2022-03-28T13:48:07.692Z"
   },
   {
    "duration": 33,
    "start_time": "2022-03-28T13:48:07.700Z"
   },
   {
    "duration": 20,
    "start_time": "2022-03-28T13:48:07.737Z"
   },
   {
    "duration": 8,
    "start_time": "2022-03-28T13:48:07.758Z"
   },
   {
    "duration": 18,
    "start_time": "2022-03-28T13:48:07.768Z"
   },
   {
    "duration": 154,
    "start_time": "2022-03-28T13:48:07.788Z"
   },
   {
    "duration": 8,
    "start_time": "2022-03-28T13:48:07.943Z"
   },
   {
    "duration": 164,
    "start_time": "2022-03-28T13:48:07.952Z"
   },
   {
    "duration": 0,
    "start_time": "2022-03-28T13:48:08.118Z"
   },
   {
    "duration": 0,
    "start_time": "2022-03-28T13:48:08.119Z"
   },
   {
    "duration": 0,
    "start_time": "2022-03-28T13:48:08.120Z"
   },
   {
    "duration": 0,
    "start_time": "2022-03-28T13:48:08.121Z"
   },
   {
    "duration": 0,
    "start_time": "2022-03-28T13:48:08.122Z"
   },
   {
    "duration": 0,
    "start_time": "2022-03-28T13:48:08.123Z"
   },
   {
    "duration": 0,
    "start_time": "2022-03-28T13:48:08.124Z"
   },
   {
    "duration": 0,
    "start_time": "2022-03-28T13:48:08.138Z"
   },
   {
    "duration": 0,
    "start_time": "2022-03-28T13:48:08.139Z"
   },
   {
    "duration": 0,
    "start_time": "2022-03-28T13:48:08.140Z"
   },
   {
    "duration": 0,
    "start_time": "2022-03-28T13:48:08.141Z"
   },
   {
    "duration": 0,
    "start_time": "2022-03-28T13:48:08.142Z"
   },
   {
    "duration": 0,
    "start_time": "2022-03-28T13:48:08.142Z"
   },
   {
    "duration": 0,
    "start_time": "2022-03-28T13:48:08.143Z"
   },
   {
    "duration": 0,
    "start_time": "2022-03-28T13:48:08.144Z"
   },
   {
    "duration": 0,
    "start_time": "2022-03-28T13:48:08.145Z"
   },
   {
    "duration": 0,
    "start_time": "2022-03-28T13:48:08.146Z"
   },
   {
    "duration": 0,
    "start_time": "2022-03-28T13:48:08.148Z"
   },
   {
    "duration": 0,
    "start_time": "2022-03-28T13:48:08.149Z"
   },
   {
    "duration": 0,
    "start_time": "2022-03-28T13:48:08.150Z"
   },
   {
    "duration": 0,
    "start_time": "2022-03-28T13:48:08.151Z"
   },
   {
    "duration": 0,
    "start_time": "2022-03-28T13:48:08.152Z"
   },
   {
    "duration": 0,
    "start_time": "2022-03-28T13:48:08.153Z"
   },
   {
    "duration": 0,
    "start_time": "2022-03-28T13:48:08.154Z"
   },
   {
    "duration": 0,
    "start_time": "2022-03-28T13:48:08.155Z"
   },
   {
    "duration": 1138,
    "start_time": "2022-03-28T13:48:32.314Z"
   },
   {
    "duration": 2,
    "start_time": "2022-03-28T13:48:33.454Z"
   },
   {
    "duration": 38,
    "start_time": "2022-03-28T13:48:33.458Z"
   },
   {
    "duration": 41,
    "start_time": "2022-03-28T13:48:33.498Z"
   },
   {
    "duration": 14,
    "start_time": "2022-03-28T13:48:33.541Z"
   },
   {
    "duration": 15,
    "start_time": "2022-03-28T13:48:33.556Z"
   },
   {
    "duration": 11,
    "start_time": "2022-03-28T13:48:33.573Z"
   },
   {
    "duration": 8,
    "start_time": "2022-03-28T13:48:33.586Z"
   },
   {
    "duration": 54,
    "start_time": "2022-03-28T13:48:33.595Z"
   },
   {
    "duration": 13,
    "start_time": "2022-03-28T13:48:33.652Z"
   },
   {
    "duration": 4,
    "start_time": "2022-03-28T13:48:33.667Z"
   },
   {
    "duration": 19,
    "start_time": "2022-03-28T13:48:33.672Z"
   },
   {
    "duration": 13,
    "start_time": "2022-03-28T13:48:33.694Z"
   },
   {
    "duration": 33,
    "start_time": "2022-03-28T13:48:33.709Z"
   },
   {
    "duration": 4,
    "start_time": "2022-03-28T13:48:33.744Z"
   },
   {
    "duration": 157,
    "start_time": "2022-03-28T13:48:33.749Z"
   },
   {
    "duration": 7,
    "start_time": "2022-03-28T13:48:33.908Z"
   },
   {
    "duration": 160,
    "start_time": "2022-03-28T13:48:33.917Z"
   },
   {
    "duration": 0,
    "start_time": "2022-03-28T13:48:34.079Z"
   },
   {
    "duration": 0,
    "start_time": "2022-03-28T13:48:34.080Z"
   },
   {
    "duration": 0,
    "start_time": "2022-03-28T13:48:34.080Z"
   },
   {
    "duration": 0,
    "start_time": "2022-03-28T13:48:34.081Z"
   },
   {
    "duration": 0,
    "start_time": "2022-03-28T13:48:34.082Z"
   },
   {
    "duration": 0,
    "start_time": "2022-03-28T13:48:34.084Z"
   },
   {
    "duration": 0,
    "start_time": "2022-03-28T13:48:34.085Z"
   },
   {
    "duration": 0,
    "start_time": "2022-03-28T13:48:34.086Z"
   },
   {
    "duration": 0,
    "start_time": "2022-03-28T13:48:34.087Z"
   },
   {
    "duration": 0,
    "start_time": "2022-03-28T13:48:34.088Z"
   },
   {
    "duration": 1,
    "start_time": "2022-03-28T13:48:34.088Z"
   },
   {
    "duration": 0,
    "start_time": "2022-03-28T13:48:34.089Z"
   },
   {
    "duration": 0,
    "start_time": "2022-03-28T13:48:34.090Z"
   },
   {
    "duration": 0,
    "start_time": "2022-03-28T13:48:34.091Z"
   },
   {
    "duration": 0,
    "start_time": "2022-03-28T13:48:34.092Z"
   },
   {
    "duration": 0,
    "start_time": "2022-03-28T13:48:34.094Z"
   },
   {
    "duration": 0,
    "start_time": "2022-03-28T13:48:34.095Z"
   },
   {
    "duration": 0,
    "start_time": "2022-03-28T13:48:34.096Z"
   },
   {
    "duration": 0,
    "start_time": "2022-03-28T13:48:34.097Z"
   },
   {
    "duration": 0,
    "start_time": "2022-03-28T13:48:34.138Z"
   },
   {
    "duration": 0,
    "start_time": "2022-03-28T13:48:34.139Z"
   },
   {
    "duration": 0,
    "start_time": "2022-03-28T13:48:34.140Z"
   },
   {
    "duration": 0,
    "start_time": "2022-03-28T13:48:34.141Z"
   },
   {
    "duration": 0,
    "start_time": "2022-03-28T13:48:34.142Z"
   },
   {
    "duration": 0,
    "start_time": "2022-03-28T13:48:34.143Z"
   },
   {
    "duration": 13,
    "start_time": "2022-03-28T13:48:39.277Z"
   },
   {
    "duration": 475,
    "start_time": "2022-03-28T13:48:51.822Z"
   },
   {
    "duration": 65,
    "start_time": "2022-03-28T13:49:49.940Z"
   },
   {
    "duration": 65,
    "start_time": "2022-03-28T13:50:11.184Z"
   },
   {
    "duration": 77,
    "start_time": "2022-03-28T13:50:25.085Z"
   },
   {
    "duration": 161,
    "start_time": "2022-03-28T13:59:26.763Z"
   },
   {
    "duration": 22,
    "start_time": "2022-03-28T13:59:31.508Z"
   },
   {
    "duration": 90,
    "start_time": "2022-03-28T14:00:14.809Z"
   },
   {
    "duration": 6,
    "start_time": "2022-03-28T14:02:39.788Z"
   },
   {
    "duration": 1108,
    "start_time": "2022-03-28T14:02:50.459Z"
   },
   {
    "duration": 3,
    "start_time": "2022-03-28T14:02:51.569Z"
   },
   {
    "duration": 69,
    "start_time": "2022-03-28T14:02:51.574Z"
   },
   {
    "duration": 33,
    "start_time": "2022-03-28T14:02:51.645Z"
   },
   {
    "duration": 32,
    "start_time": "2022-03-28T14:02:51.680Z"
   },
   {
    "duration": 44,
    "start_time": "2022-03-28T14:02:51.714Z"
   },
   {
    "duration": 42,
    "start_time": "2022-03-28T14:02:51.760Z"
   },
   {
    "duration": 48,
    "start_time": "2022-03-28T14:02:51.803Z"
   },
   {
    "duration": 96,
    "start_time": "2022-03-28T14:02:51.853Z"
   },
   {
    "duration": 57,
    "start_time": "2022-03-28T14:02:51.952Z"
   },
   {
    "duration": 45,
    "start_time": "2022-03-28T14:02:52.011Z"
   },
   {
    "duration": 48,
    "start_time": "2022-03-28T14:02:52.057Z"
   },
   {
    "duration": 71,
    "start_time": "2022-03-28T14:02:52.107Z"
   },
   {
    "duration": 48,
    "start_time": "2022-03-28T14:02:52.180Z"
   },
   {
    "duration": 38,
    "start_time": "2022-03-28T14:02:52.230Z"
   },
   {
    "duration": 163,
    "start_time": "2022-03-28T14:02:52.270Z"
   },
   {
    "duration": 5,
    "start_time": "2022-03-28T14:02:52.437Z"
   },
   {
    "duration": 119,
    "start_time": "2022-03-28T14:02:52.443Z"
   },
   {
    "duration": 175,
    "start_time": "2022-03-28T14:02:52.563Z"
   },
   {
    "duration": 8,
    "start_time": "2022-03-28T14:02:52.740Z"
   },
   {
    "duration": 615,
    "start_time": "2022-03-28T14:02:52.750Z"
   },
   {
    "duration": 537,
    "start_time": "2022-03-28T14:02:53.367Z"
   },
   {
    "duration": 5,
    "start_time": "2022-03-28T14:02:53.906Z"
   },
   {
    "duration": 34,
    "start_time": "2022-03-28T14:02:53.912Z"
   },
   {
    "duration": 39,
    "start_time": "2022-03-28T14:02:53.948Z"
   },
   {
    "duration": 33,
    "start_time": "2022-03-28T14:02:53.988Z"
   },
   {
    "duration": 278,
    "start_time": "2022-03-28T14:02:54.022Z"
   },
   {
    "duration": 212,
    "start_time": "2022-03-28T14:02:54.304Z"
   },
   {
    "duration": 4,
    "start_time": "2022-03-28T14:02:54.518Z"
   },
   {
    "duration": 164,
    "start_time": "2022-03-28T14:02:54.523Z"
   },
   {
    "duration": 138,
    "start_time": "2022-03-28T14:02:54.689Z"
   },
   {
    "duration": 212,
    "start_time": "2022-03-28T14:02:54.837Z"
   },
   {
    "duration": 135,
    "start_time": "2022-03-28T14:02:55.050Z"
   },
   {
    "duration": 23,
    "start_time": "2022-03-28T14:02:55.187Z"
   },
   {
    "duration": 62,
    "start_time": "2022-03-28T14:02:55.212Z"
   },
   {
    "duration": 457,
    "start_time": "2022-03-28T14:02:55.277Z"
   },
   {
    "duration": 466,
    "start_time": "2022-03-28T14:02:55.737Z"
   },
   {
    "duration": 852,
    "start_time": "2022-03-28T14:02:56.204Z"
   },
   {
    "duration": 8,
    "start_time": "2022-03-28T14:02:57.058Z"
   },
   {
    "duration": 20,
    "start_time": "2022-03-28T14:02:57.068Z"
   },
   {
    "duration": 16,
    "start_time": "2022-03-28T14:02:57.090Z"
   },
   {
    "duration": 28,
    "start_time": "2022-03-28T14:02:57.108Z"
   },
   {
    "duration": 29,
    "start_time": "2022-03-28T14:02:57.138Z"
   },
   {
    "duration": 4,
    "start_time": "2022-03-28T14:03:31.375Z"
   },
   {
    "duration": 628,
    "start_time": "2022-03-28T14:05:17.902Z"
   },
   {
    "duration": 1150,
    "start_time": "2022-03-28T14:05:30.225Z"
   },
   {
    "duration": 2,
    "start_time": "2022-03-28T14:05:31.377Z"
   },
   {
    "duration": 56,
    "start_time": "2022-03-28T14:05:31.381Z"
   },
   {
    "duration": 35,
    "start_time": "2022-03-28T14:05:31.439Z"
   },
   {
    "duration": 14,
    "start_time": "2022-03-28T14:05:31.475Z"
   },
   {
    "duration": 19,
    "start_time": "2022-03-28T14:05:31.490Z"
   },
   {
    "duration": 35,
    "start_time": "2022-03-28T14:05:31.511Z"
   },
   {
    "duration": 7,
    "start_time": "2022-03-28T14:05:31.548Z"
   },
   {
    "duration": 26,
    "start_time": "2022-03-28T14:05:31.557Z"
   },
   {
    "duration": 13,
    "start_time": "2022-03-28T14:05:31.586Z"
   },
   {
    "duration": 10,
    "start_time": "2022-03-28T14:05:31.601Z"
   },
   {
    "duration": 29,
    "start_time": "2022-03-28T14:05:31.612Z"
   },
   {
    "duration": 9,
    "start_time": "2022-03-28T14:05:31.642Z"
   },
   {
    "duration": 14,
    "start_time": "2022-03-28T14:05:31.653Z"
   },
   {
    "duration": 11,
    "start_time": "2022-03-28T14:05:31.668Z"
   },
   {
    "duration": 166,
    "start_time": "2022-03-28T14:05:31.681Z"
   },
   {
    "duration": 5,
    "start_time": "2022-03-28T14:05:31.849Z"
   },
   {
    "duration": 104,
    "start_time": "2022-03-28T14:05:31.855Z"
   },
   {
    "duration": 186,
    "start_time": "2022-03-28T14:05:31.961Z"
   },
   {
    "duration": 7,
    "start_time": "2022-03-28T14:05:32.149Z"
   },
   {
    "duration": 598,
    "start_time": "2022-03-28T14:05:32.157Z"
   },
   {
    "duration": 552,
    "start_time": "2022-03-28T14:05:32.757Z"
   },
   {
    "duration": 5,
    "start_time": "2022-03-28T14:05:33.311Z"
   },
   {
    "duration": 9,
    "start_time": "2022-03-28T14:05:33.317Z"
   },
   {
    "duration": 8,
    "start_time": "2022-03-28T14:05:33.338Z"
   },
   {
    "duration": 10,
    "start_time": "2022-03-28T14:05:33.347Z"
   },
   {
    "duration": 506,
    "start_time": "2022-03-28T14:05:33.358Z"
   },
   {
    "duration": 212,
    "start_time": "2022-03-28T14:05:33.868Z"
   },
   {
    "duration": 5,
    "start_time": "2022-03-28T14:05:34.082Z"
   },
   {
    "duration": 156,
    "start_time": "2022-03-28T14:05:34.088Z"
   },
   {
    "duration": 233,
    "start_time": "2022-03-28T14:05:34.246Z"
   },
   {
    "duration": 132,
    "start_time": "2022-03-28T14:05:34.481Z"
   },
   {
    "duration": 135,
    "start_time": "2022-03-28T14:05:34.615Z"
   },
   {
    "duration": 24,
    "start_time": "2022-03-28T14:05:34.752Z"
   },
   {
    "duration": 66,
    "start_time": "2022-03-28T14:05:34.778Z"
   },
   {
    "duration": 461,
    "start_time": "2022-03-28T14:05:34.846Z"
   },
   {
    "duration": 471,
    "start_time": "2022-03-28T14:05:35.309Z"
   },
   {
    "duration": 867,
    "start_time": "2022-03-28T14:05:35.782Z"
   },
   {
    "duration": 11,
    "start_time": "2022-03-28T14:05:36.651Z"
   },
   {
    "duration": 14,
    "start_time": "2022-03-28T14:05:36.666Z"
   },
   {
    "duration": 7,
    "start_time": "2022-03-28T14:05:36.682Z"
   },
   {
    "duration": 16,
    "start_time": "2022-03-28T14:05:36.691Z"
   },
   {
    "duration": 9,
    "start_time": "2022-03-28T14:05:36.709Z"
   },
   {
    "duration": 630,
    "start_time": "2022-03-28T14:07:35.007Z"
   },
   {
    "duration": 270,
    "start_time": "2022-03-28T14:08:01.772Z"
   },
   {
    "duration": 259,
    "start_time": "2022-03-28T14:08:06.555Z"
   },
   {
    "duration": 375,
    "start_time": "2022-03-28T14:08:21.063Z"
   },
   {
    "duration": 280,
    "start_time": "2022-03-28T14:08:25.999Z"
   },
   {
    "duration": 376,
    "start_time": "2022-03-28T14:08:32.863Z"
   },
   {
    "duration": 277,
    "start_time": "2022-03-28T14:08:36.439Z"
   },
   {
    "duration": 1221,
    "start_time": "2022-03-28T14:08:44.260Z"
   },
   {
    "duration": 2,
    "start_time": "2022-03-28T14:08:45.483Z"
   },
   {
    "duration": 57,
    "start_time": "2022-03-28T14:08:45.487Z"
   },
   {
    "duration": 37,
    "start_time": "2022-03-28T14:08:45.546Z"
   },
   {
    "duration": 13,
    "start_time": "2022-03-28T14:08:45.585Z"
   },
   {
    "duration": 29,
    "start_time": "2022-03-28T14:08:45.600Z"
   },
   {
    "duration": 12,
    "start_time": "2022-03-28T14:08:45.638Z"
   },
   {
    "duration": 10,
    "start_time": "2022-03-28T14:08:45.651Z"
   },
   {
    "duration": 28,
    "start_time": "2022-03-28T14:08:45.663Z"
   },
   {
    "duration": 13,
    "start_time": "2022-03-28T14:08:45.694Z"
   },
   {
    "duration": 12,
    "start_time": "2022-03-28T14:08:45.709Z"
   },
   {
    "duration": 9,
    "start_time": "2022-03-28T14:08:45.737Z"
   },
   {
    "duration": 20,
    "start_time": "2022-03-28T14:08:45.748Z"
   },
   {
    "duration": 21,
    "start_time": "2022-03-28T14:08:45.770Z"
   },
   {
    "duration": 18,
    "start_time": "2022-03-28T14:08:45.793Z"
   },
   {
    "duration": 158,
    "start_time": "2022-03-28T14:08:45.813Z"
   },
   {
    "duration": 5,
    "start_time": "2022-03-28T14:08:45.973Z"
   },
   {
    "duration": 104,
    "start_time": "2022-03-28T14:08:45.980Z"
   },
   {
    "duration": 178,
    "start_time": "2022-03-28T14:08:46.086Z"
   },
   {
    "duration": 7,
    "start_time": "2022-03-28T14:08:46.266Z"
   },
   {
    "duration": 588,
    "start_time": "2022-03-28T14:08:46.275Z"
   },
   {
    "duration": 562,
    "start_time": "2022-03-28T14:08:46.865Z"
   },
   {
    "duration": 11,
    "start_time": "2022-03-28T14:08:47.429Z"
   },
   {
    "duration": 10,
    "start_time": "2022-03-28T14:08:47.441Z"
   },
   {
    "duration": 7,
    "start_time": "2022-03-28T14:08:47.453Z"
   },
   {
    "duration": 6,
    "start_time": "2022-03-28T14:08:47.461Z"
   },
   {
    "duration": 275,
    "start_time": "2022-03-28T14:08:47.469Z"
   },
   {
    "duration": 276,
    "start_time": "2022-03-28T14:08:47.747Z"
   },
   {
    "duration": 215,
    "start_time": "2022-03-28T14:08:48.025Z"
   },
   {
    "duration": 5,
    "start_time": "2022-03-28T14:08:48.242Z"
   },
   {
    "duration": 232,
    "start_time": "2022-03-28T14:08:48.249Z"
   },
   {
    "duration": 154,
    "start_time": "2022-03-28T14:08:48.483Z"
   },
   {
    "duration": 137,
    "start_time": "2022-03-28T14:08:48.639Z"
   },
   {
    "duration": 144,
    "start_time": "2022-03-28T14:08:48.777Z"
   },
   {
    "duration": 33,
    "start_time": "2022-03-28T14:08:48.923Z"
   },
   {
    "duration": 40,
    "start_time": "2022-03-28T14:08:48.958Z"
   },
   {
    "duration": 490,
    "start_time": "2022-03-28T14:08:49.000Z"
   },
   {
    "duration": 477,
    "start_time": "2022-03-28T14:08:49.491Z"
   },
   {
    "duration": 894,
    "start_time": "2022-03-28T14:08:49.970Z"
   },
   {
    "duration": 8,
    "start_time": "2022-03-28T14:08:50.866Z"
   },
   {
    "duration": 35,
    "start_time": "2022-03-28T14:08:50.876Z"
   },
   {
    "duration": 10,
    "start_time": "2022-03-28T14:08:50.913Z"
   },
   {
    "duration": 28,
    "start_time": "2022-03-28T14:08:50.925Z"
   },
   {
    "duration": 43,
    "start_time": "2022-03-28T14:08:50.955Z"
   },
   {
    "duration": 330,
    "start_time": "2022-03-28T14:11:32.438Z"
   },
   {
    "duration": 109,
    "start_time": "2022-03-28T14:12:07.299Z"
   },
   {
    "duration": 311,
    "start_time": "2022-03-28T14:12:24.672Z"
   },
   {
    "duration": 5,
    "start_time": "2022-03-28T14:21:14.452Z"
   },
   {
    "duration": 145,
    "start_time": "2022-03-28T14:21:39.906Z"
   },
   {
    "duration": 143,
    "start_time": "2022-03-28T14:22:12.465Z"
   },
   {
    "duration": 135,
    "start_time": "2022-03-28T14:23:56.212Z"
   },
   {
    "duration": 138,
    "start_time": "2022-03-28T14:24:24.614Z"
   },
   {
    "duration": 147,
    "start_time": "2022-03-28T14:28:02.351Z"
   },
   {
    "duration": 157,
    "start_time": "2022-03-28T14:28:27.106Z"
   },
   {
    "duration": 85,
    "start_time": "2022-03-28T19:31:42.021Z"
   },
   {
    "duration": 1401,
    "start_time": "2022-03-28T19:31:49.050Z"
   },
   {
    "duration": 2,
    "start_time": "2022-03-28T19:31:50.454Z"
   },
   {
    "duration": 47,
    "start_time": "2022-03-28T19:31:50.458Z"
   },
   {
    "duration": 38,
    "start_time": "2022-03-28T19:31:50.508Z"
   },
   {
    "duration": 15,
    "start_time": "2022-03-28T19:31:50.547Z"
   },
   {
    "duration": 41,
    "start_time": "2022-03-28T19:31:50.565Z"
   },
   {
    "duration": 15,
    "start_time": "2022-03-28T19:31:50.608Z"
   },
   {
    "duration": 10,
    "start_time": "2022-03-28T19:31:50.625Z"
   },
   {
    "duration": 28,
    "start_time": "2022-03-28T19:31:50.636Z"
   },
   {
    "duration": 45,
    "start_time": "2022-03-28T19:31:50.668Z"
   },
   {
    "duration": 6,
    "start_time": "2022-03-28T19:31:50.715Z"
   },
   {
    "duration": 12,
    "start_time": "2022-03-28T19:31:50.723Z"
   },
   {
    "duration": 12,
    "start_time": "2022-03-28T19:31:50.737Z"
   },
   {
    "duration": 10,
    "start_time": "2022-03-28T19:31:50.751Z"
   },
   {
    "duration": 5,
    "start_time": "2022-03-28T19:31:50.763Z"
   },
   {
    "duration": 193,
    "start_time": "2022-03-28T19:31:50.802Z"
   },
   {
    "duration": 8,
    "start_time": "2022-03-28T19:31:50.996Z"
   },
   {
    "duration": 115,
    "start_time": "2022-03-28T19:31:51.006Z"
   },
   {
    "duration": 180,
    "start_time": "2022-03-28T19:31:51.123Z"
   },
   {
    "duration": 9,
    "start_time": "2022-03-28T19:31:51.306Z"
   },
   {
    "duration": 673,
    "start_time": "2022-03-28T19:31:51.317Z"
   },
   {
    "duration": 603,
    "start_time": "2022-03-28T19:31:51.992Z"
   },
   {
    "duration": 5,
    "start_time": "2022-03-28T19:31:52.602Z"
   },
   {
    "duration": 10,
    "start_time": "2022-03-28T19:31:52.608Z"
   },
   {
    "duration": 10,
    "start_time": "2022-03-28T19:31:52.620Z"
   },
   {
    "duration": 7,
    "start_time": "2022-03-28T19:31:52.632Z"
   },
   {
    "duration": 289,
    "start_time": "2022-03-28T19:31:52.641Z"
   },
   {
    "duration": 285,
    "start_time": "2022-03-28T19:31:52.935Z"
   },
   {
    "duration": 234,
    "start_time": "2022-03-28T19:31:53.222Z"
   },
   {
    "duration": 5,
    "start_time": "2022-03-28T19:31:53.457Z"
   },
   {
    "duration": 238,
    "start_time": "2022-03-28T19:31:53.464Z"
   },
   {
    "duration": 157,
    "start_time": "2022-03-28T19:31:53.705Z"
   },
   {
    "duration": 160,
    "start_time": "2022-03-28T19:31:53.864Z"
   },
   {
    "duration": 166,
    "start_time": "2022-03-28T19:31:54.027Z"
   },
   {
    "duration": 152,
    "start_time": "2022-03-28T19:31:54.195Z"
   },
   {
    "duration": 142,
    "start_time": "2022-03-28T19:31:54.349Z"
   },
   {
    "duration": 146,
    "start_time": "2022-03-28T19:31:54.501Z"
   },
   {
    "duration": 161,
    "start_time": "2022-03-28T19:31:54.649Z"
   },
   {
    "duration": 148,
    "start_time": "2022-03-28T19:31:54.812Z"
   },
   {
    "duration": 149,
    "start_time": "2022-03-28T19:31:54.962Z"
   },
   {
    "duration": 24,
    "start_time": "2022-03-28T19:31:55.113Z"
   },
   {
    "duration": 389,
    "start_time": "2022-03-28T19:31:55.139Z"
   },
   {
    "duration": 52,
    "start_time": "2022-03-28T19:31:55.530Z"
   },
   {
    "duration": 680,
    "start_time": "2022-03-28T19:31:55.585Z"
   },
   {
    "duration": 676,
    "start_time": "2022-03-28T19:31:56.267Z"
   },
   {
    "duration": 1043,
    "start_time": "2022-03-28T19:31:56.945Z"
   },
   {
    "duration": 16,
    "start_time": "2022-03-28T19:31:57.990Z"
   },
   {
    "duration": 12,
    "start_time": "2022-03-28T19:31:58.008Z"
   },
   {
    "duration": 5,
    "start_time": "2022-03-28T19:31:58.023Z"
   },
   {
    "duration": 15,
    "start_time": "2022-03-28T19:31:58.030Z"
   },
   {
    "duration": 9,
    "start_time": "2022-03-28T19:31:58.046Z"
   },
   {
    "duration": 1260,
    "start_time": "2022-03-28T19:51:39.213Z"
   },
   {
    "duration": 3,
    "start_time": "2022-03-28T19:51:40.475Z"
   },
   {
    "duration": 47,
    "start_time": "2022-03-28T19:51:40.480Z"
   },
   {
    "duration": 40,
    "start_time": "2022-03-28T19:51:40.530Z"
   },
   {
    "duration": 34,
    "start_time": "2022-03-28T19:51:40.572Z"
   },
   {
    "duration": 16,
    "start_time": "2022-03-28T19:51:40.608Z"
   },
   {
    "duration": 8,
    "start_time": "2022-03-28T19:51:40.626Z"
   },
   {
    "duration": 9,
    "start_time": "2022-03-28T19:51:40.636Z"
   },
   {
    "duration": 216,
    "start_time": "2022-03-28T19:51:40.647Z"
   },
   {
    "duration": 15,
    "start_time": "2022-03-28T19:51:40.867Z"
   },
   {
    "duration": 28,
    "start_time": "2022-03-28T19:51:40.900Z"
   },
   {
    "duration": 19,
    "start_time": "2022-03-28T19:51:40.931Z"
   },
   {
    "duration": 4,
    "start_time": "2022-03-28T19:51:40.952Z"
   },
   {
    "duration": 10,
    "start_time": "2022-03-28T19:51:40.958Z"
   },
   {
    "duration": 42,
    "start_time": "2022-03-28T19:51:40.969Z"
   },
   {
    "duration": 9,
    "start_time": "2022-03-28T19:51:41.013Z"
   },
   {
    "duration": 8,
    "start_time": "2022-03-28T19:51:41.023Z"
   },
   {
    "duration": 140,
    "start_time": "2022-03-28T19:51:41.032Z"
   },
   {
    "duration": 205,
    "start_time": "2022-03-28T19:51:41.173Z"
   },
   {
    "duration": 21,
    "start_time": "2022-03-28T19:51:41.380Z"
   },
   {
    "duration": 609,
    "start_time": "2022-03-28T19:51:41.403Z"
   },
   {
    "duration": 865,
    "start_time": "2022-03-28T19:51:42.014Z"
   },
   {
    "duration": 5,
    "start_time": "2022-03-28T19:51:42.882Z"
   },
   {
    "duration": 18,
    "start_time": "2022-03-28T19:51:42.889Z"
   },
   {
    "duration": 8,
    "start_time": "2022-03-28T19:51:42.910Z"
   },
   {
    "duration": 7,
    "start_time": "2022-03-28T19:51:42.920Z"
   },
   {
    "duration": 437,
    "start_time": "2022-03-28T19:51:42.929Z"
   },
   {
    "duration": 434,
    "start_time": "2022-03-28T19:51:43.371Z"
   },
   {
    "duration": 229,
    "start_time": "2022-03-28T19:51:43.807Z"
   },
   {
    "duration": 5,
    "start_time": "2022-03-28T19:51:44.039Z"
   },
   {
    "duration": 235,
    "start_time": "2022-03-28T19:51:44.046Z"
   },
   {
    "duration": 170,
    "start_time": "2022-03-28T19:51:44.283Z"
   },
   {
    "duration": 155,
    "start_time": "2022-03-28T19:51:44.455Z"
   },
   {
    "duration": 162,
    "start_time": "2022-03-28T19:51:44.612Z"
   },
   {
    "duration": 149,
    "start_time": "2022-03-28T19:51:44.776Z"
   },
   {
    "duration": 159,
    "start_time": "2022-03-28T19:51:44.927Z"
   },
   {
    "duration": 142,
    "start_time": "2022-03-28T19:51:45.100Z"
   },
   {
    "duration": 168,
    "start_time": "2022-03-28T19:51:45.243Z"
   },
   {
    "duration": 144,
    "start_time": "2022-03-28T19:51:45.413Z"
   },
   {
    "duration": 149,
    "start_time": "2022-03-28T19:51:45.559Z"
   },
   {
    "duration": 24,
    "start_time": "2022-03-28T19:51:45.710Z"
   },
   {
    "duration": 398,
    "start_time": "2022-03-28T19:51:45.736Z"
   },
   {
    "duration": 46,
    "start_time": "2022-03-28T19:51:46.136Z"
   },
   {
    "duration": 492,
    "start_time": "2022-03-28T19:51:46.202Z"
   },
   {
    "duration": 484,
    "start_time": "2022-03-28T19:51:46.696Z"
   },
   {
    "duration": 852,
    "start_time": "2022-03-28T19:51:47.181Z"
   },
   {
    "duration": 11,
    "start_time": "2022-03-28T19:51:48.035Z"
   },
   {
    "duration": 13,
    "start_time": "2022-03-28T19:51:48.047Z"
   },
   {
    "duration": 7,
    "start_time": "2022-03-28T19:51:48.062Z"
   },
   {
    "duration": 35,
    "start_time": "2022-03-28T19:51:48.071Z"
   },
   {
    "duration": 9,
    "start_time": "2022-03-28T19:51:48.108Z"
   },
   {
    "duration": 4,
    "start_time": "2022-03-28T19:53:48.131Z"
   },
   {
    "duration": 1285,
    "start_time": "2022-03-28T19:54:03.377Z"
   },
   {
    "duration": 3,
    "start_time": "2022-03-28T19:54:04.664Z"
   },
   {
    "duration": 46,
    "start_time": "2022-03-28T19:54:04.668Z"
   },
   {
    "duration": 39,
    "start_time": "2022-03-28T19:54:04.716Z"
   },
   {
    "duration": 13,
    "start_time": "2022-03-28T19:54:04.758Z"
   },
   {
    "duration": 41,
    "start_time": "2022-03-28T19:54:04.773Z"
   },
   {
    "duration": 10,
    "start_time": "2022-03-28T19:54:04.816Z"
   },
   {
    "duration": 20,
    "start_time": "2022-03-28T19:54:04.828Z"
   },
   {
    "duration": 178,
    "start_time": "2022-03-28T19:54:04.850Z"
   },
   {
    "duration": 11,
    "start_time": "2022-03-28T19:54:05.031Z"
   },
   {
    "duration": 20,
    "start_time": "2022-03-28T19:54:05.044Z"
   },
   {
    "duration": 40,
    "start_time": "2022-03-28T19:54:05.066Z"
   },
   {
    "duration": 4,
    "start_time": "2022-03-28T19:54:05.108Z"
   },
   {
    "duration": 11,
    "start_time": "2022-03-28T19:54:05.114Z"
   },
   {
    "duration": 11,
    "start_time": "2022-03-28T19:54:05.127Z"
   },
   {
    "duration": 9,
    "start_time": "2022-03-28T19:54:05.140Z"
   },
   {
    "duration": 12,
    "start_time": "2022-03-28T19:54:05.152Z"
   },
   {
    "duration": 137,
    "start_time": "2022-03-28T19:54:05.166Z"
   },
   {
    "duration": 175,
    "start_time": "2022-03-28T19:54:05.305Z"
   },
   {
    "duration": 8,
    "start_time": "2022-03-28T19:54:05.481Z"
   },
   {
    "duration": 840,
    "start_time": "2022-03-28T19:54:05.502Z"
   },
   {
    "duration": 763,
    "start_time": "2022-03-28T19:54:06.344Z"
   },
   {
    "duration": 6,
    "start_time": "2022-03-28T19:54:07.109Z"
   },
   {
    "duration": 10,
    "start_time": "2022-03-28T19:54:07.117Z"
   },
   {
    "duration": 10,
    "start_time": "2022-03-28T19:54:07.129Z"
   },
   {
    "duration": 7,
    "start_time": "2022-03-28T19:54:07.141Z"
   },
   {
    "duration": 315,
    "start_time": "2022-03-28T19:54:07.150Z"
   },
   {
    "duration": 280,
    "start_time": "2022-03-28T19:54:07.469Z"
   },
   {
    "duration": 222,
    "start_time": "2022-03-28T19:54:07.751Z"
   },
   {
    "duration": 5,
    "start_time": "2022-03-28T19:54:07.976Z"
   },
   {
    "duration": 238,
    "start_time": "2022-03-28T19:54:07.982Z"
   },
   {
    "duration": 153,
    "start_time": "2022-03-28T19:54:08.223Z"
   },
   {
    "duration": 161,
    "start_time": "2022-03-28T19:54:08.378Z"
   },
   {
    "duration": 160,
    "start_time": "2022-03-28T19:54:08.541Z"
   },
   {
    "duration": 151,
    "start_time": "2022-03-28T19:54:08.703Z"
   },
   {
    "duration": 149,
    "start_time": "2022-03-28T19:54:08.856Z"
   },
   {
    "duration": 208,
    "start_time": "2022-03-28T19:54:09.007Z"
   },
   {
    "duration": 166,
    "start_time": "2022-03-28T19:54:09.218Z"
   },
   {
    "duration": 150,
    "start_time": "2022-03-28T19:54:09.386Z"
   },
   {
    "duration": 213,
    "start_time": "2022-03-28T19:54:09.538Z"
   },
   {
    "duration": 48,
    "start_time": "2022-03-28T19:54:09.753Z"
   },
   {
    "duration": 481,
    "start_time": "2022-03-28T19:54:09.804Z"
   },
   {
    "duration": 52,
    "start_time": "2022-03-28T19:54:10.288Z"
   },
   {
    "duration": 504,
    "start_time": "2022-03-28T19:54:10.342Z"
   },
   {
    "duration": 562,
    "start_time": "2022-03-28T19:54:10.848Z"
   },
   {
    "duration": 1135,
    "start_time": "2022-03-28T19:54:11.413Z"
   },
   {
    "duration": 12,
    "start_time": "2022-03-28T19:54:12.550Z"
   },
   {
    "duration": 14,
    "start_time": "2022-03-28T19:54:12.564Z"
   },
   {
    "duration": 4,
    "start_time": "2022-03-28T19:54:12.602Z"
   },
   {
    "duration": 22,
    "start_time": "2022-03-28T19:54:12.608Z"
   },
   {
    "duration": 6,
    "start_time": "2022-03-28T19:54:12.632Z"
   },
   {
    "duration": 7,
    "start_time": "2022-03-28T19:54:55.339Z"
   },
   {
    "duration": 6,
    "start_time": "2022-03-28T19:54:58.619Z"
   },
   {
    "duration": 1358,
    "start_time": "2022-03-28T19:55:07.364Z"
   },
   {
    "duration": 2,
    "start_time": "2022-03-28T19:55:08.725Z"
   },
   {
    "duration": 57,
    "start_time": "2022-03-28T19:55:08.729Z"
   },
   {
    "duration": 62,
    "start_time": "2022-03-28T19:55:08.789Z"
   },
   {
    "duration": 18,
    "start_time": "2022-03-28T19:55:08.853Z"
   },
   {
    "duration": 43,
    "start_time": "2022-03-28T19:55:08.873Z"
   },
   {
    "duration": 10,
    "start_time": "2022-03-28T19:55:08.917Z"
   },
   {
    "duration": 6,
    "start_time": "2022-03-28T19:55:08.930Z"
   },
   {
    "duration": 198,
    "start_time": "2022-03-28T19:55:08.938Z"
   },
   {
    "duration": 12,
    "start_time": "2022-03-28T19:55:09.140Z"
   },
   {
    "duration": 21,
    "start_time": "2022-03-28T19:55:09.154Z"
   },
   {
    "duration": 38,
    "start_time": "2022-03-28T19:55:09.177Z"
   },
   {
    "duration": 5,
    "start_time": "2022-03-28T19:55:09.217Z"
   },
   {
    "duration": 13,
    "start_time": "2022-03-28T19:55:09.223Z"
   },
   {
    "duration": 13,
    "start_time": "2022-03-28T19:55:09.238Z"
   },
   {
    "duration": 9,
    "start_time": "2022-03-28T19:55:09.253Z"
   },
   {
    "duration": 40,
    "start_time": "2022-03-28T19:55:09.264Z"
   },
   {
    "duration": 123,
    "start_time": "2022-03-28T19:55:09.306Z"
   },
   {
    "duration": 228,
    "start_time": "2022-03-28T19:55:09.430Z"
   },
   {
    "duration": 7,
    "start_time": "2022-03-28T19:55:09.660Z"
   },
   {
    "duration": 577,
    "start_time": "2022-03-28T19:55:09.670Z"
   },
   {
    "duration": 618,
    "start_time": "2022-03-28T19:55:10.250Z"
   },
   {
    "duration": 6,
    "start_time": "2022-03-28T19:55:10.870Z"
   },
   {
    "duration": 25,
    "start_time": "2022-03-28T19:55:10.878Z"
   },
   {
    "duration": 13,
    "start_time": "2022-03-28T19:55:10.904Z"
   },
   {
    "duration": 7,
    "start_time": "2022-03-28T19:55:10.919Z"
   },
   {
    "duration": 310,
    "start_time": "2022-03-28T19:55:10.928Z"
   },
   {
    "duration": 306,
    "start_time": "2022-03-28T19:55:11.243Z"
   },
   {
    "duration": 234,
    "start_time": "2022-03-28T19:55:11.552Z"
   },
   {
    "duration": 16,
    "start_time": "2022-03-28T19:55:11.788Z"
   },
   {
    "duration": 235,
    "start_time": "2022-03-28T19:55:11.806Z"
   },
   {
    "duration": 171,
    "start_time": "2022-03-28T19:55:12.043Z"
   },
   {
    "duration": 169,
    "start_time": "2022-03-28T19:55:12.216Z"
   },
   {
    "duration": 167,
    "start_time": "2022-03-28T19:55:12.387Z"
   },
   {
    "duration": 169,
    "start_time": "2022-03-28T19:55:12.556Z"
   },
   {
    "duration": 216,
    "start_time": "2022-03-28T19:55:12.727Z"
   },
   {
    "duration": 223,
    "start_time": "2022-03-28T19:55:12.945Z"
   },
   {
    "duration": 237,
    "start_time": "2022-03-28T19:55:13.170Z"
   },
   {
    "duration": 152,
    "start_time": "2022-03-28T19:55:13.409Z"
   },
   {
    "duration": 152,
    "start_time": "2022-03-28T19:55:13.563Z"
   },
   {
    "duration": 26,
    "start_time": "2022-03-28T19:55:13.716Z"
   },
   {
    "duration": 390,
    "start_time": "2022-03-28T19:55:13.745Z"
   },
   {
    "duration": 46,
    "start_time": "2022-03-28T19:55:14.137Z"
   },
   {
    "duration": 477,
    "start_time": "2022-03-28T19:55:14.201Z"
   },
   {
    "duration": 506,
    "start_time": "2022-03-28T19:55:14.679Z"
   },
   {
    "duration": 845,
    "start_time": "2022-03-28T19:55:15.186Z"
   },
   {
    "duration": 9,
    "start_time": "2022-03-28T19:55:16.033Z"
   },
   {
    "duration": 11,
    "start_time": "2022-03-28T19:55:16.043Z"
   },
   {
    "duration": 6,
    "start_time": "2022-03-28T19:55:16.056Z"
   },
   {
    "duration": 40,
    "start_time": "2022-03-28T19:55:16.063Z"
   },
   {
    "duration": 9,
    "start_time": "2022-03-28T19:55:16.105Z"
   },
   {
    "duration": 9,
    "start_time": "2022-03-28T19:56:31.816Z"
   },
   {
    "duration": 1645,
    "start_time": "2022-03-28T19:56:38.529Z"
   },
   {
    "duration": 3,
    "start_time": "2022-03-28T19:56:40.178Z"
   },
   {
    "duration": 50,
    "start_time": "2022-03-28T19:56:40.183Z"
   },
   {
    "duration": 38,
    "start_time": "2022-03-28T19:56:40.236Z"
   },
   {
    "duration": 34,
    "start_time": "2022-03-28T19:56:40.276Z"
   },
   {
    "duration": 17,
    "start_time": "2022-03-28T19:56:40.312Z"
   },
   {
    "duration": 11,
    "start_time": "2022-03-28T19:56:40.331Z"
   },
   {
    "duration": 15,
    "start_time": "2022-03-28T19:56:40.344Z"
   },
   {
    "duration": 315,
    "start_time": "2022-03-28T19:56:40.361Z"
   },
   {
    "duration": 3,
    "start_time": "2022-03-28T19:56:40.681Z"
   },
   {
    "duration": 42,
    "start_time": "2022-03-28T19:56:40.687Z"
   },
   {
    "duration": 23,
    "start_time": "2022-03-28T19:56:40.731Z"
   },
   {
    "duration": 5,
    "start_time": "2022-03-28T19:56:40.756Z"
   },
   {
    "duration": 40,
    "start_time": "2022-03-28T19:56:40.764Z"
   },
   {
    "duration": 21,
    "start_time": "2022-03-28T19:56:40.806Z"
   },
   {
    "duration": 12,
    "start_time": "2022-03-28T19:56:40.829Z"
   },
   {
    "duration": 12,
    "start_time": "2022-03-28T19:56:40.843Z"
   },
   {
    "duration": 119,
    "start_time": "2022-03-28T19:56:40.857Z"
   },
   {
    "duration": 219,
    "start_time": "2022-03-28T19:56:40.978Z"
   },
   {
    "duration": 9,
    "start_time": "2022-03-28T19:56:41.200Z"
   },
   {
    "duration": 646,
    "start_time": "2022-03-28T19:56:41.212Z"
   },
   {
    "duration": 620,
    "start_time": "2022-03-28T19:56:41.860Z"
   },
   {
    "duration": 6,
    "start_time": "2022-03-28T19:56:42.482Z"
   },
   {
    "duration": 9,
    "start_time": "2022-03-28T19:56:42.502Z"
   },
   {
    "duration": 11,
    "start_time": "2022-03-28T19:56:42.513Z"
   },
   {
    "duration": 8,
    "start_time": "2022-03-28T19:56:42.527Z"
   },
   {
    "duration": 448,
    "start_time": "2022-03-28T19:56:42.537Z"
   },
   {
    "duration": 298,
    "start_time": "2022-03-28T19:56:42.990Z"
   },
   {
    "duration": 307,
    "start_time": "2022-03-28T19:56:43.302Z"
   },
   {
    "duration": 6,
    "start_time": "2022-03-28T19:56:43.612Z"
   },
   {
    "duration": 350,
    "start_time": "2022-03-28T19:56:43.621Z"
   },
   {
    "duration": 159,
    "start_time": "2022-03-28T19:56:43.973Z"
   },
   {
    "duration": 165,
    "start_time": "2022-03-28T19:56:44.134Z"
   },
   {
    "duration": 160,
    "start_time": "2022-03-28T19:56:44.301Z"
   },
   {
    "duration": 232,
    "start_time": "2022-03-28T19:56:44.463Z"
   },
   {
    "duration": 221,
    "start_time": "2022-03-28T19:56:44.701Z"
   },
   {
    "duration": 227,
    "start_time": "2022-03-28T19:56:44.924Z"
   },
   {
    "duration": 245,
    "start_time": "2022-03-28T19:56:45.153Z"
   },
   {
    "duration": 154,
    "start_time": "2022-03-28T19:56:45.401Z"
   },
   {
    "duration": 225,
    "start_time": "2022-03-28T19:56:45.557Z"
   },
   {
    "duration": 38,
    "start_time": "2022-03-28T19:56:45.785Z"
   },
   {
    "duration": 432,
    "start_time": "2022-03-28T19:56:45.826Z"
   },
   {
    "duration": 64,
    "start_time": "2022-03-28T19:56:46.259Z"
   },
   {
    "duration": 508,
    "start_time": "2022-03-28T19:56:46.325Z"
   },
   {
    "duration": 530,
    "start_time": "2022-03-28T19:56:46.835Z"
   },
   {
    "duration": 873,
    "start_time": "2022-03-28T19:56:47.367Z"
   },
   {
    "duration": 9,
    "start_time": "2022-03-28T19:56:48.242Z"
   },
   {
    "duration": 14,
    "start_time": "2022-03-28T19:56:48.253Z"
   },
   {
    "duration": 5,
    "start_time": "2022-03-28T19:56:48.269Z"
   },
   {
    "duration": 11,
    "start_time": "2022-03-28T19:56:48.301Z"
   },
   {
    "duration": 12,
    "start_time": "2022-03-28T19:56:48.314Z"
   },
   {
    "duration": 3,
    "start_time": "2022-03-28T19:57:38.167Z"
   },
   {
    "duration": 165,
    "start_time": "2022-03-28T20:00:08.085Z"
   },
   {
    "duration": 4,
    "start_time": "2022-03-28T20:01:30.582Z"
   },
   {
    "duration": 18,
    "start_time": "2022-03-28T20:01:34.072Z"
   },
   {
    "duration": 1265,
    "start_time": "2022-03-28T20:02:29.353Z"
   },
   {
    "duration": 3,
    "start_time": "2022-03-28T20:02:30.620Z"
   },
   {
    "duration": 58,
    "start_time": "2022-03-28T20:02:30.624Z"
   },
   {
    "duration": 39,
    "start_time": "2022-03-28T20:02:30.684Z"
   },
   {
    "duration": 14,
    "start_time": "2022-03-28T20:02:30.725Z"
   },
   {
    "duration": 16,
    "start_time": "2022-03-28T20:02:30.741Z"
   },
   {
    "duration": 8,
    "start_time": "2022-03-28T20:02:30.759Z"
   },
   {
    "duration": 37,
    "start_time": "2022-03-28T20:02:30.770Z"
   },
   {
    "duration": 200,
    "start_time": "2022-03-28T20:02:30.810Z"
   },
   {
    "duration": 8,
    "start_time": "2022-03-28T20:02:31.015Z"
   },
   {
    "duration": 31,
    "start_time": "2022-03-28T20:02:31.025Z"
   },
   {
    "duration": 15,
    "start_time": "2022-03-28T20:02:31.058Z"
   },
   {
    "duration": 7,
    "start_time": "2022-03-28T20:02:31.101Z"
   },
   {
    "duration": 12,
    "start_time": "2022-03-28T20:02:31.110Z"
   },
   {
    "duration": 14,
    "start_time": "2022-03-28T20:02:31.124Z"
   },
   {
    "duration": 11,
    "start_time": "2022-03-28T20:02:31.140Z"
   },
   {
    "duration": 11,
    "start_time": "2022-03-28T20:02:31.153Z"
   },
   {
    "duration": 155,
    "start_time": "2022-03-28T20:02:31.166Z"
   },
   {
    "duration": 195,
    "start_time": "2022-03-28T20:02:31.323Z"
   },
   {
    "duration": 10,
    "start_time": "2022-03-28T20:02:31.520Z"
   },
   {
    "duration": 635,
    "start_time": "2022-03-28T20:02:31.532Z"
   },
   {
    "duration": 609,
    "start_time": "2022-03-28T20:02:32.170Z"
   },
   {
    "duration": 6,
    "start_time": "2022-03-28T20:02:32.781Z"
   },
   {
    "duration": 8,
    "start_time": "2022-03-28T20:02:32.801Z"
   },
   {
    "duration": 7,
    "start_time": "2022-03-28T20:02:32.811Z"
   },
   {
    "duration": 9,
    "start_time": "2022-03-28T20:02:32.820Z"
   },
   {
    "duration": 433,
    "start_time": "2022-03-28T20:02:32.831Z"
   },
   {
    "duration": 293,
    "start_time": "2022-03-28T20:02:33.270Z"
   },
   {
    "duration": 231,
    "start_time": "2022-03-28T20:02:33.565Z"
   },
   {
    "duration": 5,
    "start_time": "2022-03-28T20:02:33.798Z"
   },
   {
    "duration": 241,
    "start_time": "2022-03-28T20:02:33.805Z"
   },
   {
    "duration": 157,
    "start_time": "2022-03-28T20:02:34.047Z"
   },
   {
    "duration": 155,
    "start_time": "2022-03-28T20:02:34.206Z"
   },
   {
    "duration": 159,
    "start_time": "2022-03-28T20:02:34.363Z"
   },
   {
    "duration": 160,
    "start_time": "2022-03-28T20:02:34.523Z"
   },
   {
    "duration": 162,
    "start_time": "2022-03-28T20:02:34.685Z"
   },
   {
    "duration": 149,
    "start_time": "2022-03-28T20:02:34.849Z"
   },
   {
    "duration": 161,
    "start_time": "2022-03-28T20:02:35.002Z"
   },
   {
    "duration": 160,
    "start_time": "2022-03-28T20:02:35.165Z"
   },
   {
    "duration": 152,
    "start_time": "2022-03-28T20:02:35.327Z"
   },
   {
    "duration": 38,
    "start_time": "2022-03-28T20:02:35.481Z"
   },
   {
    "duration": 387,
    "start_time": "2022-03-28T20:02:35.522Z"
   },
   {
    "duration": 47,
    "start_time": "2022-03-28T20:02:35.911Z"
   },
   {
    "duration": 504,
    "start_time": "2022-03-28T20:02:35.960Z"
   },
   {
    "duration": 547,
    "start_time": "2022-03-28T20:02:36.466Z"
   },
   {
    "duration": 836,
    "start_time": "2022-03-28T20:02:37.015Z"
   },
   {
    "duration": 10,
    "start_time": "2022-03-28T20:02:37.853Z"
   },
   {
    "duration": 16,
    "start_time": "2022-03-28T20:02:37.864Z"
   },
   {
    "duration": 6,
    "start_time": "2022-03-28T20:02:37.902Z"
   },
   {
    "duration": 14,
    "start_time": "2022-03-28T20:02:37.910Z"
   },
   {
    "duration": 11,
    "start_time": "2022-03-28T20:02:37.926Z"
   },
   {
    "duration": 6,
    "start_time": "2022-03-28T20:03:13.327Z"
   },
   {
    "duration": 38,
    "start_time": "2022-03-28T20:16:13.640Z"
   },
   {
    "duration": 11,
    "start_time": "2022-03-28T20:17:10.116Z"
   },
   {
    "duration": 5,
    "start_time": "2022-03-28T20:17:23.124Z"
   },
   {
    "duration": 8,
    "start_time": "2022-03-28T20:17:48.627Z"
   },
   {
    "duration": 17,
    "start_time": "2022-03-28T20:20:03.001Z"
   },
   {
    "duration": 28,
    "start_time": "2022-03-28T20:20:13.968Z"
   },
   {
    "duration": 5,
    "start_time": "2022-03-28T20:22:38.095Z"
   },
   {
    "duration": 27,
    "start_time": "2022-03-28T20:23:17.856Z"
   },
   {
    "duration": 1676,
    "start_time": "2022-03-28T20:42:16.930Z"
   },
   {
    "duration": 3,
    "start_time": "2022-03-28T20:42:18.609Z"
   },
   {
    "duration": 65,
    "start_time": "2022-03-28T20:42:18.614Z"
   },
   {
    "duration": 58,
    "start_time": "2022-03-28T20:42:18.682Z"
   },
   {
    "duration": 15,
    "start_time": "2022-03-28T20:42:18.743Z"
   },
   {
    "duration": 16,
    "start_time": "2022-03-28T20:42:18.759Z"
   },
   {
    "duration": 8,
    "start_time": "2022-03-28T20:42:18.801Z"
   },
   {
    "duration": 12,
    "start_time": "2022-03-28T20:42:18.811Z"
   },
   {
    "duration": 198,
    "start_time": "2022-03-28T20:42:18.825Z"
   },
   {
    "duration": 6,
    "start_time": "2022-03-28T20:42:19.026Z"
   },
   {
    "duration": 20,
    "start_time": "2022-03-28T20:42:19.034Z"
   },
   {
    "duration": 9,
    "start_time": "2022-03-28T20:42:19.056Z"
   },
   {
    "duration": 47,
    "start_time": "2022-03-28T20:42:19.067Z"
   },
   {
    "duration": 5,
    "start_time": "2022-03-28T20:42:19.116Z"
   },
   {
    "duration": 18,
    "start_time": "2022-03-28T20:42:19.122Z"
   },
   {
    "duration": 9,
    "start_time": "2022-03-28T20:42:19.142Z"
   },
   {
    "duration": 9,
    "start_time": "2022-03-28T20:42:19.153Z"
   },
   {
    "duration": 38,
    "start_time": "2022-03-28T20:42:19.163Z"
   },
   {
    "duration": 211,
    "start_time": "2022-03-28T20:42:19.203Z"
   },
   {
    "duration": 0,
    "start_time": "2022-03-28T20:42:19.417Z"
   },
   {
    "duration": 0,
    "start_time": "2022-03-28T20:42:19.418Z"
   },
   {
    "duration": 0,
    "start_time": "2022-03-28T20:42:19.420Z"
   },
   {
    "duration": 0,
    "start_time": "2022-03-28T20:42:19.421Z"
   },
   {
    "duration": 0,
    "start_time": "2022-03-28T20:42:19.423Z"
   },
   {
    "duration": 0,
    "start_time": "2022-03-28T20:42:19.424Z"
   },
   {
    "duration": 0,
    "start_time": "2022-03-28T20:42:19.426Z"
   },
   {
    "duration": 0,
    "start_time": "2022-03-28T20:42:19.427Z"
   },
   {
    "duration": 0,
    "start_time": "2022-03-28T20:42:19.429Z"
   },
   {
    "duration": 0,
    "start_time": "2022-03-28T20:42:19.430Z"
   },
   {
    "duration": 0,
    "start_time": "2022-03-28T20:42:19.431Z"
   },
   {
    "duration": 0,
    "start_time": "2022-03-28T20:42:19.435Z"
   },
   {
    "duration": 0,
    "start_time": "2022-03-28T20:42:19.436Z"
   },
   {
    "duration": 0,
    "start_time": "2022-03-28T20:42:19.438Z"
   },
   {
    "duration": 0,
    "start_time": "2022-03-28T20:42:19.439Z"
   },
   {
    "duration": 0,
    "start_time": "2022-03-28T20:42:19.441Z"
   },
   {
    "duration": 0,
    "start_time": "2022-03-28T20:42:19.443Z"
   },
   {
    "duration": 0,
    "start_time": "2022-03-28T20:42:19.444Z"
   },
   {
    "duration": 0,
    "start_time": "2022-03-28T20:42:19.446Z"
   },
   {
    "duration": 0,
    "start_time": "2022-03-28T20:42:19.447Z"
   },
   {
    "duration": 0,
    "start_time": "2022-03-28T20:42:19.448Z"
   },
   {
    "duration": 0,
    "start_time": "2022-03-28T20:42:19.450Z"
   },
   {
    "duration": 0,
    "start_time": "2022-03-28T20:42:19.451Z"
   },
   {
    "duration": 0,
    "start_time": "2022-03-28T20:42:19.501Z"
   },
   {
    "duration": 0,
    "start_time": "2022-03-28T20:42:19.504Z"
   },
   {
    "duration": 0,
    "start_time": "2022-03-28T20:42:19.505Z"
   },
   {
    "duration": 0,
    "start_time": "2022-03-28T20:42:19.507Z"
   },
   {
    "duration": 1,
    "start_time": "2022-03-28T20:42:19.508Z"
   },
   {
    "duration": 0,
    "start_time": "2022-03-28T20:42:19.510Z"
   },
   {
    "duration": 0,
    "start_time": "2022-03-28T20:42:19.511Z"
   },
   {
    "duration": 0,
    "start_time": "2022-03-28T20:42:19.513Z"
   },
   {
    "duration": 0,
    "start_time": "2022-03-28T20:42:19.514Z"
   },
   {
    "duration": 0,
    "start_time": "2022-03-28T20:42:19.516Z"
   },
   {
    "duration": 16,
    "start_time": "2022-03-28T20:43:13.753Z"
   },
   {
    "duration": 8,
    "start_time": "2022-03-28T20:43:35.424Z"
   },
   {
    "duration": 12,
    "start_time": "2022-03-28T20:43:47.766Z"
   },
   {
    "duration": 8,
    "start_time": "2022-03-28T20:44:14.318Z"
   },
   {
    "duration": 6,
    "start_time": "2022-03-28T20:44:41.313Z"
   },
   {
    "duration": 19,
    "start_time": "2022-03-28T20:44:43.363Z"
   },
   {
    "duration": 1287,
    "start_time": "2022-03-28T20:44:50.000Z"
   },
   {
    "duration": 3,
    "start_time": "2022-03-28T20:44:51.289Z"
   },
   {
    "duration": 53,
    "start_time": "2022-03-28T20:44:51.294Z"
   },
   {
    "duration": 40,
    "start_time": "2022-03-28T20:44:51.350Z"
   },
   {
    "duration": 18,
    "start_time": "2022-03-28T20:44:51.392Z"
   },
   {
    "duration": 17,
    "start_time": "2022-03-28T20:44:51.412Z"
   },
   {
    "duration": 13,
    "start_time": "2022-03-28T20:44:51.430Z"
   },
   {
    "duration": 12,
    "start_time": "2022-03-28T20:44:51.445Z"
   },
   {
    "duration": 204,
    "start_time": "2022-03-28T20:44:51.459Z"
   },
   {
    "duration": 6,
    "start_time": "2022-03-28T20:44:51.666Z"
   },
   {
    "duration": 38,
    "start_time": "2022-03-28T20:44:51.674Z"
   },
   {
    "duration": 8,
    "start_time": "2022-03-28T20:44:51.714Z"
   },
   {
    "duration": 20,
    "start_time": "2022-03-28T20:44:51.724Z"
   },
   {
    "duration": 5,
    "start_time": "2022-03-28T20:44:51.746Z"
   },
   {
    "duration": 15,
    "start_time": "2022-03-28T20:44:51.753Z"
   },
   {
    "duration": 38,
    "start_time": "2022-03-28T20:44:51.770Z"
   },
   {
    "duration": 11,
    "start_time": "2022-03-28T20:44:51.810Z"
   },
   {
    "duration": 14,
    "start_time": "2022-03-28T20:44:51.823Z"
   },
   {
    "duration": 8,
    "start_time": "2022-03-28T20:44:51.838Z"
   },
   {
    "duration": 224,
    "start_time": "2022-03-28T20:44:51.848Z"
   },
   {
    "duration": 0,
    "start_time": "2022-03-28T20:44:52.075Z"
   },
   {
    "duration": 0,
    "start_time": "2022-03-28T20:44:52.076Z"
   },
   {
    "duration": 0,
    "start_time": "2022-03-28T20:44:52.079Z"
   },
   {
    "duration": 0,
    "start_time": "2022-03-28T20:44:52.081Z"
   },
   {
    "duration": 0,
    "start_time": "2022-03-28T20:44:52.082Z"
   },
   {
    "duration": 0,
    "start_time": "2022-03-28T20:44:52.084Z"
   },
   {
    "duration": 0,
    "start_time": "2022-03-28T20:44:52.101Z"
   },
   {
    "duration": 0,
    "start_time": "2022-03-28T20:44:52.103Z"
   },
   {
    "duration": 0,
    "start_time": "2022-03-28T20:44:52.105Z"
   },
   {
    "duration": 0,
    "start_time": "2022-03-28T20:44:52.106Z"
   },
   {
    "duration": 0,
    "start_time": "2022-03-28T20:44:52.108Z"
   },
   {
    "duration": 0,
    "start_time": "2022-03-28T20:44:52.109Z"
   },
   {
    "duration": 0,
    "start_time": "2022-03-28T20:44:52.111Z"
   },
   {
    "duration": 0,
    "start_time": "2022-03-28T20:44:52.114Z"
   },
   {
    "duration": 0,
    "start_time": "2022-03-28T20:44:52.115Z"
   },
   {
    "duration": 0,
    "start_time": "2022-03-28T20:44:52.117Z"
   },
   {
    "duration": 0,
    "start_time": "2022-03-28T20:44:52.118Z"
   },
   {
    "duration": 0,
    "start_time": "2022-03-28T20:44:52.119Z"
   },
   {
    "duration": 0,
    "start_time": "2022-03-28T20:44:52.120Z"
   },
   {
    "duration": 0,
    "start_time": "2022-03-28T20:44:52.121Z"
   },
   {
    "duration": 0,
    "start_time": "2022-03-28T20:44:52.122Z"
   },
   {
    "duration": 0,
    "start_time": "2022-03-28T20:44:52.123Z"
   },
   {
    "duration": 0,
    "start_time": "2022-03-28T20:44:52.124Z"
   },
   {
    "duration": 0,
    "start_time": "2022-03-28T20:44:52.125Z"
   },
   {
    "duration": 0,
    "start_time": "2022-03-28T20:44:52.126Z"
   },
   {
    "duration": 0,
    "start_time": "2022-03-28T20:44:52.127Z"
   },
   {
    "duration": 0,
    "start_time": "2022-03-28T20:44:52.128Z"
   },
   {
    "duration": 0,
    "start_time": "2022-03-28T20:44:52.129Z"
   },
   {
    "duration": 0,
    "start_time": "2022-03-28T20:44:52.130Z"
   },
   {
    "duration": 0,
    "start_time": "2022-03-28T20:44:52.131Z"
   },
   {
    "duration": 1,
    "start_time": "2022-03-28T20:44:52.132Z"
   },
   {
    "duration": 0,
    "start_time": "2022-03-28T20:44:52.134Z"
   },
   {
    "duration": 0,
    "start_time": "2022-03-28T20:44:52.135Z"
   },
   {
    "duration": 26,
    "start_time": "2022-03-28T20:45:31.761Z"
   },
   {
    "duration": 8,
    "start_time": "2022-03-28T20:46:56.430Z"
   },
   {
    "duration": 8,
    "start_time": "2022-03-28T20:48:48.339Z"
   },
   {
    "duration": 9,
    "start_time": "2022-03-28T20:49:34.869Z"
   },
   {
    "duration": 4,
    "start_time": "2022-03-28T20:51:11.522Z"
   },
   {
    "duration": 10,
    "start_time": "2022-03-28T20:51:24.858Z"
   },
   {
    "duration": 8,
    "start_time": "2022-03-28T20:51:32.220Z"
   },
   {
    "duration": 17,
    "start_time": "2022-03-28T20:51:38.684Z"
   },
   {
    "duration": 4,
    "start_time": "2022-03-28T20:53:38.352Z"
   },
   {
    "duration": 125,
    "start_time": "2022-03-28T20:53:49.807Z"
   },
   {
    "duration": 15,
    "start_time": "2022-03-28T20:54:01.190Z"
   },
   {
    "duration": 29,
    "start_time": "2022-03-28T20:56:52.485Z"
   },
   {
    "duration": 1260,
    "start_time": "2022-03-28T20:57:04.828Z"
   },
   {
    "duration": 3,
    "start_time": "2022-03-28T20:57:06.090Z"
   },
   {
    "duration": 59,
    "start_time": "2022-03-28T20:57:06.095Z"
   },
   {
    "duration": 40,
    "start_time": "2022-03-28T20:57:06.156Z"
   },
   {
    "duration": 15,
    "start_time": "2022-03-28T20:57:06.198Z"
   },
   {
    "duration": 19,
    "start_time": "2022-03-28T20:57:06.215Z"
   },
   {
    "duration": 33,
    "start_time": "2022-03-28T20:57:06.236Z"
   },
   {
    "duration": 13,
    "start_time": "2022-03-28T20:57:06.302Z"
   },
   {
    "duration": 194,
    "start_time": "2022-03-28T20:57:06.317Z"
   },
   {
    "duration": 6,
    "start_time": "2022-03-28T20:57:06.515Z"
   },
   {
    "duration": 24,
    "start_time": "2022-03-28T20:57:06.523Z"
   },
   {
    "duration": 8,
    "start_time": "2022-03-28T20:57:06.549Z"
   },
   {
    "duration": 45,
    "start_time": "2022-03-28T20:57:06.558Z"
   },
   {
    "duration": 5,
    "start_time": "2022-03-28T20:57:06.605Z"
   },
   {
    "duration": 15,
    "start_time": "2022-03-28T20:57:06.612Z"
   },
   {
    "duration": 16,
    "start_time": "2022-03-28T20:57:06.629Z"
   },
   {
    "duration": 14,
    "start_time": "2022-03-28T20:57:06.647Z"
   },
   {
    "duration": 39,
    "start_time": "2022-03-28T20:57:06.663Z"
   },
   {
    "duration": 11,
    "start_time": "2022-03-28T20:57:06.704Z"
   },
   {
    "duration": 7,
    "start_time": "2022-03-28T20:57:06.717Z"
   },
   {
    "duration": 10,
    "start_time": "2022-03-28T20:57:06.725Z"
   },
   {
    "duration": 229,
    "start_time": "2022-03-28T20:57:06.736Z"
   },
   {
    "duration": 0,
    "start_time": "2022-03-28T20:57:06.967Z"
   },
   {
    "duration": 0,
    "start_time": "2022-03-28T20:57:06.968Z"
   },
   {
    "duration": 0,
    "start_time": "2022-03-28T20:57:06.969Z"
   },
   {
    "duration": 0,
    "start_time": "2022-03-28T20:57:06.970Z"
   },
   {
    "duration": 0,
    "start_time": "2022-03-28T20:57:06.971Z"
   },
   {
    "duration": 0,
    "start_time": "2022-03-28T20:57:06.972Z"
   },
   {
    "duration": 0,
    "start_time": "2022-03-28T20:57:06.973Z"
   },
   {
    "duration": 0,
    "start_time": "2022-03-28T20:57:06.974Z"
   },
   {
    "duration": 0,
    "start_time": "2022-03-28T20:57:06.975Z"
   },
   {
    "duration": 0,
    "start_time": "2022-03-28T20:57:06.977Z"
   },
   {
    "duration": 0,
    "start_time": "2022-03-28T20:57:06.978Z"
   },
   {
    "duration": 0,
    "start_time": "2022-03-28T20:57:06.979Z"
   },
   {
    "duration": 0,
    "start_time": "2022-03-28T20:57:07.002Z"
   },
   {
    "duration": 0,
    "start_time": "2022-03-28T20:57:07.003Z"
   },
   {
    "duration": 0,
    "start_time": "2022-03-28T20:57:07.006Z"
   },
   {
    "duration": 0,
    "start_time": "2022-03-28T20:57:07.007Z"
   },
   {
    "duration": 0,
    "start_time": "2022-03-28T20:57:07.008Z"
   },
   {
    "duration": 0,
    "start_time": "2022-03-28T20:57:07.009Z"
   },
   {
    "duration": 0,
    "start_time": "2022-03-28T20:57:07.010Z"
   },
   {
    "duration": 0,
    "start_time": "2022-03-28T20:57:07.011Z"
   },
   {
    "duration": 0,
    "start_time": "2022-03-28T20:57:07.013Z"
   },
   {
    "duration": 0,
    "start_time": "2022-03-28T20:57:07.014Z"
   },
   {
    "duration": 0,
    "start_time": "2022-03-28T20:57:07.015Z"
   },
   {
    "duration": 0,
    "start_time": "2022-03-28T20:57:07.016Z"
   },
   {
    "duration": 0,
    "start_time": "2022-03-28T20:57:07.017Z"
   },
   {
    "duration": 0,
    "start_time": "2022-03-28T20:57:07.018Z"
   },
   {
    "duration": 0,
    "start_time": "2022-03-28T20:57:07.019Z"
   },
   {
    "duration": 0,
    "start_time": "2022-03-28T20:57:07.020Z"
   },
   {
    "duration": 0,
    "start_time": "2022-03-28T20:57:07.021Z"
   },
   {
    "duration": 0,
    "start_time": "2022-03-28T20:57:07.022Z"
   },
   {
    "duration": 0,
    "start_time": "2022-03-28T20:57:07.024Z"
   },
   {
    "duration": 0,
    "start_time": "2022-03-28T20:57:07.025Z"
   },
   {
    "duration": 0,
    "start_time": "2022-03-28T20:57:07.026Z"
   },
   {
    "duration": 18,
    "start_time": "2022-03-28T20:58:12.615Z"
   },
   {
    "duration": 1281,
    "start_time": "2022-03-28T20:58:23.587Z"
   },
   {
    "duration": 2,
    "start_time": "2022-03-28T20:58:24.870Z"
   },
   {
    "duration": 44,
    "start_time": "2022-03-28T20:58:24.874Z"
   },
   {
    "duration": 37,
    "start_time": "2022-03-28T20:58:24.921Z"
   },
   {
    "duration": 13,
    "start_time": "2022-03-28T20:58:24.960Z"
   },
   {
    "duration": 36,
    "start_time": "2022-03-28T20:58:24.975Z"
   },
   {
    "duration": 43,
    "start_time": "2022-03-28T20:58:25.013Z"
   },
   {
    "duration": 11,
    "start_time": "2022-03-28T20:58:25.058Z"
   },
   {
    "duration": 193,
    "start_time": "2022-03-28T20:58:25.071Z"
   },
   {
    "duration": 6,
    "start_time": "2022-03-28T20:58:25.267Z"
   },
   {
    "duration": 38,
    "start_time": "2022-03-28T20:58:25.275Z"
   },
   {
    "duration": 8,
    "start_time": "2022-03-28T20:58:25.315Z"
   },
   {
    "duration": 18,
    "start_time": "2022-03-28T20:58:25.325Z"
   },
   {
    "duration": 5,
    "start_time": "2022-03-28T20:58:25.345Z"
   },
   {
    "duration": 9,
    "start_time": "2022-03-28T20:58:25.352Z"
   },
   {
    "duration": 45,
    "start_time": "2022-03-28T20:58:25.363Z"
   },
   {
    "duration": 14,
    "start_time": "2022-03-28T20:58:25.410Z"
   },
   {
    "duration": 12,
    "start_time": "2022-03-28T20:58:25.426Z"
   },
   {
    "duration": 10,
    "start_time": "2022-03-28T20:58:25.440Z"
   },
   {
    "duration": 8,
    "start_time": "2022-03-28T20:58:25.452Z"
   },
   {
    "duration": 39,
    "start_time": "2022-03-28T20:58:25.462Z"
   },
   {
    "duration": 188,
    "start_time": "2022-03-28T20:58:25.503Z"
   },
   {
    "duration": 0,
    "start_time": "2022-03-28T20:58:25.693Z"
   },
   {
    "duration": 0,
    "start_time": "2022-03-28T20:58:25.695Z"
   },
   {
    "duration": 0,
    "start_time": "2022-03-28T20:58:25.701Z"
   },
   {
    "duration": 0,
    "start_time": "2022-03-28T20:58:25.702Z"
   },
   {
    "duration": 0,
    "start_time": "2022-03-28T20:58:25.703Z"
   },
   {
    "duration": 0,
    "start_time": "2022-03-28T20:58:25.704Z"
   },
   {
    "duration": 0,
    "start_time": "2022-03-28T20:58:25.705Z"
   },
   {
    "duration": 0,
    "start_time": "2022-03-28T20:58:25.706Z"
   },
   {
    "duration": 0,
    "start_time": "2022-03-28T20:58:25.707Z"
   },
   {
    "duration": 0,
    "start_time": "2022-03-28T20:58:25.709Z"
   },
   {
    "duration": 0,
    "start_time": "2022-03-28T20:58:25.710Z"
   },
   {
    "duration": 0,
    "start_time": "2022-03-28T20:58:25.711Z"
   },
   {
    "duration": 0,
    "start_time": "2022-03-28T20:58:25.712Z"
   },
   {
    "duration": 0,
    "start_time": "2022-03-28T20:58:25.713Z"
   },
   {
    "duration": 0,
    "start_time": "2022-03-28T20:58:25.714Z"
   },
   {
    "duration": 0,
    "start_time": "2022-03-28T20:58:25.715Z"
   },
   {
    "duration": 0,
    "start_time": "2022-03-28T20:58:25.716Z"
   },
   {
    "duration": 0,
    "start_time": "2022-03-28T20:58:25.717Z"
   },
   {
    "duration": 0,
    "start_time": "2022-03-28T20:58:25.718Z"
   },
   {
    "duration": 0,
    "start_time": "2022-03-28T20:58:25.719Z"
   },
   {
    "duration": 0,
    "start_time": "2022-03-28T20:58:25.720Z"
   },
   {
    "duration": 0,
    "start_time": "2022-03-28T20:58:25.722Z"
   },
   {
    "duration": 0,
    "start_time": "2022-03-28T20:58:25.723Z"
   },
   {
    "duration": 0,
    "start_time": "2022-03-28T20:58:25.724Z"
   },
   {
    "duration": 0,
    "start_time": "2022-03-28T20:58:25.725Z"
   },
   {
    "duration": 0,
    "start_time": "2022-03-28T20:58:25.726Z"
   },
   {
    "duration": 0,
    "start_time": "2022-03-28T20:58:25.726Z"
   },
   {
    "duration": 0,
    "start_time": "2022-03-28T20:58:25.727Z"
   },
   {
    "duration": 0,
    "start_time": "2022-03-28T20:58:25.728Z"
   },
   {
    "duration": 0,
    "start_time": "2022-03-28T20:58:25.729Z"
   },
   {
    "duration": 0,
    "start_time": "2022-03-28T20:58:25.730Z"
   },
   {
    "duration": 0,
    "start_time": "2022-03-28T20:58:25.731Z"
   },
   {
    "duration": 0,
    "start_time": "2022-03-28T20:58:25.732Z"
   },
   {
    "duration": 1318,
    "start_time": "2022-03-28T21:09:54.288Z"
   },
   {
    "duration": 3,
    "start_time": "2022-03-28T21:09:55.608Z"
   },
   {
    "duration": 51,
    "start_time": "2022-03-28T21:09:55.613Z"
   },
   {
    "duration": 41,
    "start_time": "2022-03-28T21:09:55.667Z"
   },
   {
    "duration": 15,
    "start_time": "2022-03-28T21:09:55.709Z"
   },
   {
    "duration": 20,
    "start_time": "2022-03-28T21:09:55.726Z"
   },
   {
    "duration": 12,
    "start_time": "2022-03-28T21:09:55.748Z"
   },
   {
    "duration": 43,
    "start_time": "2022-03-28T21:09:55.762Z"
   },
   {
    "duration": 186,
    "start_time": "2022-03-28T21:09:55.807Z"
   },
   {
    "duration": 8,
    "start_time": "2022-03-28T21:09:56.000Z"
   },
   {
    "duration": 32,
    "start_time": "2022-03-28T21:09:56.010Z"
   },
   {
    "duration": 9,
    "start_time": "2022-03-28T21:09:56.045Z"
   },
   {
    "duration": 23,
    "start_time": "2022-03-28T21:09:56.057Z"
   },
   {
    "duration": 5,
    "start_time": "2022-03-28T21:09:56.100Z"
   },
   {
    "duration": 10,
    "start_time": "2022-03-28T21:09:56.108Z"
   },
   {
    "duration": 11,
    "start_time": "2022-03-28T21:09:56.119Z"
   },
   {
    "duration": 15,
    "start_time": "2022-03-28T21:09:56.132Z"
   },
   {
    "duration": 19,
    "start_time": "2022-03-28T21:09:56.148Z"
   },
   {
    "duration": 42,
    "start_time": "2022-03-28T21:09:56.169Z"
   },
   {
    "duration": 9,
    "start_time": "2022-03-28T21:09:56.213Z"
   },
   {
    "duration": 6,
    "start_time": "2022-03-28T21:09:56.224Z"
   },
   {
    "duration": 225,
    "start_time": "2022-03-28T21:09:56.232Z"
   },
   {
    "duration": 0,
    "start_time": "2022-03-28T21:09:56.460Z"
   },
   {
    "duration": 0,
    "start_time": "2022-03-28T21:09:56.462Z"
   },
   {
    "duration": 0,
    "start_time": "2022-03-28T21:09:56.463Z"
   },
   {
    "duration": 0,
    "start_time": "2022-03-28T21:09:56.464Z"
   },
   {
    "duration": 0,
    "start_time": "2022-03-28T21:09:56.465Z"
   },
   {
    "duration": 0,
    "start_time": "2022-03-28T21:09:56.466Z"
   },
   {
    "duration": 0,
    "start_time": "2022-03-28T21:09:56.467Z"
   },
   {
    "duration": 0,
    "start_time": "2022-03-28T21:09:56.468Z"
   },
   {
    "duration": 0,
    "start_time": "2022-03-28T21:09:56.469Z"
   },
   {
    "duration": 0,
    "start_time": "2022-03-28T21:09:56.470Z"
   },
   {
    "duration": 0,
    "start_time": "2022-03-28T21:09:56.472Z"
   },
   {
    "duration": 0,
    "start_time": "2022-03-28T21:09:56.474Z"
   },
   {
    "duration": 0,
    "start_time": "2022-03-28T21:09:56.475Z"
   },
   {
    "duration": 0,
    "start_time": "2022-03-28T21:09:56.503Z"
   },
   {
    "duration": 0,
    "start_time": "2022-03-28T21:09:56.504Z"
   },
   {
    "duration": 0,
    "start_time": "2022-03-28T21:09:56.505Z"
   },
   {
    "duration": 0,
    "start_time": "2022-03-28T21:09:56.507Z"
   },
   {
    "duration": 0,
    "start_time": "2022-03-28T21:09:56.507Z"
   },
   {
    "duration": 0,
    "start_time": "2022-03-28T21:09:56.509Z"
   },
   {
    "duration": 0,
    "start_time": "2022-03-28T21:09:56.510Z"
   },
   {
    "duration": 0,
    "start_time": "2022-03-28T21:09:56.512Z"
   },
   {
    "duration": 0,
    "start_time": "2022-03-28T21:09:56.513Z"
   },
   {
    "duration": 0,
    "start_time": "2022-03-28T21:09:56.514Z"
   },
   {
    "duration": 0,
    "start_time": "2022-03-28T21:09:56.516Z"
   },
   {
    "duration": 0,
    "start_time": "2022-03-28T21:09:56.516Z"
   },
   {
    "duration": 0,
    "start_time": "2022-03-28T21:09:56.518Z"
   },
   {
    "duration": 0,
    "start_time": "2022-03-28T21:09:56.519Z"
   },
   {
    "duration": 0,
    "start_time": "2022-03-28T21:09:56.520Z"
   },
   {
    "duration": 0,
    "start_time": "2022-03-28T21:09:56.522Z"
   },
   {
    "duration": 0,
    "start_time": "2022-03-28T21:09:56.523Z"
   },
   {
    "duration": 0,
    "start_time": "2022-03-28T21:09:56.525Z"
   },
   {
    "duration": 0,
    "start_time": "2022-03-28T21:09:56.525Z"
   },
   {
    "duration": 0,
    "start_time": "2022-03-28T21:09:56.527Z"
   },
   {
    "duration": 8,
    "start_time": "2022-03-28T21:14:19.414Z"
   },
   {
    "duration": 128,
    "start_time": "2022-03-28T21:14:24.193Z"
   },
   {
    "duration": 13,
    "start_time": "2022-03-28T21:16:53.091Z"
   },
   {
    "duration": 9,
    "start_time": "2022-03-28T21:16:57.698Z"
   },
   {
    "duration": 10,
    "start_time": "2022-03-28T21:17:18.747Z"
   },
   {
    "duration": 1284,
    "start_time": "2022-03-28T21:17:28.322Z"
   },
   {
    "duration": 3,
    "start_time": "2022-03-28T21:17:29.608Z"
   },
   {
    "duration": 48,
    "start_time": "2022-03-28T21:17:29.613Z"
   },
   {
    "duration": 43,
    "start_time": "2022-03-28T21:17:29.664Z"
   },
   {
    "duration": 16,
    "start_time": "2022-03-28T21:17:29.709Z"
   },
   {
    "duration": 17,
    "start_time": "2022-03-28T21:17:29.727Z"
   },
   {
    "duration": 9,
    "start_time": "2022-03-28T21:17:29.747Z"
   },
   {
    "duration": 50,
    "start_time": "2022-03-28T21:17:29.758Z"
   },
   {
    "duration": 183,
    "start_time": "2022-03-28T21:17:29.810Z"
   },
   {
    "duration": 6,
    "start_time": "2022-03-28T21:17:30.003Z"
   },
   {
    "duration": 27,
    "start_time": "2022-03-28T21:17:30.011Z"
   },
   {
    "duration": 5,
    "start_time": "2022-03-28T21:17:30.040Z"
   },
   {
    "duration": 30,
    "start_time": "2022-03-28T21:17:30.047Z"
   },
   {
    "duration": 24,
    "start_time": "2022-03-28T21:17:30.079Z"
   },
   {
    "duration": 12,
    "start_time": "2022-03-28T21:17:30.105Z"
   },
   {
    "duration": 12,
    "start_time": "2022-03-28T21:17:30.119Z"
   },
   {
    "duration": 17,
    "start_time": "2022-03-28T21:17:30.133Z"
   },
   {
    "duration": 23,
    "start_time": "2022-03-28T21:17:30.152Z"
   },
   {
    "duration": 28,
    "start_time": "2022-03-28T21:17:30.177Z"
   },
   {
    "duration": 10,
    "start_time": "2022-03-28T21:17:30.207Z"
   },
   {
    "duration": 19,
    "start_time": "2022-03-28T21:17:30.219Z"
   },
   {
    "duration": 101,
    "start_time": "2022-03-28T21:17:30.240Z"
   },
   {
    "duration": 191,
    "start_time": "2022-03-28T21:17:30.343Z"
   },
   {
    "duration": 9,
    "start_time": "2022-03-28T21:17:30.536Z"
   },
   {
    "duration": 665,
    "start_time": "2022-03-28T21:17:30.547Z"
   },
   {
    "duration": 622,
    "start_time": "2022-03-28T21:17:31.226Z"
   },
   {
    "duration": 6,
    "start_time": "2022-03-28T21:17:31.850Z"
   },
   {
    "duration": 8,
    "start_time": "2022-03-28T21:17:31.860Z"
   },
   {
    "duration": 30,
    "start_time": "2022-03-28T21:17:31.871Z"
   },
   {
    "duration": 9,
    "start_time": "2022-03-28T21:17:31.903Z"
   },
   {
    "duration": 277,
    "start_time": "2022-03-28T21:17:31.914Z"
   },
   {
    "duration": 286,
    "start_time": "2022-03-28T21:17:32.194Z"
   },
   {
    "duration": 244,
    "start_time": "2022-03-28T21:17:32.482Z"
   },
   {
    "duration": 5,
    "start_time": "2022-03-28T21:17:32.729Z"
   },
   {
    "duration": 239,
    "start_time": "2022-03-28T21:17:32.736Z"
   },
   {
    "duration": 153,
    "start_time": "2022-03-28T21:17:32.977Z"
   },
   {
    "duration": 153,
    "start_time": "2022-03-28T21:17:33.133Z"
   },
   {
    "duration": 150,
    "start_time": "2022-03-28T21:17:33.300Z"
   },
   {
    "duration": 153,
    "start_time": "2022-03-28T21:17:33.453Z"
   },
   {
    "duration": 156,
    "start_time": "2022-03-28T21:17:33.608Z"
   },
   {
    "duration": 159,
    "start_time": "2022-03-28T21:17:33.766Z"
   },
   {
    "duration": 156,
    "start_time": "2022-03-28T21:17:33.927Z"
   },
   {
    "duration": 159,
    "start_time": "2022-03-28T21:17:34.085Z"
   },
   {
    "duration": 162,
    "start_time": "2022-03-28T21:17:34.246Z"
   },
   {
    "duration": 28,
    "start_time": "2022-03-28T21:17:34.409Z"
   },
   {
    "duration": 332,
    "start_time": "2022-03-28T21:17:34.440Z"
   },
   {
    "duration": 148,
    "start_time": "2022-03-28T21:17:34.775Z"
   },
   {
    "duration": 512,
    "start_time": "2022-03-28T21:17:34.925Z"
   },
   {
    "duration": 530,
    "start_time": "2022-03-28T21:17:35.439Z"
   },
   {
    "duration": 863,
    "start_time": "2022-03-28T21:17:35.971Z"
   },
   {
    "duration": 10,
    "start_time": "2022-03-28T21:17:36.836Z"
   },
   {
    "duration": 16,
    "start_time": "2022-03-28T21:17:36.847Z"
   },
   {
    "duration": 8,
    "start_time": "2022-03-28T21:17:36.864Z"
   },
   {
    "duration": 32,
    "start_time": "2022-03-28T21:17:36.874Z"
   },
   {
    "duration": 4,
    "start_time": "2022-03-28T21:17:36.907Z"
   },
   {
    "duration": 4,
    "start_time": "2022-03-28T21:19:23.244Z"
   },
   {
    "duration": 5,
    "start_time": "2022-03-28T21:20:29.998Z"
   },
   {
    "duration": 1320,
    "start_time": "2022-03-28T21:20:36.440Z"
   },
   {
    "duration": 3,
    "start_time": "2022-03-28T21:20:37.762Z"
   },
   {
    "duration": 50,
    "start_time": "2022-03-28T21:20:37.767Z"
   },
   {
    "duration": 41,
    "start_time": "2022-03-28T21:20:37.819Z"
   },
   {
    "duration": 15,
    "start_time": "2022-03-28T21:20:37.862Z"
   },
   {
    "duration": 18,
    "start_time": "2022-03-28T21:20:37.900Z"
   },
   {
    "duration": 8,
    "start_time": "2022-03-28T21:20:37.920Z"
   },
   {
    "duration": 27,
    "start_time": "2022-03-28T21:20:37.930Z"
   },
   {
    "duration": 194,
    "start_time": "2022-03-28T21:20:37.959Z"
   },
   {
    "duration": 6,
    "start_time": "2022-03-28T21:20:38.155Z"
   },
   {
    "duration": 38,
    "start_time": "2022-03-28T21:20:38.163Z"
   },
   {
    "duration": 5,
    "start_time": "2022-03-28T21:20:38.203Z"
   },
   {
    "duration": 6,
    "start_time": "2022-03-28T21:20:38.210Z"
   },
   {
    "duration": 19,
    "start_time": "2022-03-28T21:20:38.219Z"
   },
   {
    "duration": 6,
    "start_time": "2022-03-28T21:20:38.240Z"
   },
   {
    "duration": 14,
    "start_time": "2022-03-28T21:20:38.248Z"
   },
   {
    "duration": 44,
    "start_time": "2022-03-28T21:20:38.265Z"
   },
   {
    "duration": 25,
    "start_time": "2022-03-28T21:20:38.310Z"
   },
   {
    "duration": 9,
    "start_time": "2022-03-28T21:20:38.337Z"
   },
   {
    "duration": 13,
    "start_time": "2022-03-28T21:20:38.348Z"
   },
   {
    "duration": 40,
    "start_time": "2022-03-28T21:20:38.364Z"
   },
   {
    "duration": 7,
    "start_time": "2022-03-28T21:20:38.406Z"
   },
   {
    "duration": 170,
    "start_time": "2022-03-28T21:20:38.415Z"
   },
   {
    "duration": 190,
    "start_time": "2022-03-28T21:20:38.588Z"
   },
   {
    "duration": 22,
    "start_time": "2022-03-28T21:20:38.781Z"
   },
   {
    "duration": 613,
    "start_time": "2022-03-28T21:20:38.805Z"
   },
   {
    "duration": 593,
    "start_time": "2022-03-28T21:20:39.420Z"
   },
   {
    "duration": 5,
    "start_time": "2022-03-28T21:20:40.015Z"
   },
   {
    "duration": 13,
    "start_time": "2022-03-28T21:20:40.022Z"
   },
   {
    "duration": 10,
    "start_time": "2022-03-28T21:20:40.037Z"
   },
   {
    "duration": 13,
    "start_time": "2022-03-28T21:20:40.049Z"
   },
   {
    "duration": 305,
    "start_time": "2022-03-28T21:20:40.064Z"
   },
   {
    "duration": 303,
    "start_time": "2022-03-28T21:20:40.371Z"
   },
   {
    "duration": 239,
    "start_time": "2022-03-28T21:20:40.676Z"
   },
   {
    "duration": 6,
    "start_time": "2022-03-28T21:20:40.917Z"
   },
   {
    "duration": 247,
    "start_time": "2022-03-28T21:20:40.925Z"
   },
   {
    "duration": 154,
    "start_time": "2022-03-28T21:20:41.174Z"
   },
   {
    "duration": 155,
    "start_time": "2022-03-28T21:20:41.330Z"
   },
   {
    "duration": 156,
    "start_time": "2022-03-28T21:20:41.488Z"
   },
   {
    "duration": 143,
    "start_time": "2022-03-28T21:20:41.647Z"
   },
   {
    "duration": 143,
    "start_time": "2022-03-28T21:20:41.804Z"
   },
   {
    "duration": 160,
    "start_time": "2022-03-28T21:20:41.949Z"
   },
   {
    "duration": 165,
    "start_time": "2022-03-28T21:20:42.112Z"
   },
   {
    "duration": 170,
    "start_time": "2022-03-28T21:20:42.279Z"
   },
   {
    "duration": 155,
    "start_time": "2022-03-28T21:20:42.451Z"
   },
   {
    "duration": 36,
    "start_time": "2022-03-28T21:20:42.608Z"
   },
   {
    "duration": 503,
    "start_time": "2022-03-28T21:20:42.646Z"
   },
   {
    "duration": 152,
    "start_time": "2022-03-28T21:20:43.151Z"
   },
   {
    "duration": 515,
    "start_time": "2022-03-28T21:20:43.305Z"
   },
   {
    "duration": 521,
    "start_time": "2022-03-28T21:20:43.822Z"
   },
   {
    "duration": 930,
    "start_time": "2022-03-28T21:20:44.346Z"
   },
   {
    "duration": 10,
    "start_time": "2022-03-28T21:20:45.278Z"
   },
   {
    "duration": 12,
    "start_time": "2022-03-28T21:20:45.301Z"
   },
   {
    "duration": 7,
    "start_time": "2022-03-28T21:20:45.315Z"
   },
   {
    "duration": 10,
    "start_time": "2022-03-28T21:20:45.324Z"
   },
   {
    "duration": 12,
    "start_time": "2022-03-28T21:20:45.336Z"
   },
   {
    "duration": 6,
    "start_time": "2022-03-28T21:24:37.536Z"
   },
   {
    "duration": 225,
    "start_time": "2022-03-28T21:26:44.118Z"
   },
   {
    "duration": 224,
    "start_time": "2022-03-28T21:26:55.641Z"
   },
   {
    "duration": 234,
    "start_time": "2022-03-28T21:27:01.596Z"
   },
   {
    "duration": 299,
    "start_time": "2022-03-28T21:27:25.391Z"
   },
   {
    "duration": 150,
    "start_time": "2022-03-28T21:27:34.216Z"
   },
   {
    "duration": 1346,
    "start_time": "2022-03-28T21:27:42.419Z"
   },
   {
    "duration": 3,
    "start_time": "2022-03-28T21:27:43.767Z"
   },
   {
    "duration": 52,
    "start_time": "2022-03-28T21:27:43.771Z"
   },
   {
    "duration": 42,
    "start_time": "2022-03-28T21:27:43.826Z"
   },
   {
    "duration": 33,
    "start_time": "2022-03-28T21:27:43.870Z"
   },
   {
    "duration": 16,
    "start_time": "2022-03-28T21:27:43.905Z"
   },
   {
    "duration": 8,
    "start_time": "2022-03-28T21:27:43.924Z"
   },
   {
    "duration": 17,
    "start_time": "2022-03-28T21:27:43.934Z"
   },
   {
    "duration": 210,
    "start_time": "2022-03-28T21:27:43.953Z"
   },
   {
    "duration": 8,
    "start_time": "2022-03-28T21:27:44.167Z"
   },
   {
    "duration": 42,
    "start_time": "2022-03-28T21:27:44.177Z"
   },
   {
    "duration": 5,
    "start_time": "2022-03-28T21:27:44.221Z"
   },
   {
    "duration": 7,
    "start_time": "2022-03-28T21:27:44.228Z"
   },
   {
    "duration": 19,
    "start_time": "2022-03-28T21:27:44.238Z"
   },
   {
    "duration": 6,
    "start_time": "2022-03-28T21:27:44.259Z"
   },
   {
    "duration": 8,
    "start_time": "2022-03-28T21:27:44.303Z"
   },
   {
    "duration": 17,
    "start_time": "2022-03-28T21:27:44.313Z"
   },
   {
    "duration": 26,
    "start_time": "2022-03-28T21:27:44.332Z"
   },
   {
    "duration": 9,
    "start_time": "2022-03-28T21:27:44.360Z"
   },
   {
    "duration": 106,
    "start_time": "2022-03-28T21:27:44.371Z"
   },
   {
    "duration": 203,
    "start_time": "2022-03-28T21:27:44.479Z"
   },
   {
    "duration": 18,
    "start_time": "2022-03-28T21:27:44.684Z"
   },
   {
    "duration": 923,
    "start_time": "2022-03-28T21:27:44.705Z"
   },
   {
    "duration": 660,
    "start_time": "2022-03-28T21:27:45.631Z"
   },
   {
    "duration": 5,
    "start_time": "2022-03-28T21:27:46.302Z"
   },
   {
    "duration": 11,
    "start_time": "2022-03-28T21:27:46.309Z"
   },
   {
    "duration": 9,
    "start_time": "2022-03-28T21:27:46.323Z"
   },
   {
    "duration": 11,
    "start_time": "2022-03-28T21:27:46.337Z"
   },
   {
    "duration": 305,
    "start_time": "2022-03-28T21:27:46.350Z"
   },
   {
    "duration": 447,
    "start_time": "2022-03-28T21:27:46.658Z"
   },
   {
    "duration": 348,
    "start_time": "2022-03-28T21:27:47.107Z"
   },
   {
    "duration": 7,
    "start_time": "2022-03-28T21:27:47.457Z"
   },
   {
    "duration": 242,
    "start_time": "2022-03-28T21:27:47.466Z"
   },
   {
    "duration": 234,
    "start_time": "2022-03-28T21:27:47.710Z"
   },
   {
    "duration": 158,
    "start_time": "2022-03-28T21:27:47.946Z"
   },
   {
    "duration": 154,
    "start_time": "2022-03-28T21:27:48.106Z"
   },
   {
    "duration": 154,
    "start_time": "2022-03-28T21:27:48.262Z"
   },
   {
    "duration": 148,
    "start_time": "2022-03-28T21:27:48.418Z"
   },
   {
    "duration": 165,
    "start_time": "2022-03-28T21:27:48.568Z"
   },
   {
    "duration": 150,
    "start_time": "2022-03-28T21:27:48.735Z"
   },
   {
    "duration": 167,
    "start_time": "2022-03-28T21:27:48.887Z"
   },
   {
    "duration": 163,
    "start_time": "2022-03-28T21:27:49.056Z"
   },
   {
    "duration": 27,
    "start_time": "2022-03-28T21:27:49.221Z"
   },
   {
    "duration": 502,
    "start_time": "2022-03-28T21:27:49.250Z"
   },
   {
    "duration": 163,
    "start_time": "2022-03-28T21:27:49.755Z"
   },
   {
    "duration": 546,
    "start_time": "2022-03-28T21:27:49.920Z"
   },
   {
    "duration": 652,
    "start_time": "2022-03-28T21:27:50.468Z"
   },
   {
    "duration": 950,
    "start_time": "2022-03-28T21:27:51.122Z"
   },
   {
    "duration": 9,
    "start_time": "2022-03-28T21:27:52.074Z"
   },
   {
    "duration": 11,
    "start_time": "2022-03-28T21:27:52.101Z"
   },
   {
    "duration": 5,
    "start_time": "2022-03-28T21:27:52.114Z"
   },
   {
    "duration": 11,
    "start_time": "2022-03-28T21:27:52.121Z"
   },
   {
    "duration": 8,
    "start_time": "2022-03-28T21:27:52.135Z"
   },
   {
    "duration": 154,
    "start_time": "2022-03-28T21:28:05.469Z"
   },
   {
    "duration": 150,
    "start_time": "2022-03-28T21:28:08.083Z"
   },
   {
    "duration": 2160,
    "start_time": "2022-03-28T21:39:55.959Z"
   },
   {
    "duration": 2170,
    "start_time": "2022-03-28T21:40:15.834Z"
   },
   {
    "duration": 231,
    "start_time": "2022-03-28T21:40:22.111Z"
   },
   {
    "duration": 246,
    "start_time": "2022-03-28T21:40:42.795Z"
   },
   {
    "duration": 150,
    "start_time": "2022-03-28T21:40:49.094Z"
   },
   {
    "duration": 154,
    "start_time": "2022-03-28T21:40:59.819Z"
   },
   {
    "duration": 229,
    "start_time": "2022-03-28T21:41:18.220Z"
   },
   {
    "duration": 226,
    "start_time": "2022-03-28T21:41:23.132Z"
   },
   {
    "duration": 8,
    "start_time": "2022-03-28T21:42:07.976Z"
   },
   {
    "duration": 246,
    "start_time": "2022-03-28T21:42:10.380Z"
   },
   {
    "duration": 218,
    "start_time": "2022-03-28T21:42:12.763Z"
   },
   {
    "duration": 143,
    "start_time": "2022-03-28T21:44:57.062Z"
   },
   {
    "duration": 162,
    "start_time": "2022-03-28T21:45:13.668Z"
   },
   {
    "duration": 77,
    "start_time": "2022-03-29T20:35:19.557Z"
   },
   {
    "duration": 1824,
    "start_time": "2022-03-29T20:35:26.036Z"
   },
   {
    "duration": 3,
    "start_time": "2022-03-29T20:35:27.863Z"
   },
   {
    "duration": 58,
    "start_time": "2022-03-29T20:35:27.868Z"
   },
   {
    "duration": 91,
    "start_time": "2022-03-29T20:35:27.929Z"
   },
   {
    "duration": 28,
    "start_time": "2022-03-29T20:35:28.025Z"
   },
   {
    "duration": 48,
    "start_time": "2022-03-29T20:35:28.055Z"
   },
   {
    "duration": 11,
    "start_time": "2022-03-29T20:35:28.107Z"
   },
   {
    "duration": 22,
    "start_time": "2022-03-29T20:35:28.120Z"
   },
   {
    "duration": 297,
    "start_time": "2022-03-29T20:35:28.145Z"
   },
   {
    "duration": 7,
    "start_time": "2022-03-29T20:35:28.444Z"
   },
   {
    "duration": 36,
    "start_time": "2022-03-29T20:35:28.454Z"
   },
   {
    "duration": 5,
    "start_time": "2022-03-29T20:35:28.492Z"
   },
   {
    "duration": 8,
    "start_time": "2022-03-29T20:35:28.499Z"
   },
   {
    "duration": 19,
    "start_time": "2022-03-29T20:35:28.511Z"
   },
   {
    "duration": 44,
    "start_time": "2022-03-29T20:35:28.532Z"
   },
   {
    "duration": 8,
    "start_time": "2022-03-29T20:35:28.578Z"
   },
   {
    "duration": 14,
    "start_time": "2022-03-29T20:35:28.589Z"
   },
   {
    "duration": 8,
    "start_time": "2022-03-29T20:35:28.605Z"
   },
   {
    "duration": 6,
    "start_time": "2022-03-29T20:35:28.615Z"
   },
   {
    "duration": 160,
    "start_time": "2022-03-29T20:35:28.623Z"
   },
   {
    "duration": 288,
    "start_time": "2022-03-29T20:35:28.785Z"
   },
   {
    "duration": 11,
    "start_time": "2022-03-29T20:35:29.075Z"
   },
   {
    "duration": 891,
    "start_time": "2022-03-29T20:35:29.088Z"
   },
   {
    "duration": 832,
    "start_time": "2022-03-29T20:35:29.981Z"
   },
   {
    "duration": 6,
    "start_time": "2022-03-29T20:35:30.816Z"
   },
   {
    "duration": 18,
    "start_time": "2022-03-29T20:35:30.824Z"
   },
   {
    "duration": 23,
    "start_time": "2022-03-29T20:35:30.845Z"
   },
   {
    "duration": 17,
    "start_time": "2022-03-29T20:35:30.875Z"
   },
   {
    "duration": 436,
    "start_time": "2022-03-29T20:35:30.894Z"
   },
   {
    "duration": 452,
    "start_time": "2022-03-29T20:35:31.332Z"
   },
   {
    "duration": 367,
    "start_time": "2022-03-29T20:35:31.787Z"
   },
   {
    "duration": 7,
    "start_time": "2022-03-29T20:35:32.156Z"
   },
   {
    "duration": 313,
    "start_time": "2022-03-29T20:35:32.165Z"
   },
   {
    "duration": 236,
    "start_time": "2022-03-29T20:35:32.481Z"
   },
   {
    "duration": 241,
    "start_time": "2022-03-29T20:35:32.719Z"
   },
   {
    "duration": 236,
    "start_time": "2022-03-29T20:35:32.963Z"
   },
   {
    "duration": 231,
    "start_time": "2022-03-29T20:35:33.202Z"
   },
   {
    "duration": 232,
    "start_time": "2022-03-29T20:35:33.435Z"
   },
   {
    "duration": 222,
    "start_time": "2022-03-29T20:35:33.669Z"
   },
   {
    "duration": 216,
    "start_time": "2022-03-29T20:35:33.894Z"
   },
   {
    "duration": 228,
    "start_time": "2022-03-29T20:35:34.115Z"
   },
   {
    "duration": 222,
    "start_time": "2022-03-29T20:35:34.345Z"
   },
   {
    "duration": 34,
    "start_time": "2022-03-29T20:35:34.574Z"
   },
   {
    "duration": 547,
    "start_time": "2022-03-29T20:35:34.610Z"
   },
   {
    "duration": 67,
    "start_time": "2022-03-29T20:35:35.160Z"
   },
   {
    "duration": 746,
    "start_time": "2022-03-29T20:35:35.230Z"
   },
   {
    "duration": 737,
    "start_time": "2022-03-29T20:35:35.978Z"
   },
   {
    "duration": 1167,
    "start_time": "2022-03-29T20:35:36.718Z"
   },
   {
    "duration": 12,
    "start_time": "2022-03-29T20:35:37.888Z"
   },
   {
    "duration": 16,
    "start_time": "2022-03-29T20:35:37.903Z"
   },
   {
    "duration": 6,
    "start_time": "2022-03-29T20:35:37.921Z"
   },
   {
    "duration": 55,
    "start_time": "2022-03-29T20:35:37.930Z"
   },
   {
    "duration": 8,
    "start_time": "2022-03-29T20:35:37.987Z"
   },
   {
    "duration": 197,
    "start_time": "2022-03-29T20:37:58.169Z"
   },
   {
    "duration": 65,
    "start_time": "2022-03-29T20:38:41.160Z"
   },
   {
    "duration": 50,
    "start_time": "2022-03-29T20:39:10.681Z"
   },
   {
    "duration": 50,
    "start_time": "2022-03-29T20:39:24.454Z"
   },
   {
    "duration": 63,
    "start_time": "2022-03-29T20:40:41.870Z"
   },
   {
    "duration": 43,
    "start_time": "2022-03-29T20:41:26.444Z"
   },
   {
    "duration": 43,
    "start_time": "2022-03-29T20:41:39.118Z"
   },
   {
    "duration": 84,
    "start_time": "2022-03-29T20:41:49.813Z"
   },
   {
    "duration": 72,
    "start_time": "2022-03-29T20:42:05.608Z"
   },
   {
    "duration": 66,
    "start_time": "2022-03-29T20:42:18.544Z"
   },
   {
    "duration": 72,
    "start_time": "2022-03-29T20:43:14.958Z"
   },
   {
    "duration": 71,
    "start_time": "2022-03-29T20:43:31.130Z"
   },
   {
    "duration": 838,
    "start_time": "2022-03-29T20:43:57.216Z"
   },
   {
    "duration": 76,
    "start_time": "2022-03-29T20:46:02.204Z"
   },
   {
    "duration": 79,
    "start_time": "2022-03-29T20:46:10.514Z"
   },
   {
    "duration": 1358,
    "start_time": "2022-03-29T20:46:53.267Z"
   },
   {
    "duration": 79,
    "start_time": "2022-03-29T20:47:08.162Z"
   },
   {
    "duration": 81,
    "start_time": "2022-03-29T20:47:21.140Z"
   },
   {
    "duration": 81,
    "start_time": "2022-03-29T20:48:36.006Z"
   },
   {
    "duration": 85,
    "start_time": "2022-03-29T20:49:15.501Z"
   },
   {
    "duration": 75,
    "start_time": "2022-03-29T20:49:29.355Z"
   },
   {
    "duration": 787,
    "start_time": "2022-03-29T20:49:47.551Z"
   },
   {
    "duration": 86,
    "start_time": "2022-03-29T20:51:24.009Z"
   },
   {
    "duration": 86,
    "start_time": "2022-03-29T20:52:06.884Z"
   },
   {
    "duration": 819,
    "start_time": "2022-03-29T20:52:12.359Z"
   },
   {
    "duration": 1124,
    "start_time": "2022-03-29T21:05:27.544Z"
   },
   {
    "duration": 1259,
    "start_time": "2022-03-29T21:06:10.743Z"
   },
   {
    "duration": 1135,
    "start_time": "2022-03-29T21:06:16.771Z"
   },
   {
    "duration": 4,
    "start_time": "2022-03-29T21:09:49.487Z"
   },
   {
    "duration": 1129,
    "start_time": "2022-03-29T21:17:58.644Z"
   },
   {
    "duration": 373,
    "start_time": "2022-03-29T21:22:42.423Z"
   },
   {
    "duration": 1106,
    "start_time": "2022-03-29T21:29:28.727Z"
   },
   {
    "duration": 1528,
    "start_time": "2022-03-29T21:39:26.664Z"
   },
   {
    "duration": 2,
    "start_time": "2022-03-29T21:39:28.195Z"
   },
   {
    "duration": 49,
    "start_time": "2022-03-29T21:39:28.199Z"
   },
   {
    "duration": 60,
    "start_time": "2022-03-29T21:39:28.251Z"
   },
   {
    "duration": 23,
    "start_time": "2022-03-29T21:39:28.313Z"
   },
   {
    "duration": 44,
    "start_time": "2022-03-29T21:39:28.338Z"
   },
   {
    "duration": 13,
    "start_time": "2022-03-29T21:39:28.384Z"
   },
   {
    "duration": 14,
    "start_time": "2022-03-29T21:39:28.399Z"
   },
   {
    "duration": 299,
    "start_time": "2022-03-29T21:39:28.415Z"
   },
   {
    "duration": 7,
    "start_time": "2022-03-29T21:39:28.717Z"
   },
   {
    "duration": 25,
    "start_time": "2022-03-29T21:39:28.727Z"
   },
   {
    "duration": 5,
    "start_time": "2022-03-29T21:39:28.774Z"
   },
   {
    "duration": 6,
    "start_time": "2022-03-29T21:39:28.781Z"
   },
   {
    "duration": 20,
    "start_time": "2022-03-29T21:39:28.790Z"
   },
   {
    "duration": 6,
    "start_time": "2022-03-29T21:39:28.812Z"
   },
   {
    "duration": 11,
    "start_time": "2022-03-29T21:39:28.819Z"
   },
   {
    "duration": 55,
    "start_time": "2022-03-29T21:39:28.831Z"
   },
   {
    "duration": 8,
    "start_time": "2022-03-29T21:39:28.888Z"
   },
   {
    "duration": 6,
    "start_time": "2022-03-29T21:39:28.898Z"
   },
   {
    "duration": 141,
    "start_time": "2022-03-29T21:39:28.907Z"
   },
   {
    "duration": 285,
    "start_time": "2022-03-29T21:39:29.050Z"
   },
   {
    "duration": 11,
    "start_time": "2022-03-29T21:39:29.337Z"
   },
   {
    "duration": 870,
    "start_time": "2022-03-29T21:39:29.350Z"
   },
   {
    "duration": 808,
    "start_time": "2022-03-29T21:39:30.222Z"
   },
   {
    "duration": 8,
    "start_time": "2022-03-29T21:39:31.032Z"
   },
   {
    "duration": 31,
    "start_time": "2022-03-29T21:39:31.042Z"
   },
   {
    "duration": 25,
    "start_time": "2022-03-29T21:39:31.075Z"
   },
   {
    "duration": 12,
    "start_time": "2022-03-29T21:39:31.106Z"
   },
   {
    "duration": 431,
    "start_time": "2022-03-29T21:39:31.120Z"
   },
   {
    "duration": 460,
    "start_time": "2022-03-29T21:39:31.554Z"
   },
   {
    "duration": 375,
    "start_time": "2022-03-29T21:39:32.016Z"
   },
   {
    "duration": 7,
    "start_time": "2022-03-29T21:39:32.393Z"
   },
   {
    "duration": 309,
    "start_time": "2022-03-29T21:39:32.403Z"
   },
   {
    "duration": 236,
    "start_time": "2022-03-29T21:39:32.714Z"
   },
   {
    "duration": 251,
    "start_time": "2022-03-29T21:39:32.953Z"
   },
   {
    "duration": 244,
    "start_time": "2022-03-29T21:39:33.207Z"
   },
   {
    "duration": 229,
    "start_time": "2022-03-29T21:39:33.453Z"
   },
   {
    "duration": 222,
    "start_time": "2022-03-29T21:39:33.684Z"
   },
   {
    "duration": 228,
    "start_time": "2022-03-29T21:39:33.908Z"
   },
   {
    "duration": 228,
    "start_time": "2022-03-29T21:39:34.138Z"
   },
   {
    "duration": 219,
    "start_time": "2022-03-29T21:39:34.368Z"
   },
   {
    "duration": 225,
    "start_time": "2022-03-29T21:39:34.590Z"
   },
   {
    "duration": 58,
    "start_time": "2022-03-29T21:39:34.818Z"
   },
   {
    "duration": 544,
    "start_time": "2022-03-29T21:39:34.878Z"
   },
   {
    "duration": 176,
    "start_time": "2022-03-29T21:39:35.424Z"
   },
   {
    "duration": 0,
    "start_time": "2022-03-29T21:39:35.602Z"
   },
   {
    "duration": 0,
    "start_time": "2022-03-29T21:39:35.604Z"
   },
   {
    "duration": 0,
    "start_time": "2022-03-29T21:39:35.606Z"
   },
   {
    "duration": 0,
    "start_time": "2022-03-29T21:39:35.608Z"
   },
   {
    "duration": 0,
    "start_time": "2022-03-29T21:39:35.609Z"
   },
   {
    "duration": 0,
    "start_time": "2022-03-29T21:39:35.611Z"
   },
   {
    "duration": 0,
    "start_time": "2022-03-29T21:39:35.612Z"
   },
   {
    "duration": 0,
    "start_time": "2022-03-29T21:39:35.613Z"
   },
   {
    "duration": 0,
    "start_time": "2022-03-29T21:39:35.615Z"
   },
   {
    "duration": 95,
    "start_time": "2022-03-29T21:40:49.378Z"
   },
   {
    "duration": 85,
    "start_time": "2022-03-29T21:40:54.577Z"
   },
   {
    "duration": 848,
    "start_time": "2022-03-29T21:40:57.021Z"
   },
   {
    "duration": 1197,
    "start_time": "2022-03-29T21:41:00.482Z"
   },
   {
    "duration": 1162,
    "start_time": "2022-03-29T21:41:04.297Z"
   },
   {
    "duration": 12,
    "start_time": "2022-03-29T21:41:09.580Z"
   },
   {
    "duration": 14,
    "start_time": "2022-03-29T21:41:35.176Z"
   },
   {
    "duration": 6,
    "start_time": "2022-03-29T21:41:47.083Z"
   },
   {
    "duration": 13,
    "start_time": "2022-03-29T21:41:52.682Z"
   },
   {
    "duration": 5,
    "start_time": "2022-03-29T21:41:56.956Z"
   },
   {
    "duration": 13,
    "start_time": "2022-03-29T21:43:04.691Z"
   },
   {
    "duration": 6,
    "start_time": "2022-03-29T21:43:09.971Z"
   },
   {
    "duration": 7,
    "start_time": "2022-03-29T21:43:17.591Z"
   },
   {
    "duration": 390,
    "start_time": "2022-03-29T21:43:24.766Z"
   },
   {
    "duration": 13,
    "start_time": "2022-03-29T21:44:13.225Z"
   },
   {
    "duration": 19,
    "start_time": "2022-03-29T21:44:54.796Z"
   },
   {
    "duration": 14,
    "start_time": "2022-03-29T21:45:15.890Z"
   },
   {
    "duration": 13,
    "start_time": "2022-03-29T21:45:40.783Z"
   },
   {
    "duration": 1520,
    "start_time": "2022-03-29T21:46:13.463Z"
   },
   {
    "duration": 3,
    "start_time": "2022-03-29T21:46:14.985Z"
   },
   {
    "duration": 52,
    "start_time": "2022-03-29T21:46:14.990Z"
   },
   {
    "duration": 68,
    "start_time": "2022-03-29T21:46:15.045Z"
   },
   {
    "duration": 23,
    "start_time": "2022-03-29T21:46:15.116Z"
   },
   {
    "duration": 41,
    "start_time": "2022-03-29T21:46:15.141Z"
   },
   {
    "duration": 10,
    "start_time": "2022-03-29T21:46:15.184Z"
   },
   {
    "duration": 15,
    "start_time": "2022-03-29T21:46:15.196Z"
   },
   {
    "duration": 302,
    "start_time": "2022-03-29T21:46:15.213Z"
   },
   {
    "duration": 7,
    "start_time": "2022-03-29T21:46:15.519Z"
   },
   {
    "duration": 45,
    "start_time": "2022-03-29T21:46:15.528Z"
   },
   {
    "duration": 5,
    "start_time": "2022-03-29T21:46:15.575Z"
   },
   {
    "duration": 10,
    "start_time": "2022-03-29T21:46:15.582Z"
   },
   {
    "duration": 23,
    "start_time": "2022-03-29T21:46:15.594Z"
   },
   {
    "duration": 5,
    "start_time": "2022-03-29T21:46:15.619Z"
   },
   {
    "duration": 10,
    "start_time": "2022-03-29T21:46:15.626Z"
   },
   {
    "duration": 46,
    "start_time": "2022-03-29T21:46:15.638Z"
   },
   {
    "duration": 11,
    "start_time": "2022-03-29T21:46:15.685Z"
   },
   {
    "duration": 6,
    "start_time": "2022-03-29T21:46:15.698Z"
   },
   {
    "duration": 141,
    "start_time": "2022-03-29T21:46:15.706Z"
   },
   {
    "duration": 291,
    "start_time": "2022-03-29T21:46:15.849Z"
   },
   {
    "duration": 12,
    "start_time": "2022-03-29T21:46:16.143Z"
   },
   {
    "duration": 871,
    "start_time": "2022-03-29T21:46:16.174Z"
   },
   {
    "duration": 807,
    "start_time": "2022-03-29T21:46:17.048Z"
   },
   {
    "duration": 19,
    "start_time": "2022-03-29T21:46:17.858Z"
   },
   {
    "duration": 10,
    "start_time": "2022-03-29T21:46:17.880Z"
   },
   {
    "duration": 13,
    "start_time": "2022-03-29T21:46:17.893Z"
   },
   {
    "duration": 8,
    "start_time": "2022-03-29T21:46:17.913Z"
   },
   {
    "duration": 464,
    "start_time": "2022-03-29T21:46:17.924Z"
   },
   {
    "duration": 458,
    "start_time": "2022-03-29T21:46:18.391Z"
   },
   {
    "duration": 368,
    "start_time": "2022-03-29T21:46:18.852Z"
   },
   {
    "duration": 8,
    "start_time": "2022-03-29T21:46:19.223Z"
   },
   {
    "duration": 316,
    "start_time": "2022-03-29T21:46:19.233Z"
   },
   {
    "duration": 246,
    "start_time": "2022-03-29T21:46:19.552Z"
   },
   {
    "duration": 241,
    "start_time": "2022-03-29T21:46:19.800Z"
   },
   {
    "duration": 244,
    "start_time": "2022-03-29T21:46:20.044Z"
   },
   {
    "duration": 236,
    "start_time": "2022-03-29T21:46:20.291Z"
   },
   {
    "duration": 231,
    "start_time": "2022-03-29T21:46:20.530Z"
   },
   {
    "duration": 262,
    "start_time": "2022-03-29T21:46:20.763Z"
   },
   {
    "duration": 239,
    "start_time": "2022-03-29T21:46:21.028Z"
   },
   {
    "duration": 232,
    "start_time": "2022-03-29T21:46:21.269Z"
   },
   {
    "duration": 232,
    "start_time": "2022-03-29T21:46:21.503Z"
   },
   {
    "duration": 50,
    "start_time": "2022-03-29T21:46:21.737Z"
   },
   {
    "duration": 551,
    "start_time": "2022-03-29T21:46:21.789Z"
   },
   {
    "duration": 98,
    "start_time": "2022-03-29T21:46:22.343Z"
   },
   {
    "duration": 837,
    "start_time": "2022-03-29T21:46:22.443Z"
   },
   {
    "duration": 846,
    "start_time": "2022-03-29T21:46:23.282Z"
   },
   {
    "duration": 1159,
    "start_time": "2022-03-29T21:46:24.130Z"
   },
   {
    "duration": 1161,
    "start_time": "2022-03-29T21:46:25.291Z"
   },
   {
    "duration": 22,
    "start_time": "2022-03-29T21:46:26.455Z"
   },
   {
    "duration": 14,
    "start_time": "2022-03-29T21:46:26.480Z"
   },
   {
    "duration": 27,
    "start_time": "2022-03-29T21:46:26.496Z"
   },
   {
    "duration": 34,
    "start_time": "2022-03-29T21:46:26.526Z"
   },
   {
    "duration": 12,
    "start_time": "2022-03-29T21:46:26.563Z"
   },
   {
    "duration": 1545,
    "start_time": "2022-03-29T21:47:15.046Z"
   },
   {
    "duration": 3,
    "start_time": "2022-03-29T21:47:16.593Z"
   },
   {
    "duration": 55,
    "start_time": "2022-03-29T21:47:16.598Z"
   },
   {
    "duration": 62,
    "start_time": "2022-03-29T21:47:16.656Z"
   },
   {
    "duration": 21,
    "start_time": "2022-03-29T21:47:16.720Z"
   },
   {
    "duration": 42,
    "start_time": "2022-03-29T21:47:16.743Z"
   },
   {
    "duration": 10,
    "start_time": "2022-03-29T21:47:16.787Z"
   },
   {
    "duration": 15,
    "start_time": "2022-03-29T21:47:16.799Z"
   },
   {
    "duration": 305,
    "start_time": "2022-03-29T21:47:16.817Z"
   },
   {
    "duration": 7,
    "start_time": "2022-03-29T21:47:17.126Z"
   },
   {
    "duration": 40,
    "start_time": "2022-03-29T21:47:17.135Z"
   },
   {
    "duration": 4,
    "start_time": "2022-03-29T21:47:17.178Z"
   },
   {
    "duration": 7,
    "start_time": "2022-03-29T21:47:17.184Z"
   },
   {
    "duration": 28,
    "start_time": "2022-03-29T21:47:17.193Z"
   },
   {
    "duration": 5,
    "start_time": "2022-03-29T21:47:17.223Z"
   },
   {
    "duration": 44,
    "start_time": "2022-03-29T21:47:17.230Z"
   },
   {
    "duration": 24,
    "start_time": "2022-03-29T21:47:17.276Z"
   },
   {
    "duration": 11,
    "start_time": "2022-03-29T21:47:17.302Z"
   },
   {
    "duration": 11,
    "start_time": "2022-03-29T21:47:17.316Z"
   },
   {
    "duration": 125,
    "start_time": "2022-03-29T21:47:17.329Z"
   },
   {
    "duration": 297,
    "start_time": "2022-03-29T21:47:17.456Z"
   },
   {
    "duration": 19,
    "start_time": "2022-03-29T21:47:17.755Z"
   },
   {
    "duration": 834,
    "start_time": "2022-03-29T21:47:17.777Z"
   },
   {
    "duration": 801,
    "start_time": "2022-03-29T21:47:18.613Z"
   },
   {
    "duration": 6,
    "start_time": "2022-03-29T21:47:19.417Z"
   },
   {
    "duration": 13,
    "start_time": "2022-03-29T21:47:19.425Z"
   },
   {
    "duration": 32,
    "start_time": "2022-03-29T21:47:19.441Z"
   },
   {
    "duration": 8,
    "start_time": "2022-03-29T21:47:19.479Z"
   },
   {
    "duration": 431,
    "start_time": "2022-03-29T21:47:19.489Z"
   },
   {
    "duration": 458,
    "start_time": "2022-03-29T21:47:19.923Z"
   },
   {
    "duration": 368,
    "start_time": "2022-03-29T21:47:20.383Z"
   },
   {
    "duration": 7,
    "start_time": "2022-03-29T21:47:20.754Z"
   },
   {
    "duration": 316,
    "start_time": "2022-03-29T21:47:20.774Z"
   },
   {
    "duration": 242,
    "start_time": "2022-03-29T21:47:21.093Z"
   },
   {
    "duration": 249,
    "start_time": "2022-03-29T21:47:21.337Z"
   },
   {
    "duration": 241,
    "start_time": "2022-03-29T21:47:21.588Z"
   },
   {
    "duration": 233,
    "start_time": "2022-03-29T21:47:21.831Z"
   },
   {
    "duration": 227,
    "start_time": "2022-03-29T21:47:22.074Z"
   },
   {
    "duration": 215,
    "start_time": "2022-03-29T21:47:22.303Z"
   },
   {
    "duration": 215,
    "start_time": "2022-03-29T21:47:22.520Z"
   },
   {
    "duration": 216,
    "start_time": "2022-03-29T21:47:22.737Z"
   },
   {
    "duration": 223,
    "start_time": "2022-03-29T21:47:22.955Z"
   },
   {
    "duration": 34,
    "start_time": "2022-03-29T21:47:23.181Z"
   },
   {
    "duration": 549,
    "start_time": "2022-03-29T21:47:23.218Z"
   },
   {
    "duration": 106,
    "start_time": "2022-03-29T21:47:23.774Z"
   },
   {
    "duration": 818,
    "start_time": "2022-03-29T21:47:23.882Z"
   },
   {
    "duration": 815,
    "start_time": "2022-03-29T21:47:24.703Z"
   },
   {
    "duration": 1158,
    "start_time": "2022-03-29T21:47:25.521Z"
   },
   {
    "duration": 1143,
    "start_time": "2022-03-29T21:47:26.682Z"
   },
   {
    "duration": 11,
    "start_time": "2022-03-29T21:47:27.827Z"
   },
   {
    "duration": 37,
    "start_time": "2022-03-29T21:47:27.841Z"
   },
   {
    "duration": 17,
    "start_time": "2022-03-29T21:47:27.880Z"
   },
   {
    "duration": 31,
    "start_time": "2022-03-29T21:47:27.900Z"
   },
   {
    "duration": 14,
    "start_time": "2022-03-29T21:47:27.933Z"
   },
   {
    "duration": 1470,
    "start_time": "2022-03-29T21:48:12.385Z"
   },
   {
    "duration": 4,
    "start_time": "2022-03-29T21:48:13.857Z"
   },
   {
    "duration": 57,
    "start_time": "2022-03-29T21:48:13.862Z"
   },
   {
    "duration": 59,
    "start_time": "2022-03-29T21:48:13.922Z"
   },
   {
    "duration": 23,
    "start_time": "2022-03-29T21:48:13.984Z"
   },
   {
    "duration": 20,
    "start_time": "2022-03-29T21:48:14.010Z"
   },
   {
    "duration": 9,
    "start_time": "2022-03-29T21:48:14.032Z"
   },
   {
    "duration": 13,
    "start_time": "2022-03-29T21:48:14.074Z"
   },
   {
    "duration": 287,
    "start_time": "2022-03-29T21:48:14.089Z"
   },
   {
    "duration": 7,
    "start_time": "2022-03-29T21:48:14.380Z"
   },
   {
    "duration": 32,
    "start_time": "2022-03-29T21:48:14.389Z"
   },
   {
    "duration": 5,
    "start_time": "2022-03-29T21:48:14.424Z"
   },
   {
    "duration": 7,
    "start_time": "2022-03-29T21:48:14.431Z"
   },
   {
    "duration": 51,
    "start_time": "2022-03-29T21:48:14.440Z"
   },
   {
    "duration": 6,
    "start_time": "2022-03-29T21:48:14.493Z"
   },
   {
    "duration": 11,
    "start_time": "2022-03-29T21:48:14.501Z"
   },
   {
    "duration": 14,
    "start_time": "2022-03-29T21:48:14.514Z"
   },
   {
    "duration": 44,
    "start_time": "2022-03-29T21:48:14.530Z"
   },
   {
    "duration": 7,
    "start_time": "2022-03-29T21:48:14.576Z"
   },
   {
    "duration": 130,
    "start_time": "2022-03-29T21:48:14.586Z"
   },
   {
    "duration": 280,
    "start_time": "2022-03-29T21:48:14.718Z"
   },
   {
    "duration": 10,
    "start_time": "2022-03-29T21:48:15.000Z"
   },
   {
    "duration": 890,
    "start_time": "2022-03-29T21:48:15.013Z"
   },
   {
    "duration": 869,
    "start_time": "2022-03-29T21:48:15.905Z"
   },
   {
    "duration": 6,
    "start_time": "2022-03-29T21:48:16.777Z"
   },
   {
    "duration": 11,
    "start_time": "2022-03-29T21:48:16.786Z"
   },
   {
    "duration": 10,
    "start_time": "2022-03-29T21:48:16.800Z"
   },
   {
    "duration": 8,
    "start_time": "2022-03-29T21:48:16.815Z"
   },
   {
    "duration": 500,
    "start_time": "2022-03-29T21:48:16.826Z"
   },
   {
    "duration": 463,
    "start_time": "2022-03-29T21:48:17.329Z"
   },
   {
    "duration": 363,
    "start_time": "2022-03-29T21:48:17.795Z"
   },
   {
    "duration": 14,
    "start_time": "2022-03-29T21:48:18.161Z"
   },
   {
    "duration": 334,
    "start_time": "2022-03-29T21:48:18.177Z"
   },
   {
    "duration": 247,
    "start_time": "2022-03-29T21:48:18.513Z"
   },
   {
    "duration": 250,
    "start_time": "2022-03-29T21:48:18.762Z"
   },
   {
    "duration": 245,
    "start_time": "2022-03-29T21:48:19.014Z"
   },
   {
    "duration": 241,
    "start_time": "2022-03-29T21:48:19.261Z"
   },
   {
    "duration": 235,
    "start_time": "2022-03-29T21:48:19.504Z"
   },
   {
    "duration": 257,
    "start_time": "2022-03-29T21:48:19.742Z"
   },
   {
    "duration": 223,
    "start_time": "2022-03-29T21:48:20.001Z"
   },
   {
    "duration": 233,
    "start_time": "2022-03-29T21:48:20.227Z"
   },
   {
    "duration": 214,
    "start_time": "2022-03-29T21:48:20.473Z"
   },
   {
    "duration": 33,
    "start_time": "2022-03-29T21:48:20.689Z"
   },
   {
    "duration": 643,
    "start_time": "2022-03-29T21:48:20.725Z"
   },
   {
    "duration": 106,
    "start_time": "2022-03-29T21:48:21.374Z"
   },
   {
    "duration": 820,
    "start_time": "2022-03-29T21:48:21.483Z"
   },
   {
    "duration": 841,
    "start_time": "2022-03-29T21:48:22.305Z"
   },
   {
    "duration": 1289,
    "start_time": "2022-03-29T21:48:23.148Z"
   },
   {
    "duration": 1260,
    "start_time": "2022-03-29T21:48:24.440Z"
   },
   {
    "duration": 11,
    "start_time": "2022-03-29T21:48:25.702Z"
   },
   {
    "duration": 13,
    "start_time": "2022-03-29T21:48:25.715Z"
   },
   {
    "duration": 10,
    "start_time": "2022-03-29T21:48:25.730Z"
   },
   {
    "duration": 15,
    "start_time": "2022-03-29T21:48:25.774Z"
   },
   {
    "duration": 8,
    "start_time": "2022-03-29T21:48:25.792Z"
   },
   {
    "duration": 319,
    "start_time": "2022-03-29T21:52:06.847Z"
   },
   {
    "duration": 76,
    "start_time": "2022-03-29T21:57:32.066Z"
   },
   {
    "duration": 73,
    "start_time": "2022-03-29T21:57:45.245Z"
   },
   {
    "duration": 1478,
    "start_time": "2022-03-30T15:49:33.409Z"
   },
   {
    "duration": 3,
    "start_time": "2022-03-30T15:49:34.889Z"
   },
   {
    "duration": 59,
    "start_time": "2022-03-30T15:49:34.893Z"
   },
   {
    "duration": 37,
    "start_time": "2022-03-30T15:49:34.954Z"
   },
   {
    "duration": 14,
    "start_time": "2022-03-30T15:49:34.993Z"
   },
   {
    "duration": 34,
    "start_time": "2022-03-30T15:49:35.009Z"
   },
   {
    "duration": 8,
    "start_time": "2022-03-30T15:49:35.044Z"
   },
   {
    "duration": 13,
    "start_time": "2022-03-30T15:49:35.054Z"
   },
   {
    "duration": 204,
    "start_time": "2022-03-30T15:49:35.068Z"
   },
   {
    "duration": 5,
    "start_time": "2022-03-30T15:49:35.274Z"
   },
   {
    "duration": 21,
    "start_time": "2022-03-30T15:49:35.281Z"
   },
   {
    "duration": 28,
    "start_time": "2022-03-30T15:49:35.304Z"
   },
   {
    "duration": 5,
    "start_time": "2022-03-30T15:49:35.333Z"
   },
   {
    "duration": 18,
    "start_time": "2022-03-30T15:49:35.341Z"
   },
   {
    "duration": 4,
    "start_time": "2022-03-30T15:49:35.361Z"
   },
   {
    "duration": 8,
    "start_time": "2022-03-30T15:49:35.367Z"
   },
   {
    "duration": 13,
    "start_time": "2022-03-30T15:49:35.376Z"
   },
   {
    "duration": 45,
    "start_time": "2022-03-30T15:49:35.390Z"
   },
   {
    "duration": 8,
    "start_time": "2022-03-30T15:49:35.437Z"
   },
   {
    "duration": 98,
    "start_time": "2022-03-30T15:49:35.446Z"
   },
   {
    "duration": 192,
    "start_time": "2022-03-30T15:49:35.546Z"
   },
   {
    "duration": 9,
    "start_time": "2022-03-30T15:49:35.740Z"
   },
   {
    "duration": 697,
    "start_time": "2022-03-30T15:49:35.751Z"
   },
   {
    "duration": 628,
    "start_time": "2022-03-30T15:49:36.450Z"
   },
   {
    "duration": 4,
    "start_time": "2022-03-30T15:49:37.080Z"
   },
   {
    "duration": 11,
    "start_time": "2022-03-30T15:49:37.086Z"
   },
   {
    "duration": 8,
    "start_time": "2022-03-30T15:49:37.099Z"
   },
   {
    "duration": 30,
    "start_time": "2022-03-30T15:49:37.109Z"
   },
   {
    "duration": 293,
    "start_time": "2022-03-30T15:49:37.140Z"
   },
   {
    "duration": 308,
    "start_time": "2022-03-30T15:49:37.435Z"
   },
   {
    "duration": 247,
    "start_time": "2022-03-30T15:49:37.746Z"
   },
   {
    "duration": 6,
    "start_time": "2022-03-30T15:49:37.995Z"
   },
   {
    "duration": 260,
    "start_time": "2022-03-30T15:49:38.002Z"
   },
   {
    "duration": 173,
    "start_time": "2022-03-30T15:49:38.264Z"
   },
   {
    "duration": 173,
    "start_time": "2022-03-30T15:49:38.438Z"
   },
   {
    "duration": 179,
    "start_time": "2022-03-30T15:49:38.613Z"
   },
   {
    "duration": 167,
    "start_time": "2022-03-30T15:49:38.793Z"
   },
   {
    "duration": 173,
    "start_time": "2022-03-30T15:49:38.962Z"
   },
   {
    "duration": 154,
    "start_time": "2022-03-30T15:49:39.136Z"
   },
   {
    "duration": 172,
    "start_time": "2022-03-30T15:49:39.291Z"
   },
   {
    "duration": 169,
    "start_time": "2022-03-30T15:49:39.467Z"
   },
   {
    "duration": 173,
    "start_time": "2022-03-30T15:49:39.638Z"
   },
   {
    "duration": 36,
    "start_time": "2022-03-30T15:49:39.813Z"
   },
   {
    "duration": 449,
    "start_time": "2022-03-30T15:49:39.851Z"
   },
   {
    "duration": 76,
    "start_time": "2022-03-30T15:49:40.302Z"
   },
   {
    "duration": 615,
    "start_time": "2022-03-30T15:49:40.380Z"
   },
   {
    "duration": 619,
    "start_time": "2022-03-30T15:49:40.997Z"
   },
   {
    "duration": 913,
    "start_time": "2022-03-30T15:49:41.618Z"
   },
   {
    "duration": 893,
    "start_time": "2022-03-30T15:49:42.533Z"
   },
   {
    "duration": 12,
    "start_time": "2022-03-30T15:49:43.433Z"
   },
   {
    "duration": 14,
    "start_time": "2022-03-30T15:49:43.448Z"
   },
   {
    "duration": 11,
    "start_time": "2022-03-30T15:49:43.464Z"
   },
   {
    "duration": 25,
    "start_time": "2022-03-30T15:49:43.477Z"
   },
   {
    "duration": 21,
    "start_time": "2022-03-30T15:49:43.504Z"
   },
   {
    "duration": 55,
    "start_time": "2022-06-28T12:07:34.351Z"
   },
   {
    "duration": 1540,
    "start_time": "2022-06-28T12:07:38.132Z"
   },
   {
    "duration": 189,
    "start_time": "2022-06-28T12:07:39.674Z"
   },
   {
    "duration": 6,
    "start_time": "2022-06-28T12:08:02.042Z"
   },
   {
    "duration": 7,
    "start_time": "2022-06-28T12:09:59.221Z"
   }
  ],
  "kernelspec": {
   "display_name": "Python 3 (ipykernel)",
   "language": "python",
   "name": "python3"
  },
  "language_info": {
   "codemirror_mode": {
    "name": "ipython",
    "version": 3
   },
   "file_extension": ".py",
   "mimetype": "text/x-python",
   "name": "python",
   "nbconvert_exporter": "python",
   "pygments_lexer": "ipython3",
   "version": "3.9.5"
  },
  "toc": {
   "base_numbering": 1,
   "nav_menu": {},
   "number_sections": true,
   "sideBar": true,
   "skip_h1_title": true,
   "title_cell": "Table of Contents",
   "title_sidebar": "Contents",
   "toc_cell": false,
   "toc_position": {},
   "toc_section_display": true,
   "toc_window_display": true
  }
 },
 "nbformat": 4,
 "nbformat_minor": 5
}
